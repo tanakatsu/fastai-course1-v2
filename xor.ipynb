{
 "cells": [
  {
   "cell_type": "code",
   "execution_count": 1,
   "metadata": {},
   "outputs": [],
   "source": [
    "%matplotlib inline\n",
    "%reload_ext autoreload\n",
    "%autoreload 2"
   ]
  },
  {
   "cell_type": "code",
   "execution_count": 2,
   "metadata": {},
   "outputs": [],
   "source": [
    "from fastai.learner import *\n",
    "from fastai.dataset import *"
   ]
  },
  {
   "cell_type": "code",
   "execution_count": 3,
   "metadata": {},
   "outputs": [],
   "source": [
    "X = np.array([[0.,0.], [0,1], [1,0], [1,1]])\n",
    "y = np.array([0,1,1,0])\n",
    "data = (X,y)"
   ]
  },
  {
   "cell_type": "code",
   "execution_count": 4,
   "metadata": {},
   "outputs": [],
   "source": [
    "md = ImageClassifierData.from_arrays('.', data, data, bs=4)"
   ]
  },
  {
   "cell_type": "code",
   "execution_count": 5,
   "metadata": {},
   "outputs": [],
   "source": [
    "learn = Learner.from_model_data(SimpleNet([2, 10, 2]), md) # [2, 10, 2]: layers\n",
    "learn.crit = nn.CrossEntropyLoss()\n",
    "learn.opt_fn = optim.SGD"
   ]
  },
  {
   "cell_type": "code",
   "execution_count": 8,
   "metadata": {},
   "outputs": [
    {
     "data": {
      "text/plain": [
       "SimpleNet(\n",
       "  (layers): ModuleList(\n",
       "    (0): Linear(in_features=2, out_features=10)\n",
       "    (1): Linear(in_features=10, out_features=2)\n",
       "  )\n",
       ")"
      ]
     },
     "execution_count": 8,
     "metadata": {},
     "output_type": "execute_result"
    }
   ],
   "source": [
    "learn"
   ]
  },
  {
   "cell_type": "code",
   "execution_count": 9,
   "metadata": {
    "scrolled": true
   },
   "outputs": [
    {
     "data": {
      "application/vnd.jupyter.widget-view+json": {
       "model_id": "bf02f09ae2e849b1af5c1660fea8f16b",
       "version_major": 2,
       "version_minor": 0
      },
      "text/html": [
       "<p>Failed to display Jupyter Widget of type <code>HBox</code>.</p>\n",
       "<p>\n",
       "  If you're reading this message in the Jupyter Notebook or JupyterLab Notebook, it may mean\n",
       "  that the widgets JavaScript is still loading. If this message persists, it\n",
       "  likely means that the widgets JavaScript library is either not installed or\n",
       "  not enabled. See the <a href=\"https://ipywidgets.readthedocs.io/en/stable/user_install.html\">Jupyter\n",
       "  Widgets Documentation</a> for setup instructions.\n",
       "</p>\n",
       "<p>\n",
       "  If you're reading this message in another frontend (for example, a static\n",
       "  rendering on GitHub or <a href=\"https://nbviewer.jupyter.org/\">NBViewer</a>),\n",
       "  it may mean that your frontend doesn't currently support widgets.\n",
       "</p>\n"
      ],
      "text/plain": [
       "HBox(children=(IntProgress(value=0, description='Epoch', max=30), HTML(value='')))"
      ]
     },
     "metadata": {},
     "output_type": "display_data"
    },
    {
     "name": "stdout",
     "output_type": "stream",
     "text": [
      "epoch      trn_loss   val_loss   accuracy                \n",
      "    0      0.697614   0.662452   0.75      \n",
      "    1      0.679855   0.649449   0.5            \n",
      "    2      0.669514   0.640629   0.75           \n",
      "    3      0.662073   0.632976   0.75            \n",
      "    4      0.656016   0.621726   0.75            \n",
      "    5      0.650008   0.620025   0.5            \n",
      "    6      0.645461   0.611651   0.75            \n",
      "    7      0.64093    0.605538   0.25            \n",
      "    8      0.636672   0.610234   0.75            \n",
      "    9      0.633782   0.583914   0.5             \n",
      "    10     0.628777   0.61083    0.75            \n",
      "    11     0.627109   0.553004   0.75            \n",
      "    12     0.620693   0.607803   0.75            \n",
      "    13     0.619646   0.520611   1.0            \n",
      "    14     0.61207    0.519582   0.75            \n",
      "    15     0.605373   0.50702    0.75            \n",
      "    16     0.598606   0.491975   0.75            \n",
      "    17     0.59161    0.492967   0.75            \n",
      "    18     0.585421   0.573039   0.5             \n",
      "    19     0.584676   0.507232   0.5             \n",
      "    20     0.580196   0.65373    0.5            \n",
      "    21     0.584295   0.474787   0.5             \n",
      "    22     0.578402   0.420902   1.0             \n",
      "    23     0.570204   0.367801   1.0            \n",
      "    24     0.559995   0.343045   1.0            \n",
      "    25     0.549376   0.336188   1.0             \n",
      "    26     0.539235   0.285422   1.0             \n",
      "    27     0.527485   0.267218   1.0             \n",
      "    28     0.515745   0.265914   1.0             \n",
      "    29     0.504751   0.215749   1.0             \n",
      "\n"
     ]
    },
    {
     "data": {
      "text/plain": [
       "[0.21574947, 1.0]"
      ]
     },
     "execution_count": 9,
     "metadata": {},
     "output_type": "execute_result"
    }
   ],
   "source": [
    "learn.fit(1., 30, metrics=[accuracy])"
   ]
  },
  {
   "cell_type": "code",
   "execution_count": null,
   "metadata": {
    "collapsed": true
   },
   "outputs": [],
   "source": []
  }
 ],
 "metadata": {
  "kernelspec": {
   "display_name": "Python 3",
   "language": "python",
   "name": "python3"
  },
  "language_info": {
   "codemirror_mode": {
    "name": "ipython",
    "version": 3
   },
   "file_extension": ".py",
   "mimetype": "text/x-python",
   "name": "python",
   "nbconvert_exporter": "python",
   "pygments_lexer": "ipython3",
   "version": "3.6.4"
  },
  "widgets": {
   "application/vnd.jupyter.widget-state+json": {
    "state": {
     "1b3156170ad34e71b8fd7c29eda98508": {
      "model_module": "@jupyter-widgets/base",
      "model_module_version": "1.0.0",
      "model_name": "LayoutModel",
      "state": {}
     },
     "747e227ab57d48c896d5af4e48c64605": {
      "model_module": "@jupyter-widgets/base",
      "model_module_version": "1.0.0",
      "model_name": "LayoutModel",
      "state": {}
     },
     "83ff6894e1b64d75a0507cab17f8626c": {
      "model_module": "@jupyter-widgets/controls",
      "model_module_version": "1.1.0",
      "model_name": "IntProgressModel",
      "state": {
       "bar_style": "success",
       "description": "Epoch",
       "layout": "IPY_MODEL_747e227ab57d48c896d5af4e48c64605",
       "max": 30,
       "style": "IPY_MODEL_eb8dedbd9a554b8d90322b42d7ce7148",
       "value": 30
      }
     },
     "a5852e813d954d2bab8173fa2fea20fc": {
      "model_module": "@jupyter-widgets/base",
      "model_module_version": "1.0.0",
      "model_name": "LayoutModel",
      "state": {}
     },
     "bf02f09ae2e849b1af5c1660fea8f16b": {
      "model_module": "@jupyter-widgets/controls",
      "model_module_version": "1.1.0",
      "model_name": "HBoxModel",
      "state": {
       "children": [
        "IPY_MODEL_83ff6894e1b64d75a0507cab17f8626c",
        "IPY_MODEL_fa933136b59f4dddab8e52f5c11b3a6f"
       ],
       "layout": "IPY_MODEL_a5852e813d954d2bab8173fa2fea20fc"
      }
     },
     "d6933cb7a6b54d848ca03eef5909af97": {
      "model_module": "@jupyter-widgets/controls",
      "model_module_version": "1.1.0",
      "model_name": "DescriptionStyleModel",
      "state": {
       "description_width": ""
      }
     },
     "eb8dedbd9a554b8d90322b42d7ce7148": {
      "model_module": "@jupyter-widgets/controls",
      "model_module_version": "1.1.0",
      "model_name": "ProgressStyleModel",
      "state": {
       "description_width": ""
      }
     },
     "fa933136b59f4dddab8e52f5c11b3a6f": {
      "model_module": "@jupyter-widgets/controls",
      "model_module_version": "1.1.0",
      "model_name": "HTMLModel",
      "state": {
       "layout": "IPY_MODEL_1b3156170ad34e71b8fd7c29eda98508",
       "style": "IPY_MODEL_d6933cb7a6b54d848ca03eef5909af97",
       "value": "100% 30/30 [00:02&lt;00:00, 10.33it/s]"
      }
     }
    },
    "version_major": 2,
    "version_minor": 0
   }
  }
 },
 "nbformat": 4,
 "nbformat_minor": 2
}
