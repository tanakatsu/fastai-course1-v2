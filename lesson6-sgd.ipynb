{
 "cells": [
  {
   "cell_type": "markdown",
   "metadata": {
    "toc": "true"
   },
   "source": [
    "# Table of Contents\n",
    " <p><div class=\"lev1 toc-item\"><a href=\"#Linear-Regression-problem\" data-toc-modified-id=\"Linear-Regression-problem-1\"><span class=\"toc-item-num\">1&nbsp;&nbsp;</span>Linear Regression problem</a></div><div class=\"lev1 toc-item\"><a href=\"#Gradient-Descent\" data-toc-modified-id=\"Gradient-Descent-2\"><span class=\"toc-item-num\">2&nbsp;&nbsp;</span>Gradient Descent</a></div><div class=\"lev1 toc-item\"><a href=\"#Gradient-Descent---Classification\" data-toc-modified-id=\"Gradient-Descent---Classification-3\"><span class=\"toc-item-num\">3&nbsp;&nbsp;</span>Gradient Descent - Classification</a></div><div class=\"lev1 toc-item\"><a href=\"#Gradient-descent-with-numpy\" data-toc-modified-id=\"Gradient-descent-with-numpy-4\"><span class=\"toc-item-num\">4&nbsp;&nbsp;</span>Gradient descent with numpy</a></div>"
   ]
  },
  {
   "cell_type": "code",
   "execution_count": 1,
   "metadata": {},
   "outputs": [],
   "source": [
    "%matplotlib inline\n",
    "from fastai.learner import *"
   ]
  },
  {
   "cell_type": "markdown",
   "metadata": {},
   "source": [
    "In this part of the lecture we explain Stochastic Gradient Descent (SGD) which is an **optimization** method commonly used in neural networks. We will illustrate the concepts with concrete examples."
   ]
  },
  {
   "cell_type": "markdown",
   "metadata": {},
   "source": [
    "#  Linear Regression problem"
   ]
  },
  {
   "cell_type": "markdown",
   "metadata": {},
   "source": [
    "The goal of linear regression is to fit a line to a set of points."
   ]
  },
  {
   "cell_type": "code",
   "execution_count": 2,
   "metadata": {},
   "outputs": [],
   "source": [
    "# Here we generate some fake data\n",
    "def lin(a,b,x): return a*x+b\n",
    "\n",
    "def gen_fake_data(n, a, b):\n",
    "    x = s = np.random.uniform(0,1,n) \n",
    "    y = lin(a,b,x) + 0.1 * np.random.normal(0,3,n)\n",
    "    return x, y\n",
    "\n",
    "x, y = gen_fake_data(50, 3., 8.)"
   ]
  },
  {
   "cell_type": "code",
   "execution_count": 3,
   "metadata": {},
   "outputs": [
    {
     "data": {
      "image/png": "[encoded data removed]",
      "text/plain": [
       "<matplotlib.figure.Figure at 0x7fbfa9349a20>"
      ]
     },
     "metadata": {},
     "output_type": "display_data"
    }
   ],
   "source": [
    "plt.scatter(x,y, s=8); plt.xlabel(\"x\"); plt.ylabel(\"y\"); "
   ]
  },
  {
   "cell_type": "markdown",
   "metadata": {},
   "source": [
    "You want to find **parameters** (weights) $a$ and $b$ such that you minimize the *error* between the points and the line $a\\cdot x + b$. Note that here $a$ and $b$ are unknown. For a regression problem the most common *error function* or *loss function* is the **mean squared error**. "
   ]
  },
  {
   "cell_type": "code",
   "execution_count": 4,
   "metadata": {},
   "outputs": [],
   "source": [
    "def mse(y_hat, y): return ((y_hat - y) ** 2).mean()"
   ]
  },
  {
   "cell_type": "markdown",
   "metadata": {},
   "source": [
    "Suppose we believe $a = 10$ and $b = 5$ then we can compute `y_hat` which is our *prediction* and then compute our error."
   ]
  },
  {
   "cell_type": "code",
   "execution_count": 5,
   "metadata": {},
   "outputs": [
    {
     "data": {
      "text/plain": [
       "5.02718697133799"
      ]
     },
     "execution_count": 5,
     "metadata": {},
     "output_type": "execute_result"
    }
   ],
   "source": [
    "y_hat = lin(10,5,x)\n",
    "mse(y_hat, y)"
   ]
  },
  {
   "cell_type": "code",
   "execution_count": 6,
   "metadata": {},
   "outputs": [],
   "source": [
    "def mse_loss(a, b, x, y): return mse(lin(a,b,x), y)"
   ]
  },
  {
   "cell_type": "code",
   "execution_count": 7,
   "metadata": {},
   "outputs": [
    {
     "data": {
      "text/plain": [
       "5.02718697133799"
      ]
     },
     "execution_count": 7,
     "metadata": {},
     "output_type": "execute_result"
    }
   ],
   "source": [
    "mse_loss(10, 5, x, y)"
   ]
  },
  {
   "cell_type": "markdown",
   "metadata": {},
   "source": [
    "So far we have specified the *model* (linear regression) and the *evaluation criteria* (or *loss function*). Now we need to handle *optimization*; that is, how do we find the best values for $a$ and $b$? How do we find the best *fitting* linear regression."
   ]
  },
  {
   "cell_type": "markdown",
   "metadata": {
    "heading_collapsed": true
   },
   "source": [
    "# Gradient Descent"
   ]
  },
  {
   "cell_type": "markdown",
   "metadata": {
    "hidden": true
   },
   "source": [
    "For a fixed dataset $x$ and $y$ `mse_loss(a,b)` is a function of $a$ and $b$. We would like to find the values of $a$ and $b$ that minimize that function.\n",
    "\n",
    "**Gradient descent** is an algorithm that minimizes functions. Given a function defined by a set of parameters, gradient descent starts with an initial set of parameter values and iteratively moves toward a set of parameter values that minimize the function. This iterative minimization is achieved by taking steps in the negative direction of the function gradient.\n",
    "\n",
    "Here is gradient descent implemented in [PyTorch](http://pytorch.org/)."
   ]
  },
  {
   "cell_type": "code",
   "execution_count": 8,
   "metadata": {
    "hidden": true
   },
   "outputs": [
    {
     "data": {
      "text/plain": [
       "((10000,), (10000,))"
      ]
     },
     "execution_count": 8,
     "metadata": {},
     "output_type": "execute_result"
    }
   ],
   "source": [
    "# generate some more data\n",
    "x, y = gen_fake_data(10000, 3., 8.)\n",
    "x.shape, y.shape"
   ]
  },
  {
   "cell_type": "code",
   "execution_count": 9,
   "metadata": {
    "hidden": true
   },
   "outputs": [],
   "source": [
    "x,y = V(x),V(y)"
   ]
  },
  {
   "cell_type": "code",
   "execution_count": 10,
   "metadata": {
    "hidden": true
   },
   "outputs": [
    {
     "data": {
      "text/plain": [
       "(Variable containing:\n",
       " -0.4555\n",
       " [torch.cuda.FloatTensor of size 1 (GPU 0)], Variable containing:\n",
       " -0.7605\n",
       " [torch.cuda.FloatTensor of size 1 (GPU 0)])"
      ]
     },
     "execution_count": 10,
     "metadata": {},
     "output_type": "execute_result"
    }
   ],
   "source": [
    "# Create random weights a and b, and wrap them in Variables.\n",
    "a = V(np.random.randn(1), requires_grad=True)\n",
    "b = V(np.random.randn(1), requires_grad=True)\n",
    "a,b"
   ]
  },
  {
   "cell_type": "code",
   "execution_count": 11,
   "metadata": {
    "hidden": true
   },
   "outputs": [
    {
     "name": "stdout",
     "output_type": "stream",
     "text": [
      "111.21234130859375\n",
      "0.8398099541664124\n",
      "0.14161360263824463\n",
      "0.12662610411643982\n",
      "0.11832382529973984\n",
      "0.11194991320371628\n",
      "0.10704084485769272\n",
      "0.10325983911752701\n",
      "0.10034767538309097\n",
      "0.09810474514961243\n"
     ]
    }
   ],
   "source": [
    "learning_rate = 1e-3\n",
    "for t in range(10000):\n",
    "    # Forward pass: compute predicted y using operations on Variables\n",
    "    loss = mse_loss(a,b,x,y)\n",
    "    if t % 1000 == 0: print(loss.data[0])\n",
    "    \n",
    "    # Computes the gradient of loss with respect to all Variables with requires_grad=True.\n",
    "    # After this call a.grad and b.grad will be Variables holding the gradient\n",
    "    # of the loss with respect to a and b respectively\n",
    "    loss.backward()\n",
    "    \n",
    "    # Update a and b using gradient descent; a.data and b.data are Tensors,\n",
    "    # a.grad and b.grad are Variables and a.grad.data and b.grad.data are Tensors\n",
    "    a.data -= learning_rate * a.grad.data\n",
    "    b.data -= learning_rate * b.grad.data\n",
    "    \n",
    "    # Zero the gradients\n",
    "    a.grad.data.zero_()\n",
    "    b.grad.data.zero_()    "
   ]
  },
  {
   "cell_type": "markdown",
   "metadata": {
    "hidden": true
   },
   "source": [
    "Nearly all of deep learning is powered by one very important algorithm: **stochastic gradient descent (SGD)**. SGD can be seeing as an approximation of **gradient descent** (GD). In GD you have to run through *all* the samples in your training set to do a single itaration. In SGD you use *only one* or *a subset*  of training samples to do the update for a parameter in a particular iteration. The subset use in every iteration is called a **batch** or **minibatch**."
   ]
  },
  {
   "cell_type": "markdown",
   "metadata": {
    "heading_collapsed": true
   },
   "source": [
    "# Gradient Descent - Classification"
   ]
  },
  {
   "cell_type": "markdown",
   "metadata": {
    "hidden": true
   },
   "source": [
    "For a fixed dataset $x$ and $y$ `mse_loss(a,b)` is a function of $a$ and $b$. We would like to find the values of $a$ and $b$ that minimize that function.\n",
    "\n",
    "**Gradient descent** is an algorithm that minimizes functions. Given a function defined by a set of parameters, gradient descent starts with an initial set of parameter values and iteratively moves toward a set of parameter values that minimize the function. This iterative minimization is achieved by taking steps in the negative direction of the function gradient.\n",
    "\n",
    "Here is gradient descent implemented in [PyTorch](http://pytorch.org/)."
   ]
  },
  {
   "cell_type": "code",
   "execution_count": 12,
   "metadata": {
    "hidden": true
   },
   "outputs": [],
   "source": [
    "def gen_fake_data2(n, a, b):\n",
    "    x = s = np.random.uniform(0,1,n) \n",
    "    y = lin(a,b,x) + 0.1 * np.random.normal(0,3,n)\n",
    "    return x, np.where(y>10, 1, 0).astype(np.float32)"
   ]
  },
  {
   "cell_type": "code",
   "execution_count": 13,
   "metadata": {
    "hidden": true
   },
   "outputs": [],
   "source": [
    "x,y = gen_fake_data2(10000, 3., 8.)\n",
    "x,y = V(x),V(y)"
   ]
  },
  {
   "cell_type": "code",
   "execution_count": 14,
   "metadata": {},
   "outputs": [
    {
     "data": {
      "text/plain": [
       "<matplotlib.collections.PathCollection at 0x7fbfa4e927f0>"
      ]
     },
     "execution_count": 14,
     "metadata": {},
     "output_type": "execute_result"
    },
    {
     "data": {
      "image/png": "[encoded data removed]",
      "text/plain": [
       "<matplotlib.figure.Figure at 0x7fbfa5f2eda0>"
      ]
     },
     "metadata": {},
     "output_type": "display_data"
    }
   ],
   "source": [
    "plt.scatter(to_np(x)[:100], to_np(y)[:100])"
   ]
  },
  {
   "cell_type": "code",
   "execution_count": 20,
   "metadata": {},
   "outputs": [
    {
     "name": "stdout",
     "output_type": "stream",
     "text": [
      "3406 6594\n"
     ]
    }
   ],
   "source": [
    "print((to_np(y) == 1).sum(), (to_np(y) == 0).sum())"
   ]
  },
  {
   "cell_type": "code",
   "execution_count": 42,
   "metadata": {
    "hidden": true
   },
   "outputs": [],
   "source": [
    "def nll(y_hat, y): # negative log likelihood loss\n",
    "    y_hat = torch.clamp(y_hat, 1e-5, 1-1e-5) # Clamp all elements in input into the range[1e-5, 1-1e-5] to avoid log(0)\n",
    "    return (y*y_hat.log() + (1-y)*(1-y_hat).log()).mean()"
   ]
  },
  {
   "cell_type": "code",
   "execution_count": 43,
   "metadata": {
    "hidden": true
   },
   "outputs": [],
   "source": [
    "a = V(np.random.randn(1), requires_grad=True)\n",
    "b = V(np.random.randn(1), requires_grad=True)"
   ]
  },
  {
   "cell_type": "code",
   "execution_count": 39,
   "metadata": {},
   "outputs": [
    {
     "data": {
      "text/plain": [
       "(\n",
       " -0.7470\n",
       " [torch.cuda.FloatTensor of size 1 (GPU 0)], \n",
       " -0.7631\n",
       " [torch.cuda.FloatTensor of size 1 (GPU 0)])"
      ]
     },
     "execution_count": 39,
     "metadata": {},
     "output_type": "execute_result"
    }
   ],
   "source": [
    "a.data, b.data"
   ]
  },
  {
   "cell_type": "code",
   "execution_count": 44,
   "metadata": {
    "hidden": true
   },
   "outputs": [
    {
     "name": "stdout",
     "output_type": "stream",
     "text": [
      "0.5144707560539246 0.6624\n",
      "0.4019123911857605 0.9098\n",
      "0.3447228670120239 0.9208\n",
      "0.31019386649131775 0.9231\n",
      "0.2870926856994629 0.9239\n",
      "0.2705174386501312 0.9249\n",
      "0.2580183148384094 0.9256\n",
      "0.24823901057243347 0.9256\n",
      "0.2403688281774521 0.9255\n",
      "0.2338925302028656 0.9252\n"
     ]
    }
   ],
   "source": [
    "learning_rate = 1e-2\n",
    "\n",
    "#for t in range(3000):\n",
    "for t in range(30000):    \n",
    "    # sigmoid\n",
    "    p = (-lin(a,b,x)).exp()\n",
    "    y_hat = 1/(1+p)\n",
    "    \n",
    "    # loss = nll(y_hat,y)\n",
    "    loss = -1.0 * nll(y_hat, y) # loss must be a positive value.\n",
    "    \n",
    "    # if t % 1000 == 0:\n",
    "    if t % 3000 == 0:        \n",
    "        print(loss.data[0], np.mean(to_np(y)==(to_np(y_hat)>0.5)))\n",
    "#         print(y_hat)\n",
    "    \n",
    "    loss.backward()\n",
    "    a.data -= learning_rate * a.grad.data\n",
    "    b.data -= learning_rate * b.grad.data\n",
    "    a.grad.data.zero_()\n",
    "    b.grad.data.zero_() "
   ]
  },
  {
   "cell_type": "code",
   "execution_count": 45,
   "metadata": {},
   "outputs": [
    {
     "data": {
      "text/plain": [
       "(\n",
       "  8.3164\n",
       " [torch.cuda.FloatTensor of size 1 (GPU 0)], \n",
       " -5.5085\n",
       " [torch.cuda.FloatTensor of size 1 (GPU 0)])"
      ]
     },
     "execution_count": 45,
     "metadata": {},
     "output_type": "execute_result"
    }
   ],
   "source": [
    "a.data, b.data"
   ]
  },
  {
   "cell_type": "markdown",
   "metadata": {
    "hidden": true
   },
   "source": [
    "Nearly all of deep learning is powered by one very important algorithm: **stochastic gradient descent (SGD)**. SGD can be seeing as an approximation of **gradient descent** (GD). In GD you have to run through *all* the samples in your training set to do a single itaration. In SGD you use *only one* or *a subset*  of training samples to do the update for a parameter in a particular iteration. The subset use in every iteration is called a **batch** or **minibatch**."
   ]
  },
  {
   "cell_type": "markdown",
   "metadata": {},
   "source": [
    "# Gradient descent with numpy"
   ]
  },
  {
   "cell_type": "code",
   "execution_count": 21,
   "metadata": {},
   "outputs": [],
   "source": [
    "from matplotlib import rcParams, animation, rc\n",
    "from ipywidgets import interact, interactive, fixed\n",
    "from ipywidgets.widgets import *\n",
    "rc('animation', html='html5')\n",
    "rcParams['figure.figsize'] = 3, 3"
   ]
  },
  {
   "cell_type": "code",
   "execution_count": 22,
   "metadata": {},
   "outputs": [],
   "source": [
    "x, y = gen_fake_data(50, 3., 8.)"
   ]
  },
  {
   "cell_type": "code",
   "execution_count": 23,
   "metadata": {},
   "outputs": [
    {
     "data": {
      "text/plain": [
       "61.89295309796567"
      ]
     },
     "execution_count": 23,
     "metadata": {},
     "output_type": "execute_result"
    }
   ],
   "source": [
    "a_guess,b_guess = -1., 1.\n",
    "mse_loss(y, a_guess, b_guess, x)"
   ]
  },
  {
   "cell_type": "code",
   "execution_count": 24,
   "metadata": {},
   "outputs": [],
   "source": [
    "lr=0.01\n",
    "def upd():\n",
    "    global a_guess, b_guess\n",
    "    y_pred = lin(a_guess, b_guess, x)\n",
    "    dydb = 2 * (y_pred - y) # dL/dy * dy/db = 2 * (y_pred - y) * d(a * x + b)/db = 2 * (y_pred - y)\n",
    "    dyda = x*dydb # dL/dy * dy/da = dydb * dy/da = dydb * d(a * x + b)/da = dydb * x\n",
    "    a_guess -= lr*dyda.mean()\n",
    "    b_guess -= lr*dydb.mean()"
   ]
  },
  {
   "cell_type": "code",
   "execution_count": 25,
   "metadata": {},
   "outputs": [
    {
     "data": {
      "text/html": [
       "<video width=\"500\" height=\"400\" controls autoplay loop>\n",
       "  <source type=\"video/mp4\" src=\"data:video/mp4;base64,AAAAHGZ0eXBNNFYgAAACAGlzb21pc28yYXZjMQAAAAhmcmVlAABCEW1kYXQAAAKuBgX//6rcRem9\n",
       "5tlIt5Ys2CDZI+7veDI2NCAtIGNvcmUgMTQ4IHIyNjQzIDVjNjU3MDQgLSBILjI2NC9NUEVHLTQg\n",
       "QVZDIGNvZGVjIC0gQ29weWxlZnQgMjAwMy0yMDE1IC0gaHR0cDovL3d3dy52aWRlb2xhbi5vcmcv\n",
       "eDI2NC5odG1sIC0gb3B0aW9uczogY2FiYWM9MSByZWY9MyBkZWJsb2NrPTE6MDowIGFuYWx5c2U9\n",
       "MHgzOjB4MTEzIG1lPWhleCBzdWJtZT03IHBzeT0xIHBzeV9yZD0xLjAwOjAuMDAgbWl4ZWRfcmVm\n",
       "PTEgbWVfcmFuZ2U9MTYgY2hyb21hX21lPTEgdHJlbGxpcz0xIDh4OGRjdD0xIGNxbT0wIGRlYWR6\n",
       "b25lPTIxLDExIGZhc3RfcHNraXA9MSBjaHJvbWFfcXBfb2Zmc2V0PS0yIHRocmVhZHM9OSBsb29r\n",
       "YWhlYWRfdGhyZWFkcz0xIHNsaWNlZF90aHJlYWRzPTAgbnI9MCBkZWNpbWF0ZT0xIGludGVybGFj\n",
       "ZWQ9MCBibHVyYXlfY29tcGF0PTAgY29uc3RyYWluZWRfaW50cmE9MCBiZnJhbWVzPTMgYl9weXJh\n",
       "bWlkPTIgYl9hZGFwdD0xIGJfYmlhcz0wIGRpcmVjdD0xIHdlaWdodGI9MSBvcGVuX2dvcD0wIHdl\n",
       "aWdodHA9MiBrZXlpbnQ9MjUwIGtleWludF9taW49MTAgc2NlbmVjdXQ9NDAgaW50cmFfcmVmcmVz\n",
       "aD0wIHJjX2xvb2thaGVhZD00MCByYz1jcmYgbWJ0cmVlPTEgY3JmPTIzLjAgcWNvbXA9MC42MCBx\n",
       "cG1pbj0wIHFwbWF4PTY5IHFwc3RlcD00IGlwX3JhdGlvPTEuNDAgYXE9MToxLjAwAIAAABmKZYiE\n",
       "ABD//veBvzLLXyK6yXH5530srM885DxyXYmuuNAAAAMAAAMCdMWy7nddDaYdgAACrC//BZK4tk01\n",
       "9lOT/cV8Ko9oo6z8ekXazXhVCMzj7PB/aZ/viagFrdoI3ayOKc5mbfCHmCQU74VKa6lr4Tt9/5az\n",
       "R1ia8yr55ik9I+/iAud9qONrZKF2e3k/IiFUGlmbNEU/VgIEC0Q90U+y1LuGQ3vDU2g4r0ILqkA4\n",
       "dDLWXGIF7OGInuRGc3asiX7QeA0TgVNVb3YIkRulScNhNi4iGd2uk20l6H9OJ8RKg12oCSt7K6gV\n",
       "NM4Lg+pA8rbFqP/mgzY7cDWIWK2GJ4k9q6HmHRROlQxv1W0NX5kd2YiniMWHX8AA7f/VxyC9/8i8\n",
       "4KKWI7Ff/Q6cmKKUpv0gZdtAB8OB1H7olh8DZN34Oz1C9ymmxR8u0jyXsYx7mj+iUlQCFfB6OVI/\n",
       "6QKecziF0FnbowOsOgFzdVrYS3IsIr2tVBJWFr0vB1Xv+ZTD/N/Kk8QK49zbUILZpkNmjeoNAAAD\n",
       "AhF1gWJhPW7Fg+JejOh3k6zV/psszxwWD12PNEXuw1AFHhq295GOVqziJEAUI8iFdtjVexnG3Qdk\n",
       "R6SmxpVz8bBTeGeLcQ7tqsF47r+3AvCqcP1vuNIM8zgAMQ8qBN/kl8/iHoQx8U9oB5BHx4wgvHAL\n",
       "kI5/U+siWEXY/UzzJ6EiITFCH8A7IS7WFEO5KII99twaEBpSsEBxZZrDiWhVEleKuSICthDOtwXr\n",
       "5YiYiM+IYdpKif17z2V4HX11SJd1V6J9waDQUQSLiQi7uIfY6VJAxEYq2I6M+g5/Cg2wnQy7QEBv\n",
       "ytX44nzWmI6YD5uD86ISWBQpSYNGFEnK+DymKaYUBp5/BFDbHJEj0JTvT7GhENT+CFRylt/YDP+i\n",
       "k1s0PbzQxf9u05qywOEYR2QWqJe4DrgqOLuNjWpOih7HXVg52onKg+Jun87934CK4QtSiRylerNe\n",
       "Ckn8SS7PHt7xfwk8K7Ygm/z+lb+HZ/x3JstqkKDxcgKqqeeUwBMTQSMXgEuWoiTMvUGXWCfn9nap\n",
       "dCUnEwK0RmLPF0Zqgnopqy5HNBkKPR0TQ4uM1M8u+6EGfCJmb3V15Ny/aJuA+XmVUtRVPyHc42KZ\n",
       "3IEHFV+qo5lt35FB2Z72S/JSubJCDFfquRkme56PoaU8W16Ta9ksi0cqA+f9LLSUkXKtRaaf5QSi\n",
       "8N2/DQXwpC0Om7wVCO3BCduOtjfaAjQP24SIBEjRWIHbOsckfpS684muVRW1lfqwtdYD7+NdITMN\n",
       "gZf+bDlkohlaXz8lYLTVVgf8u5w5pQek5zukzgrdbQz297lXtQxGg1o4DND5/w8Fs9VhQccaIqaZ\n",
       "pJOlaiQsC3vBrD+hOLFXXO1gUBxasaVOIM2qogC1T01BoBPY3+Kt/RUX3DuvkHVCZFqBFHB41BkR\n",
       "CkGvZ1/ZdWf2K8SXFJLRn1bR+32ADYqfBiddaxQTrA/qZWNf7QwK6/HJXaK3qDjg4aZ96hUQ887L\n",
       "OeoekQM3KRnfRtSpobtJM4I27DdQCWTtQYvw0SZpNWV+LfAO8VoKznmzy1gq9ugAzNKbsV8Kq/qp\n",
       "Jp4MEjFBWVk9r/ttBMZh0J9kBmvXaynovEfJOnqN2bTKiadQN/fJ3vbo7PqhCmOlrTML+OQMDeS3\n",
       "TMlf4+VvT7KaiI5a1HEGlQpVwGREKuGaH3VIbjoWbdHnPV/HQjkj4DGRcyn8Zp3gbLn6ARiEw6oW\n",
       "5/Un3HJTwZiHVz6FgAgSD2g8Rhb0AnQVZ6Dh5xY79/6CnBkqGhtjZOitr7Pf/MKIii3EZwDA943/\n",
       "NxvzQZGRRj211P5ZL2zyjqe//7dm7jVN8yg/s6LvN2kySgZQKQ1YuTrkP2pWo5SOUAs00lbegZrx\n",
       "bUmMywVO5A1rXFACAZfeNFSaJzlRldYo059FAvaUN4DJH6f3ubbIqMvqoOA44unZPj7oxL6L7SvI\n",
       "C4+dhttvtzZNcnAmEQ4K5DGbkyDw/hgpIFoYkoYFJ7VNfpoUPyQEngsjWuAc/Ax8PluKDvv0HyP8\n",
       "qG/688F3j1zN/l1SBJ2RTGuiCGUE7B19MGiaCznwr/E2cPHonjJwu3OC+HW6qbHQlYVTi+x5CW+y\n",
       "+BLEQZUxRBQoX3zn81AkApibBnkcWdyfKaIBvQDH826v8FlWwKQ3cA56Mwvs9nd7GU5mMHfLcwFm\n",
       "C1hkTiv3MHHgZ26EMSgQlhh4xoZZUbWi5I9pb59VXyqxE/rWc9wXSVNezWk1GS69am4WeR9GTRbx\n",
       "YeV5IXX+Mnm93I1DZffBGlYZJ/uamitCPC78eE5jNpGoPoG8NUqSTQYWpE+kshqTIt93Cp7Pk0mV\n",
       "nZ3qLkQwFDHDkyaTJAEDXdG4YeuK8ljrKyMbvjojbrQ53Qdc1CcJEws/7i3BFZRuWquX6juiAj2Q\n",
       "7K+DLgoKHhYd+gqv2iw6bIcMrfWsBOp6aEMi57V9hgcUohTT6bvcPAiQGdKp5oIoXVGjt1yre3G1\n",
       "0n2jVJRjGe/ZyOqvoRyolqnzBtDtOc0LE68IZq19fpLFAtqbyciM5P29omDWC2gVbJv9gVwSAg8D\n",
       "M8eQrfl+0cZXAYPiYoU0tl7euanxTXTje6zOAxyKUkpDcJnXwMXZvzg3YeSMif7zPNgbhfZzHFla\n",
       "YscmDKZ2GQrOQGVeOx5qx1T8yUF5OFLWKZ2u6/mRSs02GrPzwIVjZ8oIrywt/9gw8NfQhmHwev5o\n",
       "KaNj+dwkrL8TFeZ7fh9/qTLu5W3it/0idfKpOEY2Jr+TI4O6cVwKXW4djolfi7n2f16lWJgQCINt\n",
       "x1e6qN3AgXSpeCNOyEu6yTQKxK17+YXNRyUAI/vqhi/kJEwSrlc7PSIW//CAilgRJRVpWdeOScmz\n",
       "k+ClOI4Gy2maHw5wzYbdXCAi0eh0vBmF7V+vzry59q+LIOgaucPT3XzVQ42Iaqc0fhDWU2mSi8rQ\n",
       "cot8Mp6SmzotrxxWHlql22/69SkvMZOaVThcYXxQkm7H9j6i62gZ0s1Hhfh/VDI/Bovlm4NgBDhr\n",
       "+StKzjBSeJKMtrQSGddNuv/HdFWeTwokW4Dp7u2I4S7+ZqSGpu4Klr5dNMO6bEsFHI5v+Rzv6K4T\n",
       "iZfbk6PWfOqiYchHEXRYfEXvidgv2zp3NhH5px0hIbbXmY407F5maRW2qVlWu7lA+yzQP9UQRXGI\n",
       "WQ+VMaKGvdJzPSaUwxXvrjQmyirkwk/3FVF9o4heNmbDrVlWyP6OGt0yqPO4l8sOCUGMiNXZkWLg\n",
       "FOl9ckjDw3o8izIug4R9enQh9QkwnanaKWu2Lg5XuRujnIFwf//hCWIhPkByRs2EVRmai03P2gFw\n",
       "JIHqifBP6hnOQ1flb6QZTeTTiXmJAPuBuUQh/iW3J6YkYpPQcOxzf3WTxLebhC+/CEybiNoq2gtY\n",
       "i2rjj7fVy0yEsRxsTBUFUaQmv3ZyVdlFO2tFsowfBNdQ/MVx9jff8cyy5QWjtSAnPbo3+5ytaNCT\n",
       "EWr1nRwSA/TkirPcKFVh1Sxl+yImZ3i3KorFhju15svh7NvoJqAx4hkhXmM8HOkSZ9yd+hQSo+bX\n",
       "bgFBjKt8y0884PGLvU9nwNlv74wK5jU8vAunkaUnnX4VJVF4mMWZG9tooqY4VVfJqDqTOxIKSMpe\n",
       "0Alybl30VYd1AMCZjG4DUCxhgbdQl3kQIRROvEJLl0yhaJA1Jv1igSMQHOYTamPt9he2hea4+Qiu\n",
       "vToBx+uf3nNf/Sobaflrx47ij3eHwGp3puauZi3frUndNnYfRFhqgRMQSyWHCW5g1p1PIMZ2JY+3\n",
       "VkDKfYnpOQoUL3R4Wri0D4vepDGCHArtj9A+JLx/YvFnuZZwuZoebNWajKuTwpmPTEaIOTPRWpi3\n",
       "kD1LKnOegwqvXTigPTGcdf0gszM5mnYOhHYlyirg9Uar9F1dxQ4Xw765MqLHt5+CNOqSrTz9aY9i\n",
       "NfmJyy4dqXn61i8AgNtJn/IUE4rrM60GcBjaPgUNq2Iyj0csduwUHnoQZYOzaG5HxVBy/wQ/MZDP\n",
       "DZlze5TThu6WvrFQlFw9yhqtOUAqQbQ8Vf4DF9Md9l/AEWjTg8NdyOvgRlMyd64B+m594/eoGvW1\n",
       "iVA7+klvXrPfXRE3mexVopVymJO8wsxQ9PkjJqVRrEm+UhM/yLvcfP9sp+Wb+F737o4vCiZnxXXC\n",
       "K9U9pM9aD4v2U/pRV2WgO/Cqo7enuZAN/mJHrxnMhAKEXGBT3zuiuN9Fcu9xkVvPQAMauGG5nVB/\n",
       "YE+5tYguNSOyIQ4TW5hg4N+2lhBerwLA3KwMdQ2twZkvc8/tV5CnxLPbO/uFeUYHqC5/9OsnY15i\n",
       "N6dlAJyFeS2jRuCSvYIQBSE0Ofl1Mgoky5We9PHwWlN4ogY5kMmFrk/+79+pntWSUMsF4zJiJbnY\n",
       "RhhUkq2k8rew5vU+zyqwsB7fTZQlWLIrYNssxTxdJDVqRz7VFfjvlQPaXFCHQOGhil4Pjh9VM//5\n",
       "VhIwYpCivK7H0n6J3QxcaOETbPMOz99/MiOFkMQpQ5R0tOj+Ke3qx65HxIMHv8TTsacYYKio78W8\n",
       "LwcuzzSmHfzW4TJdEHL2QmKQW7coyTsNmHrSQs3cTA3a0yQqErZXlrbNRqPtsP+1ZNCaD64YbLCz\n",
       "Zgd5DqBB+iPqg8bZppw3R6Z959ks/CDQWJj25DVA0TuzlEBdzM0JfsSOGJPxSiJ5j6cn09R9au3A\n",
       "Rl2g0ya2TGy7yPtToonmM8dX1xe3fAhS23USj/uIGT8bM7a4gJf5ls4CkdQ1bLw7x83zRh0mxcae\n",
       "9eZSmz1VJLUDcMlTbo0U0+oioiAfdX5/xa2qRkpHtuFUvZ4mTTGYdgDx6vs2TkRwOWgrbCAT8/Lf\n",
       "WTCmmMrGzuc8hzdUVfqE0huyoBo/lQQG8zNTeuVMzNHGBkaBiuklQc3Y6uPjzC/LJfvbkvVQwhMB\n",
       "gTx9ZEN9ROmHlZkjufUQ9Rgr8wWTS3mlYX2NE+784TO0FlpRoslunK408wTUVRkb6mXug+Lif1Gj\n",
       "rPg7cUmvOYOgch4zuKEjwN5LdWy4yURtAnPa/5pbnhTWJktP2eGUL3cudutI6kXJEOMxZhxHJFw8\n",
       "2YOAkdpo7ib8irV9Ps9G8bzyk3xw6XH2okgDpYVZjPaJ9jw+Diswot3seYHdZs8cWlMZN0F7+yfM\n",
       "wm2GtqchiSaeuTTslxlIhoaewYYWnWJPJwjvLXA+97kB9wPrUaWoVQvhTzjGWGDVJr0Ko316Pksm\n",
       "u0FwhRsoTDld+mrI88N5oyZDuEC4U0BlPwiNNnIvRAIK7VyJlLQWhE5B6YuO3B1KgWijnElVLkMo\n",
       "s5jYhkdVtWvkeINdgg0H1FZsO1ZdQsFbjypRMZGjV5+7G9atDbVgnuJl6iqrHW5fm2Bc1ulRlgI3\n",
       "uoL5IUzc9VWV8Cxb4b19lwMR65LCj6cboxW54Ojoq88R0eKVrpfNxe7DJ/BoN5xuE7285SzL0SUv\n",
       "Xvpvwnv+mjcr9mBXvEmeCnr9r6tZ2mEXSEqSi3yjLEiih9WMx0NtiaeVEbkaTeQ/kkyie5P63HfH\n",
       "qrlchJqP1BfDNCnwCvJ6901JlR729vesma7o14RBe6+/RcDp2UVg9ZVbiI1LKlE0AIeRF6aoETJ7\n",
       "J/S6BEP0A5LmTU9qa8KFFCTiZ6mPGiHXbJdFWIS24pZ7GUHRsPR/o5/9mUjTk4ed3P5cgXtCgsev\n",
       "7OKCVWn+EDr5I0E8/CWGMgEdGY9oOwxyp1/kb3gPBMcV2M4ZEoXIn4kUrflBuJNQDe4/kZNwpJBk\n",
       "CEoKBbftgPyBaEdacF7Ay4UlNeH9GuSfdQ5aK0dCxX4QBlzOT0LPbErWtYi8N33tdBFdPuxoyv8L\n",
       "GlUg8gRTfKerIJnzSab2DODxibFGI1SIG8ixMwrUaMfo5LBBowR8ne4FJotajEcgMEizBQZLNejs\n",
       "37GmdWJ3WPxeS7oL1cIji3qFMk1NcJkP+w/M83AEGWYYBjT6NVrWPI4RH3dhL/dD63zPaikEHqWl\n",
       "fEjdNOx3H0cV7XckOT3rMrdp28V6yUd76ozNL/ZkTa6IRJO98E9zJThT2uHJcRFNUlNHmJkdGSNd\n",
       "9h7Ou5U1j7xoTJCmsaZcbUMytHaZpJsWJO1AEQCc4+CwrGX0DnciH4aPsQVnk/E7Ea89hqJYbggk\n",
       "vxAUtGWCqB+l9zImaaZGlY+jwCoAyjMo8yAfjCB4OM7UZBq7g6jEmnOXVWQYe+yVqJJsDJ0fvivt\n",
       "P40NNZPHQyj5y4KpeuGLHKgVH2m+wb1rYyOWMzmANWN3kqTbgS5a/EWYa3rXHawFaGio6eAHVIvP\n",
       "BRbO89XCNjwrTBU/e2emKDC9L4EgJpYESd0scBKcwbGkNA4hit2IG9VaGYDxQlddekiBlWWjolfG\n",
       "f0ggPUmKAgvusTOf48l+CGBQt31xsyRAO6jQ0EDVxjwSRqSkcRyM6VTDMf1IHeROyZBVFAS0DORa\n",
       "J87XtqvEdyDJOb7WML301piF8lMSo2KrQIP5CryI/iwils/D1sw4e2Fwge6jgFpReGnolI++EY65\n",
       "ClnhY+fLdTvTZqNzgfTtM1y8dX1MfjsThTdZa6IDhCFbXdF4nNFfHh3lTAqs6oKoQjkUQRztdk0Y\n",
       "ycBwDeRyRp45Jz4qSqVRCZfww4jh0SCNYKp59famhl1Q5zcDuAF1aXZkHsmknhNOoRLtIOFOBufN\n",
       "mylIkQPphMFcavHTo5uFaJAM3v79xtxJg4dsF9LenVMkT09//4n+xAe4jbAAEqOmFdbthC6bayo2\n",
       "5XRjjHCFi1rHrLegFBXK74t3X95tpfzOyBvaMv2dl4NPRtMR6cK87HbE0wEodgg+isPiFptGV93Z\n",
       "vFX2bcnfEokiDV9l0DnYfZNaYjMWwrR7mUAQ5zt4N7MPoBdzAbtk1UCcf/Rh/qyUaYAK4s/Y1VeO\n",
       "TzaRhGP4mMEPIRSRtvJ3bVXAes+qzp7NDmYyTQ0w3LaK4IMHB6fbPNM/m/QBqkuVnsGDfDi83AID\n",
       "ST6HkGF3A6wFFdRNyWSdYCLyZpsOLTiHrAIuqVtUS3Ok58wmx8Pz8ZRgN9q5H6U+jT4TNA6uRz3l\n",
       "k8ulf9yPhp7YdMTtfIkG9ZKztMqncSt8aJdQ+VUjo9cQmMLc94/g1bVs/32R29/MsjTNzcenVXNl\n",
       "O9KogM085bwkBib+QRA98+7sGtuKVS/KH/EY/UTiPnZ3q3HrsFg5LCDMEv4LfFylEr1mh637iDX0\n",
       "m0LYY+JdD9ck8nzUNTRaRW3+dnany0yZxYsqIpGon4mGKXuAIKSclKlRUagjF1xYBv5fV6qZQ590\n",
       "X8GNWxv/beWT0s3jLlKN7/scr8prZXZxcbO41P7HK+vwO5cYfnuPaADwmeeKfc9nNRte1P297ORm\n",
       "LvMwooUwhx5FdGsoWFIeD/F9N0gjm9LNKwRjWPAB/s+HE2e3rxHwkWXY/tosI1hOHVJBcnW6gXOP\n",
       "IkeIKQlyN1WtCTGoKiR4/4elbwr1MlEoV2QbCpJv6mvJBSUAF87vw5dtG3DfQuvfrj/NVV8iY60O\n",
       "/uq/yA6bcsmxtPp8LazKzkvbsRTzOLlXCpyceptnq8VOkSCqWz+jYp8jQYb/EDlKJJxeb4Ss6UU5\n",
       "MGIIbBDZzCfstLQGTGPACepgzYVRAZAWcNupskdh1A/4oQFJaafo1avMwlVyVfidZRngTUwoX+l3\n",
       "JhAGQqfv8wIQb/fFyzCeVPdmdMvuEPkZijYkIw9sMkdRYPJIAwiegy22ElvzzpY4AIis68SO/srA\n",
       "nAg8hZ4kNMVmIHlPfkFs/ILjoMem2vI2vIUqKoEpKVeMOgAJh4lSDsbMSZVs3HxpFQqfe1qHX9oN\n",
       "Eij36QIZs/HO7CYUykQU2ouyJ/kDlrKWRuJOH+lqTDJgrRLqnVskF5LX/dV5BbBGBVhIXuEvcVwT\n",
       "RfTcVYXB0PBuFMMcN2xl5N6CNwBstwyOMu+s520Bin/YyZPGcHtPHG9Gb65zCmeuuE4ZCGBbBaKL\n",
       "aigSLgZevuG5VkqNxfSpeHJ6BpHd5oYju1YxJLYUTIRFDz3nvCdEEgogOwlTd78VuN0yB3taenvL\n",
       "P/HNpdGkFIX4LPg+j7VlnHY6GFG987RVOBkIDSHyXSNUEMBsVbQwbwDjTf0BeI7BhycuicF/+Awx\n",
       "5dilzmGznr/dBxO3IhmTwLGYI5rsEuVeA04zSh/Dq6pRwfjL5cPsS+abimDCTWLDyeEzZgfqe9ug\n",
       "DtcmtInaM7e3URbgMQHKra3BuYn42aDj/2r6JVUm858Tk3wZdMgU9UYgUk92JPg+WGTVTjVjI1jD\n",
       "YkAiACi96JTRM0whOYuSwVViwLeHc3J4C7smqkKofSbDs8fnK959CcZMt0RtITxd2c3IbGwbDdvW\n",
       "6Dzb4oW/bDFE3e9d2enL8UQQAJcD/0TtGTo4E/Qpb8O9fRdHfpW3e2RM47NufqBfeOsw72VHeoHL\n",
       "SSRww0o7M/RKFMoYzJGd/j6j5xz3DiRyCRumcmDWGATb2SPMURpxdEtIoo62ZVBRt8rhWGbRxDj2\n",
       "IO3pUdYqHzP8VIO8XTg1xnbZ9hTAQqb6Svc4d2fK7lRCj5B1/9bYrKv1xQw/CnFcuLohyQqmMGLr\n",
       "L2ok+NFYqRuI0q1kYXySyNqKstK8IDnJIqQNnYGgP7PRJdow7ljWTWokWfI1jgAzyDrSV61/VGU1\n",
       "U+dh+JieVnSXL3qgsp5Gm50CFKv3r/BS6zxblyMN3BrAAzwPCQAABCVBmiFsQQ/+qlUAClE4TAAW\n",
       "vZKpInxZKX/+tVkaj6kY6uqhe9QuQy4zDi9GuTpPuUcGOnOkeg06er0QYqKNi9T+UY21WcSO0JnC\n",
       "iaVPjoP2KA6gFIp0Dvfdn563q7Xf6ZtaaQ/HeSjVIYxBVhSCjtcaNleH9w7yHGpkmMwFTpOiID+c\n",
       "0+m5SwoOxTfA4ZyPuSXzTnAn41uFAw1m+kQGV7Zd8rESoOxIAaxSaBwv2CNRB7eLm2iDpn3rqf7i\n",
       "YrCJQAOyMT7kRlEOvg6lKFN7ageR+VgA45E7LilmZksAoahMf37EhT8NPszndcujit+B+NBAh6yz\n",
       "U2e4qVHiTIw6dYiNYCX68zFBlWSbrAYrHIGzhrc45RHmOH360Off58C5wf1jRy0rNG5+Do6+MGX1\n",
       "or+MATc7o/jrt58jCeBGAs6uqJlJEfF7bBzqR409Csc7q0lnWwpzGUo2oHU2nJmPggPPmPqCMdxZ\n",
       "totD4FoKmyuqEpVNn7sxO8N1V4Jiw0V3afxsMLk8410bWoVSF0wjp1UjVOXXLQuNgQY943QvRrk1\n",
       "oh5e7qLWWB1ppmnRDblNbDt7aIKCPXK/Ixi7sZAZPbuDEgnbvXRO/mgkJpDoGdLF33x4k3KHm4p5\n",
       "f2PHz3mRQlI5qvX5dwwmDal8+Ahtyc4/jMtqpKRYR/jWlrVZAOrFFOCgqxdpWl22TpcbqITgDV0U\n",
       "Ow2mYpRUz5BHdV5cniQwXFmEH0cDkcI7yUa20rA5jRGveJot+Vdo5izA4BIJ6Q8YRvCqKTifXpQa\n",
       "/3AZEUrIO2FJVrUisqBMCPxuNCUJ4IRzN63Ma3g3S9Ji1q3jHMoIbegCiz087FkWRa0wn8SeJKAw\n",
       "xMHpMsGdvBlki3uhTvosys7Ay//Eaix+j2T8P7nSi7ywe+MCCOTk2N79ssoWP3VAx3AeOEUkg+4Y\n",
       "Dl4aI6YGW+jssjxIoJTA5QRw5iqQXnXjimmarQ2YAgzs3NxtKMyUc/PB62xi+QJaoXbRDbcE4ZzW\n",
       "ikjVstvu1qCg6abfk7EuKK0trOlpcX9YMNOujiFwWXyEIPy+J8vLCP9pdfFB5FllWfX/qySd6bpF\n",
       "S0U1RjKVIrQJZ1OEcLWgmLgvIMyc0VFbRmOuATdllTdYKz4jE5inIkwsSEeivQEagocrfJRmpA6L\n",
       "FuKm0YzFE06je1LJeQvNkqwDbiGpx+RyAj4ugiJLfIfilX2P4XaCK6r6sETHOB2F3UaJaUvz7Oye\n",
       "PwCxahplVuyy23Qt9EP9RLpm+h1lkvtk68tAy7rF/d31raYPG62JWx4/OMzkRQFgLx8jR8j/Yp3W\n",
       "c0zWqkK2KucPklC3Y5lirvQgL7r7iR/TB7yitjeGZcVDwARngGrNfoVN0gEv3gxLHOzE0VgAH9aT\n",
       "DOyUO/LYM5kFOGVKNyBA9vOw4AAABNBBmkI8IZMphBH//rUqgAB3/78z2AIcCjMzCE+LMbCsSo0N\n",
       "G9SJsv8PEj4AOcvA/6Pst6hMS4vhb0+dRts904b8haOT/Muv/y0HppFJAEqYm/NgX+ez0PsO/EA9\n",
       "TOXvziZrDY2J+wF6WHwd0MViHtP260WkRsx4zNn8hW3oGYJ24/xAD2+DVAFdGt9719Kaepz90KGM\n",
       "H0099obZo4DC2MnNftE/q3OPsHfOeHL0lEAzVT7rbgWUhISGXE7F5IZyTq/MVAxdi6Ikt8hMK/mL\n",
       "nBEIBs+IAEC+VDAFi+D3O8jT3UqDfdCoGuTE0jqe0/8r1TI24JLJwTVJmerD43IwKG+d7DMLIjnF\n",
       "9P+u+qIRH2jXPCldGhJe4EEsOrEVcUsocFL6XhpI7zq6tzs/PA2pFjynXImpQv1C9Kq6wbfvkLGh\n",
       "L8kr2fNlh0xbh9QgIolYST4PKhaHth5uthY/Bzz4eKSXg+7KJunNrzgKCWqDqRcJEhWM8eF03iOe\n",
       "1aaEMbCcRIcvT3D/mHtbvnuhvWLRUclL0eixaqryyecowLrxuQyX+OCCC6rOXdgYEj2MtcF01pFV\n",
       "2zONVg+pgcISxTTxMVvs2g89CzCz6qGAgjSD8F55isJvQSARUIagR0PQjz7vgQglkuo91ojqg5nr\n",
       "QHGhfYQW2maols02Q+C/UpK150lHcR5ZwK1w9sN6YiJyhIIWa6O6OSy5QJ0d/IP8vJg5ssXDV5qR\n",
       "AAZE61WX22/HSixAiKwq0m6a6blEGy1xg6bTej9BBbL+Kc2jkfzkqSAJX510AJGCtpCAM54TW0IJ\n",
       "CPUNF06GCp6NFiF0ZtX04R7HxCmOxL9muc41KmzqdBaiKqGKyyuy4cQ0Zg21qk6kM0KYmVjneh4U\n",
       "XIwno/C5Sj0acvEAOacIF2StZ+SMAdmIj8Fa0sZ/hVEKjMU4ul7vIDn8uD+wgFEbFXGxTk2CSJ7X\n",
       "5OlpzjDIw6gw13kB6bB+ciaSlFLOxIo7FHUM7NMTXE7+kJBe0hzSM/LAmKUaBEAlfE7DC08RWx1o\n",
       "eoGBvHAFBriHhdM+IWXZclcnFxQR/bXTOq7AsqevFi1kSHbljVcmgwr4EiGcnlin32uGCy1DFX99\n",
       "Ol7HSf1mUvqur9wsGZGj5er30j4vdZtRLE+ChDOawvSVKtROoH2zHgiz7bREio3IawFLNoiCc08e\n",
       "4CFQ9v6ZjIod+N+B60selML5sv7y6M6a+Ar+5lKMSZ062TbHFRcl5MEzjVFmMo9Ggqgc9DvEU0XG\n",
       "Vx7iVdmVlfb/6uNvfop9fM5PLUhScsba7cUZdMpVBtKD0npTGsgN0Db7NIAYueA0esVHM71XbqIZ\n",
       "vVUg7zAD04vfa0C1LiB5Ssi4UpZAT3o19KjjjOh+ygIq435QJ8Z23isv4uRz0FbtfyTk73dqnYjv\n",
       "DL0+s0wyMMc/TA3gai3vqWBXHHyf4ZVNeo1IrSaROq6Wg6demZ3sydPcMKmQKx9YPYk4Iaks4BoP\n",
       "5888aKxH/kuzNtuv/wgZ+5B9yyJ4H/fSUOpM6JkNnS3xPycAOEvyO6ZJbpOeHJRdSg8FzfwJoTDe\n",
       "uFjAmuzDXTZ0o71RyoPRFfImBy5kjEYtjIWhAQYpP0hqWhYLyCHtosFx67oVhkcQPy8GALamyqAE\n",
       "LQAABelBmmZJ4Q8mUwII//61KoABKeZv/L9kEAAbSkS/VSC+P+lqq1doopZBalFh9i+Fxt0BXZFC\n",
       "hskvfUYMJP4sAFmURxKh3Ozhv1C+vECpjVVxwRhaKtFolcgGMDxcK3/2UgGSWhbUI0ONq/Z/NgsQ\n",
       "n0Ij6fDn/fREbxbviZKOiI3inNVe37IDVU+WiU210Ocoa/F6cNMsXIVvVe+8FlJlBe/J7ZppZABO\n",
       "ZO60j/GIIAsGjQkYJ9+dT9QZOFRD3KlWnJXJH5ETJC97anrNdTIvdE8GZa4l+jdOjIaGdYfSanYf\n",
       "ZIbYucI045ajLn6d7PRHStIufZ6DRiDz3iqE8GQ/BADdG4IayGmcykqLGjzCMbCkpobvYpMGmLXz\n",
       "i8PKl34bE8aDVIrEc2LspdWKA9/YlDVKuQ5Vbs720mMhPLseziNdoqwod2Iiwk5QvirKxRY/lrx2\n",
       "eir6RhgGKWcvS93NRb6DUdc2i9WRyZhQCuztlXDJiP/8HlstSzSWX437wDpbMUzw5JsQhNrmLg6G\n",
       "SSMrvRXyiF8ffqb3jdwNk/adXQVYQdYQyLwE+hcI+8DDkC4m4uAfjOk5sB2RhOT5CwIH2gPqq8Xt\n",
       "n/yvfREENGpA8Fv33pbWdFLJ2Lx9ZflcuN2Muc24VAS1E8yNuqnflcG49ZqHwG5G4xb1zj/1ayvO\n",
       "qgqeqhRDxpzxejkCliwz9WEaVP+Ln4TPqi9JcCmd0PjFqCg+v0fAm2KcuFQHgbYlkyynrtQi22xu\n",
       "x2tuFfZUpjHoD/A0NyILbHPYD1mpQl2RCi/wURxVDRMk1C0nToBYbiJ55nBOSpP6LybyPqnLzfAl\n",
       "04FtTN1Q9IGphQrdURwl2kVpm/0U+Vp5VGgeMBugfXc7iHnh3Y8bdc8oRuRFrRR6wMSfjbkmWRXs\n",
       "Gtku3tfE6P/tJ+1pmQJKyBJ1m8C2JWHwUhMr/XmHlmmy0mhhMsiLO9OI/QFsyF6UIAeAXFF3UChz\n",
       "zocAyPQ9414Qclhk2MmPY9Ow8NTD4S0kIhHFWVQsm83b+2+4PztK0OVMjegUUdoYLjF+4GrbjweK\n",
       "q+sraMlGJmm8d4P475rt9xdCPfUX+wIi44xmxZA+mUb5Ul2egN4O2v0LZjTQEXk3AL7ynbyl6bnh\n",
       "1VOfv5jdwN63Cca1D+HVW0bKjk9t6YmhWiBXKpJGAwXxoSKRiil3v/GE5bLpIgNSlwOfUer/0q7s\n",
       "xBXXjyp4rl1LlRzS2ciJY/lCcslhNqCTMjj+ei3LoyDjCbirc61P9sFo2/pX6wfdXYN4Q/s6yd2L\n",
       "GLgk2oHgHHdgj2shhMq2ubaQNdUiGB+vT9xpcK8OdiJ+MUdUtgxstxFuIt7vU7fp6vecl3n9Une4\n",
       "jFpGfklg1qxHzm732z2iVLdsTy/UZ/e+f0q1a+FNeUbkFeAjEMQWiL9SH8NMbGBYDVr2I+LuYwKa\n",
       "vA2lD5nCGHZb3z1EyRgYUid+8cXnBPXI5sTW62hBZGl25+4M07iV/owNhoImeNF4TWnVQWhwwbVb\n",
       "LeFp4Cbki+PXRWgh0BCq7If55DTppQSeEQL4NhyJ5CYUzWvLJqYhA8dvgnkOUHlPdqqH1Z7rY7Kx\n",
       "vp4eXYL8GLRHWL/vAF63qnDYmjYRQ4jUaQpBQo2tBDxc2V23/HX9G29QpUf34ii4TyNuaEGdFSeF\n",
       "x5puseIkOqufOcAFqhALG8R/blPJomhhL+Twx1Y/q+fCWy+GIKPfvcybCBVBiudfFqoAy47+TqMY\n",
       "N0xSwxqBsqZnTDcrYmD/CcVq24fjgzuaqfOfFPVpBZaKnMrQwCw8ef+osgJXSxbufEd5OBDpUGHs\n",
       "LURNLjsN/lG7pH/U5S+pCney0NqP3XwyO4zB/3lTXVXgb/YPR86FblUvuaEGuHFbIG9dUp/2E00d\n",
       "kPerJMTkWvPctQE1A+8b1wpOIS/jnw0serd8rSny5Bgvh/Wl4KQLNgM5saUus+cBkdBEwrLpPD6b\n",
       "V/vuUFPy0bwDyWbZzEdF2Uy+0YBD+Xp1VSd2iM8jv1hAAPSAAAAC00GehEURPDv/AASCP683I2AB\n",
       "fNd6pOP3Yp8HONsLoZpvqIJ8QX2GRcGn0a37Y0dgzqDW7pjg6eqYcYe5rcQzfJH5AXUQJYtXc6+y\n",
       "1zzB83R857l79/HHuYs1uuwL7evxy/HU2SB5avi8/hC7KnhBmYMs2VdbtFCxqlxkB7qYAz2Oybr8\n",
       "pr3P43ONk5+Im/ptFYuLHbjD/UJ7TYijVuR9IECxibaL4yuZ/4ja5SBvADjzzze/4kYvC4xog9nx\n",
       "xfFonvGPns6DbO5+/BufUejpUjMfAYdl4fHv/7ZsRsSqOva0oFxl3jXDj/Tl7PsiVCvvrMcF7JrS\n",
       "QZhjG93MQoz874z73SlQBZmdlSvOJwHOos5AInJnyCL2cmm29LLXAVBLrFbYEZ1FgXfQImg/KBs2\n",
       "YOaCzIUyZuv4Rlmnwu6t5xfsR1ExMOmSHtuYGE19m/Mjp+PpiqiSOwBEML+OXmxqcqQmQwk4/VSN\n",
       "+3w6yD0GzukRN3hVmDpjAVnMW09NLS2dOCjaUO2hCUKloNs3GkfbDqsQqVrol9HQ0n0/x3O0ooKF\n",
       "IDg0FQp8BcUuMVsvD1RMU9DS8Zxm6dT4oX8QhOn/Bic5CHABGP/B5PPqSsXtf5Fyr4GIBVKqJ8BX\n",
       "3ZKGIAA4aEo2HvR6hG2/dzLnZ/l+k32cb7vb0HcRV92cG12Z6RzWw6A8BfEbRq0Aj9CoEJpfnFPH\n",
       "4E0/uq4Zm9xS3+SnsJhafWYZs2LQVlrQyJhk1ejqy24/GkCn97HsthlffZLHn7YHkB/jnUjpbzx5\n",
       "H1jcAH9ll/ZnScF3wd3iVWdRVsRUeAtNcVpL8nA9LI3Wtg/e+OkIw2QZoPkf1GrJ6/ezsPplSbSE\n",
       "ewXbM9VNI+OnkBjDg8ePLhaOmKE4GJIyXJrFzSfRRLOI3sG/L8UR3AbNmW5+kzzbA7dk5a3JVL2c\n",
       "MTR8VE2w/QAXsRmEiWBXt8TisAABSQAAAm4BnqN0Q38ABiEJmp9vBh5Gg8ABD9azXrbpYLiAm0g3\n",
       "hRwt44SN46DnJAow+52UAncZyySDprX258hhIY8/okL1KOeQ/hDhTI4IGCE/xvO1FccQVZ4ZI+68\n",
       "HwQmuH3p8Cl8hTWc3gepwB6n7+le9F1VeP14pYsp/nJP7V1m57K64KG/7MM6qoZM/Z1KK6exlrAR\n",
       "S32H0tH/p8bIN6BrUsNMJ5bFvnSmRKex+zfl1FnXYANLvcC4xtBQrLZ//FRfmVvYLnaKvrNO1XPa\n",
       "vT9HWIlIGuAV1XpDiHhr4mUjtY9ktNw50TR0HBC5ZW466qqrX6Gw6TgHY58ozVxPsI2u1jxF8M44\n",
       "aiCK3P5GZ0ZrOzEGXvbsD7JGoU+UqU+5U9wzDnHBSh7VRm9wQ+GjQBfyHwOFzxIFpgQWYf6qbJPJ\n",
       "PdoUiC/vN6GtxelhKZTyQW80X8IKG4i3Dqfx9VpbOKwbAw2px8gfdu0WL4gnSmEZ4ZNz67Lq43vL\n",
       "XVPCYMINTK4/anmENb2f67aGDaAjFY0C8quFAaehb7N3EvqYxS55YSzD1wuocW4LmDKs0GTG8gkm\n",
       "94TfL4qwfB+7pLPK/o+4I9tPlJ/pbHOPaFs6WdvZ6ApM7qEbyW2LV9+Jqy9IiYAob2qEprpqADdA\n",
       "0NICSlSez3gzEUDOvwMh4C//0ERYKlsPpXzUPHFR1pJp9TvhUCdTdeHbquyhkpQV6oljvVl8V2Cj\n",
       "4InIH0m7hNcN2ysFZnlVvpIIM4AvD4FWWPE95jSh5QGrUIgtKOVMPbmis921FNUvMumD+h9PIKkY\n",
       "/RpbEoSwnxUMDwtFoNfzJm8oAIuBAAACAAGepWpDfwAGbSWP0mAawAbSai99addfCOQWoe9VHN+p\n",
       "yQrjIiPU5KOYtyTvCs5udQioPT19oLOr2u3zBea0dO7jKf48kMadj32WEJIis7SaD50ei2c9owgE\n",
       "RczJOeSHMGrMYOV/mv8tbW3q2QrQmbg+woEDZj/iI5Rq45CvOXXXu1bNPmixkwdbjNGkqtXoeI/n\n",
       "+F70dEbkM0PzV5Ig/EzUuVXP/Hl/m5D/6gb+753I4Qto3z3Va6V+/dJJIwGk+qaY5UACWaxg5iYJ\n",
       "W88zbDxTwZgMevC1Jxgfxe47MifHI+qyAt2JAaux7gLz7SiIrBlqC//JUI5JAiV7zdlIydVMMXcD\n",
       "UXTjINpkPMN0qTyedYu/Re+B/nUYdREn2dfxPfInhkJPkEGnSJcyAdr6r/xPK4YKtsVJdG2KP15e\n",
       "yd1s4KA5GEEK8+dl18AJfDaGq7/JX721x8k5BD+yPtX7OEnYsZUA131hRsG+mqt3ClMwLy1uuDvY\n",
       "MqXqbJYYHjYSudnfg+hNeB9E+/xTQ9fOTYA/vqpp4qJoWlLnEuQEgcyiEzEDzEliOx3KoGTKes5K\n",
       "8qfitrbrcJ47PMulEJGmGELLbPqKt8YGgLfdbMf6qZooNqAEiBFaO/5isKSv48g5xnGHiwoPHRPj\n",
       "NBtDBtQVFAARfR33q/kflCumC2oAAG9BAAAEJkGaqkmoQWiZTAgh//6qVQACYHR3AALBbLvUv1/b\n",
       "brGdEOotS40dy5Npcqxqaghospqd5raEOxsDXC3xyuaL6OhkrZl3vefF4xHS2c4f050G7UutKfca\n",
       "I8lZqdeGZyK7iY3haEqYZ40AA01gTRYp2ZVixMjSaqgpdAi822YoB2yYs6+/fxjcf/FLwFgTp8Wr\n",
       "JQJEK/rKRSsvYWlcZ/IBKIMVWPozsk3fhDWPTeC0Lmp0biDYVOjNpw4zkXg0gM/qJY4ygY5T/2V7\n",
       "BifGvrr4PwMZowbqZtNwO+4rmsfl9Wowc8Eg2PYqEMTldGMOeKYnksyIbwDYlMBpN+gFcGX6p8H2\n",
       "3hAxhfyxsoE7iNSUT3P588YFSz4dK4dOZKtX2sWFuX7FG9AcEyGf5jFsnfStkEeCx17hGu+g1eNf\n",
       "JmGZwD3X0A85bwTbUZrhZqStVmU/S0sPP0n7t0d1c2s+8ZzFBoAh/NOyfD9VMdwk+c9UurIpWtM8\n",
       "DXe2Em9WY3JnIuo39NDAo4d6aND7RuoA6zoghbOKBE0/fQV6MUeaZK7bPM+Rf+AYKByMPaAHFOsT\n",
       "QdMNbOzbrdbkmoWwRXn61CE93iryxHQvtpTDGbMNm79YetnBBxXkKZrXBYzoVqeTF8PH01diNQqt\n",
       "o70lsFBjEL8F+3VZFtwB/r6FG0Y4mOOzA0jOeL17yIcUhMIksW1iBz773WVT/qCKiXwjZDtZ0EXF\n",
       "tr2iK6FLgv7V21OrI1VLuilEvRUuYBfYE5ax0JMQTPsrODFYAtZEbge91abUKgcI5zdddIyibEpV\n",
       "GhRPXuGVWbGhqfnWcxBW9XvWRPpJVqvjN67zOPiP3seH7+sexZpmSsnZaMvEZpHxEWiEdMSze1i+\n",
       "yKHbWyZq0hzXCkZLXgymNvlxC4kgJh5r4Ys69obzicnvjAd6Q58cg8nA+o/PR6UsWygf+jZDmMXq\n",
       "dgD5l2JcnkJFtyL2/I0SrJ0gniS0ZniH35xWZbwN935piYmVAnFXlNfSu/Fhc7QZi6leEC5uB+TK\n",
       "AQrSh1H667DjNiMf+oklY9+NgNIl5DQKMDVrAcqOsZMza6AOpLTQJMuqGNm12hJGY0wiompCThKX\n",
       "Xva065MvaakL/I6knRzt7X99Zidj55Cg4MFuELhwsMVDyIkuRM64V3dat/Uy1+nvroWHibvkF8ag\n",
       "dmK9Cia1xPNpJOfLTeBDDflCJcfZSuFhJKXYnA6fRFkQwmiQKRdfy0DrJrgugDdgQKCUSy5EP40C\n",
       "qbR+/S2gDAcwlrIFsHyiEdvjUKmyCBeK7OZ5u0/11bbt3VrBP7437heUygd4CTqeCKtb57IWHvI9\n",
       "uTnpPicrsinvyul/VkYJMLg8gc/uFtlJ1/oNwXO7wHpvlG3XyJmpYjSh9X1GtbXdq3NHC5q9xyPb\n",
       "9cuOXazJuQAAAY1BnshFESw7/wAEoj+r/UhrgBND4Im+WGoar66yqBv5Fw3Of5ilXwEpIRJ8wGKa\n",
       "Lc3eVhePI61v2rsl0gF8CdoQZaNB8MsJhO5beu9Bg4D97vcWLqceOV642XFP/udztuBU90AEsPIt\n",
       "yw82llQAnnWeb+XG7To6dZW216qrNK8NO3DhACRvMmIo8dMQKVWFG9iD4IGi8u3sBO7BLxJXHBKu\n",
       "rJusELvApl1SDg9qAKjLbcv1AkTUCMCN195mo0oEkNnnO+/Sq+b1fdq4dKIFDc6WeiyG1+4Prygw\n",
       "oUrcwifsAL6e+OsL3GhMbx7Y3kH/cqcfiCN2AFBmgeOoLjFqM1kv5Aj34IJhjqbLhFSs8yeKx00w\n",
       "V9/eoWO1ZZ3x/O3FtItGkatvZ1o2XXskjl4KRHH6zQJX4fcM5xZ9id5joyChzdL86eL9qsg0t++f\n",
       "LbgNqygL3gTNqDjhn0r7a7I+FhwxhOL1J9kK9tYhCHtTOVQhpmn1GbcC4KB9QDj75yQXchUrM2yJ\n",
       "bliy4TjAAA6YAAABagGe53RDfwAGwQvUQ20M9SAE1MaZYfCL5PHQNq7qjatYwmZAXCcdYwpoEwcB\n",
       "Jn0OPlMp6apjiuqoOsAnlzjsBzy8OVTQCJkBM6SJfx0GKUGAjhj0SWpT+0Izn3WvHhRqOnnrizHh\n",
       "iw69zEs40w5SraaxfyNOAAfnbEPlD8haeB6JtXgUIOqpD1saDHh/pUciV2Q5NVJw1Oe7OfcXWGyC\n",
       "PkP5BaaIwGXGEfsUJwVt8qYCQFFowQTaV6N0aoYXkJ8y9+X5YdPUXZ05FaGHzp7xt82f06LD8lQ/\n",
       "mYtaFqmafz8tUy6feA2f/8DqymcpA+/gay2H4jeGK7oEeJOffB/pwRSVwTc5YEtsBcBdQpruyviY\n",
       "Uryg3I5MpHNW7KAFzARY2segrJeTOQ2DmsNWqXU9CnAyF4744+LKfsG/PzCNSuTOd8P04drOF/x9\n",
       "NQGgBsD8RR7bF448PkqyKgVqI+Z4NVdSGRl0uKYoABNwAAAAtwGe6WpDfwAGwU0oIBNfkTyRtzAC\n",
       "CN3mHXwcCoCZqg0nxFpX/K3Uz7PvhdMx8BTFhNPFhtiVLLGQKqpffMneJ75bHyVeyvpRHjXO3Mpd\n",
       "N3lvAIc8EZ3C0Yw0S2ETOWjOahwtbkYcK2OyB5Vqpzz2eXfIjzYttfM6CVTRkxFu3XkmgBZuD6d3\n",
       "kPb/s6B51qtfcOJxPOOuz1IKhf9q1ekkqy2fHFK/wWtqTXl8nI3Cz7V5pjhReiACywAAAWZBmutJ\n",
       "qEFsmUwIIf/+qlUAAmBSPAALBbZKkIzGK/xRdzgm+Mmbkfh0NAYHEpwiIy1DpfF96h9UbuFkzdAM\n",
       "QCLfyDXxO8ahY1ttLv2vYMqxegHarjbATXe9OSUpEzqLXX6PDoQ5hJcKGrzmfA9HGvjy65b4nL2q\n",
       "rv9DvJJcqt7da82kZeSP2YPNz6vof/btkTEvwLLFyau0vIzUOWfc42nRvHKKu7uf0uJotvL0PXq/\n",
       "63KKqcXwqqqDzZReLe7XUI8RX+EKz3DV2DW6fsWNTZLATkdjQvnI9NQQvD5DfFTHBKBTeXfNxOyl\n",
       "ewk1qV9x2tm6QBPkohi8Xk8E2mxfP/7iZwZMXDcSXXsjyjlq3sIRxXDTQUWTOka9jCwatPdL3vjH\n",
       "xf4RS2XUl/4Q7YRRFbwzvryqvRsf+DNPz7SVAK1V1nMJoTXl1c92HRY4HYJRvtfi4BHvkIbLd5Pk\n",
       "yCjtKPq+5l4AAB6QAAACBkGbD0nhClJlMCH//qmWAAlHBjwxVwArMdP5+X6EZtU4UQgh0YXqB7EI\n",
       "wAMdhlgUoVLa/yz5JCjswZMmADNeNhiW8AnrdiaKfsQA8YaJEImOCUPoy3Z1y7BMA67V+sjgURIC\n",
       "veFh1H0RaEHLDhVYXdi91y99iHNcfmEAiuGPqy3SNyD7ZmkF0TMi2Cpq+l2/txyZtwx7wMhhvtp1\n",
       "Ll6ynlQJ0hXPpJHagRtwXXphXx8QELQch9u/IBCx+hzUIptrBejuujnv57U16JEmsdsA9k0dHa2s\n",
       "ZU4VIq632DznNe3y42FNQ02rKZLQMG222EaasN+1wL5Up9xQSmujl6VAYXhY/YztHgyZ5nJucRZk\n",
       "VhFLe+Ix8WVma0QvtDPON/KwtOaSK3Of14HI3h6pgwfW2cGe/zo26m4kj/YtWZgEccMrL6E3dFep\n",
       "zZvwT5O9iDBk5vpL3ZTTEYseiwd4WwVCM3QSgAzgbOhBKyRAL/69Cm9WCRtAUdqSKuXbT4mBkWlb\n",
       "zf2mhgCnsL5BdBFuobAkSPq2Hy2QD9sAYzev/DvuiPF7JFo7LhKSxiRskS+tpvDxJqOZdcifQa4B\n",
       "fae65QQGNu1qIII+f8BTMF61y7PbaJMOmq5R+ScJzRIBmTsoD0MJ8AmtGsXGcOKMCAC9QG4WMjAX\n",
       "pPrIZCIRGQcqC4Ur3MnabMwAAD0gAAAAxEGfLUU0TDv/AAShKvE5oAWo5p2Wp/9d+O6lOeMMN+HL\n",
       "iSBhajNYGWvISl54z4iJUA0sJmVh+OdTUfDHq8ua+U/pRo7B56xAo3WS3/PbGDW6D2QVPoAZCMID\n",
       "OsUmx6BUsuXivCpZt2VutvbDXG902TVlaXuWpCWDxDEjXxplG140YdZ9+/dOGxU+xXIT/Lrij9Y8\n",
       "sEZQ5yCEzTt2cI5xT22W3hF71L2EaRVqm22J/je8Y/RfoZLCc2XrZ9XuSYGLJQAAGLEAAAA1AZ9M\n",
       "dEN/AAZu/sMDH2FtPDQAIf5PUETvRil+t9REn3P3L9zIQSRzmsd8MYq9y7pOmjgAG9EAAAAjAZ9O\n",
       "akN/AALonvcRoI/wQ71Jc2+xcdiruSwkc7dizcAAB3UAAAEXQZtQSahBaJlMCH///qmWAAlB81QA\n",
       "jFERpUWWTzJjmx+H7DOu2F3uCB57wkzhXmLURCfIGGwjLjjOSF3mmj0sRXpigzgRQgLjF6vO2May\n",
       "ECrEu2F2PFH1FF7w63zz/8VBPRQWg1KA83lR6MiR1jZaJul49C4YHtM87jg/2jqtfvGNp6OZHXM2\n",
       "V0weSaRUbq2uzGKdhqeOTaEJN5BfhVKJW47QqmNYprvryrc+yFV3Hu60RrswJIzKSbzp+gHLYgAh\n",
       "XGR1ZFiLtWRFaZ+t5NFucPjepE/5JQ7t5nMp5IvMEqr6bg7opjjfh+RpZIYQkz2ECvLeEVvDDA4G\n",
       "4a9+lJbADJ78we8Nhj1loEcmgREDCG/tYp4AAPmAAAAAv0GbcUnhClJlMCH//qmWAAlD/nZO0z6A\n",
       "B+7lg4nLi835QLdrUGT4JyYaUnSrry8lmD+G550cKcTlDZssiQi26rwJbO2uyxugvPoFdOR07wqt\n",
       "W81UxvmKwsrOvrNNKAGiSmc6NWCflmwzQ0NVwe8l+5BgfYCIpC/fHQhNbv94vVzz5O2qtV7mxzk3\n",
       "H7xBwNiHoh+CfigOHxkk6zq07/MXv9Ob1N0w17WONAeeNHKqtb+x/QHYzjFUlCoQCDpFAB/gAAAA\n",
       "vkGbkknhDomUwId//qmWAAlEp58mKE5EAE3U5F0bWHi9e5zHwVsyVKmRMpoPlLJuMoNnEg6adRCN\n",
       "mY0nPXiDNYGdlHmZMbnMmNSHagDIFO4/JQUHOcCRkyga0Ve02Eg4oamFl6dwBPPH3wcP8ZuJ5Dr8\n",
       "A00X0FrJX2SssoAAcc+6PuieuQaQ7M2SbNH1MsjPVMQYql8q2UOpW7sgLDLJkiGoN3uGSW2A8+6X\n",
       "KoPrt1BrAkKoLA4pt/AQwAAAHpEAAABuQZuzSeEPJlMCG//+p4QAEc5dX4kPqQAhTtQs+AX/d0li\n",
       "h42tNZGeoTyMKklazE10PYN26sLaYj9FZu/gBK+pvHOPJVGPJtwThiXUnwQYpPAH4D1OfmFCvmCN\n",
       "738PMYlYbYEd0/IM82GeGSAAk4AAAAP3bW9vdgAAAGxtdmhkAAAAAAAAAAAAAAAAAAAD6AAAB9AA\n",
       "AQAAAQAAAAAAAAAAAAAAAAEAAAAAAAAAAAAAAAAAAAABAAAAAAAAAAAAAAAAAABAAAAAAAAAAAAA\n",
       "AAAAAAAAAAAAAAAAAAAAAAAAAAAAAgAAAyF0cmFrAAAAXHRraGQAAAADAAAAAAAAAAAAAAABAAAA\n",
       "AAAAB9AAAAAAAAAAAAAAAAAAAAAAAAEAAAAAAAAAAAAAAAAAAAABAAAAAAAAAAAAAAAAAABAAAAA\n",
       "AfQAAAGQAAAAAAAkZWR0cwAAABxlbHN0AAAAAAAAAAEAAAfQAAAIAAABAAAAAAKZbWRpYQAAACBt\n",
       "ZGhkAAAAAAAAAAAAAAAAAAAoAAAAUABVxAAAAAAALWhkbHIAAAAAAAAAAHZpZGUAAAAAAAAAAAAA\n",
       "AABWaWRlb0hhbmRsZXIAAAACRG1pbmYAAAAUdm1oZAAAAAEAAAAAAAAAAAAAACRkaW5mAAAAHGRy\n",
       "ZWYAAAAAAAAAAQAAAAx1cmwgAAAAAQAAAgRzdGJsAAAAtHN0c2QAAAAAAAAAAQAAAKRhdmMxAAAA\n",
       "AAAAAAEAAAAAAAAAAAAAAAAAAAAAAfQBkABIAAAASAAAAAAAAAABAAAAAAAAAAAAAAAAAAAAAAAA\n",
       "AAAAAAAAAAAAAAAAAAAAGP//AAAAMmF2Y0MBZAAW/+EAGWdkABas2UCAM+fhAAADAAEAAAMAFA8W\n",
       "LZYBAAZo6+PLIsAAAAAcdXVpZGtoQPJfJE/FujmlG88DI/MAAAAAAAAAGHN0dHMAAAAAAAAAAQAA\n",
       "ABQAAAQAAAAAFHN0c3MAAAAAAAAAAQAAAAEAAACIY3R0cwAAAAAAAAAPAAAAAwAACAAAAAABAAAU\n",
       "AAAAAAEAAAgAAAAAAQAAAAAAAAABAAAEAAAAAAEAABQAAAAAAQAACAAAAAABAAAAAAAAAAEAAAQA\n",
       "AAAAAQAACAAAAAABAAAUAAAAAAEAAAgAAAAAAQAAAAAAAAABAAAEAAAAAAQAAAgAAAAAHHN0c2MA\n",
       "AAAAAAAAAQAAAAEAAAAUAAAAAQAAAGRzdHN6AAAAAAAAAAAAAAAUAAAcQAAABCkAAATUAAAF7QAA\n",
       "AtcAAAJyAAACBAAABCoAAAGRAAABbgAAALsAAAFqAAACCgAAAMgAAAA5AAAAJwAAARsAAADDAAAA\n",
       "wgAAAHIAAAAUc3RjbwAAAAAAAAABAAAALAAAAGJ1ZHRhAAAAWm1ldGEAAAAAAAAAIWhkbHIAAAAA\n",
       "AAAAAG1kaXJhcHBsAAAAAAAAAAAAAAAALWlsc3QAAAAlqXRvbwAAAB1kYXRhAAAAAQAAAABMYXZm\n",
       "NTYuNDAuMTAx\n",
       "\">\n",
       "  Your browser does not support the video tag.\n",
       "</video>"
      ],
      "text/plain": [
       "<matplotlib.animation.FuncAnimation at 0x7faf0a853f60>"
      ]
     },
     "execution_count": 25,
     "metadata": {},
     "output_type": "execute_result"
    }
   ],
   "source": [
    "fig = plt.figure(dpi=100, figsize=(5, 4))\n",
    "plt.scatter(x,y)\n",
    "line, = plt.plot(x,lin(a_guess,b_guess,x))\n",
    "plt.close()\n",
    "\n",
    "def animate(i):\n",
    "    line.set_ydata(lin(a_guess,b_guess,x))\n",
    "    for i in range(30): upd()\n",
    "    return line,\n",
    "\n",
    "# http://forums.fast.ai/t/wiki-lesson-6/9404/13\n",
    "# You have to install ffmpeg\n",
    "#    sudo apt-get update\n",
    "#    sudo apt install ffmpeg\n",
    "ani = animation.FuncAnimation(fig, animate, np.arange(0, 20), interval=100)\n",
    "ani"
   ]
  },
  {
   "cell_type": "code",
   "execution_count": null,
   "metadata": {
    "collapsed": true
   },
   "outputs": [],
   "source": []
  }
 ],
 "metadata": {
  "kernelspec": {
   "display_name": "Python 3",
   "language": "python",
   "name": "python3"
  },
  "language_info": {
   "codemirror_mode": {
    "name": "ipython",
    "version": 3
   },
   "file_extension": ".py",
   "mimetype": "text/x-python",
   "name": "python",
   "nbconvert_exporter": "python",
   "pygments_lexer": "ipython3",
   "version": "3.6.4"
  },
  "nav_menu": {},
  "toc": {
   "colors": {
    "hover_highlight": "#DAA520",
    "navigate_num": "#000000",
    "navigate_text": "#333333",
    "running_highlight": "#FF0000",
    "selected_highlight": "#FFD700",
    "sidebar_border": "#EEEEEE",
    "wrapper_background": "#FFFFFF"
   },
   "moveMenuLeft": true,
   "nav_menu": {
    "height": "116px",
    "width": "251px"
   },
   "navigate_menu": true,
   "number_sections": true,
   "sideBar": true,
   "threshold": 4,
   "toc_cell": true,
   "toc_section_display": "block",
   "toc_window_display": false,
   "widenNotebook": false
  },
  "widgets": {
   "state": {},
   "version": "1.1.2"
  }
 },
 "nbformat": 4,
 "nbformat_minor": 1
}
