{
 "cells": [
  {
   "cell_type": "code",
   "execution_count": 1,
   "metadata": {},
   "outputs": [],
   "source": [
    "%reload_ext autoreload\n",
    "%autoreload 2\n",
    "%matplotlib inline\n",
    "\n",
    "from fastai.nlp import *\n",
    "from sklearn.linear_model import LogisticRegression\n",
    "from sklearn.svm import LinearSVC\n",
    "from torchtext import vocab, data, datasets\n",
    "import pandas as pd"
   ]
  },
  {
   "cell_type": "code",
   "execution_count": 2,
   "metadata": {},
   "outputs": [],
   "source": [
    "sl=1000\n",
    "vocab_size=200000"
   ]
  },
  {
   "cell_type": "code",
   "execution_count": 3,
   "metadata": {},
   "outputs": [
    {
     "data": {
      "text/html": [
       "<div>\n",
       "<style scoped>\n",
       "    .dataframe tbody tr th:only-of-type {\n",
       "        vertical-align: middle;\n",
       "    }\n",
       "\n",
       "    .dataframe tbody tr th {\n",
       "        vertical-align: top;\n",
       "    }\n",
       "\n",
       "    .dataframe thead th {\n",
       "        text-align: right;\n",
       "    }\n",
       "</style>\n",
       "<table border=\"1\" class=\"dataframe\">\n",
       "  <thead>\n",
       "    <tr style=\"text-align: right;\">\n",
       "      <th></th>\n",
       "      <th>link</th>\n",
       "      <th>time</th>\n",
       "      <th>favorites</th>\n",
       "      <th>rts</th>\n",
       "      <th>authors</th>\n",
       "      <th>category</th>\n",
       "      <th>published</th>\n",
       "      <th>summary</th>\n",
       "      <th>title</th>\n",
       "      <th>tweeted</th>\n",
       "    </tr>\n",
       "  </thead>\n",
       "  <tbody>\n",
       "    <tr>\n",
       "      <th>0</th>\n",
       "      <td>arxiv.org/abs/1611.10003</td>\n",
       "      <td>NaN</td>\n",
       "      <td>NaN</td>\n",
       "      <td>NaN</td>\n",
       "      <td>[Tom A. F. Anderson, C. -H. Ruan]</td>\n",
       "      <td>q-bio.NC</td>\n",
       "      <td>2016-11-30 05:17:11</td>\n",
       "      <td>In summary of the research findings presented ...</td>\n",
       "      <td>Vocabulary and the Brain: Evidence from Neuroi...</td>\n",
       "      <td>0</td>\n",
       "    </tr>\n",
       "    <tr>\n",
       "      <th>1</th>\n",
       "      <td>arxiv.org/abs/1611.10007</td>\n",
       "      <td>NaN</td>\n",
       "      <td>NaN</td>\n",
       "      <td>NaN</td>\n",
       "      <td>[M. Amin Rahimian, Amir G. Aghdam]</td>\n",
       "      <td>cs.SY</td>\n",
       "      <td>2016-11-30 05:37:11</td>\n",
       "      <td>In this paper, structural controllability of a...</td>\n",
       "      <td>Structural Controllability of Multi-Agent Netw...</td>\n",
       "      <td>0</td>\n",
       "    </tr>\n",
       "    <tr>\n",
       "      <th>2</th>\n",
       "      <td>arxiv.org/abs/1611.10010</td>\n",
       "      <td>NaN</td>\n",
       "      <td>NaN</td>\n",
       "      <td>NaN</td>\n",
       "      <td>[Debidatta Dwibedi, Tomasz Malisiewicz, Vijay ...</td>\n",
       "      <td>cs.CV</td>\n",
       "      <td>2016-11-30 06:00:47</td>\n",
       "      <td>We present a Deep Cuboid Detector which takes ...</td>\n",
       "      <td>Deep Cuboid Detection: Beyond 2D Bounding Boxes</td>\n",
       "      <td>0</td>\n",
       "    </tr>\n",
       "    <tr>\n",
       "      <th>3</th>\n",
       "      <td>arxiv.org/abs/1611.10012</td>\n",
       "      <td>2016-12-01 01:46:12</td>\n",
       "      <td>11.0</td>\n",
       "      <td>2.0</td>\n",
       "      <td>[Jonathan Huang, Vivek Rathod, Chen Sun, Mengl...</td>\n",
       "      <td>cs.CV</td>\n",
       "      <td>2016-11-30 06:06:15</td>\n",
       "      <td>In this paper, we study the trade-off between ...</td>\n",
       "      <td>Speed/accuracy trade-offs for modern convoluti...</td>\n",
       "      <td>1</td>\n",
       "    </tr>\n",
       "    <tr>\n",
       "      <th>4</th>\n",
       "      <td>arxiv.org/abs/1611.10014</td>\n",
       "      <td>NaN</td>\n",
       "      <td>NaN</td>\n",
       "      <td>NaN</td>\n",
       "      <td>[Yoones Hashemi, Amir H. Banihashemi]</td>\n",
       "      <td>cs.IT</td>\n",
       "      <td>2016-11-30 06:12:45</td>\n",
       "      <td>In this paper, we propose a characterization o...</td>\n",
       "      <td>Characterization and Efficient Exhaustive Sear...</td>\n",
       "      <td>0</td>\n",
       "    </tr>\n",
       "  </tbody>\n",
       "</table>\n",
       "</div>"
      ],
      "text/plain": [
       "                       link                 time  favorites  rts  \\\n",
       "0  arxiv.org/abs/1611.10003                  NaN        NaN  NaN   \n",
       "1  arxiv.org/abs/1611.10007                  NaN        NaN  NaN   \n",
       "2  arxiv.org/abs/1611.10010                  NaN        NaN  NaN   \n",
       "3  arxiv.org/abs/1611.10012  2016-12-01 01:46:12       11.0  2.0   \n",
       "4  arxiv.org/abs/1611.10014                  NaN        NaN  NaN   \n",
       "\n",
       "                                             authors  category  \\\n",
       "0                  [Tom A. F. Anderson, C. -H. Ruan]  q-bio.NC   \n",
       "1                 [M. Amin Rahimian, Amir G. Aghdam]     cs.SY   \n",
       "2  [Debidatta Dwibedi, Tomasz Malisiewicz, Vijay ...     cs.CV   \n",
       "3  [Jonathan Huang, Vivek Rathod, Chen Sun, Mengl...     cs.CV   \n",
       "4              [Yoones Hashemi, Amir H. Banihashemi]     cs.IT   \n",
       "\n",
       "             published                                            summary  \\\n",
       "0  2016-11-30 05:17:11  In summary of the research findings presented ...   \n",
       "1  2016-11-30 05:37:11  In this paper, structural controllability of a...   \n",
       "2  2016-11-30 06:00:47  We present a Deep Cuboid Detector which takes ...   \n",
       "3  2016-11-30 06:06:15  In this paper, we study the trade-off between ...   \n",
       "4  2016-11-30 06:12:45  In this paper, we propose a characterization o...   \n",
       "\n",
       "                                               title  tweeted  \n",
       "0  Vocabulary and the Brain: Evidence from Neuroi...        0  \n",
       "1  Structural Controllability of Multi-Agent Netw...        0  \n",
       "2    Deep Cuboid Detection: Beyond 2D Bounding Boxes        0  \n",
       "3  Speed/accuracy trade-offs for modern convoluti...        1  \n",
       "4  Characterization and Efficient Exhaustive Sear...        0  "
      ]
     },
     "execution_count": 3,
     "metadata": {},
     "output_type": "execute_result"
    }
   ],
   "source": [
    "#PATH='/data2/datasets/part1/arxiv/arxiv.csv'\n",
    "PATH='data/arxiv-twitterbot/brundage_bot.csv'\n",
    "\n",
    "df = pd.read_csv(PATH)\n",
    "df.head()"
   ]
  },
  {
   "cell_type": "code",
   "execution_count": 4,
   "metadata": {},
   "outputs": [],
   "source": [
    "df['txt'] = df.category + ' ' + df.title + '\\n' + df.summary"
   ]
  },
  {
   "cell_type": "code",
   "execution_count": 5,
   "metadata": {},
   "outputs": [
    {
     "name": "stdout",
     "output_type": "stream",
     "text": [
      "q-bio.NC Vocabulary and the Brain: Evidence from Neuroimaging Studies\n",
      "In summary of the research findings presented in this paper, various brain\n",
      "regions are correlated with vocabulary and vocabulary acquisition. Semantic\n",
      "associations for vocabulary seem to be located near brain areas that vary\n",
      "according to the type of vocabulary, e.g. ventral temporal regions important\n",
      "for words for things that can be seen. Semantic processing is believed to be\n",
      "strongly associated with the ANG. Phonological ability has been closely related\n",
      "to the anterior surfaces of the SMG. Pathways through the posterior SMG are\n",
      "thought to link the anterior SMG and the ANG. In vocabulary tasks,\n",
      "mediotemporal structures may be related to long-term memory processing, with\n",
      "left hippocampal and parahippocampal regions related to long-term and working\n",
      "memory, respectively. Precentral structures are associated with phonological\n",
      "retrieval. Furthermore, many more regions of the brain are of interest in\n",
      "vocabulary tasks, particularly in areas important for visual and auditory\n",
      "processing. Furthermore, differences between brain anatomies can be attributed\n",
      "to vocabulary demands of different languages.\n"
     ]
    }
   ],
   "source": [
    "print(df.iloc[0].txt)"
   ]
  },
  {
   "cell_type": "code",
   "execution_count": 6,
   "metadata": {
    "scrolled": true
   },
   "outputs": [
    {
     "data": {
      "text/plain": [
       "27188"
      ]
     },
     "execution_count": 6,
     "metadata": {},
     "output_type": "execute_result"
    }
   ],
   "source": [
    "n=len(df); n"
   ]
  },
  {
   "cell_type": "code",
   "execution_count": 7,
   "metadata": {},
   "outputs": [],
   "source": [
    "val_idx = get_cv_idxs(n, val_pct=0.1)\n",
    "((val,trn),(val_y,trn_y)) = split_by_idx(val_idx, df.txt.values, df.tweeted.values)"
   ]
  },
  {
   "cell_type": "markdown",
   "metadata": {},
   "source": [
    "## Ngram logistic regression"
   ]
  },
  {
   "cell_type": "code",
   "execution_count": 8,
   "metadata": {},
   "outputs": [
    {
     "data": {
      "text/plain": [
       "((24470, 3773961), 14920806)"
      ]
     },
     "execution_count": 8,
     "metadata": {},
     "output_type": "execute_result"
    }
   ],
   "source": [
    "veczr =  CountVectorizer(ngram_range=(1,3), tokenizer=tokenize)\n",
    "trn_term_doc = veczr.fit_transform(trn) # scipy.sparse.csr.csr_matrix\n",
    "val_term_doc = veczr.transform(val)\n",
    "trn_term_doc.shape, trn_term_doc.sum()"
   ]
  },
  {
   "cell_type": "code",
   "execution_count": 11,
   "metadata": {},
   "outputs": [],
   "source": [
    "y=trn_y\n",
    "x=trn_term_doc.sign() # Element-wise sign. The sign function returns -1 if x < 0, 0 if x==0, 1 if x > 0.\n",
    "val_x = val_term_doc.sign()"
   ]
  },
  {
   "cell_type": "code",
   "execution_count": 12,
   "metadata": {},
   "outputs": [],
   "source": [
    "p = x[np.argwhere(y!=0)[:,0]].sum(0)+1\n",
    "q = x[np.argwhere(y==0)[:,0]].sum(0)+1\n",
    "r = np.log((p/p.sum())/(q/q.sum()))\n",
    "b = np.log(len(p)/len(q))"
   ]
  },
  {
   "cell_type": "code",
   "execution_count": 13,
   "metadata": {},
   "outputs": [
    {
     "data": {
      "text/plain": [
       "0.8094186902133922"
      ]
     },
     "execution_count": 13,
     "metadata": {},
     "output_type": "execute_result"
    }
   ],
   "source": [
    "pre_preds = val_term_doc @ r.T + b # The @ (at) operator is intended to be used for matrix multiplication. See https://stackoverflow.com/questions/27385633/what-is-the-symbol-for-in-python\n",
    "preds = pre_preds.T>0\n",
    "(preds==val_y).mean()"
   ]
  },
  {
   "cell_type": "code",
   "execution_count": 14,
   "metadata": {},
   "outputs": [
    {
     "data": {
      "text/plain": [
       "0.8532008830022075"
      ]
     },
     "execution_count": 14,
     "metadata": {},
     "output_type": "execute_result"
    }
   ],
   "source": [
    "m = LogisticRegression(C=0.1, fit_intercept=False)\n",
    "m.fit(x, y);\n",
    "\n",
    "preds = m.predict(val_x)\n",
    "(preds.T==val_y).mean()"
   ]
  },
  {
   "cell_type": "code",
   "execution_count": 15,
   "metadata": {},
   "outputs": [],
   "source": [
    "probs = m.predict_proba(val_x)[:,1]"
   ]
  },
  {
   "cell_type": "code",
   "execution_count": 16,
   "metadata": {},
   "outputs": [
    {
     "data": {
      "image/png": "[encoded data removed]",
      "text/plain": [
       "<matplotlib.figure.Figure at 0x7f485201b710>"
      ]
     },
     "metadata": {},
     "output_type": "display_data"
    }
   ],
   "source": [
    "from sklearn.metrics import precision_recall_curve, average_precision_score\n",
    "import matplotlib.pyplot as plt\n",
    "\n",
    "precision, recall, _ = precision_recall_curve(val_y, probs)\n",
    "average_precision = average_precision_score(val_y, probs)\n",
    "\n",
    "plt.step(recall, precision, color='b', alpha=0.2, where='post')\n",
    "plt.fill_between(recall, precision, step='post', alpha=0.2, color='b')\n",
    "\n",
    "plt.xlabel('Recall')\n",
    "plt.ylabel('Precision')\n",
    "plt.ylim([0.0, 1.05])\n",
    "plt.xlim([0.0, 1.0])\n",
    "plt.title('Precision-Recall curve: AUC={0:0.2f}'.format(average_precision));"
   ]
  },
  {
   "cell_type": "code",
   "execution_count": 17,
   "metadata": {
    "scrolled": true
   },
   "outputs": [
    {
     "data": {
      "text/plain": [
       "0.7486338797814208"
      ]
     },
     "execution_count": 17,
     "metadata": {},
     "output_type": "execute_result"
    }
   ],
   "source": [
    "recall[precision>=0.6][0]"
   ]
  },
  {
   "cell_type": "code",
   "execution_count": 18,
   "metadata": {},
   "outputs": [],
   "source": [
    "df_val = df.iloc[sorted(val_idx)]"
   ]
  },
  {
   "cell_type": "code",
   "execution_count": 19,
   "metadata": {},
   "outputs": [
    {
     "data": {
      "text/html": [
       "<div>\n",
       "<style scoped>\n",
       "    .dataframe tbody tr th:only-of-type {\n",
       "        vertical-align: middle;\n",
       "    }\n",
       "\n",
       "    .dataframe tbody tr th {\n",
       "        vertical-align: top;\n",
       "    }\n",
       "\n",
       "    .dataframe thead th {\n",
       "        text-align: right;\n",
       "    }\n",
       "</style>\n",
       "<table border=\"1\" class=\"dataframe\">\n",
       "  <thead>\n",
       "    <tr style=\"text-align: right;\">\n",
       "      <th></th>\n",
       "      <th>link</th>\n",
       "      <th>title</th>\n",
       "      <th>summary</th>\n",
       "    </tr>\n",
       "  </thead>\n",
       "  <tbody>\n",
       "    <tr>\n",
       "      <th>7363</th>\n",
       "      <td>arxiv.org/abs/1703.01703</td>\n",
       "      <td>Third-Person Imitation Learning</td>\n",
       "      <td>Reinforcement learning (RL) makes it possible ...</td>\n",
       "    </tr>\n",
       "    <tr>\n",
       "      <th>18948</th>\n",
       "      <td>arxiv.org/abs/1707.04615</td>\n",
       "      <td>On the Complexity of Learning Neural Networks</td>\n",
       "      <td>The stunning empirical successes of neural net...</td>\n",
       "    </tr>\n",
       "    <tr>\n",
       "      <th>27079</th>\n",
       "      <td>arxiv.org/abs/1710.03804</td>\n",
       "      <td>End-to-End Deep Learning for Steering Autonomo...</td>\n",
       "      <td>Steering a car through traffic is a complex ta...</td>\n",
       "    </tr>\n",
       "    <tr>\n",
       "      <th>26327</th>\n",
       "      <td>arxiv.org/abs/1710.00641</td>\n",
       "      <td>Improving speech recognition by revising gated...</td>\n",
       "      <td>Speech recognition is largely taking advantage...</td>\n",
       "    </tr>\n",
       "    <tr>\n",
       "      <th>26608</th>\n",
       "      <td>arxiv.org/abs/1710.01916</td>\n",
       "      <td>A self-organizing neural network architecture ...</td>\n",
       "      <td>The visual recognition of transitive actions c...</td>\n",
       "    </tr>\n",
       "    <tr>\n",
       "      <th>26262</th>\n",
       "      <td>arxiv.org/abs/1710.00421</td>\n",
       "      <td>Video Generation From Text</td>\n",
       "      <td>Generating videos from text has proven to be a...</td>\n",
       "    </tr>\n",
       "    <tr>\n",
       "      <th>24472</th>\n",
       "      <td>arxiv.org/abs/1709.04577</td>\n",
       "      <td>DeepVoting: An Explainable Framework for Seman...</td>\n",
       "      <td>In this paper, we study the task of detecting ...</td>\n",
       "    </tr>\n",
       "    <tr>\n",
       "      <th>9201</th>\n",
       "      <td>arxiv.org/abs/1703.08595</td>\n",
       "      <td>Low Precision Neural Networks using Subband De...</td>\n",
       "      <td>Large-scale deep neural networks (DNN) have be...</td>\n",
       "    </tr>\n",
       "    <tr>\n",
       "      <th>24148</th>\n",
       "      <td>arxiv.org/abs/1709.03423</td>\n",
       "      <td>Ensemble Methods as a Defense to Adversarial P...</td>\n",
       "      <td>Deep learning has become the state of the art ...</td>\n",
       "    </tr>\n",
       "    <tr>\n",
       "      <th>26655</th>\n",
       "      <td>arxiv.org/abs/1710.02095</td>\n",
       "      <td>Machine Translation Evaluation with Neural Net...</td>\n",
       "      <td>We present a framework for machine translation...</td>\n",
       "    </tr>\n",
       "  </tbody>\n",
       "</table>\n",
       "</div>"
      ],
      "text/plain": [
       "                           link  \\\n",
       "7363   arxiv.org/abs/1703.01703   \n",
       "18948  arxiv.org/abs/1707.04615   \n",
       "27079  arxiv.org/abs/1710.03804   \n",
       "26327  arxiv.org/abs/1710.00641   \n",
       "26608  arxiv.org/abs/1710.01916   \n",
       "26262  arxiv.org/abs/1710.00421   \n",
       "24472  arxiv.org/abs/1709.04577   \n",
       "9201   arxiv.org/abs/1703.08595   \n",
       "24148  arxiv.org/abs/1709.03423   \n",
       "26655  arxiv.org/abs/1710.02095   \n",
       "\n",
       "                                                   title  \\\n",
       "7363                     Third-Person Imitation Learning   \n",
       "18948      On the Complexity of Learning Neural Networks   \n",
       "27079  End-to-End Deep Learning for Steering Autonomo...   \n",
       "26327  Improving speech recognition by revising gated...   \n",
       "26608  A self-organizing neural network architecture ...   \n",
       "26262                         Video Generation From Text   \n",
       "24472  DeepVoting: An Explainable Framework for Seman...   \n",
       "9201   Low Precision Neural Networks using Subband De...   \n",
       "24148  Ensemble Methods as a Defense to Adversarial P...   \n",
       "26655  Machine Translation Evaluation with Neural Net...   \n",
       "\n",
       "                                                 summary  \n",
       "7363   Reinforcement learning (RL) makes it possible ...  \n",
       "18948  The stunning empirical successes of neural net...  \n",
       "27079  Steering a car through traffic is a complex ta...  \n",
       "26327  Speech recognition is largely taking advantage...  \n",
       "26608  The visual recognition of transitive actions c...  \n",
       "26262  Generating videos from text has proven to be a...  \n",
       "24472  In this paper, we study the task of detecting ...  \n",
       "9201   Large-scale deep neural networks (DNN) have be...  \n",
       "24148  Deep learning has become the state of the art ...  \n",
       "26655  We present a framework for machine translation...  "
      ]
     },
     "execution_count": 19,
     "metadata": {},
     "output_type": "execute_result"
    }
   ],
   "source": [
    "incorrect_yes = np.where((preds != val_y) & (val_y == 0))[0]\n",
    "most_incorrect_yes = np.argsort(-probs[incorrect_yes])\n",
    "txts = df_val.iloc[incorrect_yes[most_incorrect_yes[:10]]]\n",
    "txts[[\"link\", \"title\", \"summary\"]]"
   ]
  },
  {
   "cell_type": "code",
   "execution_count": 20,
   "metadata": {
    "scrolled": true
   },
   "outputs": [
    {
     "data": {
      "text/plain": [
       "'arxiv.org/abs/1703.01703 arxiv.org/abs/1707.04615 arxiv.org/abs/1710.03804 arxiv.org/abs/1710.00641 arxiv.org/abs/1710.01916 arxiv.org/abs/1710.00421 arxiv.org/abs/1709.04577 arxiv.org/abs/1703.08595 arxiv.org/abs/1709.03423 arxiv.org/abs/1710.02095'"
      ]
     },
     "execution_count": 20,
     "metadata": {},
     "output_type": "execute_result"
    }
   ],
   "source": [
    "' '.join(txts.link.values)"
   ]
  },
  {
   "cell_type": "code",
   "execution_count": 21,
   "metadata": {},
   "outputs": [],
   "source": [
    "incorrect_no = np.where((preds != val_y) & (val_y == 1))[0]\n",
    "most_incorrect_no = np.argsort(probs[incorrect_no])\n",
    "txts = df_val.iloc[incorrect_no[most_incorrect_no[:10]]]"
   ]
  },
  {
   "cell_type": "code",
   "execution_count": 22,
   "metadata": {},
   "outputs": [
    {
     "data": {
      "text/html": [
       "<div>\n",
       "<style scoped>\n",
       "    .dataframe tbody tr th:only-of-type {\n",
       "        vertical-align: middle;\n",
       "    }\n",
       "\n",
       "    .dataframe tbody tr th {\n",
       "        vertical-align: top;\n",
       "    }\n",
       "\n",
       "    .dataframe thead th {\n",
       "        text-align: right;\n",
       "    }\n",
       "</style>\n",
       "<table border=\"1\" class=\"dataframe\">\n",
       "  <thead>\n",
       "    <tr style=\"text-align: right;\">\n",
       "      <th></th>\n",
       "      <th>link</th>\n",
       "      <th>title</th>\n",
       "      <th>summary</th>\n",
       "    </tr>\n",
       "  </thead>\n",
       "  <tbody>\n",
       "    <tr>\n",
       "      <th>5211</th>\n",
       "      <td>arxiv.org/abs/1702.03152</td>\n",
       "      <td>A Variation of Levin Search for All Well-Defin...</td>\n",
       "      <td>In 1973, L.A. Levin published an algorithm tha...</td>\n",
       "    </tr>\n",
       "    <tr>\n",
       "      <th>5561</th>\n",
       "      <td>arxiv.org/abs/1702.04565</td>\n",
       "      <td>The Accuracy-Privacy Tradeoff of Mobile Crowds...</td>\n",
       "      <td>Mobile crowdsensing has emerged as an efficien...</td>\n",
       "    </tr>\n",
       "    <tr>\n",
       "      <th>17196</th>\n",
       "      <td>arxiv.org/abs/1706.08431</td>\n",
       "      <td>Bounds on the Satisfiability Threshold for Pow...</td>\n",
       "      <td>Propositional satisfiability (SAT) is one of t...</td>\n",
       "    </tr>\n",
       "    <tr>\n",
       "      <th>14475</th>\n",
       "      <td>arxiv.org/abs/1705.09328</td>\n",
       "      <td>Operation Frames and Clubs in Kidney Exchange</td>\n",
       "      <td>A kidney exchange is a centrally-administered ...</td>\n",
       "    </tr>\n",
       "    <tr>\n",
       "      <th>17996</th>\n",
       "      <td>arxiv.org/abs/1707.01123</td>\n",
       "      <td>LittleDarwin: a Feature-Rich and Extensible Mu...</td>\n",
       "      <td>Mutation testing is a well-studied method for ...</td>\n",
       "    </tr>\n",
       "    <tr>\n",
       "      <th>16551</th>\n",
       "      <td>arxiv.org/abs/1706.05858</td>\n",
       "      <td>Feature analysis of multidisciplinary scientif...</td>\n",
       "      <td>The features of collaboration behaviors are of...</td>\n",
       "    </tr>\n",
       "    <tr>\n",
       "      <th>17956</th>\n",
       "      <td>arxiv.org/abs/1707.00936</td>\n",
       "      <td>Window-of-interest based Multi-objective Evolu...</td>\n",
       "      <td>The set-based concept approach has been sugges...</td>\n",
       "    </tr>\n",
       "    <tr>\n",
       "      <th>6309</th>\n",
       "      <td>arxiv.org/abs/1702.07195</td>\n",
       "      <td>First Experiences Optimizing Smith-Waterman on...</td>\n",
       "      <td>The well-known Smith-Waterman (SW) algorithm i...</td>\n",
       "    </tr>\n",
       "    <tr>\n",
       "      <th>23216</th>\n",
       "      <td>arxiv.org/abs/1709.00092</td>\n",
       "      <td>RANK: Large-Scale Inference with Graphical Non...</td>\n",
       "      <td>Power and reproducibility are key to enabling ...</td>\n",
       "    </tr>\n",
       "    <tr>\n",
       "      <th>3710</th>\n",
       "      <td>arxiv.org/abs/1701.06246</td>\n",
       "      <td>Neural network representation of tensor networ...</td>\n",
       "      <td>We study the representational power of a Boltz...</td>\n",
       "    </tr>\n",
       "  </tbody>\n",
       "</table>\n",
       "</div>"
      ],
      "text/plain": [
       "                           link  \\\n",
       "5211   arxiv.org/abs/1702.03152   \n",
       "5561   arxiv.org/abs/1702.04565   \n",
       "17196  arxiv.org/abs/1706.08431   \n",
       "14475  arxiv.org/abs/1705.09328   \n",
       "17996  arxiv.org/abs/1707.01123   \n",
       "16551  arxiv.org/abs/1706.05858   \n",
       "17956  arxiv.org/abs/1707.00936   \n",
       "6309   arxiv.org/abs/1702.07195   \n",
       "23216  arxiv.org/abs/1709.00092   \n",
       "3710   arxiv.org/abs/1701.06246   \n",
       "\n",
       "                                                   title  \\\n",
       "5211   A Variation of Levin Search for All Well-Defin...   \n",
       "5561   The Accuracy-Privacy Tradeoff of Mobile Crowds...   \n",
       "17196  Bounds on the Satisfiability Threshold for Pow...   \n",
       "14475      Operation Frames and Clubs in Kidney Exchange   \n",
       "17996  LittleDarwin: a Feature-Rich and Extensible Mu...   \n",
       "16551  Feature analysis of multidisciplinary scientif...   \n",
       "17956  Window-of-interest based Multi-objective Evolu...   \n",
       "6309   First Experiences Optimizing Smith-Waterman on...   \n",
       "23216  RANK: Large-Scale Inference with Graphical Non...   \n",
       "3710   Neural network representation of tensor networ...   \n",
       "\n",
       "                                                 summary  \n",
       "5211   In 1973, L.A. Levin published an algorithm tha...  \n",
       "5561   Mobile crowdsensing has emerged as an efficien...  \n",
       "17196  Propositional satisfiability (SAT) is one of t...  \n",
       "14475  A kidney exchange is a centrally-administered ...  \n",
       "17996  Mutation testing is a well-studied method for ...  \n",
       "16551  The features of collaboration behaviors are of...  \n",
       "17956  The set-based concept approach has been sugges...  \n",
       "6309   The well-known Smith-Waterman (SW) algorithm i...  \n",
       "23216  Power and reproducibility are key to enabling ...  \n",
       "3710   We study the representational power of a Boltz...  "
      ]
     },
     "execution_count": 22,
     "metadata": {},
     "output_type": "execute_result"
    }
   ],
   "source": [
    "txts[[\"link\", \"title\", \"summary\"]]"
   ]
  },
  {
   "cell_type": "code",
   "execution_count": 23,
   "metadata": {
    "scrolled": false
   },
   "outputs": [
    {
     "data": {
      "text/plain": [
       "'arxiv.org/abs/1702.03152 arxiv.org/abs/1702.04565 arxiv.org/abs/1706.08431 arxiv.org/abs/1705.09328 arxiv.org/abs/1707.01123 arxiv.org/abs/1706.05858 arxiv.org/abs/1707.00936 arxiv.org/abs/1702.07195 arxiv.org/abs/1709.00092 arxiv.org/abs/1701.06246'"
      ]
     },
     "execution_count": 23,
     "metadata": {},
     "output_type": "execute_result"
    }
   ],
   "source": [
    "' '.join(txts.link.values)"
   ]
  },
  {
   "cell_type": "code",
   "execution_count": 24,
   "metadata": {},
   "outputs": [],
   "source": [
    "to_review = np.where((preds > 0.8) & (val_y == 0))[0]\n",
    "to_review_idx = np.argsort(-probs[to_review])\n",
    "txts = df_val.iloc[to_review[to_review_idx]]"
   ]
  },
  {
   "cell_type": "code",
   "execution_count": 25,
   "metadata": {},
   "outputs": [],
   "source": [
    "txt_html = ('<li><a href=\"http://' + txts.link + '\">' + txts.title.str.replace('\\n',' ') + '</a>: ' \n",
    "    + txts.summary.str.replace('\\n',' ') + '</li>').values"
   ]
  },
  {
   "cell_type": "code",
   "execution_count": 26,
   "metadata": {
    "scrolled": true
   },
   "outputs": [],
   "source": [
    "full_html = (f\"\"\"<!DOCTYPE html>\n",
    "<html>\n",
    "<head><title>Brundage Bot Backfill</title></head>\n",
    "<body>\n",
    "<ul>\n",
    "{os.linesep.join(txt_html)}\n",
    "</ul>\n",
    "</body>\n",
    "</html>\"\"\")"
   ]
  },
  {
   "cell_type": "markdown",
   "metadata": {},
   "source": [
    "## Learner"
   ]
  },
  {
   "cell_type": "code",
   "execution_count": 27,
   "metadata": {},
   "outputs": [],
   "source": [
    "veczr = CountVectorizer(ngram_range=(1,3), tokenizer=tokenize, max_features=vocab_size)\n",
    "\n",
    "trn_term_doc = veczr.fit_transform(trn)\n",
    "val_term_doc = veczr.transform(val)"
   ]
  },
  {
   "cell_type": "code",
   "execution_count": 28,
   "metadata": {},
   "outputs": [
    {
     "data": {
      "text/plain": [
       "((24470, 200000), 10263165)"
      ]
     },
     "execution_count": 28,
     "metadata": {},
     "output_type": "execute_result"
    }
   ],
   "source": [
    "trn_term_doc.shape, trn_term_doc.sum()"
   ]
  },
  {
   "cell_type": "code",
   "execution_count": 29,
   "metadata": {},
   "outputs": [],
   "source": [
    "md = TextClassifierData.from_bow(trn_term_doc, trn_y, val_term_doc, val_y, sl)"
   ]
  },
  {
   "cell_type": "code",
   "execution_count": 30,
   "metadata": {},
   "outputs": [],
   "source": [
    "learner = md.dotprod_nb_learner(r_adj=20)"
   ]
  },
  {
   "cell_type": "code",
   "execution_count": null,
   "metadata": {},
   "outputs": [],
   "source": [
    "# http://forums.fast.ai/t/howto-installation-on-windows/10439/87\n",
    "\n",
    "# You have to change code in fastai/metrics.py\n",
    "\n",
    "# Before\n",
    "#def accuracy_multi(preds, targs, thresh):\n",
    "#    return ((preds>thresh)==targs).float().mean()\n",
    "\n",
    "# After\n",
    "#def accuracy_multi(preds, targs, thresh):\n",
    "#    return ((preds>thresh).float()==targs).float().mean()"
   ]
  },
  {
   "cell_type": "code",
   "execution_count": 31,
   "metadata": {
    "scrolled": false
   },
   "outputs": [
    {
     "data": {
      "application/vnd.jupyter.widget-view+json": {
       "model_id": "fd2b8c8b61024733a79bd1512ebf6c06",
       "version_major": 2,
       "version_minor": 0
      },
      "text/html": [
       "<p>Failed to display Jupyter Widget of type <code>HBox</code>.</p>\n",
       "<p>\n",
       "  If you're reading this message in the Jupyter Notebook or JupyterLab Notebook, it may mean\n",
       "  that the widgets JavaScript is still loading. If this message persists, it\n",
       "  likely means that the widgets JavaScript library is either not installed or\n",
       "  not enabled. See the <a href=\"https://ipywidgets.readthedocs.io/en/stable/user_install.html\">Jupyter\n",
       "  Widgets Documentation</a> for setup instructions.\n",
       "</p>\n",
       "<p>\n",
       "  If you're reading this message in another frontend (for example, a static\n",
       "  rendering on GitHub or <a href=\"https://nbviewer.jupyter.org/\">NBViewer</a>),\n",
       "  it may mean that your frontend doesn't currently support widgets.\n",
       "</p>\n"
      ],
      "text/plain": [
       "HBox(children=(IntProgress(value=0, description='Epoch', max=4), HTML(value='')))"
      ]
     },
     "metadata": {},
     "output_type": "display_data"
    },
    {
     "name": "stdout",
     "output_type": "stream",
     "text": [
      "epoch      trn_loss   val_loss   <lambda>                    \n",
      "    0      0.140635   0.176054   0.85063   \n",
      "    1      0.112717   0.171411   0.852859                    \n",
      "    2      0.097802   0.170575   0.849225                     \n",
      "    3      0.079685   0.170403   0.847723                     \n",
      "\n"
     ]
    },
    {
     "data": {
      "text/plain": [
       "[0.17040315, 0.8477228685866954]"
      ]
     },
     "execution_count": 31,
     "metadata": {},
     "output_type": "execute_result"
    }
   ],
   "source": [
    "learner.fit(0.02, 4, wds=1e-6, cycle_len=1)"
   ]
  },
  {
   "cell_type": "code",
   "execution_count": 32,
   "metadata": {},
   "outputs": [],
   "source": [
    "from sklearn.metrics import precision_recall_curve\n",
    "import matplotlib.pyplot as plt\n",
    "\n",
    "def prec_at_6(preds,targs):\n",
    "    precision, recall, _ = precision_recall_curve(targs[:,1], preds[:,1])\n",
    "    return recall[precision>=0.6][0]"
   ]
  },
  {
   "cell_type": "code",
   "execution_count": 33,
   "metadata": {},
   "outputs": [
    {
     "data": {
      "text/plain": [
       "0.6994535519125683"
      ]
     },
     "execution_count": 33,
     "metadata": {},
     "output_type": "execute_result"
    }
   ],
   "source": [
    "prec_at_6(*learner.predict_with_targs())"
   ]
  },
  {
   "cell_type": "code",
   "execution_count": null,
   "metadata": {
    "collapsed": true
   },
   "outputs": [],
   "source": []
  }
 ],
 "metadata": {
  "kernelspec": {
   "display_name": "Python 3",
   "language": "python",
   "name": "python3"
  },
  "language_info": {
   "codemirror_mode": {
    "name": "ipython",
    "version": 3
   },
   "file_extension": ".py",
   "mimetype": "text/x-python",
   "name": "python",
   "nbconvert_exporter": "python",
   "pygments_lexer": "ipython3",
   "version": "3.6.4"
  },
  "toc": {
   "colors": {
    "hover_highlight": "#DAA520",
    "navigate_num": "#000000",
    "navigate_text": "#333333",
    "running_highlight": "#FF0000",
    "selected_highlight": "#FFD700",
    "sidebar_border": "#EEEEEE",
    "wrapper_background": "#FFFFFF"
   },
   "moveMenuLeft": true,
   "nav_menu": {
    "height": "104px",
    "width": "251px"
   },
   "navigate_menu": true,
   "number_sections": true,
   "sideBar": true,
   "threshold": 4,
   "toc_cell": false,
   "toc_section_display": "block",
   "toc_window_display": false,
   "widenNotebook": false
  },
  "widgets": {
   "application/vnd.jupyter.widget-state+json": {
    "state": {
     "36fb6b884df448819554d6b3438f5de4": {
      "model_module": "@jupyter-widgets/controls",
      "model_module_version": "1.1.0",
      "model_name": "ProgressStyleModel",
      "state": {
       "description_width": ""
      }
     },
     "3c1401360b2f460597e44a5582bf150f": {
      "model_module": "@jupyter-widgets/base",
      "model_module_version": "1.0.0",
      "model_name": "LayoutModel",
      "state": {}
     },
     "43ad4438adec49239f447312905d4c51": {
      "model_module": "@jupyter-widgets/base",
      "model_module_version": "1.0.0",
      "model_name": "LayoutModel",
      "state": {}
     },
     "5769df0328eb431a8b1b036c1582e4f1": {
      "model_module": "@jupyter-widgets/base",
      "model_module_version": "1.0.0",
      "model_name": "LayoutModel",
      "state": {}
     },
     "60538e934c7c4a9889f3cbc64de5a51f": {
      "model_module": "@jupyter-widgets/controls",
      "model_module_version": "1.1.0",
      "model_name": "IntProgressModel",
      "state": {
       "bar_style": "success",
       "description": "Epoch",
       "layout": "IPY_MODEL_5769df0328eb431a8b1b036c1582e4f1",
       "max": 4,
       "style": "IPY_MODEL_36fb6b884df448819554d6b3438f5de4",
       "value": 4
      }
     },
     "9f0789339d244489966f70af84760d87": {
      "model_module": "@jupyter-widgets/controls",
      "model_module_version": "1.1.0",
      "model_name": "DescriptionStyleModel",
      "state": {
       "description_width": ""
      }
     },
     "d490880300fe4522a1f3624cb2ceb1f3": {
      "model_module": "@jupyter-widgets/controls",
      "model_module_version": "1.1.0",
      "model_name": "HTMLModel",
      "state": {
       "layout": "IPY_MODEL_3c1401360b2f460597e44a5582bf150f",
       "style": "IPY_MODEL_9f0789339d244489966f70af84760d87",
       "value": "100% 4/4 [01:05&lt;00:00, 16.49s/it]"
      }
     },
     "fd2b8c8b61024733a79bd1512ebf6c06": {
      "model_module": "@jupyter-widgets/controls",
      "model_module_version": "1.1.0",
      "model_name": "HBoxModel",
      "state": {
       "children": [
        "IPY_MODEL_60538e934c7c4a9889f3cbc64de5a51f",
        "IPY_MODEL_d490880300fe4522a1f3624cb2ceb1f3"
       ],
       "layout": "IPY_MODEL_43ad4438adec49239f447312905d4c51"
      }
     }
    },
    "version_major": 2,
    "version_minor": 0
   }
  }
 },
 "nbformat": 4,
 "nbformat_minor": 2
}
