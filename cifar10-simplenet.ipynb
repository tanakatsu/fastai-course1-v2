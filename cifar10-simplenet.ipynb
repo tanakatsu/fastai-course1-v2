{
 "cells": [
  {
   "cell_type": "markdown",
   "metadata": {},
   "source": [
    "## CIFAR 10"
   ]
  },
  {
   "cell_type": "code",
   "execution_count": 1,
   "metadata": {},
   "outputs": [],
   "source": [
    "%matplotlib inline\n",
    "%reload_ext autoreload\n",
    "%autoreload 2"
   ]
  },
  {
   "cell_type": "code",
   "execution_count": 2,
   "metadata": {},
   "outputs": [],
   "source": [
    "from pathlib import Path"
   ]
  },
  {
   "cell_type": "code",
   "execution_count": 3,
   "metadata": {},
   "outputs": [],
   "source": [
    "from fastai.conv_learner import *\n",
    "# PATH = Path(\"data/cifar10/\")\n",
    "PATH = \"data/cifar10/\""
   ]
  },
  {
   "cell_type": "code",
   "execution_count": 4,
   "metadata": {},
   "outputs": [],
   "source": [
    "bs=64\n",
    "sz=32"
   ]
  },
  {
   "cell_type": "code",
   "execution_count": 5,
   "metadata": {},
   "outputs": [],
   "source": [
    "tfms = tfms_from_model(resnet18, sz, aug_tfms=[RandomFlip()], pad=sz//8)\n",
    "# data = ImageClassifierData.from_csv(PATH, 'train', PATH/'train.csv', tfms=tfms, bs=bs)\n",
    "data = ImageClassifierData.from_paths(PATH, val_name='test', tfms=tfms, bs=bs)"
   ]
  },
  {
   "cell_type": "code",
   "execution_count": 6,
   "metadata": {},
   "outputs": [],
   "source": [
    "learn = ConvLearner.pretrained(resnet18, data)"
   ]
  },
  {
   "cell_type": "code",
   "execution_count": 7,
   "metadata": {},
   "outputs": [],
   "source": [
    "lr=1e-2; wd=1e-5"
   ]
  },
  {
   "cell_type": "code",
   "execution_count": 8,
   "metadata": {},
   "outputs": [
    {
     "data": {
      "application/vnd.jupyter.widget-view+json": {
       "model_id": "bec0f97cbb264236a72dcd5440bf26a2",
       "version_major": 2,
       "version_minor": 0
      },
      "text/html": [
       "<p>Failed to display Jupyter Widget of type <code>HBox</code>.</p>\n",
       "<p>\n",
       "  If you're reading this message in the Jupyter Notebook or JupyterLab Notebook, it may mean\n",
       "  that the widgets JavaScript is still loading. If this message persists, it\n",
       "  likely means that the widgets JavaScript library is either not installed or\n",
       "  not enabled. See the <a href=\"https://ipywidgets.readthedocs.io/en/stable/user_install.html\">Jupyter\n",
       "  Widgets Documentation</a> for setup instructions.\n",
       "</p>\n",
       "<p>\n",
       "  If you're reading this message in another frontend (for example, a static\n",
       "  rendering on GitHub or <a href=\"https://nbviewer.jupyter.org/\">NBViewer</a>),\n",
       "  it may mean that your frontend doesn't currently support widgets.\n",
       "</p>\n"
      ],
      "text/plain": [
       "HBox(children=(IntProgress(value=0, description='Epoch', max=1), HTML(value='')))"
      ]
     },
     "metadata": {},
     "output_type": "display_data"
    },
    {
     "name": "stdout",
     "output_type": "stream",
     "text": [
      " 83%|████████▎ | 650/782 [00:49<00:10, 13.11it/s, loss=6.38]"
     ]
    },
    {
     "data": {
      "image/png": "[encoded data removed]",
      "text/plain": [
       "<matplotlib.figure.Figure at 0x7f6a3e710208>"
      ]
     },
     "metadata": {},
     "output_type": "display_data"
    },
    {
     "name": "stdout",
     "output_type": "stream",
     "text": [
      "\r",
      " 83%|████████▎ | 650/782 [01:00<00:12, 10.82it/s, loss=6.38]"
     ]
    }
   ],
   "source": [
    "learn.lr_find()\n",
    "learn.sched.plot()"
   ]
  },
  {
   "cell_type": "code",
   "execution_count": 9,
   "metadata": {},
   "outputs": [
    {
     "data": {
      "application/vnd.jupyter.widget-view+json": {
       "model_id": "08937833c9ae4fe4a46ecf128fe17eb2",
       "version_major": 2,
       "version_minor": 0
      },
      "text/html": [
       "<p>Failed to display Jupyter Widget of type <code>HBox</code>.</p>\n",
       "<p>\n",
       "  If you're reading this message in the Jupyter Notebook or JupyterLab Notebook, it may mean\n",
       "  that the widgets JavaScript is still loading. If this message persists, it\n",
       "  likely means that the widgets JavaScript library is either not installed or\n",
       "  not enabled. See the <a href=\"https://ipywidgets.readthedocs.io/en/stable/user_install.html\">Jupyter\n",
       "  Widgets Documentation</a> for setup instructions.\n",
       "</p>\n",
       "<p>\n",
       "  If you're reading this message in another frontend (for example, a static\n",
       "  rendering on GitHub or <a href=\"https://nbviewer.jupyter.org/\">NBViewer</a>),\n",
       "  it may mean that your frontend doesn't currently support widgets.\n",
       "</p>\n"
      ],
      "text/plain": [
       "HBox(children=(IntProgress(value=0, description='Epoch', max=1), HTML(value='')))"
      ]
     },
     "metadata": {},
     "output_type": "display_data"
    },
    {
     "name": "stdout",
     "output_type": "stream",
     "text": [
      " 13%|█▎        | 99/782 [00:04<00:30, 22.11it/s, loss=1.77] \n",
      " 13%|█▎        | 105/782 [00:04<00:29, 22.58it/s, loss=1.76]"
     ]
    },
    {
     "name": "stderr",
     "output_type": "stream",
     "text": [
      "Exception in thread Thread-4:\n",
      "Traceback (most recent call last):\n",
      "  File \"/home/ubuntu/anaconda3/envs/fastai/lib/python3.6/threading.py\", line 916, in _bootstrap_inner\n",
      "    self.run()\n",
      "  File \"/home/ubuntu/anaconda3/envs/fastai/lib/python3.6/site-packages/tqdm/_tqdm.py\", line 144, in run\n",
      "    for instance in self.tqdm_cls._instances:\n",
      "  File \"/home/ubuntu/anaconda3/envs/fastai/lib/python3.6/_weakrefset.py\", line 60, in __iter__\n",
      "    for itemref in self.data:\n",
      "RuntimeError: Set changed size during iteration\n",
      "\n"
     ]
    },
    {
     "name": "stdout",
     "output_type": "stream",
     "text": [
      "epoch      trn_loss   val_loss   accuracy                   \n",
      "    0      1.262726   1.075761   0.62908   \n",
      "\n"
     ]
    },
    {
     "data": {
      "text/plain": [
       "[1.0757606, 0.6290804140127388]"
      ]
     },
     "execution_count": 9,
     "metadata": {},
     "output_type": "execute_result"
    }
   ],
   "source": [
    "learn.fit(lr, 1, cycle_len=1)"
   ]
  },
  {
   "cell_type": "code",
   "execution_count": 10,
   "metadata": {},
   "outputs": [],
   "source": [
    "lrs = np.array([lr/9,lr/3,lr])"
   ]
  },
  {
   "cell_type": "code",
   "execution_count": 11,
   "metadata": {},
   "outputs": [],
   "source": [
    "learn.unfreeze()"
   ]
  },
  {
   "cell_type": "code",
   "execution_count": 12,
   "metadata": {},
   "outputs": [
    {
     "data": {
      "application/vnd.jupyter.widget-view+json": {
       "model_id": "5830585de4604028935045b0fd6e5a66",
       "version_major": 2,
       "version_minor": 0
      },
      "text/html": [
       "<p>Failed to display Jupyter Widget of type <code>HBox</code>.</p>\n",
       "<p>\n",
       "  If you're reading this message in the Jupyter Notebook or JupyterLab Notebook, it may mean\n",
       "  that the widgets JavaScript is still loading. If this message persists, it\n",
       "  likely means that the widgets JavaScript library is either not installed or\n",
       "  not enabled. See the <a href=\"https://ipywidgets.readthedocs.io/en/stable/user_install.html\">Jupyter\n",
       "  Widgets Documentation</a> for setup instructions.\n",
       "</p>\n",
       "<p>\n",
       "  If you're reading this message in another frontend (for example, a static\n",
       "  rendering on GitHub or <a href=\"https://nbviewer.jupyter.org/\">NBViewer</a>),\n",
       "  it may mean that your frontend doesn't currently support widgets.\n",
       "</p>\n"
      ],
      "text/plain": [
       "HBox(children=(IntProgress(value=0, description='Epoch', max=1), HTML(value='')))"
      ]
     },
     "metadata": {},
     "output_type": "display_data"
    },
    {
     "name": "stdout",
     "output_type": "stream",
     "text": [
      " 81%|████████  | 633/782 [00:45<00:10, 13.91it/s, loss=5.6] "
     ]
    },
    {
     "data": {
      "image/png": "[encoded data removed]",
      "text/plain": [
       "<matplotlib.figure.Figure at 0x7f6a3e83e588>"
      ]
     },
     "metadata": {},
     "output_type": "display_data"
    },
    {
     "name": "stdout",
     "output_type": "stream",
     "text": [
      "\r",
      " 81%|████████  | 633/782 [01:00<00:14, 10.54it/s, loss=5.6]"
     ]
    }
   ],
   "source": [
    "learn.lr_find(lrs/1000)\n",
    "learn.sched.plot()"
   ]
  },
  {
   "cell_type": "code",
   "execution_count": 13,
   "metadata": {},
   "outputs": [
    {
     "data": {
      "application/vnd.jupyter.widget-view+json": {
       "model_id": "76cd9666ab3a479987dfad19e390e14c",
       "version_major": 2,
       "version_minor": 0
      },
      "text/html": [
       "<p>Failed to display Jupyter Widget of type <code>HBox</code>.</p>\n",
       "<p>\n",
       "  If you're reading this message in the Jupyter Notebook or JupyterLab Notebook, it may mean\n",
       "  that the widgets JavaScript is still loading. If this message persists, it\n",
       "  likely means that the widgets JavaScript library is either not installed or\n",
       "  not enabled. See the <a href=\"https://ipywidgets.readthedocs.io/en/stable/user_install.html\">Jupyter\n",
       "  Widgets Documentation</a> for setup instructions.\n",
       "</p>\n",
       "<p>\n",
       "  If you're reading this message in another frontend (for example, a static\n",
       "  rendering on GitHub or <a href=\"https://nbviewer.jupyter.org/\">NBViewer</a>),\n",
       "  it may mean that your frontend doesn't currently support widgets.\n",
       "</p>\n"
      ],
      "text/plain": [
       "HBox(children=(IntProgress(value=0, description='Epoch', max=1), HTML(value='')))"
      ]
     },
     "metadata": {},
     "output_type": "display_data"
    },
    {
     "name": "stdout",
     "output_type": "stream",
     "text": [
      "  0%|          | 0/782 [00:00<?, ?it/s]                    \n"
     ]
    },
    {
     "name": "stderr",
     "output_type": "stream",
     "text": [
      "Exception in thread Thread-6:\n",
      "Traceback (most recent call last):\n",
      "  File \"/home/ubuntu/anaconda3/envs/fastai/lib/python3.6/threading.py\", line 916, in _bootstrap_inner\n",
      "    self.run()\n",
      "  File \"/home/ubuntu/anaconda3/envs/fastai/lib/python3.6/site-packages/tqdm/_tqdm.py\", line 144, in run\n",
      "    for instance in self.tqdm_cls._instances:\n",
      "  File \"/home/ubuntu/anaconda3/envs/fastai/lib/python3.6/_weakrefset.py\", line 60, in __iter__\n",
      "    for itemref in self.data:\n",
      "RuntimeError: Set changed size during iteration\n",
      "\n"
     ]
    },
    {
     "name": "stdout",
     "output_type": "stream",
     "text": [
      "epoch      trn_loss   val_loss   accuracy                    \n",
      "    0      0.876793   0.740113   0.743133  \n",
      "\n"
     ]
    },
    {
     "data": {
      "text/plain": [
       "[0.74011254, 0.7431329617834395]"
      ]
     },
     "execution_count": 13,
     "metadata": {},
     "output_type": "execute_result"
    }
   ],
   "source": [
    "learn.fit(lrs, 1, cycle_len=1, wds=wd)"
   ]
  },
  {
   "cell_type": "markdown",
   "metadata": {
    "collapsed": true
   },
   "source": [
    "## Simplenet"
   ]
  },
  {
   "cell_type": "code",
   "execution_count": 14,
   "metadata": {},
   "outputs": [],
   "source": [
    "stats = (np.array([ 0.4914 ,  0.48216,  0.44653]), np.array([ 0.24703,  0.24349,  0.26159])) # mean, std"
   ]
  },
  {
   "cell_type": "code",
   "execution_count": 15,
   "metadata": {},
   "outputs": [],
   "source": [
    "tfms = tfms_from_stats(stats, sz, aug_tfms=[RandomFlip()], pad=sz//8)\n",
    "# data = ImageClassifierData.from_csv(PATH, 'train', PATH/'train.csv', tfms=tfms, bs=bs)\n",
    "data = ImageClassifierData.from_paths(PATH, val_name='test', tfms=tfms, bs=bs)"
   ]
  },
  {
   "cell_type": "code",
   "execution_count": 16,
   "metadata": {},
   "outputs": [],
   "source": [
    "class SimpleConv(nn.Module):\n",
    "    def __init__(self, ic, oc, ks=3, drop=0.2, bn=True):\n",
    "        super().__init__()\n",
    "        self.conv = nn.Conv2d(ic, oc, ks, padding=(ks-1)//2)\n",
    "        self.bn = nn.BatchNorm2d(oc, momentum=0.05) if bn else None\n",
    "        self.drop = nn.Dropout(drop, inplace=True)\n",
    "        self.act = nn.ReLU(True)\n",
    "        \n",
    "    def forward(self, x):\n",
    "        x = self.conv(x)\n",
    "        if self.bn: x = self.bn(x)\n",
    "        return self.drop(self.act(x))"
   ]
  },
  {
   "cell_type": "code",
   "execution_count": 17,
   "metadata": {},
   "outputs": [],
   "source": [
    "net = nn.Sequential(\n",
    "    SimpleConv(3, 64),\n",
    "    SimpleConv(64, 128),\n",
    "    SimpleConv(128, 128),\n",
    "    SimpleConv(128, 128),\n",
    "    nn.MaxPool2d(2),\n",
    "    SimpleConv(128, 128),\n",
    "    SimpleConv(128, 128),\n",
    "    SimpleConv(128, 256),\n",
    "    nn.MaxPool2d(2),\n",
    "    SimpleConv(256, 256),\n",
    "    SimpleConv(256, 256),\n",
    "    nn.MaxPool2d(2),\n",
    "    SimpleConv(256, 512),\n",
    "    SimpleConv(512, 2048, ks=1, bn=False),\n",
    "    SimpleConv(2048, 256, ks=1, bn=False),\n",
    "    nn.MaxPool2d(2),\n",
    "    SimpleConv(256, 256, bn=False, drop=0),\n",
    "    nn.MaxPool2d(2),\n",
    "    Flatten(),\n",
    "    nn.Linear(256, 10)\n",
    ")"
   ]
  },
  {
   "cell_type": "code",
   "execution_count": 18,
   "metadata": {},
   "outputs": [],
   "source": [
    "bm = BasicModel(net.cuda(), name='simplenet')\n",
    "learn = ConvLearner(data, bm)\n",
    "learn.crit = nn.CrossEntropyLoss()\n",
    "learn.opt_fn = optim.Adam\n",
    "learn.unfreeze()\n",
    "learn.metrics=[accuracy]\n",
    "lr = 1e-3\n",
    "wd = 5e-3 # weight decay"
   ]
  },
  {
   "cell_type": "code",
   "execution_count": 19,
   "metadata": {},
   "outputs": [
    {
     "data": {
      "text/plain": [
       "Sequential(\n",
       "  (0): SimpleConv(\n",
       "    (conv): Conv2d (3, 64, kernel_size=(3, 3), stride=(1, 1), padding=(1, 1))\n",
       "    (bn): BatchNorm2d(64, eps=1e-05, momentum=0.05, affine=True)\n",
       "    (drop): Dropout(p=0.2, inplace)\n",
       "    (act): ReLU(inplace)\n",
       "  )\n",
       "  (1): SimpleConv(\n",
       "    (conv): Conv2d (64, 128, kernel_size=(3, 3), stride=(1, 1), padding=(1, 1))\n",
       "    (bn): BatchNorm2d(128, eps=1e-05, momentum=0.05, affine=True)\n",
       "    (drop): Dropout(p=0.2, inplace)\n",
       "    (act): ReLU(inplace)\n",
       "  )\n",
       "  (2): SimpleConv(\n",
       "    (conv): Conv2d (128, 128, kernel_size=(3, 3), stride=(1, 1), padding=(1, 1))\n",
       "    (bn): BatchNorm2d(128, eps=1e-05, momentum=0.05, affine=True)\n",
       "    (drop): Dropout(p=0.2, inplace)\n",
       "    (act): ReLU(inplace)\n",
       "  )\n",
       "  (3): SimpleConv(\n",
       "    (conv): Conv2d (128, 128, kernel_size=(3, 3), stride=(1, 1), padding=(1, 1))\n",
       "    (bn): BatchNorm2d(128, eps=1e-05, momentum=0.05, affine=True)\n",
       "    (drop): Dropout(p=0.2, inplace)\n",
       "    (act): ReLU(inplace)\n",
       "  )\n",
       "  (4): MaxPool2d(kernel_size=(2, 2), stride=(2, 2), dilation=(1, 1))\n",
       "  (5): SimpleConv(\n",
       "    (conv): Conv2d (128, 128, kernel_size=(3, 3), stride=(1, 1), padding=(1, 1))\n",
       "    (bn): BatchNorm2d(128, eps=1e-05, momentum=0.05, affine=True)\n",
       "    (drop): Dropout(p=0.2, inplace)\n",
       "    (act): ReLU(inplace)\n",
       "  )\n",
       "  (6): SimpleConv(\n",
       "    (conv): Conv2d (128, 128, kernel_size=(3, 3), stride=(1, 1), padding=(1, 1))\n",
       "    (bn): BatchNorm2d(128, eps=1e-05, momentum=0.05, affine=True)\n",
       "    (drop): Dropout(p=0.2, inplace)\n",
       "    (act): ReLU(inplace)\n",
       "  )\n",
       "  (7): SimpleConv(\n",
       "    (conv): Conv2d (128, 256, kernel_size=(3, 3), stride=(1, 1), padding=(1, 1))\n",
       "    (bn): BatchNorm2d(256, eps=1e-05, momentum=0.05, affine=True)\n",
       "    (drop): Dropout(p=0.2, inplace)\n",
       "    (act): ReLU(inplace)\n",
       "  )\n",
       "  (8): MaxPool2d(kernel_size=(2, 2), stride=(2, 2), dilation=(1, 1))\n",
       "  (9): SimpleConv(\n",
       "    (conv): Conv2d (256, 256, kernel_size=(3, 3), stride=(1, 1), padding=(1, 1))\n",
       "    (bn): BatchNorm2d(256, eps=1e-05, momentum=0.05, affine=True)\n",
       "    (drop): Dropout(p=0.2, inplace)\n",
       "    (act): ReLU(inplace)\n",
       "  )\n",
       "  (10): SimpleConv(\n",
       "    (conv): Conv2d (256, 256, kernel_size=(3, 3), stride=(1, 1), padding=(1, 1))\n",
       "    (bn): BatchNorm2d(256, eps=1e-05, momentum=0.05, affine=True)\n",
       "    (drop): Dropout(p=0.2, inplace)\n",
       "    (act): ReLU(inplace)\n",
       "  )\n",
       "  (11): MaxPool2d(kernel_size=(2, 2), stride=(2, 2), dilation=(1, 1))\n",
       "  (12): SimpleConv(\n",
       "    (conv): Conv2d (256, 512, kernel_size=(3, 3), stride=(1, 1), padding=(1, 1))\n",
       "    (bn): BatchNorm2d(512, eps=1e-05, momentum=0.05, affine=True)\n",
       "    (drop): Dropout(p=0.2, inplace)\n",
       "    (act): ReLU(inplace)\n",
       "  )\n",
       "  (13): SimpleConv(\n",
       "    (conv): Conv2d (512, 2048, kernel_size=(1, 1), stride=(1, 1))\n",
       "    (drop): Dropout(p=0.2, inplace)\n",
       "    (act): ReLU(inplace)\n",
       "  )\n",
       "  (14): SimpleConv(\n",
       "    (conv): Conv2d (2048, 256, kernel_size=(1, 1), stride=(1, 1))\n",
       "    (drop): Dropout(p=0.2, inplace)\n",
       "    (act): ReLU(inplace)\n",
       "  )\n",
       "  (15): MaxPool2d(kernel_size=(2, 2), stride=(2, 2), dilation=(1, 1))\n",
       "  (16): SimpleConv(\n",
       "    (conv): Conv2d (256, 256, kernel_size=(3, 3), stride=(1, 1), padding=(1, 1))\n",
       "    (drop): Dropout(p=0, inplace)\n",
       "    (act): ReLU(inplace)\n",
       "  )\n",
       "  (17): MaxPool2d(kernel_size=(2, 2), stride=(2, 2), dilation=(1, 1))\n",
       "  (18): Flatten(\n",
       "  )\n",
       "  (19): Linear(in_features=256, out_features=10)\n",
       ")"
      ]
     },
     "execution_count": 19,
     "metadata": {},
     "output_type": "execute_result"
    }
   ],
   "source": [
    "learn"
   ]
  },
  {
   "cell_type": "code",
   "execution_count": 29,
   "metadata": {},
   "outputs": [],
   "source": [
    "#sgd mom\n",
    "learn.lr_find()\n",
    "learn.sched.plot()"
   ]
  },
  {
   "cell_type": "code",
   "execution_count": 20,
   "metadata": {},
   "outputs": [
    {
     "data": {
      "application/vnd.jupyter.widget-view+json": {
       "model_id": "f695c3d770bf4d0098f9605582bf4405",
       "version_major": 2,
       "version_minor": 0
      },
      "text/html": [
       "<p>Failed to display Jupyter Widget of type <code>HBox</code>.</p>\n",
       "<p>\n",
       "  If you're reading this message in the Jupyter Notebook or JupyterLab Notebook, it may mean\n",
       "  that the widgets JavaScript is still loading. If this message persists, it\n",
       "  likely means that the widgets JavaScript library is either not installed or\n",
       "  not enabled. See the <a href=\"https://ipywidgets.readthedocs.io/en/stable/user_install.html\">Jupyter\n",
       "  Widgets Documentation</a> for setup instructions.\n",
       "</p>\n",
       "<p>\n",
       "  If you're reading this message in another frontend (for example, a static\n",
       "  rendering on GitHub or <a href=\"https://nbviewer.jupyter.org/\">NBViewer</a>),\n",
       "  it may mean that your frontend doesn't currently support widgets.\n",
       "</p>\n"
      ],
      "text/plain": [
       "HBox(children=(IntProgress(value=0, description='Epoch', max=1), HTML(value='')))"
      ]
     },
     "metadata": {},
     "output_type": "display_data"
    },
    {
     "name": "stdout",
     "output_type": "stream",
     "text": [
      " 70%|██████▉   | 546/782 [02:39<01:09,  3.41it/s, loss=11.6]"
     ]
    },
    {
     "data": {
      "image/png": "[encoded data removed]",
      "text/plain": [
       "<matplotlib.figure.Figure at 0x7f6a3e8c9b00>"
      ]
     },
     "metadata": {},
     "output_type": "display_data"
    }
   ],
   "source": [
    "#adam\n",
    "learn.lr_find()\n",
    "learn.sched.plot()"
   ]
  },
  {
   "cell_type": "code",
   "execution_count": 21,
   "metadata": {
    "scrolled": true
   },
   "outputs": [
    {
     "data": {
      "application/vnd.jupyter.widget-view+json": {
       "model_id": "c1ecf57f45b641678ee2617c77ae146a",
       "version_major": 2,
       "version_minor": 0
      },
      "text/html": [
       "<p>Failed to display Jupyter Widget of type <code>HBox</code>.</p>\n",
       "<p>\n",
       "  If you're reading this message in the Jupyter Notebook or JupyterLab Notebook, it may mean\n",
       "  that the widgets JavaScript is still loading. If this message persists, it\n",
       "  likely means that the widgets JavaScript library is either not installed or\n",
       "  not enabled. See the <a href=\"https://ipywidgets.readthedocs.io/en/stable/user_install.html\">Jupyter\n",
       "  Widgets Documentation</a> for setup instructions.\n",
       "</p>\n",
       "<p>\n",
       "  If you're reading this message in another frontend (for example, a static\n",
       "  rendering on GitHub or <a href=\"https://nbviewer.jupyter.org/\">NBViewer</a>),\n",
       "  it may mean that your frontend doesn't currently support widgets.\n",
       "</p>\n"
      ],
      "text/plain": [
       "HBox(children=(IntProgress(value=0, description='Epoch', max=20), HTML(value='')))"
      ]
     },
     "metadata": {},
     "output_type": "display_data"
    },
    {
     "name": "stdout",
     "output_type": "stream",
     "text": [
      "  0%|          | 1/782 [00:00<06:50,  1.90it/s, loss=2.3]   \n",
      "  0%|          | 2/782 [00:00<05:33,  2.34it/s, loss=2.31]"
     ]
    },
    {
     "name": "stderr",
     "output_type": "stream",
     "text": [
      "Exception in thread Thread-8:\n",
      "Traceback (most recent call last):\n",
      "  File \"/home/ubuntu/anaconda3/envs/fastai/lib/python3.6/threading.py\", line 916, in _bootstrap_inner\n",
      "    self.run()\n",
      "  File \"/home/ubuntu/anaconda3/envs/fastai/lib/python3.6/site-packages/tqdm/_tqdm.py\", line 144, in run\n",
      "    for instance in self.tqdm_cls._instances:\n",
      "  File \"/home/ubuntu/anaconda3/envs/fastai/lib/python3.6/_weakrefset.py\", line 60, in __iter__\n",
      "    for itemref in self.data:\n",
      "RuntimeError: Set changed size during iteration\n",
      "\n"
     ]
    },
    {
     "name": "stdout",
     "output_type": "stream",
     "text": [
      "epoch      trn_loss   val_loss   accuracy                   \n",
      "    0      1.396808   2.200464   0.221736  \n",
      "    1      1.281023   1.721185   0.384156                   \n",
      "    2      1.103166   1.289547   0.566083                   \n",
      "    3      1.029159   1.188055   0.63127                    \n",
      "    4      0.972705   1.201576   0.598229                    \n",
      "    5      0.888741   1.00833    0.674662                    \n",
      "    6      0.829941   1.040527   0.655155                    \n",
      "    7      0.831834   1.090695   0.648288                    \n",
      "    8      0.79633    1.056619   0.656748                    \n",
      "    9      0.750656   0.827721   0.746616                    \n",
      "    10     0.740221   0.847332   0.744825                    \n",
      "    11     0.701216   0.79686    0.760251                    \n",
      "    12     0.683933   0.783731   0.762042                    \n",
      "    13     0.656835   0.722586   0.794686                    \n",
      "    14     0.612873   0.686297   0.797273                    \n",
      "    15     0.594434   0.66308    0.809415                    \n",
      "    16     0.572412   0.659002   0.806131                    \n",
      "    17     0.549894   0.623492   0.815187                    \n",
      "    18     0.504281   0.567398   0.829717                    \n",
      "    19     0.465339   0.531137   0.847631                    \n",
      "\n"
     ]
    },
    {
     "data": {
      "text/plain": [
       "[0.5311367, 0.8476313694267515]"
      ]
     },
     "execution_count": 21,
     "metadata": {},
     "output_type": "execute_result"
    }
   ],
   "source": [
    "learn.fit(lr, 1, wds=wd, cycle_len=20, use_clr=(32,10))"
   ]
  },
  {
   "cell_type": "code",
   "execution_count": 22,
   "metadata": {},
   "outputs": [
    {
     "data": {
      "application/vnd.jupyter.widget-view+json": {
       "model_id": "0999010021db438bb4b6a57b4812ac48",
       "version_major": 2,
       "version_minor": 0
      },
      "text/html": [
       "<p>Failed to display Jupyter Widget of type <code>HBox</code>.</p>\n",
       "<p>\n",
       "  If you're reading this message in the Jupyter Notebook or JupyterLab Notebook, it may mean\n",
       "  that the widgets JavaScript is still loading. If this message persists, it\n",
       "  likely means that the widgets JavaScript library is either not installed or\n",
       "  not enabled. See the <a href=\"https://ipywidgets.readthedocs.io/en/stable/user_install.html\">Jupyter\n",
       "  Widgets Documentation</a> for setup instructions.\n",
       "</p>\n",
       "<p>\n",
       "  If you're reading this message in another frontend (for example, a static\n",
       "  rendering on GitHub or <a href=\"https://nbviewer.jupyter.org/\">NBViewer</a>),\n",
       "  it may mean that your frontend doesn't currently support widgets.\n",
       "</p>\n"
      ],
      "text/plain": [
       "HBox(children=(IntProgress(value=0, description='Epoch', max=5), HTML(value='')))"
      ]
     },
     "metadata": {},
     "output_type": "display_data"
    },
    {
     "name": "stdout",
     "output_type": "stream",
     "text": [
      "epoch      trn_loss   val_loss   accuracy                    \n",
      "    0      0.758635   0.92774    0.717058  \n",
      "    1      0.697191   0.863163   0.719049                    \n",
      "    2      0.652325   0.782241   0.769904                    \n",
      "    3      0.582722   0.617562   0.822651                    \n",
      "    4      0.482959   0.562438   0.835191                    \n",
      "\n"
     ]
    },
    {
     "data": {
      "text/plain": [
       "[0.5624377, 0.8351910828025477]"
      ]
     },
     "execution_count": 22,
     "metadata": {},
     "output_type": "execute_result"
    }
   ],
   "source": [
    "learn.fit(lr, 1, wds=wd, cycle_len=5, use_clr=(32,10))"
   ]
  },
  {
   "cell_type": "code",
   "execution_count": 23,
   "metadata": {},
   "outputs": [],
   "source": [
    "learn.save('0')"
   ]
  },
  {
   "cell_type": "code",
   "execution_count": 24,
   "metadata": {
    "scrolled": true
   },
   "outputs": [
    {
     "data": {
      "application/vnd.jupyter.widget-view+json": {
       "model_id": "a715f4ca0a874fd68b37fdc8e5bb7525",
       "version_major": 2,
       "version_minor": 0
      },
      "text/html": [
       "<p>Failed to display Jupyter Widget of type <code>HBox</code>.</p>\n",
       "<p>\n",
       "  If you're reading this message in the Jupyter Notebook or JupyterLab Notebook, it may mean\n",
       "  that the widgets JavaScript is still loading. If this message persists, it\n",
       "  likely means that the widgets JavaScript library is either not installed or\n",
       "  not enabled. See the <a href=\"https://ipywidgets.readthedocs.io/en/stable/user_install.html\">Jupyter\n",
       "  Widgets Documentation</a> for setup instructions.\n",
       "</p>\n",
       "<p>\n",
       "  If you're reading this message in another frontend (for example, a static\n",
       "  rendering on GitHub or <a href=\"https://nbviewer.jupyter.org/\">NBViewer</a>),\n",
       "  it may mean that your frontend doesn't currently support widgets.\n",
       "</p>\n"
      ],
      "text/plain": [
       "HBox(children=(IntProgress(value=0, description='Epoch', max=7), HTML(value='')))"
      ]
     },
     "metadata": {},
     "output_type": "display_data"
    },
    {
     "name": "stdout",
     "output_type": "stream",
     "text": [
      "epoch      trn_loss   val_loss   accuracy                    \n",
      "    0      0.536375   0.619387   0.825139  \n",
      "    1      0.650775   0.747722   0.77289                     \n",
      "    2      0.518328   0.585526   0.83758                     \n",
      "    3      0.739827   0.990987   0.686704                    \n",
      "    4      0.644217   0.843582   0.75199                     \n",
      "    5      0.562827   0.604198   0.823248                    \n",
      "    6      0.486811   0.549821   0.839072                    \n",
      "\n"
     ]
    },
    {
     "data": {
      "text/plain": [
       "[0.5498214, 0.8390724522292994]"
      ]
     },
     "execution_count": 24,
     "metadata": {},
     "output_type": "execute_result"
    }
   ],
   "source": [
    "learn.fit(lr, 3, cycle_len=1, cycle_mult=2, wds=wd)"
   ]
  },
  {
   "cell_type": "code",
   "execution_count": 25,
   "metadata": {},
   "outputs": [],
   "source": [
    "learn.save('1')"
   ]
  },
  {
   "cell_type": "code",
   "execution_count": 26,
   "metadata": {},
   "outputs": [
    {
     "data": {
      "application/vnd.jupyter.widget-view+json": {
       "model_id": "9d17f2d03b634fe3911bad03317569c2",
       "version_major": 2,
       "version_minor": 0
      },
      "text/html": [
       "<p>Failed to display Jupyter Widget of type <code>HBox</code>.</p>\n",
       "<p>\n",
       "  If you're reading this message in the Jupyter Notebook or JupyterLab Notebook, it may mean\n",
       "  that the widgets JavaScript is still loading. If this message persists, it\n",
       "  likely means that the widgets JavaScript library is either not installed or\n",
       "  not enabled. See the <a href=\"https://ipywidgets.readthedocs.io/en/stable/user_install.html\">Jupyter\n",
       "  Widgets Documentation</a> for setup instructions.\n",
       "</p>\n",
       "<p>\n",
       "  If you're reading this message in another frontend (for example, a static\n",
       "  rendering on GitHub or <a href=\"https://nbviewer.jupyter.org/\">NBViewer</a>),\n",
       "  it may mean that your frontend doesn't currently support widgets.\n",
       "</p>\n"
      ],
      "text/plain": [
       "HBox(children=(IntProgress(value=0, description='Epoch', max=10), HTML(value='')))"
      ]
     },
     "metadata": {},
     "output_type": "display_data"
    },
    {
     "name": "stdout",
     "output_type": "stream",
     "text": [
      "epoch      trn_loss   val_loss   accuracy                    \n",
      "    0      0.76281    0.868122   0.730792  \n",
      "    1      0.71548    0.917295   0.696955                    \n",
      "    2      0.731272   0.814308   0.746119                    \n",
      "    3      0.701616   0.895936   0.757564                    \n",
      "    4      0.657036   0.795783   0.76453                     \n",
      "    5      0.628775   0.692381   0.796875                    \n",
      "    6      0.592506   0.700307   0.802249                    \n",
      "    7      0.542455   0.614749   0.828523                    \n",
      "    8      0.519356   0.584621   0.831708                    \n",
      "    9      0.479849   0.52461    0.850717                    \n",
      "\n"
     ]
    },
    {
     "data": {
      "text/plain": [
       "[0.5246095, 0.8507165605095541]"
      ]
     },
     "execution_count": 26,
     "metadata": {},
     "output_type": "execute_result"
    }
   ],
   "source": [
    "learn.fit(lr, 1, wds=wd, cycle_len=10, use_clr=(32,10))"
   ]
  },
  {
   "cell_type": "code",
   "execution_count": 27,
   "metadata": {},
   "outputs": [],
   "source": [
    "learn.save('2')"
   ]
  },
  {
   "cell_type": "markdown",
   "metadata": {},
   "source": [
    "## Fin"
   ]
  },
  {
   "cell_type": "code",
   "execution_count": null,
   "metadata": {},
   "outputs": [],
   "source": []
  }
 ],
 "metadata": {
  "kernelspec": {
   "display_name": "Python 3",
   "language": "python",
   "name": "python3"
  },
  "language_info": {
   "codemirror_mode": {
    "name": "ipython",
    "version": 3
   },
   "file_extension": ".py",
   "mimetype": "text/x-python",
   "name": "python",
   "nbconvert_exporter": "python",
   "pygments_lexer": "ipython3",
   "version": "3.6.4"
  },
  "toc": {
   "nav_menu": {
    "height": "266px",
    "width": "252px"
   },
   "number_sections": true,
   "sideBar": true,
   "skip_h1_title": false,
   "toc_cell": false,
   "toc_position": {},
   "toc_section_display": "block",
   "toc_window_display": false
  },
  "widgets": {
   "application/vnd.jupyter.widget-state+json": {
    "state": {
     "022a804db4e34b1084a67d38fb32e4c2": {
      "model_module": "@jupyter-widgets/controls",
      "model_module_version": "1.1.0",
      "model_name": "HTMLModel",
      "state": {
       "layout": "IPY_MODEL_69830f7fa4ed4864bb2b67d1e94a7e55",
       "style": "IPY_MODEL_f91ef2dabd804aadbe48f81faf830a01",
       "value": "100% 1/1 [01:01&lt;00:00, 61.67s/it]"
      }
     },
     "08937833c9ae4fe4a46ecf128fe17eb2": {
      "model_module": "@jupyter-widgets/controls",
      "model_module_version": "1.1.0",
      "model_name": "HBoxModel",
      "state": {
       "children": [
        "IPY_MODEL_889b58bab8df498984018ec0a3b854ca",
        "IPY_MODEL_7967120cb3bc4a9389b7c6b1292ba3f2"
       ],
       "layout": "IPY_MODEL_256ffc84e27b471abae0d45945dbeff5"
      }
     },
     "0999010021db438bb4b6a57b4812ac48": {
      "model_module": "@jupyter-widgets/controls",
      "model_module_version": "1.1.0",
      "model_name": "HBoxModel",
      "state": {
       "children": [
        "IPY_MODEL_24377eeedd7249979cf42127893e62e2",
        "IPY_MODEL_64ab70e4ea044f03aca8e616805537a8"
       ],
       "layout": "IPY_MODEL_af9b1616798947d6a31f616cea1b02d4"
      }
     },
     "0cc9ce177af34cce9e111d5012dfbeb2": {
      "model_module": "@jupyter-widgets/controls",
      "model_module_version": "1.1.0",
      "model_name": "ProgressStyleModel",
      "state": {
       "description_width": ""
      }
     },
     "0f58ece39f5f49d99679eda68070a0f6": {
      "model_module": "@jupyter-widgets/controls",
      "model_module_version": "1.1.0",
      "model_name": "ProgressStyleModel",
      "state": {
       "description_width": ""
      }
     },
     "10b41249e0874722bb2a0b72a2d8ecb1": {
      "model_module": "@jupyter-widgets/base",
      "model_module_version": "1.0.0",
      "model_name": "LayoutModel",
      "state": {}
     },
     "10ffa5a7efe34d308794cf3f4d7ff3d2": {
      "model_module": "@jupyter-widgets/controls",
      "model_module_version": "1.1.0",
      "model_name": "HTMLModel",
      "state": {
       "layout": "IPY_MODEL_6d975254b29948a389e8a236380dbfcb",
       "style": "IPY_MODEL_310dc71df8064adb9bd2142bade4a012",
       "value": "100% 20/20 [1:19:05&lt;00:00, 237.29s/it]"
      }
     },
     "12e5db9de2d24f0d9a7993e328109354": {
      "model_module": "@jupyter-widgets/controls",
      "model_module_version": "1.1.0",
      "model_name": "ProgressStyleModel",
      "state": {
       "description_width": ""
      }
     },
     "1ab6a186cf5d4ac0a32ecbc0a6a05532": {
      "model_module": "@jupyter-widgets/controls",
      "model_module_version": "1.1.0",
      "model_name": "HTMLModel",
      "state": {
       "layout": "IPY_MODEL_e87f299d3dd4423e8a2ac5cbe6aefb8d",
       "style": "IPY_MODEL_993359f554bc487b9959b8a9d8b739b1",
       "value": "  0% 0/1 [00:00&lt;?, ?it/s]"
      }
     },
     "1d3b1c3ab0f24067910a83b2aa8b1cd8": {
      "model_module": "@jupyter-widgets/base",
      "model_module_version": "1.0.0",
      "model_name": "LayoutModel",
      "state": {}
     },
     "1eb99a29a8fb46a8a9b6d710dd668ebe": {
      "model_module": "@jupyter-widgets/base",
      "model_module_version": "1.0.0",
      "model_name": "LayoutModel",
      "state": {}
     },
     "24377eeedd7249979cf42127893e62e2": {
      "model_module": "@jupyter-widgets/controls",
      "model_module_version": "1.1.0",
      "model_name": "IntProgressModel",
      "state": {
       "bar_style": "success",
       "description": "Epoch",
       "layout": "IPY_MODEL_1eb99a29a8fb46a8a9b6d710dd668ebe",
       "max": 5,
       "style": "IPY_MODEL_0f58ece39f5f49d99679eda68070a0f6",
       "value": 5
      }
     },
     "256ffc84e27b471abae0d45945dbeff5": {
      "model_module": "@jupyter-widgets/base",
      "model_module_version": "1.0.0",
      "model_name": "LayoutModel",
      "state": {}
     },
     "2682a384f9b7490cb82e6dbf8bbee46f": {
      "model_module": "@jupyter-widgets/base",
      "model_module_version": "1.0.0",
      "model_name": "LayoutModel",
      "state": {}
     },
     "2808dbaa843e48498f34c96b5c86d8ca": {
      "model_module": "@jupyter-widgets/controls",
      "model_module_version": "1.1.0",
      "model_name": "HTMLModel",
      "state": {
       "layout": "IPY_MODEL_d63af5e06d6a47cd97aa9dd5d922bb36",
       "style": "IPY_MODEL_dd0a4896f4eb465ba39fa2dcfd1a0d3a",
       "value": "100% 7/7 [27:25&lt;00:00, 235.03s/it]"
      }
     },
     "310dc71df8064adb9bd2142bade4a012": {
      "model_module": "@jupyter-widgets/controls",
      "model_module_version": "1.1.0",
      "model_name": "DescriptionStyleModel",
      "state": {
       "description_width": ""
      }
     },
     "3590ea06ad654a2f9dc291aeee498dc6": {
      "model_module": "@jupyter-widgets/base",
      "model_module_version": "1.0.0",
      "model_name": "LayoutModel",
      "state": {}
     },
     "3c50819f1d2f4b18a84493c1785ef9d5": {
      "model_module": "@jupyter-widgets/base",
      "model_module_version": "1.0.0",
      "model_name": "LayoutModel",
      "state": {}
     },
     "3e3df0d47ebf40cbbf62f49f6648f628": {
      "model_module": "@jupyter-widgets/base",
      "model_module_version": "1.0.0",
      "model_name": "LayoutModel",
      "state": {}
     },
     "3f3b94866b984d7aaa48d107663f866b": {
      "model_module": "@jupyter-widgets/base",
      "model_module_version": "1.0.0",
      "model_name": "LayoutModel",
      "state": {}
     },
     "4121d7f2a9ca42d1b4796324b2a7a819": {
      "model_module": "@jupyter-widgets/controls",
      "model_module_version": "1.1.0",
      "model_name": "HTMLModel",
      "state": {
       "layout": "IPY_MODEL_d3af6934b7f34faaae7d690c437b7389",
       "style": "IPY_MODEL_fe8952af45ab4bcc846804148d804ba9",
       "value": "  0% 0/1 [00:00&lt;?, ?it/s]"
      }
     },
     "413ba319f7574f10938ce6b824f2f964": {
      "model_module": "@jupyter-widgets/controls",
      "model_module_version": "1.1.0",
      "model_name": "IntProgressModel",
      "state": {
       "bar_style": "danger",
       "description": "Epoch",
       "layout": "IPY_MODEL_603402c3dd9e4f04bdd33cdea345cb2e",
       "max": 1,
       "style": "IPY_MODEL_7a9610d2846e4ef8909c2966654c11c4"
      }
     },
     "4c9c9724e0064d638b8c80def1476531": {
      "model_module": "@jupyter-widgets/base",
      "model_module_version": "1.0.0",
      "model_name": "LayoutModel",
      "state": {}
     },
     "55db5d38778f41d4b20fefe8929a2b57": {
      "model_module": "@jupyter-widgets/base",
      "model_module_version": "1.0.0",
      "model_name": "LayoutModel",
      "state": {}
     },
     "5830585de4604028935045b0fd6e5a66": {
      "model_module": "@jupyter-widgets/controls",
      "model_module_version": "1.1.0",
      "model_name": "HBoxModel",
      "state": {
       "children": [
        "IPY_MODEL_7bc4ff8da0c648309adc951635d09b3e",
        "IPY_MODEL_1ab6a186cf5d4ac0a32ecbc0a6a05532"
       ],
       "layout": "IPY_MODEL_55db5d38778f41d4b20fefe8929a2b57"
      }
     },
     "5f1af39e48104e3b905a064e2d9f2f0a": {
      "model_module": "@jupyter-widgets/base",
      "model_module_version": "1.0.0",
      "model_name": "LayoutModel",
      "state": {}
     },
     "603402c3dd9e4f04bdd33cdea345cb2e": {
      "model_module": "@jupyter-widgets/base",
      "model_module_version": "1.0.0",
      "model_name": "LayoutModel",
      "state": {}
     },
     "634b8f1717914ece8688129dec755429": {
      "model_module": "@jupyter-widgets/base",
      "model_module_version": "1.0.0",
      "model_name": "LayoutModel",
      "state": {}
     },
     "64ab70e4ea044f03aca8e616805537a8": {
      "model_module": "@jupyter-widgets/controls",
      "model_module_version": "1.1.0",
      "model_name": "HTMLModel",
      "state": {
       "layout": "IPY_MODEL_d4cb75ab3f9341539dbb37c15baf5cf3",
       "style": "IPY_MODEL_7a55940791074a0aaba00e0f52fc2046",
       "value": "100% 5/5 [19:38&lt;00:00, 235.63s/it]"
      }
     },
     "69830f7fa4ed4864bb2b67d1e94a7e55": {
      "model_module": "@jupyter-widgets/base",
      "model_module_version": "1.0.0",
      "model_name": "LayoutModel",
      "state": {}
     },
     "69ffd28b016843abbea6d13c90106435": {
      "model_module": "@jupyter-widgets/controls",
      "model_module_version": "1.1.0",
      "model_name": "IntProgressModel",
      "state": {
       "bar_style": "success",
       "description": "Epoch",
       "layout": "IPY_MODEL_3c50819f1d2f4b18a84493c1785ef9d5",
       "max": 10,
       "style": "IPY_MODEL_9d2134da738b46a3805aef86c256888a",
       "value": 10
      }
     },
     "6d975254b29948a389e8a236380dbfcb": {
      "model_module": "@jupyter-widgets/base",
      "model_module_version": "1.0.0",
      "model_name": "LayoutModel",
      "state": {}
     },
     "76cd9666ab3a479987dfad19e390e14c": {
      "model_module": "@jupyter-widgets/controls",
      "model_module_version": "1.1.0",
      "model_name": "HBoxModel",
      "state": {
       "children": [
        "IPY_MODEL_7ac34d33692e490b84ce56c19f73aa29",
        "IPY_MODEL_022a804db4e34b1084a67d38fb32e4c2"
       ],
       "layout": "IPY_MODEL_634b8f1717914ece8688129dec755429"
      }
     },
     "7967120cb3bc4a9389b7c6b1292ba3f2": {
      "model_module": "@jupyter-widgets/controls",
      "model_module_version": "1.1.0",
      "model_name": "HTMLModel",
      "state": {
       "layout": "IPY_MODEL_e1b45b45daf947fdb86d6271909bd0e5",
       "style": "IPY_MODEL_cc92bea3740b4ec78d0639f9fbcb22a9",
       "value": "100% 1/1 [00:34&lt;00:00, 34.50s/it]"
      }
     },
     "7a55940791074a0aaba00e0f52fc2046": {
      "model_module": "@jupyter-widgets/controls",
      "model_module_version": "1.1.0",
      "model_name": "DescriptionStyleModel",
      "state": {
       "description_width": ""
      }
     },
     "7a631214ef7a4e9883781d3687a728c2": {
      "model_module": "@jupyter-widgets/base",
      "model_module_version": "1.0.0",
      "model_name": "LayoutModel",
      "state": {}
     },
     "7a9610d2846e4ef8909c2966654c11c4": {
      "model_module": "@jupyter-widgets/controls",
      "model_module_version": "1.1.0",
      "model_name": "ProgressStyleModel",
      "state": {
       "description_width": ""
      }
     },
     "7ac34d33692e490b84ce56c19f73aa29": {
      "model_module": "@jupyter-widgets/controls",
      "model_module_version": "1.1.0",
      "model_name": "IntProgressModel",
      "state": {
       "bar_style": "success",
       "description": "Epoch",
       "layout": "IPY_MODEL_a15dd39f7c5c41899a047e955fea9acb",
       "max": 1,
       "style": "IPY_MODEL_f4b6a167ae584c74b4c7aec46487e246",
       "value": 1
      }
     },
     "7bc4ff8da0c648309adc951635d09b3e": {
      "model_module": "@jupyter-widgets/controls",
      "model_module_version": "1.1.0",
      "model_name": "IntProgressModel",
      "state": {
       "bar_style": "danger",
       "description": "Epoch",
       "layout": "IPY_MODEL_5f1af39e48104e3b905a064e2d9f2f0a",
       "max": 1,
       "style": "IPY_MODEL_d262f1c027194679943004b5c2e3d698"
      }
     },
     "889b58bab8df498984018ec0a3b854ca": {
      "model_module": "@jupyter-widgets/controls",
      "model_module_version": "1.1.0",
      "model_name": "IntProgressModel",
      "state": {
       "bar_style": "success",
       "description": "Epoch",
       "layout": "IPY_MODEL_d71e7076423f4e87a7ae3e7e1e914d93",
       "max": 1,
       "style": "IPY_MODEL_0cc9ce177af34cce9e111d5012dfbeb2",
       "value": 1
      }
     },
     "8b6f3b7a1451473898ffeec41fd20feb": {
      "model_module": "@jupyter-widgets/base",
      "model_module_version": "1.0.0",
      "model_name": "LayoutModel",
      "state": {}
     },
     "97436f5ff4d343f4bd3f91f952780514": {
      "model_module": "@jupyter-widgets/controls",
      "model_module_version": "1.1.0",
      "model_name": "HTMLModel",
      "state": {
       "layout": "IPY_MODEL_3f3b94866b984d7aaa48d107663f866b",
       "style": "IPY_MODEL_f071bd9ce0c74a4fadbc8a29e4c54233",
       "value": "  0% 0/1 [00:00&lt;?, ?it/s]"
      }
     },
     "986cd1e0d8514b0bb2078b43d6104a33": {
      "model_module": "@jupyter-widgets/controls",
      "model_module_version": "1.1.0",
      "model_name": "IntProgressModel",
      "state": {
       "bar_style": "success",
       "description": "Epoch",
       "layout": "IPY_MODEL_2682a384f9b7490cb82e6dbf8bbee46f",
       "max": 20,
       "style": "IPY_MODEL_cc87c5503b964cf8921c2eebd07df6e6",
       "value": 20
      }
     },
     "993359f554bc487b9959b8a9d8b739b1": {
      "model_module": "@jupyter-widgets/controls",
      "model_module_version": "1.1.0",
      "model_name": "DescriptionStyleModel",
      "state": {
       "description_width": ""
      }
     },
     "9a148a4c24b24af3af6d1488d2cab1b9": {
      "model_module": "@jupyter-widgets/controls",
      "model_module_version": "1.1.0",
      "model_name": "DescriptionStyleModel",
      "state": {
       "description_width": ""
      }
     },
     "9a85c118795c43ce8f7bbca3d2d90d40": {
      "model_module": "@jupyter-widgets/controls",
      "model_module_version": "1.1.0",
      "model_name": "IntProgressModel",
      "state": {
       "bar_style": "success",
       "description": "Epoch",
       "layout": "IPY_MODEL_4c9c9724e0064d638b8c80def1476531",
       "max": 7,
       "style": "IPY_MODEL_12e5db9de2d24f0d9a7993e328109354",
       "value": 7
      }
     },
     "9d17f2d03b634fe3911bad03317569c2": {
      "model_module": "@jupyter-widgets/controls",
      "model_module_version": "1.1.0",
      "model_name": "HBoxModel",
      "state": {
       "children": [
        "IPY_MODEL_69ffd28b016843abbea6d13c90106435",
        "IPY_MODEL_abb13e7bfd264201a690113f1096d47f"
       ],
       "layout": "IPY_MODEL_3590ea06ad654a2f9dc291aeee498dc6"
      }
     },
     "9d2134da738b46a3805aef86c256888a": {
      "model_module": "@jupyter-widgets/controls",
      "model_module_version": "1.1.0",
      "model_name": "ProgressStyleModel",
      "state": {
       "description_width": ""
      }
     },
     "a15dd39f7c5c41899a047e955fea9acb": {
      "model_module": "@jupyter-widgets/base",
      "model_module_version": "1.0.0",
      "model_name": "LayoutModel",
      "state": {}
     },
     "a715f4ca0a874fd68b37fdc8e5bb7525": {
      "model_module": "@jupyter-widgets/controls",
      "model_module_version": "1.1.0",
      "model_name": "HBoxModel",
      "state": {
       "children": [
        "IPY_MODEL_9a85c118795c43ce8f7bbca3d2d90d40",
        "IPY_MODEL_2808dbaa843e48498f34c96b5c86d8ca"
       ],
       "layout": "IPY_MODEL_10b41249e0874722bb2a0b72a2d8ecb1"
      }
     },
     "abb13e7bfd264201a690113f1096d47f": {
      "model_module": "@jupyter-widgets/controls",
      "model_module_version": "1.1.0",
      "model_name": "HTMLModel",
      "state": {
       "layout": "IPY_MODEL_8b6f3b7a1451473898ffeec41fd20feb",
       "style": "IPY_MODEL_9a148a4c24b24af3af6d1488d2cab1b9",
       "value": "100% 10/10 [39:11&lt;00:00, 235.19s/it]"
      }
     },
     "af9b1616798947d6a31f616cea1b02d4": {
      "model_module": "@jupyter-widgets/base",
      "model_module_version": "1.0.0",
      "model_name": "LayoutModel",
      "state": {}
     },
     "b90153e56f0849078e173bbc1393456b": {
      "model_module": "@jupyter-widgets/controls",
      "model_module_version": "1.1.0",
      "model_name": "ProgressStyleModel",
      "state": {
       "description_width": ""
      }
     },
     "bec0f97cbb264236a72dcd5440bf26a2": {
      "model_module": "@jupyter-widgets/controls",
      "model_module_version": "1.1.0",
      "model_name": "HBoxModel",
      "state": {
       "children": [
        "IPY_MODEL_edfab69700984c46841e5e5e9ca09abf",
        "IPY_MODEL_97436f5ff4d343f4bd3f91f952780514"
       ],
       "layout": "IPY_MODEL_1d3b1c3ab0f24067910a83b2aa8b1cd8"
      }
     },
     "c1ecf57f45b641678ee2617c77ae146a": {
      "model_module": "@jupyter-widgets/controls",
      "model_module_version": "1.1.0",
      "model_name": "HBoxModel",
      "state": {
       "children": [
        "IPY_MODEL_986cd1e0d8514b0bb2078b43d6104a33",
        "IPY_MODEL_10ffa5a7efe34d308794cf3f4d7ff3d2"
       ],
       "layout": "IPY_MODEL_7a631214ef7a4e9883781d3687a728c2"
      }
     },
     "cc87c5503b964cf8921c2eebd07df6e6": {
      "model_module": "@jupyter-widgets/controls",
      "model_module_version": "1.1.0",
      "model_name": "ProgressStyleModel",
      "state": {
       "description_width": ""
      }
     },
     "cc92bea3740b4ec78d0639f9fbcb22a9": {
      "model_module": "@jupyter-widgets/controls",
      "model_module_version": "1.1.0",
      "model_name": "DescriptionStyleModel",
      "state": {
       "description_width": ""
      }
     },
     "d262f1c027194679943004b5c2e3d698": {
      "model_module": "@jupyter-widgets/controls",
      "model_module_version": "1.1.0",
      "model_name": "ProgressStyleModel",
      "state": {
       "description_width": ""
      }
     },
     "d3af6934b7f34faaae7d690c437b7389": {
      "model_module": "@jupyter-widgets/base",
      "model_module_version": "1.0.0",
      "model_name": "LayoutModel",
      "state": {}
     },
     "d4cb75ab3f9341539dbb37c15baf5cf3": {
      "model_module": "@jupyter-widgets/base",
      "model_module_version": "1.0.0",
      "model_name": "LayoutModel",
      "state": {}
     },
     "d63af5e06d6a47cd97aa9dd5d922bb36": {
      "model_module": "@jupyter-widgets/base",
      "model_module_version": "1.0.0",
      "model_name": "LayoutModel",
      "state": {}
     },
     "d71e7076423f4e87a7ae3e7e1e914d93": {
      "model_module": "@jupyter-widgets/base",
      "model_module_version": "1.0.0",
      "model_name": "LayoutModel",
      "state": {}
     },
     "dd0a4896f4eb465ba39fa2dcfd1a0d3a": {
      "model_module": "@jupyter-widgets/controls",
      "model_module_version": "1.1.0",
      "model_name": "DescriptionStyleModel",
      "state": {
       "description_width": ""
      }
     },
     "e1b45b45daf947fdb86d6271909bd0e5": {
      "model_module": "@jupyter-widgets/base",
      "model_module_version": "1.0.0",
      "model_name": "LayoutModel",
      "state": {}
     },
     "e87f299d3dd4423e8a2ac5cbe6aefb8d": {
      "model_module": "@jupyter-widgets/base",
      "model_module_version": "1.0.0",
      "model_name": "LayoutModel",
      "state": {}
     },
     "ed304fcb83574e84a38a2e4c943c063b": {
      "model_module": "@jupyter-widgets/base",
      "model_module_version": "1.0.0",
      "model_name": "LayoutModel",
      "state": {}
     },
     "edfab69700984c46841e5e5e9ca09abf": {
      "model_module": "@jupyter-widgets/controls",
      "model_module_version": "1.1.0",
      "model_name": "IntProgressModel",
      "state": {
       "bar_style": "danger",
       "description": "Epoch",
       "layout": "IPY_MODEL_ed304fcb83574e84a38a2e4c943c063b",
       "max": 1,
       "style": "IPY_MODEL_b90153e56f0849078e173bbc1393456b"
      }
     },
     "f071bd9ce0c74a4fadbc8a29e4c54233": {
      "model_module": "@jupyter-widgets/controls",
      "model_module_version": "1.1.0",
      "model_name": "DescriptionStyleModel",
      "state": {
       "description_width": ""
      }
     },
     "f4b6a167ae584c74b4c7aec46487e246": {
      "model_module": "@jupyter-widgets/controls",
      "model_module_version": "1.1.0",
      "model_name": "ProgressStyleModel",
      "state": {
       "description_width": ""
      }
     },
     "f695c3d770bf4d0098f9605582bf4405": {
      "model_module": "@jupyter-widgets/controls",
      "model_module_version": "1.1.0",
      "model_name": "HBoxModel",
      "state": {
       "children": [
        "IPY_MODEL_413ba319f7574f10938ce6b824f2f964",
        "IPY_MODEL_4121d7f2a9ca42d1b4796324b2a7a819"
       ],
       "layout": "IPY_MODEL_3e3df0d47ebf40cbbf62f49f6648f628"
      }
     },
     "f91ef2dabd804aadbe48f81faf830a01": {
      "model_module": "@jupyter-widgets/controls",
      "model_module_version": "1.1.0",
      "model_name": "DescriptionStyleModel",
      "state": {
       "description_width": ""
      }
     },
     "fe8952af45ab4bcc846804148d804ba9": {
      "model_module": "@jupyter-widgets/controls",
      "model_module_version": "1.1.0",
      "model_name": "DescriptionStyleModel",
      "state": {
       "description_width": ""
      }
     }
    },
    "version_major": 2,
    "version_minor": 0
   }
  }
 },
 "nbformat": 4,
 "nbformat_minor": 2
}
