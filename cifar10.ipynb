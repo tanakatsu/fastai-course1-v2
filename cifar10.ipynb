{
 "cells": [
  {
   "cell_type": "markdown",
   "metadata": {},
   "source": [
    "## CIFAR 10"
   ]
  },
  {
   "cell_type": "code",
   "execution_count": 1,
   "metadata": {},
   "outputs": [],
   "source": [
    "%matplotlib inline\n",
    "%reload_ext autoreload\n",
    "%autoreload 2"
   ]
  },
  {
   "cell_type": "code",
   "execution_count": 2,
   "metadata": {},
   "outputs": [],
   "source": [
    "from fastai.conv_learner import *\n",
    "PATH = \"data/cifar10/\"\n",
    "os.makedirs(PATH,exist_ok=True)"
   ]
  },
  {
   "cell_type": "code",
   "execution_count": 3,
   "metadata": {},
   "outputs": [],
   "source": [
    "classes = ('plane', 'car', 'bird', 'cat', 'deer', 'dog', 'frog', 'horse', 'ship', 'truck')\n",
    "stats = (np.array([ 0.4914 ,  0.48216,  0.44653]), np.array([ 0.24703,  0.24349,  0.26159])) # mean, std"
   ]
  },
  {
   "cell_type": "code",
   "execution_count": 4,
   "metadata": {},
   "outputs": [],
   "source": [
    "def get_data(sz,bs):\n",
    "    tfms = tfms_from_stats(stats, sz, aug_tfms=[RandomFlip()], pad=sz//8)\n",
    "    return ImageClassifierData.from_paths(PATH, val_name='test', tfms=tfms, bs=bs)"
   ]
  },
  {
   "cell_type": "code",
   "execution_count": 5,
   "metadata": {},
   "outputs": [],
   "source": [
    "bs=128"
   ]
  },
  {
   "cell_type": "markdown",
   "metadata": {
    "heading_collapsed": true
   },
   "source": [
    "### Look at data"
   ]
  },
  {
   "cell_type": "code",
   "execution_count": 6,
   "metadata": {
    "hidden": true
   },
   "outputs": [],
   "source": [
    "data = get_data(32,4)"
   ]
  },
  {
   "cell_type": "code",
   "execution_count": 7,
   "metadata": {
    "hidden": true
   },
   "outputs": [],
   "source": [
    "x,y=next(iter(data.trn_dl))"
   ]
  },
  {
   "cell_type": "code",
   "execution_count": 8,
   "metadata": {
    "hidden": true
   },
   "outputs": [
    {
     "data": {
      "image/png": "[encoded data removed]",
      "text/plain": [
       "<matplotlib.figure.Figure at 0x7f78fc0fdd30>"
      ]
     },
     "metadata": {},
     "output_type": "display_data"
    }
   ],
   "source": [
    "plt.imshow(data.trn_ds.denorm(x)[0]);"
   ]
  },
  {
   "cell_type": "code",
   "execution_count": 9,
   "metadata": {
    "hidden": true
   },
   "outputs": [
    {
     "data": {
      "image/png": "[encoded data removed]",
      "text/plain": [
       "<matplotlib.figure.Figure at 0x7f78f46eeb70>"
      ]
     },
     "metadata": {},
     "output_type": "display_data"
    }
   ],
   "source": [
    "plt.imshow(data.trn_ds.denorm(x)[1]);"
   ]
  },
  {
   "cell_type": "markdown",
   "metadata": {
    "heading_collapsed": true
   },
   "source": [
    "## Initial model"
   ]
  },
  {
   "cell_type": "code",
   "execution_count": 10,
   "metadata": {
    "hidden": true
   },
   "outputs": [],
   "source": [
    "from fastai.models.cifar10.resnext import resnext29_8_64\n",
    "\n",
    "m = resnext29_8_64()\n",
    "bm = BasicModel(m.cuda(), name='cifar10_rn29_8_64')"
   ]
  },
  {
   "cell_type": "code",
   "execution_count": 11,
   "metadata": {
    "hidden": true
   },
   "outputs": [],
   "source": [
    "data = get_data(8,bs*4)"
   ]
  },
  {
   "cell_type": "code",
   "execution_count": 12,
   "metadata": {
    "hidden": true
   },
   "outputs": [],
   "source": [
    "learn = ConvLearner(data, bm)\n",
    "learn.unfreeze()"
   ]
  },
  {
   "cell_type": "code",
   "execution_count": 13,
   "metadata": {},
   "outputs": [
    {
     "data": {
      "text/plain": [
       "OrderedDict([('Conv2d-1',\n",
       "              OrderedDict([('input_shape', [-1, 3, 8, 8]),\n",
       "                           ('output_shape', [-1, 64, 8, 8]),\n",
       "                           ('trainable', True),\n",
       "                           ('nb_params', 1728)])),\n",
       "             ('BatchNorm2d-2',\n",
       "              OrderedDict([('input_shape', [-1, 64, 8, 8]),\n",
       "                           ('output_shape', [-1, 64, 8, 8]),\n",
       "                           ('trainable', True),\n",
       "                           ('nb_params', 128)])),\n",
       "             ('Conv2d-3',\n",
       "              OrderedDict([('input_shape', [-1, 64, 8, 8]),\n",
       "                           ('output_shape', [-1, 512, 8, 8]),\n",
       "                           ('trainable', True),\n",
       "                           ('nb_params', 32768)])),\n",
       "             ('BatchNorm2d-4',\n",
       "              OrderedDict([('input_shape', [-1, 512, 8, 8]),\n",
       "                           ('output_shape', [-1, 512, 8, 8]),\n",
       "                           ('trainable', True),\n",
       "                           ('nb_params', 1024)])),\n",
       "             ('Conv2d-5',\n",
       "              OrderedDict([('input_shape', [-1, 512, 8, 8]),\n",
       "                           ('output_shape', [-1, 512, 8, 8]),\n",
       "                           ('trainable', True),\n",
       "                           ('nb_params', 294912)])),\n",
       "             ('BatchNorm2d-6',\n",
       "              OrderedDict([('input_shape', [-1, 512, 8, 8]),\n",
       "                           ('output_shape', [-1, 512, 8, 8]),\n",
       "                           ('trainable', True),\n",
       "                           ('nb_params', 1024)])),\n",
       "             ('Conv2d-7',\n",
       "              OrderedDict([('input_shape', [-1, 512, 8, 8]),\n",
       "                           ('output_shape', [-1, 256, 8, 8]),\n",
       "                           ('trainable', True),\n",
       "                           ('nb_params', 131072)])),\n",
       "             ('BatchNorm2d-8',\n",
       "              OrderedDict([('input_shape', [-1, 256, 8, 8]),\n",
       "                           ('output_shape', [-1, 256, 8, 8]),\n",
       "                           ('trainable', True),\n",
       "                           ('nb_params', 512)])),\n",
       "             ('Conv2d-9',\n",
       "              OrderedDict([('input_shape', [-1, 64, 8, 8]),\n",
       "                           ('output_shape', [-1, 256, 8, 8]),\n",
       "                           ('trainable', True),\n",
       "                           ('nb_params', 16384)])),\n",
       "             ('BatchNorm2d-10',\n",
       "              OrderedDict([('input_shape', [-1, 256, 8, 8]),\n",
       "                           ('output_shape', [-1, 256, 8, 8]),\n",
       "                           ('trainable', True),\n",
       "                           ('nb_params', 512)])),\n",
       "             ('ResNeXtBottleneck-11',\n",
       "              OrderedDict([('input_shape', [-1, 64, 8, 8]),\n",
       "                           ('output_shape', [-1, 256, 8, 8]),\n",
       "                           ('nb_params', 0)])),\n",
       "             ('Conv2d-12',\n",
       "              OrderedDict([('input_shape', [-1, 256, 8, 8]),\n",
       "                           ('output_shape', [-1, 512, 8, 8]),\n",
       "                           ('trainable', True),\n",
       "                           ('nb_params', 131072)])),\n",
       "             ('BatchNorm2d-13',\n",
       "              OrderedDict([('input_shape', [-1, 512, 8, 8]),\n",
       "                           ('output_shape', [-1, 512, 8, 8]),\n",
       "                           ('trainable', True),\n",
       "                           ('nb_params', 1024)])),\n",
       "             ('Conv2d-14',\n",
       "              OrderedDict([('input_shape', [-1, 512, 8, 8]),\n",
       "                           ('output_shape', [-1, 512, 8, 8]),\n",
       "                           ('trainable', True),\n",
       "                           ('nb_params', 294912)])),\n",
       "             ('BatchNorm2d-15',\n",
       "              OrderedDict([('input_shape', [-1, 512, 8, 8]),\n",
       "                           ('output_shape', [-1, 512, 8, 8]),\n",
       "                           ('trainable', True),\n",
       "                           ('nb_params', 1024)])),\n",
       "             ('Conv2d-16',\n",
       "              OrderedDict([('input_shape', [-1, 512, 8, 8]),\n",
       "                           ('output_shape', [-1, 256, 8, 8]),\n",
       "                           ('trainable', True),\n",
       "                           ('nb_params', 131072)])),\n",
       "             ('BatchNorm2d-17',\n",
       "              OrderedDict([('input_shape', [-1, 256, 8, 8]),\n",
       "                           ('output_shape', [-1, 256, 8, 8]),\n",
       "                           ('trainable', True),\n",
       "                           ('nb_params', 512)])),\n",
       "             ('ResNeXtBottleneck-18',\n",
       "              OrderedDict([('input_shape', [-1, 256, 8, 8]),\n",
       "                           ('output_shape', [-1, 256, 8, 8]),\n",
       "                           ('nb_params', 0)])),\n",
       "             ('Conv2d-19',\n",
       "              OrderedDict([('input_shape', [-1, 256, 8, 8]),\n",
       "                           ('output_shape', [-1, 512, 8, 8]),\n",
       "                           ('trainable', True),\n",
       "                           ('nb_params', 131072)])),\n",
       "             ('BatchNorm2d-20',\n",
       "              OrderedDict([('input_shape', [-1, 512, 8, 8]),\n",
       "                           ('output_shape', [-1, 512, 8, 8]),\n",
       "                           ('trainable', True),\n",
       "                           ('nb_params', 1024)])),\n",
       "             ('Conv2d-21',\n",
       "              OrderedDict([('input_shape', [-1, 512, 8, 8]),\n",
       "                           ('output_shape', [-1, 512, 8, 8]),\n",
       "                           ('trainable', True),\n",
       "                           ('nb_params', 294912)])),\n",
       "             ('BatchNorm2d-22',\n",
       "              OrderedDict([('input_shape', [-1, 512, 8, 8]),\n",
       "                           ('output_shape', [-1, 512, 8, 8]),\n",
       "                           ('trainable', True),\n",
       "                           ('nb_params', 1024)])),\n",
       "             ('Conv2d-23',\n",
       "              OrderedDict([('input_shape', [-1, 512, 8, 8]),\n",
       "                           ('output_shape', [-1, 256, 8, 8]),\n",
       "                           ('trainable', True),\n",
       "                           ('nb_params', 131072)])),\n",
       "             ('BatchNorm2d-24',\n",
       "              OrderedDict([('input_shape', [-1, 256, 8, 8]),\n",
       "                           ('output_shape', [-1, 256, 8, 8]),\n",
       "                           ('trainable', True),\n",
       "                           ('nb_params', 512)])),\n",
       "             ('ResNeXtBottleneck-25',\n",
       "              OrderedDict([('input_shape', [-1, 256, 8, 8]),\n",
       "                           ('output_shape', [-1, 256, 8, 8]),\n",
       "                           ('nb_params', 0)])),\n",
       "             ('Conv2d-26',\n",
       "              OrderedDict([('input_shape', [-1, 256, 8, 8]),\n",
       "                           ('output_shape', [-1, 1024, 8, 8]),\n",
       "                           ('trainable', True),\n",
       "                           ('nb_params', 262144)])),\n",
       "             ('BatchNorm2d-27',\n",
       "              OrderedDict([('input_shape', [-1, 1024, 8, 8]),\n",
       "                           ('output_shape', [-1, 1024, 8, 8]),\n",
       "                           ('trainable', True),\n",
       "                           ('nb_params', 2048)])),\n",
       "             ('Conv2d-28',\n",
       "              OrderedDict([('input_shape', [-1, 1024, 8, 8]),\n",
       "                           ('output_shape', [-1, 1024, 4, 4]),\n",
       "                           ('trainable', True),\n",
       "                           ('nb_params', 1179648)])),\n",
       "             ('BatchNorm2d-29',\n",
       "              OrderedDict([('input_shape', [-1, 1024, 4, 4]),\n",
       "                           ('output_shape', [-1, 1024, 4, 4]),\n",
       "                           ('trainable', True),\n",
       "                           ('nb_params', 2048)])),\n",
       "             ('Conv2d-30',\n",
       "              OrderedDict([('input_shape', [-1, 1024, 4, 4]),\n",
       "                           ('output_shape', [-1, 512, 4, 4]),\n",
       "                           ('trainable', True),\n",
       "                           ('nb_params', 524288)])),\n",
       "             ('BatchNorm2d-31',\n",
       "              OrderedDict([('input_shape', [-1, 512, 4, 4]),\n",
       "                           ('output_shape', [-1, 512, 4, 4]),\n",
       "                           ('trainable', True),\n",
       "                           ('nb_params', 1024)])),\n",
       "             ('Conv2d-32',\n",
       "              OrderedDict([('input_shape', [-1, 256, 8, 8]),\n",
       "                           ('output_shape', [-1, 512, 4, 4]),\n",
       "                           ('trainable', True),\n",
       "                           ('nb_params', 131072)])),\n",
       "             ('BatchNorm2d-33',\n",
       "              OrderedDict([('input_shape', [-1, 512, 4, 4]),\n",
       "                           ('output_shape', [-1, 512, 4, 4]),\n",
       "                           ('trainable', True),\n",
       "                           ('nb_params', 1024)])),\n",
       "             ('ResNeXtBottleneck-34',\n",
       "              OrderedDict([('input_shape', [-1, 256, 8, 8]),\n",
       "                           ('output_shape', [-1, 512, 4, 4]),\n",
       "                           ('nb_params', 0)])),\n",
       "             ('Conv2d-35',\n",
       "              OrderedDict([('input_shape', [-1, 512, 4, 4]),\n",
       "                           ('output_shape', [-1, 1024, 4, 4]),\n",
       "                           ('trainable', True),\n",
       "                           ('nb_params', 524288)])),\n",
       "             ('BatchNorm2d-36',\n",
       "              OrderedDict([('input_shape', [-1, 1024, 4, 4]),\n",
       "                           ('output_shape', [-1, 1024, 4, 4]),\n",
       "                           ('trainable', True),\n",
       "                           ('nb_params', 2048)])),\n",
       "             ('Conv2d-37',\n",
       "              OrderedDict([('input_shape', [-1, 1024, 4, 4]),\n",
       "                           ('output_shape', [-1, 1024, 4, 4]),\n",
       "                           ('trainable', True),\n",
       "                           ('nb_params', 1179648)])),\n",
       "             ('BatchNorm2d-38',\n",
       "              OrderedDict([('input_shape', [-1, 1024, 4, 4]),\n",
       "                           ('output_shape', [-1, 1024, 4, 4]),\n",
       "                           ('trainable', True),\n",
       "                           ('nb_params', 2048)])),\n",
       "             ('Conv2d-39',\n",
       "              OrderedDict([('input_shape', [-1, 1024, 4, 4]),\n",
       "                           ('output_shape', [-1, 512, 4, 4]),\n",
       "                           ('trainable', True),\n",
       "                           ('nb_params', 524288)])),\n",
       "             ('BatchNorm2d-40',\n",
       "              OrderedDict([('input_shape', [-1, 512, 4, 4]),\n",
       "                           ('output_shape', [-1, 512, 4, 4]),\n",
       "                           ('trainable', True),\n",
       "                           ('nb_params', 1024)])),\n",
       "             ('ResNeXtBottleneck-41',\n",
       "              OrderedDict([('input_shape', [-1, 512, 4, 4]),\n",
       "                           ('output_shape', [-1, 512, 4, 4]),\n",
       "                           ('nb_params', 0)])),\n",
       "             ('Conv2d-42',\n",
       "              OrderedDict([('input_shape', [-1, 512, 4, 4]),\n",
       "                           ('output_shape', [-1, 1024, 4, 4]),\n",
       "                           ('trainable', True),\n",
       "                           ('nb_params', 524288)])),\n",
       "             ('BatchNorm2d-43',\n",
       "              OrderedDict([('input_shape', [-1, 1024, 4, 4]),\n",
       "                           ('output_shape', [-1, 1024, 4, 4]),\n",
       "                           ('trainable', True),\n",
       "                           ('nb_params', 2048)])),\n",
       "             ('Conv2d-44',\n",
       "              OrderedDict([('input_shape', [-1, 1024, 4, 4]),\n",
       "                           ('output_shape', [-1, 1024, 4, 4]),\n",
       "                           ('trainable', True),\n",
       "                           ('nb_params', 1179648)])),\n",
       "             ('BatchNorm2d-45',\n",
       "              OrderedDict([('input_shape', [-1, 1024, 4, 4]),\n",
       "                           ('output_shape', [-1, 1024, 4, 4]),\n",
       "                           ('trainable', True),\n",
       "                           ('nb_params', 2048)])),\n",
       "             ('Conv2d-46',\n",
       "              OrderedDict([('input_shape', [-1, 1024, 4, 4]),\n",
       "                           ('output_shape', [-1, 512, 4, 4]),\n",
       "                           ('trainable', True),\n",
       "                           ('nb_params', 524288)])),\n",
       "             ('BatchNorm2d-47',\n",
       "              OrderedDict([('input_shape', [-1, 512, 4, 4]),\n",
       "                           ('output_shape', [-1, 512, 4, 4]),\n",
       "                           ('trainable', True),\n",
       "                           ('nb_params', 1024)])),\n",
       "             ('ResNeXtBottleneck-48',\n",
       "              OrderedDict([('input_shape', [-1, 512, 4, 4]),\n",
       "                           ('output_shape', [-1, 512, 4, 4]),\n",
       "                           ('nb_params', 0)])),\n",
       "             ('Conv2d-49',\n",
       "              OrderedDict([('input_shape', [-1, 512, 4, 4]),\n",
       "                           ('output_shape', [-1, 2048, 4, 4]),\n",
       "                           ('trainable', True),\n",
       "                           ('nb_params', 1048576)])),\n",
       "             ('BatchNorm2d-50',\n",
       "              OrderedDict([('input_shape', [-1, 2048, 4, 4]),\n",
       "                           ('output_shape', [-1, 2048, 4, 4]),\n",
       "                           ('trainable', True),\n",
       "                           ('nb_params', 4096)])),\n",
       "             ('Conv2d-51',\n",
       "              OrderedDict([('input_shape', [-1, 2048, 4, 4]),\n",
       "                           ('output_shape', [-1, 2048, 2, 2]),\n",
       "                           ('trainable', True),\n",
       "                           ('nb_params', 4718592)])),\n",
       "             ('BatchNorm2d-52',\n",
       "              OrderedDict([('input_shape', [-1, 2048, 2, 2]),\n",
       "                           ('output_shape', [-1, 2048, 2, 2]),\n",
       "                           ('trainable', True),\n",
       "                           ('nb_params', 4096)])),\n",
       "             ('Conv2d-53',\n",
       "              OrderedDict([('input_shape', [-1, 2048, 2, 2]),\n",
       "                           ('output_shape', [-1, 1024, 2, 2]),\n",
       "                           ('trainable', True),\n",
       "                           ('nb_params', 2097152)])),\n",
       "             ('BatchNorm2d-54',\n",
       "              OrderedDict([('input_shape', [-1, 1024, 2, 2]),\n",
       "                           ('output_shape', [-1, 1024, 2, 2]),\n",
       "                           ('trainable', True),\n",
       "                           ('nb_params', 2048)])),\n",
       "             ('Conv2d-55',\n",
       "              OrderedDict([('input_shape', [-1, 512, 4, 4]),\n",
       "                           ('output_shape', [-1, 1024, 2, 2]),\n",
       "                           ('trainable', True),\n",
       "                           ('nb_params', 524288)])),\n",
       "             ('BatchNorm2d-56',\n",
       "              OrderedDict([('input_shape', [-1, 1024, 2, 2]),\n",
       "                           ('output_shape', [-1, 1024, 2, 2]),\n",
       "                           ('trainable', True),\n",
       "                           ('nb_params', 2048)])),\n",
       "             ('ResNeXtBottleneck-57',\n",
       "              OrderedDict([('input_shape', [-1, 512, 4, 4]),\n",
       "                           ('output_shape', [-1, 1024, 2, 2]),\n",
       "                           ('nb_params', 0)])),\n",
       "             ('Conv2d-58',\n",
       "              OrderedDict([('input_shape', [-1, 1024, 2, 2]),\n",
       "                           ('output_shape', [-1, 2048, 2, 2]),\n",
       "                           ('trainable', True),\n",
       "                           ('nb_params', 2097152)])),\n",
       "             ('BatchNorm2d-59',\n",
       "              OrderedDict([('input_shape', [-1, 2048, 2, 2]),\n",
       "                           ('output_shape', [-1, 2048, 2, 2]),\n",
       "                           ('trainable', True),\n",
       "                           ('nb_params', 4096)])),\n",
       "             ('Conv2d-60',\n",
       "              OrderedDict([('input_shape', [-1, 2048, 2, 2]),\n",
       "                           ('output_shape', [-1, 2048, 2, 2]),\n",
       "                           ('trainable', True),\n",
       "                           ('nb_params', 4718592)])),\n",
       "             ('BatchNorm2d-61',\n",
       "              OrderedDict([('input_shape', [-1, 2048, 2, 2]),\n",
       "                           ('output_shape', [-1, 2048, 2, 2]),\n",
       "                           ('trainable', True),\n",
       "                           ('nb_params', 4096)])),\n",
       "             ('Conv2d-62',\n",
       "              OrderedDict([('input_shape', [-1, 2048, 2, 2]),\n",
       "                           ('output_shape', [-1, 1024, 2, 2]),\n",
       "                           ('trainable', True),\n",
       "                           ('nb_params', 2097152)])),\n",
       "             ('BatchNorm2d-63',\n",
       "              OrderedDict([('input_shape', [-1, 1024, 2, 2]),\n",
       "                           ('output_shape', [-1, 1024, 2, 2]),\n",
       "                           ('trainable', True),\n",
       "                           ('nb_params', 2048)])),\n",
       "             ('ResNeXtBottleneck-64',\n",
       "              OrderedDict([('input_shape', [-1, 1024, 2, 2]),\n",
       "                           ('output_shape', [-1, 1024, 2, 2]),\n",
       "                           ('nb_params', 0)])),\n",
       "             ('Conv2d-65',\n",
       "              OrderedDict([('input_shape', [-1, 1024, 2, 2]),\n",
       "                           ('output_shape', [-1, 2048, 2, 2]),\n",
       "                           ('trainable', True),\n",
       "                           ('nb_params', 2097152)])),\n",
       "             ('BatchNorm2d-66',\n",
       "              OrderedDict([('input_shape', [-1, 2048, 2, 2]),\n",
       "                           ('output_shape', [-1, 2048, 2, 2]),\n",
       "                           ('trainable', True),\n",
       "                           ('nb_params', 4096)])),\n",
       "             ('Conv2d-67',\n",
       "              OrderedDict([('input_shape', [-1, 2048, 2, 2]),\n",
       "                           ('output_shape', [-1, 2048, 2, 2]),\n",
       "                           ('trainable', True),\n",
       "                           ('nb_params', 4718592)])),\n",
       "             ('BatchNorm2d-68',\n",
       "              OrderedDict([('input_shape', [-1, 2048, 2, 2]),\n",
       "                           ('output_shape', [-1, 2048, 2, 2]),\n",
       "                           ('trainable', True),\n",
       "                           ('nb_params', 4096)])),\n",
       "             ('Conv2d-69',\n",
       "              OrderedDict([('input_shape', [-1, 2048, 2, 2]),\n",
       "                           ('output_shape', [-1, 1024, 2, 2]),\n",
       "                           ('trainable', True),\n",
       "                           ('nb_params', 2097152)])),\n",
       "             ('BatchNorm2d-70',\n",
       "              OrderedDict([('input_shape', [-1, 1024, 2, 2]),\n",
       "                           ('output_shape', [-1, 1024, 2, 2]),\n",
       "                           ('trainable', True),\n",
       "                           ('nb_params', 2048)])),\n",
       "             ('ResNeXtBottleneck-71',\n",
       "              OrderedDict([('input_shape', [-1, 1024, 2, 2]),\n",
       "                           ('output_shape', [-1, 1024, 2, 2]),\n",
       "                           ('nb_params', 0)])),\n",
       "             ('AdaptiveAvgPool2d-72',\n",
       "              OrderedDict([('input_shape', [-1, 1024, 2, 2]),\n",
       "                           ('output_shape', [-1, 1024, 1, 1]),\n",
       "                           ('nb_params', 0)])),\n",
       "             ('Linear-73',\n",
       "              OrderedDict([('input_shape', [-1, 1024]),\n",
       "                           ('output_shape', [-1, 10]),\n",
       "                           ('trainable', True),\n",
       "                           ('nb_params', 10250)]))])"
      ]
     },
     "execution_count": 13,
     "metadata": {},
     "output_type": "execute_result"
    }
   ],
   "source": [
    "learn.summary()"
   ]
  },
  {
   "cell_type": "code",
   "execution_count": 14,
   "metadata": {
    "hidden": true
   },
   "outputs": [],
   "source": [
    "lr=1e-2; wd=5e-4"
   ]
  },
  {
   "cell_type": "code",
   "execution_count": 15,
   "metadata": {
    "hidden": true
   },
   "outputs": [
    {
     "data": {
      "application/vnd.jupyter.widget-view+json": {
       "model_id": "cf195bd326e44cabac7908d641456cf7",
       "version_major": 2,
       "version_minor": 0
      },
      "text/html": [
       "<p>Failed to display Jupyter Widget of type <code>HBox</code>.</p>\n",
       "<p>\n",
       "  If you're reading this message in the Jupyter Notebook or JupyterLab Notebook, it may mean\n",
       "  that the widgets JavaScript is still loading. If this message persists, it\n",
       "  likely means that the widgets JavaScript library is either not installed or\n",
       "  not enabled. See the <a href=\"https://ipywidgets.readthedocs.io/en/stable/user_install.html\">Jupyter\n",
       "  Widgets Documentation</a> for setup instructions.\n",
       "</p>\n",
       "<p>\n",
       "  If you're reading this message in another frontend (for example, a static\n",
       "  rendering on GitHub or <a href=\"https://nbviewer.jupyter.org/\">NBViewer</a>),\n",
       "  it may mean that your frontend doesn't currently support widgets.\n",
       "</p>\n"
      ],
      "text/plain": [
       "HBox(children=(IntProgress(value=0, description='Epoch', max=1), HTML(value='')))"
      ]
     },
     "metadata": {},
     "output_type": "display_data"
    },
    {
     "name": "stdout",
     "output_type": "stream",
     "text": [
      "epoch      trn_loss   val_loss   accuracy                 \n",
      "    0      2.989036   172947024.0 0.097656  \n",
      "\n"
     ]
    }
   ],
   "source": [
    "learn.lr_find()"
   ]
  },
  {
   "cell_type": "code",
   "execution_count": 16,
   "metadata": {
    "hidden": true,
    "scrolled": true
   },
   "outputs": [
    {
     "data": {
      "image/png": "[encoded data removed]",
      "text/plain": [
       "<matplotlib.figure.Figure at 0x7f78f473d358>"
      ]
     },
     "metadata": {},
     "output_type": "display_data"
    }
   ],
   "source": [
    "learn.sched.plot()"
   ]
  },
  {
   "cell_type": "code",
   "execution_count": 17,
   "metadata": {
    "hidden": true
   },
   "outputs": [
    {
     "data": {
      "application/vnd.jupyter.widget-view+json": {
       "model_id": "6f74c11edaf7421c9fa307e192eb3028",
       "version_major": 2,
       "version_minor": 0
      },
      "text/html": [
       "<p>Failed to display Jupyter Widget of type <code>HBox</code>.</p>\n",
       "<p>\n",
       "  If you're reading this message in the Jupyter Notebook or JupyterLab Notebook, it may mean\n",
       "  that the widgets JavaScript is still loading. If this message persists, it\n",
       "  likely means that the widgets JavaScript library is either not installed or\n",
       "  not enabled. See the <a href=\"https://ipywidgets.readthedocs.io/en/stable/user_install.html\">Jupyter\n",
       "  Widgets Documentation</a> for setup instructions.\n",
       "</p>\n",
       "<p>\n",
       "  If you're reading this message in another frontend (for example, a static\n",
       "  rendering on GitHub or <a href=\"https://nbviewer.jupyter.org/\">NBViewer</a>),\n",
       "  it may mean that your frontend doesn't currently support widgets.\n",
       "</p>\n"
      ],
      "text/plain": [
       "HBox(children=(IntProgress(value=0, description='Epoch', max=1), HTML(value='')))"
      ]
     },
     "metadata": {},
     "output_type": "display_data"
    },
    {
     "name": "stdout",
     "output_type": "stream",
     "text": [
      "epoch      trn_loss   val_loss   accuracy                 \n",
      "    0      1.838465   1.65096    0.408019  \n",
      "\n",
      "CPU times: user 3min 30s, sys: 1min 36s, total: 5min 6s\n",
      "Wall time: 4min 54s\n"
     ]
    },
    {
     "data": {
      "text/plain": [
       "[1.65096, 0.40801930129528047]"
      ]
     },
     "execution_count": 17,
     "metadata": {},
     "output_type": "execute_result"
    }
   ],
   "source": [
    "%time learn.fit(lr, 1)"
   ]
  },
  {
   "cell_type": "code",
   "execution_count": 18,
   "metadata": {
    "hidden": true
   },
   "outputs": [
    {
     "data": {
      "application/vnd.jupyter.widget-view+json": {
       "model_id": "79471a3af4e246ab919fa2ca4dfcd7dc",
       "version_major": 2,
       "version_minor": 0
      },
      "text/html": [
       "<p>Failed to display Jupyter Widget of type <code>HBox</code>.</p>\n",
       "<p>\n",
       "  If you're reading this message in the Jupyter Notebook or JupyterLab Notebook, it may mean\n",
       "  that the widgets JavaScript is still loading. If this message persists, it\n",
       "  likely means that the widgets JavaScript library is either not installed or\n",
       "  not enabled. See the <a href=\"https://ipywidgets.readthedocs.io/en/stable/user_install.html\">Jupyter\n",
       "  Widgets Documentation</a> for setup instructions.\n",
       "</p>\n",
       "<p>\n",
       "  If you're reading this message in another frontend (for example, a static\n",
       "  rendering on GitHub or <a href=\"https://nbviewer.jupyter.org/\">NBViewer</a>),\n",
       "  it may mean that your frontend doesn't currently support widgets.\n",
       "</p>\n"
      ],
      "text/plain": [
       "HBox(children=(IntProgress(value=0, description='Epoch', max=2), HTML(value='')))"
      ]
     },
     "metadata": {},
     "output_type": "display_data"
    },
    {
     "name": "stdout",
     "output_type": "stream",
     "text": [
      "epoch      trn_loss   val_loss   accuracy                 \n",
      "    0      1.525977   1.443921   0.479107  \n",
      "    1      1.434017   1.381109   0.506612                 \n",
      "\n"
     ]
    },
    {
     "data": {
      "text/plain": [
       "[1.3811095, 0.5066119015216828]"
      ]
     },
     "execution_count": 18,
     "metadata": {},
     "output_type": "execute_result"
    }
   ],
   "source": [
    "learn.fit(lr, 2, cycle_len=1)"
   ]
  },
  {
   "cell_type": "code",
   "execution_count": 19,
   "metadata": {
    "hidden": true
   },
   "outputs": [
    {
     "data": {
      "application/vnd.jupyter.widget-view+json": {
       "model_id": "a9055c91934a48169b18a200b99e0bce",
       "version_major": 2,
       "version_minor": 0
      },
      "text/html": [
       "<p>Failed to display Jupyter Widget of type <code>HBox</code>.</p>\n",
       "<p>\n",
       "  If you're reading this message in the Jupyter Notebook or JupyterLab Notebook, it may mean\n",
       "  that the widgets JavaScript is still loading. If this message persists, it\n",
       "  likely means that the widgets JavaScript library is either not installed or\n",
       "  not enabled. See the <a href=\"https://ipywidgets.readthedocs.io/en/stable/user_install.html\">Jupyter\n",
       "  Widgets Documentation</a> for setup instructions.\n",
       "</p>\n",
       "<p>\n",
       "  If you're reading this message in another frontend (for example, a static\n",
       "  rendering on GitHub or <a href=\"https://nbviewer.jupyter.org/\">NBViewer</a>),\n",
       "  it may mean that your frontend doesn't currently support widgets.\n",
       "</p>\n"
      ],
      "text/plain": [
       "HBox(children=(IntProgress(value=0, description='Epoch', max=7), HTML(value='')))"
      ]
     },
     "metadata": {},
     "output_type": "display_data"
    },
    {
     "name": "stdout",
     "output_type": "stream",
     "text": [
      "epoch      trn_loss   val_loss   accuracy                 \n",
      "    0      1.372313   1.342363   0.519359  \n",
      "    1      1.360764   1.338832   0.521634                 \n",
      "    2      1.23792    1.273542   0.547696                 \n",
      "    3      1.283399   1.367546   0.514827                 \n",
      "    4      1.21       1.259882   0.549891                 \n",
      "    5      1.097601   1.204052   0.571904                 \n",
      "    6      1.012386   1.188235   0.57396                  \n",
      "\n"
     ]
    },
    {
     "data": {
      "text/plain": [
       "[1.188235, 0.5739602476358414]"
      ]
     },
     "execution_count": 19,
     "metadata": {},
     "output_type": "execute_result"
    }
   ],
   "source": [
    "learn.fit(lr, 3, cycle_len=1, cycle_mult=2, wds=wd)"
   ]
  },
  {
   "cell_type": "code",
   "execution_count": 20,
   "metadata": {
    "hidden": true
   },
   "outputs": [],
   "source": [
    "learn.save('8x8_8')"
   ]
  },
  {
   "cell_type": "markdown",
   "metadata": {
    "heading_collapsed": true
   },
   "source": [
    "## 16x16"
   ]
  },
  {
   "cell_type": "code",
   "execution_count": 21,
   "metadata": {
    "hidden": true
   },
   "outputs": [],
   "source": [
    "learn.load('8x8_8')"
   ]
  },
  {
   "cell_type": "code",
   "execution_count": 22,
   "metadata": {
    "hidden": true
   },
   "outputs": [],
   "source": [
    "learn.set_data(get_data(16,bs*2))"
   ]
  },
  {
   "cell_type": "code",
   "execution_count": 23,
   "metadata": {
    "hidden": true
   },
   "outputs": [
    {
     "data": {
      "application/vnd.jupyter.widget-view+json": {
       "model_id": "1763733cea054f7eb667c3fad927df73",
       "version_major": 2,
       "version_minor": 0
      },
      "text/html": [
       "<p>Failed to display Jupyter Widget of type <code>HBox</code>.</p>\n",
       "<p>\n",
       "  If you're reading this message in the Jupyter Notebook or JupyterLab Notebook, it may mean\n",
       "  that the widgets JavaScript is still loading. If this message persists, it\n",
       "  likely means that the widgets JavaScript library is either not installed or\n",
       "  not enabled. See the <a href=\"https://ipywidgets.readthedocs.io/en/stable/user_install.html\">Jupyter\n",
       "  Widgets Documentation</a> for setup instructions.\n",
       "</p>\n",
       "<p>\n",
       "  If you're reading this message in another frontend (for example, a static\n",
       "  rendering on GitHub or <a href=\"https://nbviewer.jupyter.org/\">NBViewer</a>),\n",
       "  it may mean that your frontend doesn't currently support widgets.\n",
       "</p>\n"
      ],
      "text/plain": [
       "HBox(children=(IntProgress(value=0, description='Epoch', max=1), HTML(value='')))"
      ]
     },
     "metadata": {},
     "output_type": "display_data"
    },
    {
     "name": "stdout",
     "output_type": "stream",
     "text": [
      "epoch      trn_loss   val_loss   accuracy                   \n",
      "    0      1.540506   1.47373    0.477441  \n",
      "\n",
      "CPU times: user 1min 56s, sys: 55.8 s, total: 2min 52s\n",
      "Wall time: 2min 36s\n"
     ]
    },
    {
     "data": {
      "text/plain": [
       "[1.4737304, 0.47744140625]"
      ]
     },
     "execution_count": 23,
     "metadata": {},
     "output_type": "execute_result"
    }
   ],
   "source": [
    "%time learn.fit(1e-3, 1, wds=wd)"
   ]
  },
  {
   "cell_type": "code",
   "execution_count": 24,
   "metadata": {
    "hidden": true
   },
   "outputs": [],
   "source": [
    "learn.unfreeze()"
   ]
  },
  {
   "cell_type": "code",
   "execution_count": 25,
   "metadata": {
    "hidden": true
   },
   "outputs": [
    {
     "data": {
      "application/vnd.jupyter.widget-view+json": {
       "model_id": "c619607100704e9997024af0ddfb21d6",
       "version_major": 2,
       "version_minor": 0
      },
      "text/html": [
       "<p>Failed to display Jupyter Widget of type <code>HBox</code>.</p>\n",
       "<p>\n",
       "  If you're reading this message in the Jupyter Notebook or JupyterLab Notebook, it may mean\n",
       "  that the widgets JavaScript is still loading. If this message persists, it\n",
       "  likely means that the widgets JavaScript library is either not installed or\n",
       "  not enabled. See the <a href=\"https://ipywidgets.readthedocs.io/en/stable/user_install.html\">Jupyter\n",
       "  Widgets Documentation</a> for setup instructions.\n",
       "</p>\n",
       "<p>\n",
       "  If you're reading this message in another frontend (for example, a static\n",
       "  rendering on GitHub or <a href=\"https://nbviewer.jupyter.org/\">NBViewer</a>),\n",
       "  it may mean that your frontend doesn't currently support widgets.\n",
       "</p>\n"
      ],
      "text/plain": [
       "HBox(children=(IntProgress(value=0, description='Epoch', max=1), HTML(value='')))"
      ]
     },
     "metadata": {},
     "output_type": "display_data"
    },
    {
     "name": "stdout",
     "output_type": "stream",
     "text": [
      "epoch      trn_loss   val_loss   accuracy                   \n",
      "    0      2.34901    635.357239 0.065234  \n",
      "\n"
     ]
    }
   ],
   "source": [
    "learn.lr_find()"
   ]
  },
  {
   "cell_type": "code",
   "execution_count": 26,
   "metadata": {
    "hidden": true,
    "scrolled": true
   },
   "outputs": [
    {
     "data": {
      "image/png": "[encoded data removed]",
      "text/plain": [
       "<matplotlib.figure.Figure at 0x7f78f4599240>"
      ]
     },
     "metadata": {},
     "output_type": "display_data"
    }
   ],
   "source": [
    "learn.sched.plot()"
   ]
  },
  {
   "cell_type": "code",
   "execution_count": 27,
   "metadata": {
    "hidden": true
   },
   "outputs": [],
   "source": [
    "lr=1e-2"
   ]
  },
  {
   "cell_type": "code",
   "execution_count": 28,
   "metadata": {
    "hidden": true
   },
   "outputs": [
    {
     "data": {
      "application/vnd.jupyter.widget-view+json": {
       "model_id": "3067c689e666433e9e5b2c4f00135eb0",
       "version_major": 2,
       "version_minor": 0
      },
      "text/html": [
       "<p>Failed to display Jupyter Widget of type <code>HBox</code>.</p>\n",
       "<p>\n",
       "  If you're reading this message in the Jupyter Notebook or JupyterLab Notebook, it may mean\n",
       "  that the widgets JavaScript is still loading. If this message persists, it\n",
       "  likely means that the widgets JavaScript library is either not installed or\n",
       "  not enabled. See the <a href=\"https://ipywidgets.readthedocs.io/en/stable/user_install.html\">Jupyter\n",
       "  Widgets Documentation</a> for setup instructions.\n",
       "</p>\n",
       "<p>\n",
       "  If you're reading this message in another frontend (for example, a static\n",
       "  rendering on GitHub or <a href=\"https://nbviewer.jupyter.org/\">NBViewer</a>),\n",
       "  it may mean that your frontend doesn't currently support widgets.\n",
       "</p>\n"
      ],
      "text/plain": [
       "HBox(children=(IntProgress(value=0, description='Epoch', max=2), HTML(value='')))"
      ]
     },
     "metadata": {},
     "output_type": "display_data"
    },
    {
     "name": "stdout",
     "output_type": "stream",
     "text": [
      "epoch      trn_loss   val_loss   accuracy                   \n",
      "    0      1.225796   1.118082   0.6       \n",
      "    1      1.061757   0.989655   0.649219                   \n",
      "\n"
     ]
    },
    {
     "data": {
      "text/plain": [
       "[0.9896547, 0.64921875]"
      ]
     },
     "execution_count": 28,
     "metadata": {},
     "output_type": "execute_result"
    }
   ],
   "source": [
    "learn.fit(lr, 2, cycle_len=1, wds=wd)"
   ]
  },
  {
   "cell_type": "code",
   "execution_count": 29,
   "metadata": {
    "hidden": true
   },
   "outputs": [
    {
     "data": {
      "application/vnd.jupyter.widget-view+json": {
       "model_id": "9243b1aa0974477ebe0f66c5469c8c00",
       "version_major": 2,
       "version_minor": 0
      },
      "text/html": [
       "<p>Failed to display Jupyter Widget of type <code>HBox</code>.</p>\n",
       "<p>\n",
       "  If you're reading this message in the Jupyter Notebook or JupyterLab Notebook, it may mean\n",
       "  that the widgets JavaScript is still loading. If this message persists, it\n",
       "  likely means that the widgets JavaScript library is either not installed or\n",
       "  not enabled. See the <a href=\"https://ipywidgets.readthedocs.io/en/stable/user_install.html\">Jupyter\n",
       "  Widgets Documentation</a> for setup instructions.\n",
       "</p>\n",
       "<p>\n",
       "  If you're reading this message in another frontend (for example, a static\n",
       "  rendering on GitHub or <a href=\"https://nbviewer.jupyter.org/\">NBViewer</a>),\n",
       "  it may mean that your frontend doesn't currently support widgets.\n",
       "</p>\n"
      ],
      "text/plain": [
       "HBox(children=(IntProgress(value=0, description='Epoch', max=7), HTML(value='')))"
      ]
     },
     "metadata": {},
     "output_type": "display_data"
    },
    {
     "name": "stdout",
     "output_type": "stream",
     "text": [
      "epoch      trn_loss   val_loss   accuracy                    \n",
      "    0      0.97611    0.91118    0.675     \n",
      "    1      0.959063   0.949105   0.66377                     \n",
      "    2      0.781013   0.77951    0.718652                    \n",
      "    3      0.871249   0.863258   0.694336                    \n",
      "    4      0.742634   0.768241   0.732031                    \n",
      "    5      0.630885   0.707739   0.75498                     \n",
      "    6      0.552107   0.64909    0.774805                    \n",
      "\n"
     ]
    },
    {
     "data": {
      "text/plain": [
       "[0.6490902, 0.7748046875]"
      ]
     },
     "execution_count": 29,
     "metadata": {},
     "output_type": "execute_result"
    }
   ],
   "source": [
    "learn.fit(lr, 3, cycle_len=1, cycle_mult=2, wds=wd)"
   ]
  },
  {
   "cell_type": "code",
   "execution_count": 30,
   "metadata": {
    "hidden": true
   },
   "outputs": [],
   "source": [
    "learn.save('16x16_8')"
   ]
  },
  {
   "cell_type": "markdown",
   "metadata": {
    "heading_collapsed": true
   },
   "source": [
    "## 24x24"
   ]
  },
  {
   "cell_type": "code",
   "execution_count": 31,
   "metadata": {
    "hidden": true
   },
   "outputs": [],
   "source": [
    "learn.load('16x16_8')"
   ]
  },
  {
   "cell_type": "code",
   "execution_count": 32,
   "metadata": {
    "hidden": true
   },
   "outputs": [],
   "source": [
    "learn.set_data(get_data(24,bs))"
   ]
  },
  {
   "cell_type": "code",
   "execution_count": 33,
   "metadata": {
    "hidden": true,
    "scrolled": false
   },
   "outputs": [
    {
     "data": {
      "application/vnd.jupyter.widget-view+json": {
       "model_id": "5fb1b0b43ebd4eef88d4d1c144ccdce5",
       "version_major": 2,
       "version_minor": 0
      },
      "text/html": [
       "<p>Failed to display Jupyter Widget of type <code>HBox</code>.</p>\n",
       "<p>\n",
       "  If you're reading this message in the Jupyter Notebook or JupyterLab Notebook, it may mean\n",
       "  that the widgets JavaScript is still loading. If this message persists, it\n",
       "  likely means that the widgets JavaScript library is either not installed or\n",
       "  not enabled. See the <a href=\"https://ipywidgets.readthedocs.io/en/stable/user_install.html\">Jupyter\n",
       "  Widgets Documentation</a> for setup instructions.\n",
       "</p>\n",
       "<p>\n",
       "  If you're reading this message in another frontend (for example, a static\n",
       "  rendering on GitHub or <a href=\"https://nbviewer.jupyter.org/\">NBViewer</a>),\n",
       "  it may mean that your frontend doesn't currently support widgets.\n",
       "</p>\n"
      ],
      "text/plain": [
       "HBox(children=(IntProgress(value=0, description='Epoch', max=1), HTML(value='')))"
      ]
     },
     "metadata": {},
     "output_type": "display_data"
    },
    {
     "name": "stdout",
     "output_type": "stream",
     "text": [
      "epoch      trn_loss   val_loss   accuracy                    \n",
      "    0      0.700255   0.712629   0.753362  \n",
      "\n"
     ]
    },
    {
     "data": {
      "text/plain": [
       "[0.7126289, 0.7533623417721519]"
      ]
     },
     "execution_count": 33,
     "metadata": {},
     "output_type": "execute_result"
    }
   ],
   "source": [
    "learn.fit(1e-2, 1, wds=wd)"
   ]
  },
  {
   "cell_type": "code",
   "execution_count": 34,
   "metadata": {
    "hidden": true
   },
   "outputs": [],
   "source": [
    "learn.unfreeze()"
   ]
  },
  {
   "cell_type": "code",
   "execution_count": 35,
   "metadata": {
    "hidden": true,
    "scrolled": true
   },
   "outputs": [
    {
     "data": {
      "application/vnd.jupyter.widget-view+json": {
       "model_id": "e0cc8eb71bda4f3c88561910ebbb075f",
       "version_major": 2,
       "version_minor": 0
      },
      "text/html": [
       "<p>Failed to display Jupyter Widget of type <code>HBox</code>.</p>\n",
       "<p>\n",
       "  If you're reading this message in the Jupyter Notebook or JupyterLab Notebook, it may mean\n",
       "  that the widgets JavaScript is still loading. If this message persists, it\n",
       "  likely means that the widgets JavaScript library is either not installed or\n",
       "  not enabled. See the <a href=\"https://ipywidgets.readthedocs.io/en/stable/user_install.html\">Jupyter\n",
       "  Widgets Documentation</a> for setup instructions.\n",
       "</p>\n",
       "<p>\n",
       "  If you're reading this message in another frontend (for example, a static\n",
       "  rendering on GitHub or <a href=\"https://nbviewer.jupyter.org/\">NBViewer</a>),\n",
       "  it may mean that your frontend doesn't currently support widgets.\n",
       "</p>\n"
      ],
      "text/plain": [
       "HBox(children=(IntProgress(value=0, description='Epoch', max=1), HTML(value='')))"
      ]
     },
     "metadata": {},
     "output_type": "display_data"
    },
    {
     "name": "stdout",
     "output_type": "stream",
     "text": [
      "epoch      trn_loss   val_loss   accuracy                    \n",
      "    0      0.614506   0.580579   0.800831  \n",
      "\n"
     ]
    },
    {
     "data": {
      "text/plain": [
       "[0.5805789, 0.8008306962025317]"
      ]
     },
     "execution_count": 35,
     "metadata": {},
     "output_type": "execute_result"
    }
   ],
   "source": [
    "learn.fit(lr, 1, cycle_len=1, wds=wd)"
   ]
  },
  {
   "cell_type": "code",
   "execution_count": 36,
   "metadata": {
    "hidden": true
   },
   "outputs": [
    {
     "data": {
      "application/vnd.jupyter.widget-view+json": {
       "model_id": "67c02959e8984ae280dff23ddb16c0b6",
       "version_major": 2,
       "version_minor": 0
      },
      "text/html": [
       "<p>Failed to display Jupyter Widget of type <code>HBox</code>.</p>\n",
       "<p>\n",
       "  If you're reading this message in the Jupyter Notebook or JupyterLab Notebook, it may mean\n",
       "  that the widgets JavaScript is still loading. If this message persists, it\n",
       "  likely means that the widgets JavaScript library is either not installed or\n",
       "  not enabled. See the <a href=\"https://ipywidgets.readthedocs.io/en/stable/user_install.html\">Jupyter\n",
       "  Widgets Documentation</a> for setup instructions.\n",
       "</p>\n",
       "<p>\n",
       "  If you're reading this message in another frontend (for example, a static\n",
       "  rendering on GitHub or <a href=\"https://nbviewer.jupyter.org/\">NBViewer</a>),\n",
       "  it may mean that your frontend doesn't currently support widgets.\n",
       "</p>\n"
      ],
      "text/plain": [
       "HBox(children=(IntProgress(value=0, description='Epoch', max=7), HTML(value='')))"
      ]
     },
     "metadata": {},
     "output_type": "display_data"
    },
    {
     "name": "stdout",
     "output_type": "stream",
     "text": [
      "epoch      trn_loss   val_loss   accuracy                    \n",
      "    0      0.54817    0.527482   0.817148  \n",
      "    1      0.569647   0.567712   0.805874                    \n",
      "    2      0.405793   0.44854    0.851562                    \n",
      "    3      0.545356   0.646212   0.789359                    \n",
      "    4      0.411653   0.497018   0.837718                    \n",
      "    5      0.300841   0.398553   0.871934                    \n",
      "    6      0.252084   0.373032   0.878758                    \n",
      "\n"
     ]
    },
    {
     "data": {
      "text/plain": [
       "[0.37303236, 0.8787579113924051]"
      ]
     },
     "execution_count": 36,
     "metadata": {},
     "output_type": "execute_result"
    }
   ],
   "source": [
    "learn.fit(lr, 3, cycle_len=1, cycle_mult=2, wds=wd)"
   ]
  },
  {
   "cell_type": "code",
   "execution_count": 37,
   "metadata": {
    "hidden": true
   },
   "outputs": [],
   "source": [
    "learn.save('24x24_8')"
   ]
  },
  {
   "cell_type": "code",
   "execution_count": 38,
   "metadata": {
    "hidden": true
   },
   "outputs": [
    {
     "name": "stdout",
     "output_type": "stream",
     "text": [
      "                                             \r"
     ]
    },
    {
     "data": {
      "text/plain": [
       "(0.34619089903291594, 0.8843)"
      ]
     },
     "execution_count": 38,
     "metadata": {},
     "output_type": "execute_result"
    }
   ],
   "source": [
    "log_preds,y = learn.TTA()\n",
    "# preds = np.mean(np.exp(log_preds),0)metrics.log_loss(y,preds), accuracy(preds,y) # Invalid syntax\n",
    "preds = np.mean(np.exp(log_preds),0)\n",
    "metrics.log_loss(y,preds), accuracy_np(preds,y)"
   ]
  },
  {
   "cell_type": "markdown",
   "metadata": {},
   "source": [
    "## 32x32"
   ]
  },
  {
   "cell_type": "code",
   "execution_count": 39,
   "metadata": {},
   "outputs": [],
   "source": [
    "learn.load('24x24_8')"
   ]
  },
  {
   "cell_type": "code",
   "execution_count": 40,
   "metadata": {},
   "outputs": [],
   "source": [
    "learn.set_data(get_data(32,bs))"
   ]
  },
  {
   "cell_type": "code",
   "execution_count": 41,
   "metadata": {
    "scrolled": false
   },
   "outputs": [
    {
     "data": {
      "application/vnd.jupyter.widget-view+json": {
       "model_id": "f64819f1ff294d7c8a922c8d11245cc0",
       "version_major": 2,
       "version_minor": 0
      },
      "text/html": [
       "<p>Failed to display Jupyter Widget of type <code>HBox</code>.</p>\n",
       "<p>\n",
       "  If you're reading this message in the Jupyter Notebook or JupyterLab Notebook, it may mean\n",
       "  that the widgets JavaScript is still loading. If this message persists, it\n",
       "  likely means that the widgets JavaScript library is either not installed or\n",
       "  not enabled. See the <a href=\"https://ipywidgets.readthedocs.io/en/stable/user_install.html\">Jupyter\n",
       "  Widgets Documentation</a> for setup instructions.\n",
       "</p>\n",
       "<p>\n",
       "  If you're reading this message in another frontend (for example, a static\n",
       "  rendering on GitHub or <a href=\"https://nbviewer.jupyter.org/\">NBViewer</a>),\n",
       "  it may mean that your frontend doesn't currently support widgets.\n",
       "</p>\n"
      ],
      "text/plain": [
       "HBox(children=(IntProgress(value=0, description='Epoch', max=1), HTML(value='')))"
      ]
     },
     "metadata": {},
     "output_type": "display_data"
    },
    {
     "name": "stdout",
     "output_type": "stream",
     "text": [
      "epoch      trn_loss   val_loss   accuracy                    \n",
      "    0      0.31336    0.40382    0.862144  \n",
      "\n"
     ]
    },
    {
     "data": {
      "text/plain": [
       "[0.4038196, 0.8621439873417721]"
      ]
     },
     "execution_count": 41,
     "metadata": {},
     "output_type": "execute_result"
    }
   ],
   "source": [
    "learn.fit(1e-2, 1, wds=wd)"
   ]
  },
  {
   "cell_type": "code",
   "execution_count": 42,
   "metadata": {},
   "outputs": [],
   "source": [
    "learn.unfreeze()"
   ]
  },
  {
   "cell_type": "code",
   "execution_count": 43,
   "metadata": {},
   "outputs": [
    {
     "data": {
      "application/vnd.jupyter.widget-view+json": {
       "model_id": "9eb2955d3e0a4e108652d9d8b8b9195c",
       "version_major": 2,
       "version_minor": 0
      },
      "text/html": [
       "<p>Failed to display Jupyter Widget of type <code>HBox</code>.</p>\n",
       "<p>\n",
       "  If you're reading this message in the Jupyter Notebook or JupyterLab Notebook, it may mean\n",
       "  that the widgets JavaScript is still loading. If this message persists, it\n",
       "  likely means that the widgets JavaScript library is either not installed or\n",
       "  not enabled. See the <a href=\"https://ipywidgets.readthedocs.io/en/stable/user_install.html\">Jupyter\n",
       "  Widgets Documentation</a> for setup instructions.\n",
       "</p>\n",
       "<p>\n",
       "  If you're reading this message in another frontend (for example, a static\n",
       "  rendering on GitHub or <a href=\"https://nbviewer.jupyter.org/\">NBViewer</a>),\n",
       "  it may mean that your frontend doesn't currently support widgets.\n",
       "</p>\n"
      ],
      "text/plain": [
       "HBox(children=(IntProgress(value=0, description='Epoch', max=7), HTML(value='')))"
      ]
     },
     "metadata": {},
     "output_type": "display_data"
    },
    {
     "name": "stdout",
     "output_type": "stream",
     "text": [
      "epoch      trn_loss   val_loss   accuracy                    \n",
      "    0      0.302052   0.336448   0.885285  \n",
      "    1      0.344767   0.454492   0.8571                      \n",
      "    2      0.211337   0.298965   0.899624                    \n",
      "    3      0.35453    0.531397   0.836234                    \n",
      "    4      0.245101   0.393363   0.874703                    \n",
      "    5      0.159376   0.279794   0.90981                     \n",
      "    6      0.121336   0.266196   0.911986                    \n",
      "\n"
     ]
    },
    {
     "data": {
      "text/plain": [
       "[0.26619586, 0.9119857594936709]"
      ]
     },
     "execution_count": 43,
     "metadata": {},
     "output_type": "execute_result"
    }
   ],
   "source": [
    "learn.fit(lr, 3, cycle_len=1, cycle_mult=2, wds=wd)"
   ]
  },
  {
   "cell_type": "code",
   "execution_count": 44,
   "metadata": {
    "scrolled": true
   },
   "outputs": [
    {
     "data": {
      "application/vnd.jupyter.widget-view+json": {
       "model_id": "94c58d3bbcdd40eca76e212162e60be4",
       "version_major": 2,
       "version_minor": 0
      },
      "text/html": [
       "<p>Failed to display Jupyter Widget of type <code>HBox</code>.</p>\n",
       "<p>\n",
       "  If you're reading this message in the Jupyter Notebook or JupyterLab Notebook, it may mean\n",
       "  that the widgets JavaScript is still loading. If this message persists, it\n",
       "  likely means that the widgets JavaScript library is either not installed or\n",
       "  not enabled. See the <a href=\"https://ipywidgets.readthedocs.io/en/stable/user_install.html\">Jupyter\n",
       "  Widgets Documentation</a> for setup instructions.\n",
       "</p>\n",
       "<p>\n",
       "  If you're reading this message in another frontend (for example, a static\n",
       "  rendering on GitHub or <a href=\"https://nbviewer.jupyter.org/\">NBViewer</a>),\n",
       "  it may mean that your frontend doesn't currently support widgets.\n",
       "</p>\n"
      ],
      "text/plain": [
       "HBox(children=(IntProgress(value=0, description='Epoch', max=12), HTML(value='')))"
      ]
     },
     "metadata": {},
     "output_type": "display_data"
    },
    {
     "name": "stdout",
     "output_type": "stream",
     "text": [
      "epoch      trn_loss   val_loss   accuracy                    \n",
      "    0      0.283907   0.434218   0.862243  \n",
      "    1      0.202203   0.336107   0.888647                    \n",
      "    2      0.115983   0.262497   0.915051                    \n",
      "    3      0.083738   0.255399   0.918018                     \n",
      "    4      0.241292   0.462639   0.863627                    \n",
      "    5      0.148604   0.299962   0.905459                    \n",
      "    6      0.082738   0.257134   0.919502                     \n",
      "    7      0.060521   0.252066   0.920985                     \n",
      "    8      0.200242   0.688547   0.821499                    \n",
      "    9      0.124902   0.298364   0.904668                    \n",
      "    10     0.066166   0.253044   0.922073                     \n",
      "    11     0.04829    0.243299   0.924842                     \n",
      "\n"
     ]
    },
    {
     "data": {
      "text/plain": [
       "[0.24329914, 0.9248417721518988]"
      ]
     },
     "execution_count": 44,
     "metadata": {},
     "output_type": "execute_result"
    }
   ],
   "source": [
    "learn.fit(lr, 3, cycle_len=4, wds=wd)"
   ]
  },
  {
   "cell_type": "code",
   "execution_count": 45,
   "metadata": {},
   "outputs": [
    {
     "name": "stdout",
     "output_type": "stream",
     "text": [
      "                                             \r"
     ]
    },
    {
     "data": {
      "text/plain": [
       "(0.21098502119279933, 0.9257)"
      ]
     },
     "execution_count": 45,
     "metadata": {},
     "output_type": "execute_result"
    }
   ],
   "source": [
    "log_preds,y = learn.TTA()\n",
    "#metrics.log_loss(y,np.exp(log_preds)), accuracy(log_preds,y)\n",
    "preds = np.mean(np.exp(log_preds),0)\n",
    "metrics.log_loss(y,preds), accuracy_np(preds,y)"
   ]
  },
  {
   "cell_type": "code",
   "execution_count": 46,
   "metadata": {},
   "outputs": [],
   "source": [
    "learn.save('32x32_8')"
   ]
  },
  {
   "cell_type": "code",
   "execution_count": null,
   "metadata": {
    "collapsed": true
   },
   "outputs": [],
   "source": []
  }
 ],
 "metadata": {
  "kernelspec": {
   "display_name": "Python 3",
   "language": "python",
   "name": "python3"
  },
  "language_info": {
   "codemirror_mode": {
    "name": "ipython",
    "version": 3
   },
   "file_extension": ".py",
   "mimetype": "text/x-python",
   "name": "python",
   "nbconvert_exporter": "python",
   "pygments_lexer": "ipython3",
   "version": "3.6.4"
  },
  "toc": {
   "nav_menu": {
    "height": "266px",
    "width": "252px"
   },
   "number_sections": true,
   "sideBar": true,
   "skip_h1_title": false,
   "toc_cell": false,
   "toc_position": {},
   "toc_section_display": "block",
   "toc_window_display": false
  },
  "widgets": {
   "application/vnd.jupyter.widget-state+json": {
    "state": {
     "00304a3241d844a98a354319a62b1d2d": {
      "model_module": "@jupyter-widgets/controls",
      "model_module_version": "1.1.0",
      "model_name": "IntProgressModel",
      "state": {
       "bar_style": "success",
       "description": "Epoch",
       "layout": "IPY_MODEL_9766c185359b4295869a50981418143a",
       "max": 1,
       "style": "IPY_MODEL_e200e82a15f847e389dc7b7610710f0f",
       "value": 1
      }
     },
     "02f123bf07ee4907bcbcfeb5571beb7b": {
      "model_module": "@jupyter-widgets/base",
      "model_module_version": "1.0.0",
      "model_name": "LayoutModel",
      "state": {}
     },
     "037751c42985497db179cb9dab3843ee": {
      "model_module": "@jupyter-widgets/controls",
      "model_module_version": "1.1.0",
      "model_name": "ProgressStyleModel",
      "state": {
       "description_width": ""
      }
     },
     "04ce5d8106d440f280ad1b59571b380f": {
      "model_module": "@jupyter-widgets/base",
      "model_module_version": "1.0.0",
      "model_name": "LayoutModel",
      "state": {}
     },
     "062c267a7f3348f79cd4f835fc37e8e1": {
      "model_module": "@jupyter-widgets/base",
      "model_module_version": "1.0.0",
      "model_name": "LayoutModel",
      "state": {}
     },
     "0675c32561594992b949310d98168fa8": {
      "model_module": "@jupyter-widgets/controls",
      "model_module_version": "1.1.0",
      "model_name": "ProgressStyleModel",
      "state": {
       "description_width": ""
      }
     },
     "07f874bc04c740b3bb339601f9d065df": {
      "model_module": "@jupyter-widgets/controls",
      "model_module_version": "1.1.0",
      "model_name": "DescriptionStyleModel",
      "state": {
       "description_width": ""
      }
     },
     "0a576b88b9dd4ba4845299e928cfab93": {
      "model_module": "@jupyter-widgets/controls",
      "model_module_version": "1.1.0",
      "model_name": "ProgressStyleModel",
      "state": {
       "description_width": ""
      }
     },
     "0aaf22ac70a64cab8f76eeb1492c484d": {
      "model_module": "@jupyter-widgets/base",
      "model_module_version": "1.0.0",
      "model_name": "LayoutModel",
      "state": {}
     },
     "0bc1bb77019b40e59ff873d1b09b4330": {
      "model_module": "@jupyter-widgets/controls",
      "model_module_version": "1.1.0",
      "model_name": "HTMLModel",
      "state": {
       "layout": "IPY_MODEL_aaca20a1d17e446392e4d9a6a9c43289",
       "style": "IPY_MODEL_a8a4ff5938844affa8bca74903585d8b",
       "value": "100% 7/7 [1:48:41&lt;00:00, 931.71s/it]"
      }
     },
     "0c33625240074c23b2e088ce79b251fd": {
      "model_module": "@jupyter-widgets/controls",
      "model_module_version": "1.1.0",
      "model_name": "IntProgressModel",
      "state": {
       "bar_style": "success",
       "description": "Epoch",
       "layout": "IPY_MODEL_1401689dd7be4c95b7bd0ceea8934ab2",
       "max": 1,
       "style": "IPY_MODEL_3edca61136f84cb7b003d86dbec9374d",
       "value": 1
      }
     },
     "0f4efa3695d540e3a91fddd1b776ae51": {
      "model_module": "@jupyter-widgets/base",
      "model_module_version": "1.0.0",
      "model_name": "LayoutModel",
      "state": {}
     },
     "1401689dd7be4c95b7bd0ceea8934ab2": {
      "model_module": "@jupyter-widgets/base",
      "model_module_version": "1.0.0",
      "model_name": "LayoutModel",
      "state": {}
     },
     "148623591456444c9432a1470a67320a": {
      "model_module": "@jupyter-widgets/controls",
      "model_module_version": "1.1.0",
      "model_name": "DescriptionStyleModel",
      "state": {
       "description_width": ""
      }
     },
     "15bc58d093354217a6aec40ca0593afe": {
      "model_module": "@jupyter-widgets/base",
      "model_module_version": "1.0.0",
      "model_name": "LayoutModel",
      "state": {}
     },
     "1614d271dccf47a79368546bb84d2984": {
      "model_module": "@jupyter-widgets/base",
      "model_module_version": "1.0.0",
      "model_name": "LayoutModel",
      "state": {}
     },
     "173e2bbb672048ccb5701bad80b2e72f": {
      "model_module": "@jupyter-widgets/controls",
      "model_module_version": "1.1.0",
      "model_name": "IntProgressModel",
      "state": {
       "bar_style": "success",
       "description": "Epoch",
       "layout": "IPY_MODEL_192be38d7c30476ab409a6043cc4528c",
       "max": 7,
       "style": "IPY_MODEL_8a45900cc97c4108a4eca000a301e80c",
       "value": 7
      }
     },
     "1763733cea054f7eb667c3fad927df73": {
      "model_module": "@jupyter-widgets/controls",
      "model_module_version": "1.1.0",
      "model_name": "HBoxModel",
      "state": {
       "children": [
        "IPY_MODEL_337c0d7a6fe541eba3f78af468582382",
        "IPY_MODEL_58e0b52bdc00496386bb26f0a80041c7"
       ],
       "layout": "IPY_MODEL_f1c84a2438ba4c778152d6baeadd07d1"
      }
     },
     "192be38d7c30476ab409a6043cc4528c": {
      "model_module": "@jupyter-widgets/base",
      "model_module_version": "1.0.0",
      "model_name": "LayoutModel",
      "state": {}
     },
     "1a196d6094944cf1ae8517891035fa97": {
      "model_module": "@jupyter-widgets/base",
      "model_module_version": "1.0.0",
      "model_name": "LayoutModel",
      "state": {}
     },
     "1a4ec92eca464272a09cc95744a5a612": {
      "model_module": "@jupyter-widgets/base",
      "model_module_version": "1.0.0",
      "model_name": "LayoutModel",
      "state": {}
     },
     "1c8a4eec5e9b46e9a3572b7a082aa40a": {
      "model_module": "@jupyter-widgets/base",
      "model_module_version": "1.0.0",
      "model_name": "LayoutModel",
      "state": {}
     },
     "1ca28b6c44014824804a0ac782709261": {
      "model_module": "@jupyter-widgets/controls",
      "model_module_version": "1.1.0",
      "model_name": "ProgressStyleModel",
      "state": {
       "description_width": ""
      }
     },
     "1caf9f1dd92b44d9b4fec3ab983a1228": {
      "model_module": "@jupyter-widgets/controls",
      "model_module_version": "1.1.0",
      "model_name": "HTMLModel",
      "state": {
       "layout": "IPY_MODEL_fa52bddaf11743ec812a8cfe00078f09",
       "style": "IPY_MODEL_fd234499af864702b6a5d35937bba575",
       "value": "100% 1/1 [04:57&lt;00:00, 297.16s/it]"
      }
     },
     "1e19772254cd4af1bc6eec61155be7f3": {
      "model_module": "@jupyter-widgets/controls",
      "model_module_version": "1.1.0",
      "model_name": "DescriptionStyleModel",
      "state": {
       "description_width": ""
      }
     },
     "1f0e220c370f4039b36daf85309137bc": {
      "model_module": "@jupyter-widgets/controls",
      "model_module_version": "1.1.0",
      "model_name": "IntProgressModel",
      "state": {
       "bar_style": "success",
       "description": "Epoch",
       "layout": "IPY_MODEL_f995af3acda64b68aebeb630388f709a",
       "max": 1,
       "style": "IPY_MODEL_1ca28b6c44014824804a0ac782709261",
       "value": 1
      }
     },
     "2096ae6be1d64001a449efd3bb8619f7": {
      "model_module": "@jupyter-widgets/controls",
      "model_module_version": "1.1.0",
      "model_name": "HBoxModel",
      "state": {
       "children": [
        "IPY_MODEL_89a31d7cd8124973a4d290ecd4f028b1",
        "IPY_MODEL_5575b466d9c14b45ab656bcf3ede491f"
       ],
       "layout": "IPY_MODEL_d798fdaeba9c4cc18c02265880ff59a1"
      }
     },
     "2538acd25f5d49b99c3529cbc6e203cc": {
      "model_module": "@jupyter-widgets/controls",
      "model_module_version": "1.1.0",
      "model_name": "HTMLModel",
      "state": {
       "layout": "IPY_MODEL_41730b6e0ebf4445af0fcd055a850c46",
       "style": "IPY_MODEL_397cbc971c5a43d1bc0511f682fcabb0",
       "value": "100% 1/1 [07:59&lt;00:00, 479.84s/it]"
      }
     },
     "2579cfe6c16645ce9ff6e95ae2c76b9e": {
      "model_module": "@jupyter-widgets/base",
      "model_module_version": "1.0.0",
      "model_name": "LayoutModel",
      "state": {}
     },
     "25d289e2f37f47ec82270ed39bd858f6": {
      "model_module": "@jupyter-widgets/controls",
      "model_module_version": "1.1.0",
      "model_name": "ProgressStyleModel",
      "state": {
       "description_width": ""
      }
     },
     "261eda4b00904d22baff0c39b4ae88d6": {
      "model_module": "@jupyter-widgets/controls",
      "model_module_version": "1.1.0",
      "model_name": "IntProgressModel",
      "state": {
       "bar_style": "success",
       "description": "Epoch",
       "layout": "IPY_MODEL_994d54df299344ddad2a6b082866babc",
       "max": 7,
       "style": "IPY_MODEL_fa43ae5833524ed983315f3f498e8dd2",
       "value": 7
      }
     },
     "26829e5a5e1e4379a250ce1d97fe1b36": {
      "model_module": "@jupyter-widgets/controls",
      "model_module_version": "1.1.0",
      "model_name": "DescriptionStyleModel",
      "state": {
       "description_width": ""
      }
     },
     "285e8c4543f4481195541c26647bfc54": {
      "model_module": "@jupyter-widgets/controls",
      "model_module_version": "1.1.0",
      "model_name": "IntProgressModel",
      "state": {
       "bar_style": "success",
       "description": "Epoch",
       "layout": "IPY_MODEL_02f123bf07ee4907bcbcfeb5571beb7b",
       "max": 1,
       "style": "IPY_MODEL_c02a8088fddf4716826577058dc798eb",
       "value": 1
      }
     },
     "29e24758632e4a26b9ad8f16fc848073": {
      "model_module": "@jupyter-widgets/controls",
      "model_module_version": "1.1.0",
      "model_name": "IntProgressModel",
      "state": {
       "bar_style": "success",
       "description": "Epoch",
       "layout": "IPY_MODEL_61b6ed8576a342f8b5dcbc9a48eb38b9",
       "max": 7,
       "style": "IPY_MODEL_abbef64068da4055b26c1babac7f5b32",
       "value": 7
      }
     },
     "2aba4418f163414282863df1bb8c97de": {
      "model_module": "@jupyter-widgets/controls",
      "model_module_version": "1.1.0",
      "model_name": "DescriptionStyleModel",
      "state": {
       "description_width": ""
      }
     },
     "2eee30b821b04af3a20d69258464f6ca": {
      "model_module": "@jupyter-widgets/controls",
      "model_module_version": "1.1.0",
      "model_name": "DescriptionStyleModel",
      "state": {
       "description_width": ""
      }
     },
     "2f05e95734f047cfb58df9b44e9bd609": {
      "model_module": "@jupyter-widgets/controls",
      "model_module_version": "1.1.0",
      "model_name": "HTMLModel",
      "state": {
       "layout": "IPY_MODEL_f47a09b9577b4ce7ba3f468c1db0194c",
       "style": "IPY_MODEL_dfdbfb86b7024c71bc2a80710b59247b",
       "value": "100% 1/1 [02:25&lt;00:00, 145.42s/it]"
      }
     },
     "3040bcc0c49649b985561b23fdd0c7df": {
      "model_module": "@jupyter-widgets/controls",
      "model_module_version": "1.1.0",
      "model_name": "HBoxModel",
      "state": {
       "children": [
        "IPY_MODEL_981572af67ed47b0be1e84840f658320",
        "IPY_MODEL_cc003283f503448bb34b33871fd6d49e"
       ],
       "layout": "IPY_MODEL_632bb340de4146caaf052fa40d15189d"
      }
     },
     "3067c689e666433e9e5b2c4f00135eb0": {
      "model_module": "@jupyter-widgets/controls",
      "model_module_version": "1.1.0",
      "model_name": "HBoxModel",
      "state": {
       "children": [
        "IPY_MODEL_88221cd8ab974880b1d5a4dc8f802e3e",
        "IPY_MODEL_c4a0ef80ec524d54b57d1cb258529d44"
       ],
       "layout": "IPY_MODEL_3bac95a12eac4ff2b817b416c3a3936c"
      }
     },
     "30ec9bbd078e46d99d0fdbed0e6a9c33": {
      "model_module": "@jupyter-widgets/base",
      "model_module_version": "1.0.0",
      "model_name": "LayoutModel",
      "state": {}
     },
     "32c480570e134b01863699f37586542b": {
      "model_module": "@jupyter-widgets/controls",
      "model_module_version": "1.1.0",
      "model_name": "ProgressStyleModel",
      "state": {
       "description_width": ""
      }
     },
     "337c0d7a6fe541eba3f78af468582382": {
      "model_module": "@jupyter-widgets/controls",
      "model_module_version": "1.1.0",
      "model_name": "IntProgressModel",
      "state": {
       "bar_style": "success",
       "description": "Epoch",
       "layout": "IPY_MODEL_dec7740e9cd64e9c8dae4b4443c21f8c",
       "max": 1,
       "style": "IPY_MODEL_32c480570e134b01863699f37586542b",
       "value": 1
      }
     },
     "35165903fbff4504ab87ef80e92addb3": {
      "model_module": "@jupyter-widgets/base",
      "model_module_version": "1.0.0",
      "model_name": "LayoutModel",
      "state": {}
     },
     "35677e4602414216bb5068f7989ff1d7": {
      "model_module": "@jupyter-widgets/controls",
      "model_module_version": "1.1.0",
      "model_name": "HBoxModel",
      "state": {
       "children": [
        "IPY_MODEL_f63a15a889164ba3b08f07042204f6f5",
        "IPY_MODEL_ea1edc8957e04e9b87fd6fa2316093db"
       ],
       "layout": "IPY_MODEL_dcf6deaecce34374b55416b433beab49"
      }
     },
     "3576cb3d89b441878ee5202d87d8f776": {
      "model_module": "@jupyter-widgets/controls",
      "model_module_version": "1.1.0",
      "model_name": "DescriptionStyleModel",
      "state": {
       "description_width": ""
      }
     },
     "35edc28e315c4bf8bb1581c8375da5b7": {
      "model_module": "@jupyter-widgets/base",
      "model_module_version": "1.0.0",
      "model_name": "LayoutModel",
      "state": {}
     },
     "397cbc971c5a43d1bc0511f682fcabb0": {
      "model_module": "@jupyter-widgets/controls",
      "model_module_version": "1.1.0",
      "model_name": "DescriptionStyleModel",
      "state": {
       "description_width": ""
      }
     },
     "3bab63525b5c44d2b73ae5f014cf1db9": {
      "model_module": "@jupyter-widgets/controls",
      "model_module_version": "1.1.0",
      "model_name": "IntProgressModel",
      "state": {
       "bar_style": "success",
       "description": "Epoch",
       "layout": "IPY_MODEL_7894e5dd970e446eb5dd7a4427e2323b",
       "max": 1,
       "style": "IPY_MODEL_e45a2abeb2aa4a01a381239c6125032b",
       "value": 1
      }
     },
     "3bac95a12eac4ff2b817b416c3a3936c": {
      "model_module": "@jupyter-widgets/base",
      "model_module_version": "1.0.0",
      "model_name": "LayoutModel",
      "state": {}
     },
     "3edca61136f84cb7b003d86dbec9374d": {
      "model_module": "@jupyter-widgets/controls",
      "model_module_version": "1.1.0",
      "model_name": "ProgressStyleModel",
      "state": {
       "description_width": ""
      }
     },
     "3f23c809314444e6800b4c24cfd3288f": {
      "model_module": "@jupyter-widgets/base",
      "model_module_version": "1.0.0",
      "model_name": "LayoutModel",
      "state": {}
     },
     "405ec04738cd4bc89199dad936274065": {
      "model_module": "@jupyter-widgets/controls",
      "model_module_version": "1.1.0",
      "model_name": "DescriptionStyleModel",
      "state": {
       "description_width": ""
      }
     },
     "40c591f8bc3d4d25a4c9f9644509a976": {
      "model_module": "@jupyter-widgets/controls",
      "model_module_version": "1.1.0",
      "model_name": "ProgressStyleModel",
      "state": {
       "description_width": ""
      }
     },
     "41730b6e0ebf4445af0fcd055a850c46": {
      "model_module": "@jupyter-widgets/base",
      "model_module_version": "1.0.0",
      "model_name": "LayoutModel",
      "state": {}
     },
     "4181241deaae41e8b1f67d0692b66a70": {
      "model_module": "@jupyter-widgets/controls",
      "model_module_version": "1.1.0",
      "model_name": "HTMLModel",
      "state": {
       "layout": "IPY_MODEL_b745dc73aa7144e487576f685df01c13",
       "style": "IPY_MODEL_1e19772254cd4af1bc6eec61155be7f3",
       "value": "100% 1/1 [05:07&lt;00:00, 307.94s/it]"
      }
     },
     "41db910308dd40feaf17f883d0dabb73": {
      "model_module": "@jupyter-widgets/base",
      "model_module_version": "1.0.0",
      "model_name": "LayoutModel",
      "state": {}
     },
     "4322c29206f64465b605f2b758da3280": {
      "model_module": "@jupyter-widgets/base",
      "model_module_version": "1.0.0",
      "model_name": "LayoutModel",
      "state": {}
     },
     "436abcbc6e334975bd1d170a73a0cdad": {
      "model_module": "@jupyter-widgets/controls",
      "model_module_version": "1.1.0",
      "model_name": "DescriptionStyleModel",
      "state": {
       "description_width": ""
      }
     },
     "45be0a65f8444603ba74e428a16d6c45": {
      "model_module": "@jupyter-widgets/controls",
      "model_module_version": "1.1.0",
      "model_name": "ProgressStyleModel",
      "state": {
       "description_width": ""
      }
     },
     "4826b9a7e5ad4de286659984c8ea47e9": {
      "model_module": "@jupyter-widgets/controls",
      "model_module_version": "1.1.0",
      "model_name": "ProgressStyleModel",
      "state": {
       "description_width": ""
      }
     },
     "489174c2c28843d6a94758ef028064e6": {
      "model_module": "@jupyter-widgets/controls",
      "model_module_version": "1.1.0",
      "model_name": "DescriptionStyleModel",
      "state": {
       "description_width": ""
      }
     },
     "4978a57012804156a9a8c1a5895b014e": {
      "model_module": "@jupyter-widgets/controls",
      "model_module_version": "1.1.0",
      "model_name": "IntProgressModel",
      "state": {
       "bar_style": "success",
       "description": "Epoch",
       "layout": "IPY_MODEL_6e895232600d4d82880e7b29ad7c5d3d",
       "max": 2,
       "style": "IPY_MODEL_45be0a65f8444603ba74e428a16d6c45",
       "value": 2
      }
     },
     "4a3cc2c23ab74925ac10c3111fa80172": {
      "model_module": "@jupyter-widgets/base",
      "model_module_version": "1.0.0",
      "model_name": "LayoutModel",
      "state": {}
     },
     "4a6912c7826e497dae49b29c3e093c5d": {
      "model_module": "@jupyter-widgets/base",
      "model_module_version": "1.0.0",
      "model_name": "LayoutModel",
      "state": {}
     },
     "4bb1399c489846c588a41f6bc74d8e00": {
      "model_module": "@jupyter-widgets/base",
      "model_module_version": "1.0.0",
      "model_name": "LayoutModel",
      "state": {}
     },
     "4c9389a0b2db49d695980b3592d62270": {
      "model_module": "@jupyter-widgets/controls",
      "model_module_version": "1.1.0",
      "model_name": "ProgressStyleModel",
      "state": {
       "description_width": ""
      }
     },
     "4f53067522904ffe8e12a598f49e30ea": {
      "model_module": "@jupyter-widgets/base",
      "model_module_version": "1.0.0",
      "model_name": "LayoutModel",
      "state": {}
     },
     "50d648cdd12e4456ac4a4d19c831b9b1": {
      "model_module": "@jupyter-widgets/controls",
      "model_module_version": "1.1.0",
      "model_name": "DescriptionStyleModel",
      "state": {
       "description_width": ""
      }
     },
     "50d8227723c44cb8bbfa51891872288a": {
      "model_module": "@jupyter-widgets/controls",
      "model_module_version": "1.1.0",
      "model_name": "ProgressStyleModel",
      "state": {
       "description_width": ""
      }
     },
     "511aa95b947b4a6b9a362a205238d8af": {
      "model_module": "@jupyter-widgets/controls",
      "model_module_version": "1.1.0",
      "model_name": "IntProgressModel",
      "state": {
       "bar_style": "success",
       "description": "Epoch",
       "layout": "IPY_MODEL_6f849807e1e8466e826753249443e345",
       "max": 7,
       "style": "IPY_MODEL_0a576b88b9dd4ba4845299e928cfab93",
       "value": 7
      }
     },
     "549386e8087b4cc0b3cb1e99c821b5f0": {
      "model_module": "@jupyter-widgets/controls",
      "model_module_version": "1.1.0",
      "model_name": "HTMLModel",
      "state": {
       "layout": "IPY_MODEL_60b5798c8cf342f8868336b939b7eeab",
       "style": "IPY_MODEL_a518ad8e6f3a4d9c838cfbbc82a54dd0",
       "value": "100% 1/1 [08:33&lt;00:00, 513.45s/it]"
      }
     },
     "5575b466d9c14b45ab656bcf3ede491f": {
      "model_module": "@jupyter-widgets/controls",
      "model_module_version": "1.1.0",
      "model_name": "HTMLModel",
      "state": {
       "layout": "IPY_MODEL_79c1fce575f542a6b616d11e49e79a9c",
       "style": "IPY_MODEL_489174c2c28843d6a94758ef028064e6",
       "value": "100% 2/2 [16:08&lt;00:00, 484.10s/it]"
      }
     },
     "55bd3171594a4fb29d10f8168b77ea82": {
      "model_module": "@jupyter-widgets/controls",
      "model_module_version": "1.1.0",
      "model_name": "HTMLModel",
      "state": {
       "layout": "IPY_MODEL_4a6912c7826e497dae49b29c3e093c5d",
       "style": "IPY_MODEL_abd43a6a7f544807ab3bc5887b366cdf",
       "value": "100% 7/7 [1:00:14&lt;00:00, 516.32s/it]"
      }
     },
     "57a4ed9ecd9c45429d5ac8cc30593035": {
      "model_module": "@jupyter-widgets/base",
      "model_module_version": "1.0.0",
      "model_name": "LayoutModel",
      "state": {}
     },
     "58e0b52bdc00496386bb26f0a80041c7": {
      "model_module": "@jupyter-widgets/controls",
      "model_module_version": "1.1.0",
      "model_name": "HTMLModel",
      "state": {
       "layout": "IPY_MODEL_41db910308dd40feaf17f883d0dabb73",
       "style": "IPY_MODEL_692651657d1d46eaa6b7b54e1345aa44",
       "value": "100% 1/1 [02:36&lt;00:00, 156.68s/it]"
      }
     },
     "5997dc8c98cb42dab95403988ad06621": {
      "model_module": "@jupyter-widgets/controls",
      "model_module_version": "1.1.0",
      "model_name": "ProgressStyleModel",
      "state": {
       "description_width": ""
      }
     },
     "5ab56313ecae497a8ed471d2f07498c3": {
      "model_module": "@jupyter-widgets/base",
      "model_module_version": "1.0.0",
      "model_name": "LayoutModel",
      "state": {}
     },
     "5b18ece8f84c4a60b68ccfdb2ad6cc64": {
      "model_module": "@jupyter-widgets/controls",
      "model_module_version": "1.1.0",
      "model_name": "ProgressStyleModel",
      "state": {
       "description_width": ""
      }
     },
     "5bdbe35792014c54bcd545cabdc4dc04": {
      "model_module": "@jupyter-widgets/controls",
      "model_module_version": "1.1.0",
      "model_name": "DescriptionStyleModel",
      "state": {
       "description_width": ""
      }
     },
     "5c5e5c9591554f74ab04a18383e9808d": {
      "model_module": "@jupyter-widgets/controls",
      "model_module_version": "1.1.0",
      "model_name": "HBoxModel",
      "state": {
       "children": [
        "IPY_MODEL_f0195b4bea0d44769045f99c5f0d9614",
        "IPY_MODEL_669b90fa346042ed92f9e9b23ac0d180"
       ],
       "layout": "IPY_MODEL_ba0fdfccaff94f9ebe86acf1cf2aa5db"
      }
     },
     "5fb1b0b43ebd4eef88d4d1c144ccdce5": {
      "model_module": "@jupyter-widgets/controls",
      "model_module_version": "1.1.0",
      "model_name": "HBoxModel",
      "state": {
       "children": [
        "IPY_MODEL_a31e0ec7c5b24337b7ba0428ce669dfb",
        "IPY_MODEL_e21dfdb541814f429284d76b215451fc"
       ],
       "layout": "IPY_MODEL_62b58ac15c9d4087923a6ae6dcb6f71f"
      }
     },
     "60b5798c8cf342f8868336b939b7eeab": {
      "model_module": "@jupyter-widgets/base",
      "model_module_version": "1.0.0",
      "model_name": "LayoutModel",
      "state": {}
     },
     "60d418ef57a0426696c4dc4b8cdec703": {
      "model_module": "@jupyter-widgets/controls",
      "model_module_version": "1.1.0",
      "model_name": "HTMLModel",
      "state": {
       "layout": "IPY_MODEL_b197f067f9564fa896747a9f94cba45a",
       "style": "IPY_MODEL_2aba4418f163414282863df1bb8c97de",
       "value": "100% 1/1 [16:41&lt;00:00, 1001.11s/it]"
      }
     },
     "61b6ed8576a342f8b5dcbc9a48eb38b9": {
      "model_module": "@jupyter-widgets/base",
      "model_module_version": "1.0.0",
      "model_name": "LayoutModel",
      "state": {}
     },
     "62b58ac15c9d4087923a6ae6dcb6f71f": {
      "model_module": "@jupyter-widgets/base",
      "model_module_version": "1.0.0",
      "model_name": "LayoutModel",
      "state": {}
     },
     "62c78d6310ff4b4a98014d6a57fc99d6": {
      "model_module": "@jupyter-widgets/controls",
      "model_module_version": "1.1.0",
      "model_name": "HBoxModel",
      "state": {
       "children": [
        "IPY_MODEL_92746fc1edfa4db9b684753bf7cf71d7",
        "IPY_MODEL_b5cb63eb49334114a14823bec40417a3"
       ],
       "layout": "IPY_MODEL_64d14ad8ec5e497487a8a33f852f2960"
      }
     },
     "632bb340de4146caaf052fa40d15189d": {
      "model_module": "@jupyter-widgets/base",
      "model_module_version": "1.0.0",
      "model_name": "LayoutModel",
      "state": {}
     },
     "64bf033f5aaa42688b18fe006a3b8b84": {
      "model_module": "@jupyter-widgets/base",
      "model_module_version": "1.0.0",
      "model_name": "LayoutModel",
      "state": {}
     },
     "64d14ad8ec5e497487a8a33f852f2960": {
      "model_module": "@jupyter-widgets/base",
      "model_module_version": "1.0.0",
      "model_name": "LayoutModel",
      "state": {}
     },
     "669b90fa346042ed92f9e9b23ac0d180": {
      "model_module": "@jupyter-widgets/controls",
      "model_module_version": "1.1.0",
      "model_name": "HTMLModel",
      "state": {
       "layout": "IPY_MODEL_c7bc5844fe984f5d9d60bf3c66c527d9",
       "style": "IPY_MODEL_50d648cdd12e4456ac4a4d19c831b9b1",
       "value": "100% 2/2 [09:22&lt;00:00, 281.47s/it]"
      }
     },
     "67c02959e8984ae280dff23ddb16c0b6": {
      "model_module": "@jupyter-widgets/controls",
      "model_module_version": "1.1.0",
      "model_name": "HBoxModel",
      "state": {
       "children": [
        "IPY_MODEL_f08c1c0b00f34ad8910231aba696f6ed",
        "IPY_MODEL_9e957fdd808b45619d9bd4fd4f8dbdb6"
       ],
       "layout": "IPY_MODEL_6b914ba5b46c4c3bba0da4ef1fa368bc"
      }
     },
     "6867cc7bccf1490daf6997d0137b54cb": {
      "model_module": "@jupyter-widgets/controls",
      "model_module_version": "1.1.0",
      "model_name": "HTMLModel",
      "state": {
       "layout": "IPY_MODEL_f4e4cb02f5dc44aca2259a821b53578f",
       "style": "IPY_MODEL_5bdbe35792014c54bcd545cabdc4dc04",
       "value": "100% 1/1 [04:54&lt;00:00, 294.05s/it]"
      }
     },
     "6880e9e37590439e94ffa792e61756b2": {
      "model_module": "@jupyter-widgets/base",
      "model_module_version": "1.0.0",
      "model_name": "LayoutModel",
      "state": {}
     },
     "692651657d1d46eaa6b7b54e1345aa44": {
      "model_module": "@jupyter-widgets/controls",
      "model_module_version": "1.1.0",
      "model_name": "DescriptionStyleModel",
      "state": {
       "description_width": ""
      }
     },
     "6b914ba5b46c4c3bba0da4ef1fa368bc": {
      "model_module": "@jupyter-widgets/base",
      "model_module_version": "1.0.0",
      "model_name": "LayoutModel",
      "state": {}
     },
     "6bcc4710feda435d9460fb183ae2e037": {
      "model_module": "@jupyter-widgets/controls",
      "model_module_version": "1.1.0",
      "model_name": "HBoxModel",
      "state": {
       "children": [
        "IPY_MODEL_173e2bbb672048ccb5701bad80b2e72f",
        "IPY_MODEL_0bc1bb77019b40e59ff873d1b09b4330"
       ],
       "layout": "IPY_MODEL_2579cfe6c16645ce9ff6e95ae2c76b9e"
      }
     },
     "6ca0d34f3cad488d819a4c63bcadd01d": {
      "model_module": "@jupyter-widgets/controls",
      "model_module_version": "1.1.0",
      "model_name": "ProgressStyleModel",
      "state": {
       "description_width": ""
      }
     },
     "6cc60779449b454cae4a1cf663427279": {
      "model_module": "@jupyter-widgets/controls",
      "model_module_version": "1.1.0",
      "model_name": "ProgressStyleModel",
      "state": {
       "description_width": ""
      }
     },
     "6e74bdfae3ad420d843adbb3131b7950": {
      "model_module": "@jupyter-widgets/base",
      "model_module_version": "1.0.0",
      "model_name": "LayoutModel",
      "state": {}
     },
     "6e895232600d4d82880e7b29ad7c5d3d": {
      "model_module": "@jupyter-widgets/base",
      "model_module_version": "1.0.0",
      "model_name": "LayoutModel",
      "state": {}
     },
     "6f74c11edaf7421c9fa307e192eb3028": {
      "model_module": "@jupyter-widgets/controls",
      "model_module_version": "1.1.0",
      "model_name": "HBoxModel",
      "state": {
       "children": [
        "IPY_MODEL_285e8c4543f4481195541c26647bfc54",
        "IPY_MODEL_6867cc7bccf1490daf6997d0137b54cb"
       ],
       "layout": "IPY_MODEL_6880e9e37590439e94ffa792e61756b2"
      }
     },
     "6f849807e1e8466e826753249443e345": {
      "model_module": "@jupyter-widgets/base",
      "model_module_version": "1.0.0",
      "model_name": "LayoutModel",
      "state": {}
     },
     "70e17cb3904f47949f2c1d90808b4a68": {
      "model_module": "@jupyter-widgets/controls",
      "model_module_version": "1.1.0",
      "model_name": "HBoxModel",
      "state": {
       "children": [
        "IPY_MODEL_af02207381f843068ce2c14d5dabf136",
        "IPY_MODEL_eb9e1fcd67fe4572bb6dba949129ccf3"
       ],
       "layout": "IPY_MODEL_9d09a25df51846f79f53b568e0c76eee"
      }
     },
     "7163013b05ab4e5a954ac6a67fa09d12": {
      "model_module": "@jupyter-widgets/controls",
      "model_module_version": "1.1.0",
      "model_name": "DescriptionStyleModel",
      "state": {
       "description_width": ""
      }
     },
     "7327612fa1094ef4ac0dae18ad660b6a": {
      "model_module": "@jupyter-widgets/base",
      "model_module_version": "1.0.0",
      "model_name": "LayoutModel",
      "state": {}
     },
     "77a6ff0f4a2f40e2a492a83540e885a5": {
      "model_module": "@jupyter-widgets/base",
      "model_module_version": "1.0.0",
      "model_name": "LayoutModel",
      "state": {}
     },
     "7894e5dd970e446eb5dd7a4427e2323b": {
      "model_module": "@jupyter-widgets/base",
      "model_module_version": "1.0.0",
      "model_name": "LayoutModel",
      "state": {}
     },
     "79471a3af4e246ab919fa2ca4dfcd7dc": {
      "model_module": "@jupyter-widgets/controls",
      "model_module_version": "1.1.0",
      "model_name": "HBoxModel",
      "state": {
       "children": [
        "IPY_MODEL_4978a57012804156a9a8c1a5895b014e",
        "IPY_MODEL_b3a00669a3e4437ea1ea7a6e5484814b"
       ],
       "layout": "IPY_MODEL_d2ea4f44fb9e4f6c9ec975efd9785a8c"
      }
     },
     "79c1fce575f542a6b616d11e49e79a9c": {
      "model_module": "@jupyter-widgets/base",
      "model_module_version": "1.0.0",
      "model_name": "LayoutModel",
      "state": {}
     },
     "7a0aa483a87440e68bc70e535de65d69": {
      "model_module": "@jupyter-widgets/controls",
      "model_module_version": "1.1.0",
      "model_name": "ProgressStyleModel",
      "state": {
       "description_width": ""
      }
     },
     "7c7780dab41f4341bc1d0fe8a70bd79f": {
      "model_module": "@jupyter-widgets/base",
      "model_module_version": "1.0.0",
      "model_name": "LayoutModel",
      "state": {}
     },
     "7dc08e7e0ee141bbbf7d035c3cdef01b": {
      "model_module": "@jupyter-widgets/base",
      "model_module_version": "1.0.0",
      "model_name": "LayoutModel",
      "state": {}
     },
     "7fefb5a2960e4495a4343751d179862b": {
      "model_module": "@jupyter-widgets/base",
      "model_module_version": "1.0.0",
      "model_name": "LayoutModel",
      "state": {}
     },
     "88221cd8ab974880b1d5a4dc8f802e3e": {
      "model_module": "@jupyter-widgets/controls",
      "model_module_version": "1.1.0",
      "model_name": "IntProgressModel",
      "state": {
       "bar_style": "success",
       "description": "Epoch",
       "layout": "IPY_MODEL_1a196d6094944cf1ae8517891035fa97",
       "max": 2,
       "style": "IPY_MODEL_037751c42985497db179cb9dab3843ee",
       "value": 2
      }
     },
     "885d7845bdf64ff4acbbe40dd7069150": {
      "model_module": "@jupyter-widgets/controls",
      "model_module_version": "1.1.0",
      "model_name": "HBoxModel",
      "state": {
       "children": [
        "IPY_MODEL_acb408eeab47487fb4241c56059c09d6",
        "IPY_MODEL_90d36c9ea1c842819cd7bf0079a842fc"
       ],
       "layout": "IPY_MODEL_15bc58d093354217a6aec40ca0593afe"
      }
     },
     "89a31d7cd8124973a4d290ecd4f028b1": {
      "model_module": "@jupyter-widgets/controls",
      "model_module_version": "1.1.0",
      "model_name": "IntProgressModel",
      "state": {
       "bar_style": "success",
       "description": "Epoch",
       "layout": "IPY_MODEL_7fefb5a2960e4495a4343751d179862b",
       "max": 2,
       "style": "IPY_MODEL_9df5962b649f4cb6bf45d1fcb81bf07d",
       "value": 2
      }
     },
     "8a45900cc97c4108a4eca000a301e80c": {
      "model_module": "@jupyter-widgets/controls",
      "model_module_version": "1.1.0",
      "model_name": "ProgressStyleModel",
      "state": {
       "description_width": ""
      }
     },
     "8c4dee1e8b3a42cc8d18907f9cd2f86b": {
      "model_module": "@jupyter-widgets/controls",
      "model_module_version": "1.1.0",
      "model_name": "DescriptionStyleModel",
      "state": {
       "description_width": ""
      }
     },
     "90d36c9ea1c842819cd7bf0079a842fc": {
      "model_module": "@jupyter-widgets/controls",
      "model_module_version": "1.1.0",
      "model_name": "HTMLModel",
      "state": {
       "layout": "IPY_MODEL_ac88beb402ff421f8f04abeec73e5b70",
       "style": "IPY_MODEL_436abcbc6e334975bd1d170a73a0cdad",
       "value": "100% 1/1 [04:39&lt;00:00, 279.01s/it]"
      }
     },
     "914f9b9dd17c46af996f742ce7f492fc": {
      "model_module": "@jupyter-widgets/controls",
      "model_module_version": "1.1.0",
      "model_name": "DescriptionStyleModel",
      "state": {
       "description_width": ""
      }
     },
     "91ae66218f4443708542f218d18da986": {
      "model_module": "@jupyter-widgets/controls",
      "model_module_version": "1.1.0",
      "model_name": "HTMLModel",
      "state": {
       "layout": "IPY_MODEL_e94b777eac0b432a9d7ee374b1e68364",
       "style": "IPY_MODEL_8c4dee1e8b3a42cc8d18907f9cd2f86b",
       "value": "100% 7/7 [34:31&lt;00:00, 295.90s/it]"
      }
     },
     "9243b1aa0974477ebe0f66c5469c8c00": {
      "model_module": "@jupyter-widgets/controls",
      "model_module_version": "1.1.0",
      "model_name": "HBoxModel",
      "state": {
       "children": [
        "IPY_MODEL_511aa95b947b4a6b9a362a205238d8af",
        "IPY_MODEL_55bd3171594a4fb29d10f8168b77ea82"
       ],
       "layout": "IPY_MODEL_062c267a7f3348f79cd4f835fc37e8e1"
      }
     },
     "92746fc1edfa4db9b684753bf7cf71d7": {
      "model_module": "@jupyter-widgets/controls",
      "model_module_version": "1.1.0",
      "model_name": "IntProgressModel",
      "state": {
       "description": "Epoch",
       "layout": "IPY_MODEL_7dc08e7e0ee141bbbf7d035c3cdef01b",
       "max": 7,
       "style": "IPY_MODEL_ba112b7460ef4f0aa28cc467a31deac3",
       "value": 2
      }
     },
     "94c58d3bbcdd40eca76e212162e60be4": {
      "model_module": "@jupyter-widgets/controls",
      "model_module_version": "1.1.0",
      "model_name": "HBoxModel",
      "state": {
       "children": [
        "IPY_MODEL_c89c74759bef4293a7c40452ea7a976f",
        "IPY_MODEL_ea59bf2c7fbd44349ad2c33d8fe73515"
       ],
       "layout": "IPY_MODEL_972a4e89913b487cae16b0f450dca20e"
      }
     },
     "972a4e89913b487cae16b0f450dca20e": {
      "model_module": "@jupyter-widgets/base",
      "model_module_version": "1.0.0",
      "model_name": "LayoutModel",
      "state": {}
     },
     "9766c185359b4295869a50981418143a": {
      "model_module": "@jupyter-widgets/base",
      "model_module_version": "1.0.0",
      "model_name": "LayoutModel",
      "state": {}
     },
     "98049270c7f74fb1a76ed99de554843e": {
      "model_module": "@jupyter-widgets/controls",
      "model_module_version": "1.1.0",
      "model_name": "DescriptionStyleModel",
      "state": {
       "description_width": ""
      }
     },
     "981572af67ed47b0be1e84840f658320": {
      "model_module": "@jupyter-widgets/controls",
      "model_module_version": "1.1.0",
      "model_name": "IntProgressModel",
      "state": {
       "bar_style": "success",
       "description": "Epoch",
       "layout": "IPY_MODEL_0aaf22ac70a64cab8f76eeb1492c484d",
       "max": 1,
       "style": "IPY_MODEL_6cc60779449b454cae4a1cf663427279",
       "value": 1
      }
     },
     "994d54df299344ddad2a6b082866babc": {
      "model_module": "@jupyter-widgets/base",
      "model_module_version": "1.0.0",
      "model_name": "LayoutModel",
      "state": {}
     },
     "9a53b90081b94052b75245feef9331a7": {
      "model_module": "@jupyter-widgets/controls",
      "model_module_version": "1.1.0",
      "model_name": "HTMLModel",
      "state": {
       "layout": "IPY_MODEL_4322c29206f64465b605f2b758da3280",
       "style": "IPY_MODEL_2eee30b821b04af3a20d69258464f6ca",
       "value": "100% 1/1 [08:29&lt;00:00, 509.75s/it]"
      }
     },
     "9cb381425df4465d9fe5aa6f65348354": {
      "model_module": "@jupyter-widgets/base",
      "model_module_version": "1.0.0",
      "model_name": "LayoutModel",
      "state": {}
     },
     "9d09a25df51846f79f53b568e0c76eee": {
      "model_module": "@jupyter-widgets/base",
      "model_module_version": "1.0.0",
      "model_name": "LayoutModel",
      "state": {}
     },
     "9d3b24eb3fc14b609cc52b2366e90d13": {
      "model_module": "@jupyter-widgets/controls",
      "model_module_version": "1.1.0",
      "model_name": "DescriptionStyleModel",
      "state": {
       "description_width": ""
      }
     },
     "9d415ace2d5b4b8586e7b397869669d4": {
      "model_module": "@jupyter-widgets/controls",
      "model_module_version": "1.1.0",
      "model_name": "HTMLModel",
      "state": {
       "layout": "IPY_MODEL_7c7780dab41f4341bc1d0fe8a70bd79f",
       "style": "IPY_MODEL_405ec04738cd4bc89199dad936274065",
       "value": "100% 7/7 [56:52&lt;00:00, 487.51s/it]"
      }
     },
     "9df5962b649f4cb6bf45d1fcb81bf07d": {
      "model_module": "@jupyter-widgets/controls",
      "model_module_version": "1.1.0",
      "model_name": "ProgressStyleModel",
      "state": {
       "description_width": ""
      }
     },
     "9e957fdd808b45619d9bd4fd4f8dbdb6": {
      "model_module": "@jupyter-widgets/controls",
      "model_module_version": "1.1.0",
      "model_name": "HTMLModel",
      "state": {
       "layout": "IPY_MODEL_04ce5d8106d440f280ad1b59571b380f",
       "style": "IPY_MODEL_7163013b05ab4e5a954ac6a67fa09d12",
       "value": "100% 7/7 [1:56:43&lt;00:00, 1000.51s/it]"
      }
     },
     "9eb2955d3e0a4e108652d9d8b8b9195c": {
      "model_module": "@jupyter-widgets/controls",
      "model_module_version": "1.1.0",
      "model_name": "HBoxModel",
      "state": {
       "children": [
        "IPY_MODEL_9f9b8965460f474fb8f2fb01765b1032",
        "IPY_MODEL_c97875afa55a4005a3b8d81784dc9a12"
       ],
       "layout": "IPY_MODEL_0f4efa3695d540e3a91fddd1b776ae51"
      }
     },
     "9f9b8965460f474fb8f2fb01765b1032": {
      "model_module": "@jupyter-widgets/controls",
      "model_module_version": "1.1.0",
      "model_name": "IntProgressModel",
      "state": {
       "bar_style": "success",
       "description": "Epoch",
       "layout": "IPY_MODEL_64bf033f5aaa42688b18fe006a3b8b84",
       "max": 7,
       "style": "IPY_MODEL_6ca0d34f3cad488d819a4c63bcadd01d",
       "value": 7
      }
     },
     "a131fa54c98a42eba2ebe0a3af847b18": {
      "model_module": "@jupyter-widgets/base",
      "model_module_version": "1.0.0",
      "model_name": "LayoutModel",
      "state": {}
     },
     "a31e0ec7c5b24337b7ba0428ce669dfb": {
      "model_module": "@jupyter-widgets/controls",
      "model_module_version": "1.1.0",
      "model_name": "IntProgressModel",
      "state": {
       "bar_style": "success",
       "description": "Epoch",
       "layout": "IPY_MODEL_1614d271dccf47a79368546bb84d2984",
       "max": 1,
       "style": "IPY_MODEL_c3e72bf80c7e459993ad78761c674d79",
       "value": 1
      }
     },
     "a518ad8e6f3a4d9c838cfbbc82a54dd0": {
      "model_module": "@jupyter-widgets/controls",
      "model_module_version": "1.1.0",
      "model_name": "DescriptionStyleModel",
      "state": {
       "description_width": ""
      }
     },
     "a6394c46c7724a4db955ccd20726ca42": {
      "model_module": "@jupyter-widgets/controls",
      "model_module_version": "1.1.0",
      "model_name": "DescriptionStyleModel",
      "state": {
       "description_width": ""
      }
     },
     "a8a4ff5938844affa8bca74903585d8b": {
      "model_module": "@jupyter-widgets/controls",
      "model_module_version": "1.1.0",
      "model_name": "DescriptionStyleModel",
      "state": {
       "description_width": ""
      }
     },
     "a9055c91934a48169b18a200b99e0bce": {
      "model_module": "@jupyter-widgets/controls",
      "model_module_version": "1.1.0",
      "model_name": "HBoxModel",
      "state": {
       "children": [
        "IPY_MODEL_29e24758632e4a26b9ad8f16fc848073",
        "IPY_MODEL_91ae66218f4443708542f218d18da986"
       ],
       "layout": "IPY_MODEL_f0db66a961d8440c9b643694e0952774"
      }
     },
     "aaca20a1d17e446392e4d9a6a9c43289": {
      "model_module": "@jupyter-widgets/base",
      "model_module_version": "1.0.0",
      "model_name": "LayoutModel",
      "state": {}
     },
     "abbef64068da4055b26c1babac7f5b32": {
      "model_module": "@jupyter-widgets/controls",
      "model_module_version": "1.1.0",
      "model_name": "ProgressStyleModel",
      "state": {
       "description_width": ""
      }
     },
     "abd43a6a7f544807ab3bc5887b366cdf": {
      "model_module": "@jupyter-widgets/controls",
      "model_module_version": "1.1.0",
      "model_name": "DescriptionStyleModel",
      "state": {
       "description_width": ""
      }
     },
     "ac88beb402ff421f8f04abeec73e5b70": {
      "model_module": "@jupyter-widgets/base",
      "model_module_version": "1.0.0",
      "model_name": "LayoutModel",
      "state": {}
     },
     "acb408eeab47487fb4241c56059c09d6": {
      "model_module": "@jupyter-widgets/controls",
      "model_module_version": "1.1.0",
      "model_name": "IntProgressModel",
      "state": {
       "bar_style": "success",
       "description": "Epoch",
       "layout": "IPY_MODEL_5ab56313ecae497a8ed471d2f07498c3",
       "max": 1,
       "style": "IPY_MODEL_cda6deb268364aa587ef49c062eee246",
       "value": 1
      }
     },
     "af02207381f843068ce2c14d5dabf136": {
      "model_module": "@jupyter-widgets/controls",
      "model_module_version": "1.1.0",
      "model_name": "IntProgressModel",
      "state": {
       "bar_style": "success",
       "description": "Epoch",
       "layout": "IPY_MODEL_4bb1399c489846c588a41f6bc74d8e00",
       "max": 7,
       "style": "IPY_MODEL_4c9389a0b2db49d695980b3592d62270",
       "value": 7
      }
     },
     "b197f067f9564fa896747a9f94cba45a": {
      "model_module": "@jupyter-widgets/base",
      "model_module_version": "1.0.0",
      "model_name": "LayoutModel",
      "state": {}
     },
     "b2c4ca89be434e829817fa7f0d7c624c": {
      "model_module": "@jupyter-widgets/base",
      "model_module_version": "1.0.0",
      "model_name": "LayoutModel",
      "state": {}
     },
     "b3a00669a3e4437ea1ea7a6e5484814b": {
      "model_module": "@jupyter-widgets/controls",
      "model_module_version": "1.1.0",
      "model_name": "HTMLModel",
      "state": {
       "layout": "IPY_MODEL_e5389943afb249efb19be04470c4ec66",
       "style": "IPY_MODEL_e69d22e08d7b4a06924ccc6ec775cd19",
       "value": "100% 2/2 [09:51&lt;00:00, 295.67s/it]"
      }
     },
     "b5cb63eb49334114a14823bec40417a3": {
      "model_module": "@jupyter-widgets/controls",
      "model_module_version": "1.1.0",
      "model_name": "HTMLModel",
      "state": {
       "layout": "IPY_MODEL_77a6ff0f4a2f40e2a492a83540e885a5",
       "style": "IPY_MODEL_98049270c7f74fb1a76ed99de554843e",
       "value": " 29% 2/7 [48:37&lt;2:01:34, 1458.91s/it]"
      }
     },
     "b7425d5f7cdf4bbab90e03fa2a56e215": {
      "model_module": "@jupyter-widgets/base",
      "model_module_version": "1.0.0",
      "model_name": "LayoutModel",
      "state": {}
     },
     "b745dc73aa7144e487576f685df01c13": {
      "model_module": "@jupyter-widgets/base",
      "model_module_version": "1.0.0",
      "model_name": "LayoutModel",
      "state": {}
     },
     "ba09a2d89b574722bf3c9d5a87249f5a": {
      "model_module": "@jupyter-widgets/controls",
      "model_module_version": "1.1.0",
      "model_name": "HBoxModel",
      "state": {
       "children": [
        "IPY_MODEL_261eda4b00904d22baff0c39b4ae88d6",
        "IPY_MODEL_9d415ace2d5b4b8586e7b397869669d4"
       ],
       "layout": "IPY_MODEL_1a4ec92eca464272a09cc95744a5a612"
      }
     },
     "ba0fdfccaff94f9ebe86acf1cf2aa5db": {
      "model_module": "@jupyter-widgets/base",
      "model_module_version": "1.0.0",
      "model_name": "LayoutModel",
      "state": {}
     },
     "ba112b7460ef4f0aa28cc467a31deac3": {
      "model_module": "@jupyter-widgets/controls",
      "model_module_version": "1.1.0",
      "model_name": "ProgressStyleModel",
      "state": {
       "description_width": ""
      }
     },
     "ba32de6fa72e4d4b9ce08cf8cf98992e": {
      "model_module": "@jupyter-widgets/controls",
      "model_module_version": "1.1.0",
      "model_name": "IntProgressModel",
      "state": {
       "bar_style": "success",
       "description": "Epoch",
       "layout": "IPY_MODEL_b2c4ca89be434e829817fa7f0d7c624c",
       "max": 1,
       "style": "IPY_MODEL_50d8227723c44cb8bbfa51891872288a",
       "value": 1
      }
     },
     "bb8ed28fa29442bfbdfe2a231febf58d": {
      "model_module": "@jupyter-widgets/controls",
      "model_module_version": "1.1.0",
      "model_name": "IntProgressModel",
      "state": {
       "bar_style": "success",
       "description": "Epoch",
       "layout": "IPY_MODEL_a131fa54c98a42eba2ebe0a3af847b18",
       "max": 1,
       "style": "IPY_MODEL_25d289e2f37f47ec82270ed39bd858f6",
       "value": 1
      }
     },
     "bd9694d3f47e4d5eafe6d2506ca1e403": {
      "model_module": "@jupyter-widgets/base",
      "model_module_version": "1.0.0",
      "model_name": "LayoutModel",
      "state": {}
     },
     "c02a8088fddf4716826577058dc798eb": {
      "model_module": "@jupyter-widgets/controls",
      "model_module_version": "1.1.0",
      "model_name": "ProgressStyleModel",
      "state": {
       "description_width": ""
      }
     },
     "c1d20489277c43c9882593788d7b83f4": {
      "model_module": "@jupyter-widgets/controls",
      "model_module_version": "1.1.0",
      "model_name": "IntProgressModel",
      "state": {
       "bar_style": "success",
       "description": "Epoch",
       "layout": "IPY_MODEL_7327612fa1094ef4ac0dae18ad660b6a",
       "max": 1,
       "style": "IPY_MODEL_40c591f8bc3d4d25a4c9f9644509a976",
       "value": 1
      }
     },
     "c3d2a62379b14164ae53c55c5af021cb": {
      "model_module": "@jupyter-widgets/base",
      "model_module_version": "1.0.0",
      "model_name": "LayoutModel",
      "state": {}
     },
     "c3e72bf80c7e459993ad78761c674d79": {
      "model_module": "@jupyter-widgets/controls",
      "model_module_version": "1.1.0",
      "model_name": "ProgressStyleModel",
      "state": {
       "description_width": ""
      }
     },
     "c4a0ef80ec524d54b57d1cb258529d44": {
      "model_module": "@jupyter-widgets/controls",
      "model_module_version": "1.1.0",
      "model_name": "HTMLModel",
      "state": {
       "layout": "IPY_MODEL_6e74bdfae3ad420d843adbb3131b7950",
       "style": "IPY_MODEL_914f9b9dd17c46af996f742ce7f492fc",
       "value": "100% 2/2 [17:11&lt;00:00, 515.69s/it]"
      }
     },
     "c619607100704e9997024af0ddfb21d6": {
      "model_module": "@jupyter-widgets/controls",
      "model_module_version": "1.1.0",
      "model_name": "HBoxModel",
      "state": {
       "children": [
        "IPY_MODEL_ba32de6fa72e4d4b9ce08cf8cf98992e",
        "IPY_MODEL_549386e8087b4cc0b3cb1e99c821b5f0"
       ],
       "layout": "IPY_MODEL_cc823af1a2834842bb2db309bccddc38"
      }
     },
     "c7bc5844fe984f5d9d60bf3c66c527d9": {
      "model_module": "@jupyter-widgets/base",
      "model_module_version": "1.0.0",
      "model_name": "LayoutModel",
      "state": {}
     },
     "c89c74759bef4293a7c40452ea7a976f": {
      "model_module": "@jupyter-widgets/controls",
      "model_module_version": "1.1.0",
      "model_name": "IntProgressModel",
      "state": {
       "bar_style": "success",
       "description": "Epoch",
       "layout": "IPY_MODEL_cad103a3ec7745fcb161d39cdd3b3715",
       "max": 12,
       "style": "IPY_MODEL_7a0aa483a87440e68bc70e535de65d69",
       "value": 12
      }
     },
     "c97875afa55a4005a3b8d81784dc9a12": {
      "model_module": "@jupyter-widgets/controls",
      "model_module_version": "1.1.0",
      "model_name": "HTMLModel",
      "state": {
       "layout": "IPY_MODEL_e5ab1a57b5874093a7500b1801b65581",
       "style": "IPY_MODEL_9d3b24eb3fc14b609cc52b2366e90d13",
       "value": "100% 7/7 [3:02:51&lt;00:00, 1567.31s/it]"
      }
     },
     "cad103a3ec7745fcb161d39cdd3b3715": {
      "model_module": "@jupyter-widgets/base",
      "model_module_version": "1.0.0",
      "model_name": "LayoutModel",
      "state": {}
     },
     "cc003283f503448bb34b33871fd6d49e": {
      "model_module": "@jupyter-widgets/controls",
      "model_module_version": "1.1.0",
      "model_name": "HTMLModel",
      "state": {
       "layout": "IPY_MODEL_57a4ed9ecd9c45429d5ac8cc30593035",
       "style": "IPY_MODEL_dab98be51ba54c88b8450e72219977fb",
       "value": "100% 1/1 [04:39&lt;00:00, 279.69s/it]"
      }
     },
     "cc823af1a2834842bb2db309bccddc38": {
      "model_module": "@jupyter-widgets/base",
      "model_module_version": "1.0.0",
      "model_name": "LayoutModel",
      "state": {}
     },
     "cda6deb268364aa587ef49c062eee246": {
      "model_module": "@jupyter-widgets/controls",
      "model_module_version": "1.1.0",
      "model_name": "ProgressStyleModel",
      "state": {
       "description_width": ""
      }
     },
     "cf195bd326e44cabac7908d641456cf7": {
      "model_module": "@jupyter-widgets/controls",
      "model_module_version": "1.1.0",
      "model_name": "HBoxModel",
      "state": {
       "children": [
        "IPY_MODEL_3bab63525b5c44d2b73ae5f014cf1db9",
        "IPY_MODEL_1caf9f1dd92b44d9b4fec3ab983a1228"
       ],
       "layout": "IPY_MODEL_e7e07680ef874519880e5b1db6442b4a"
      }
     },
     "d270efbbcebc490b88501fe837d31a77": {
      "model_module": "@jupyter-widgets/controls",
      "model_module_version": "1.1.0",
      "model_name": "HBoxModel",
      "state": {
       "children": [
        "IPY_MODEL_0c33625240074c23b2e088ce79b251fd",
        "IPY_MODEL_9a53b90081b94052b75245feef9331a7"
       ],
       "layout": "IPY_MODEL_35edc28e315c4bf8bb1581c8375da5b7"
      }
     },
     "d2ea4f44fb9e4f6c9ec975efd9785a8c": {
      "model_module": "@jupyter-widgets/base",
      "model_module_version": "1.0.0",
      "model_name": "LayoutModel",
      "state": {}
     },
     "d437136fed1d4b96bbdfeb4befd49f46": {
      "model_module": "@jupyter-widgets/controls",
      "model_module_version": "1.1.0",
      "model_name": "HBoxModel",
      "state": {
       "children": [
        "IPY_MODEL_00304a3241d844a98a354319a62b1d2d",
        "IPY_MODEL_4181241deaae41e8b1f67d0692b66a70"
       ],
       "layout": "IPY_MODEL_db432cdc794743dca5aafcfdb56f808a"
      }
     },
     "d798fdaeba9c4cc18c02265880ff59a1": {
      "model_module": "@jupyter-widgets/base",
      "model_module_version": "1.0.0",
      "model_name": "LayoutModel",
      "state": {}
     },
     "dab98be51ba54c88b8450e72219977fb": {
      "model_module": "@jupyter-widgets/controls",
      "model_module_version": "1.1.0",
      "model_name": "DescriptionStyleModel",
      "state": {
       "description_width": ""
      }
     },
     "db40ff0baa0f4ac7b0f6f048a97d64a8": {
      "model_module": "@jupyter-widgets/controls",
      "model_module_version": "1.1.0",
      "model_name": "HBoxModel",
      "state": {
       "children": [
        "IPY_MODEL_dcb394c776ba42bfae38a6725394f0fc",
        "IPY_MODEL_2f05e95734f047cfb58df9b44e9bd609"
       ],
       "layout": "IPY_MODEL_9cb381425df4465d9fe5aa6f65348354"
      }
     },
     "db432cdc794743dca5aafcfdb56f808a": {
      "model_module": "@jupyter-widgets/base",
      "model_module_version": "1.0.0",
      "model_name": "LayoutModel",
      "state": {}
     },
     "dcb394c776ba42bfae38a6725394f0fc": {
      "model_module": "@jupyter-widgets/controls",
      "model_module_version": "1.1.0",
      "model_name": "IntProgressModel",
      "state": {
       "bar_style": "success",
       "description": "Epoch",
       "layout": "IPY_MODEL_30ec9bbd078e46d99d0fdbed0e6a9c33",
       "max": 1,
       "style": "IPY_MODEL_5b18ece8f84c4a60b68ccfdb2ad6cc64",
       "value": 1
      }
     },
     "dcf6deaecce34374b55416b433beab49": {
      "model_module": "@jupyter-widgets/base",
      "model_module_version": "1.0.0",
      "model_name": "LayoutModel",
      "state": {}
     },
     "dec7740e9cd64e9c8dae4b4443c21f8c": {
      "model_module": "@jupyter-widgets/base",
      "model_module_version": "1.0.0",
      "model_name": "LayoutModel",
      "state": {}
     },
     "dfdbfb86b7024c71bc2a80710b59247b": {
      "model_module": "@jupyter-widgets/controls",
      "model_module_version": "1.1.0",
      "model_name": "DescriptionStyleModel",
      "state": {
       "description_width": ""
      }
     },
     "e0cc8eb71bda4f3c88561910ebbb075f": {
      "model_module": "@jupyter-widgets/controls",
      "model_module_version": "1.1.0",
      "model_name": "HBoxModel",
      "state": {
       "children": [
        "IPY_MODEL_bb8ed28fa29442bfbdfe2a231febf58d",
        "IPY_MODEL_60d418ef57a0426696c4dc4b8cdec703"
       ],
       "layout": "IPY_MODEL_f69f68461d414a8d8800f199fc09bf77"
      }
     },
     "e200e82a15f847e389dc7b7610710f0f": {
      "model_module": "@jupyter-widgets/controls",
      "model_module_version": "1.1.0",
      "model_name": "ProgressStyleModel",
      "state": {
       "description_width": ""
      }
     },
     "e21dfdb541814f429284d76b215451fc": {
      "model_module": "@jupyter-widgets/controls",
      "model_module_version": "1.1.0",
      "model_name": "HTMLModel",
      "state": {
       "layout": "IPY_MODEL_3f23c809314444e6800b4c24cfd3288f",
       "style": "IPY_MODEL_07f874bc04c740b3bb339601f9d065df",
       "value": "100% 1/1 [05:26&lt;00:00, 326.05s/it]"
      }
     },
     "e45a2abeb2aa4a01a381239c6125032b": {
      "model_module": "@jupyter-widgets/controls",
      "model_module_version": "1.1.0",
      "model_name": "ProgressStyleModel",
      "state": {
       "description_width": ""
      }
     },
     "e5389943afb249efb19be04470c4ec66": {
      "model_module": "@jupyter-widgets/base",
      "model_module_version": "1.0.0",
      "model_name": "LayoutModel",
      "state": {}
     },
     "e5ab1a57b5874093a7500b1801b65581": {
      "model_module": "@jupyter-widgets/base",
      "model_module_version": "1.0.0",
      "model_name": "LayoutModel",
      "state": {}
     },
     "e69d22e08d7b4a06924ccc6ec775cd19": {
      "model_module": "@jupyter-widgets/controls",
      "model_module_version": "1.1.0",
      "model_name": "DescriptionStyleModel",
      "state": {
       "description_width": ""
      }
     },
     "e7e07680ef874519880e5b1db6442b4a": {
      "model_module": "@jupyter-widgets/base",
      "model_module_version": "1.0.0",
      "model_name": "LayoutModel",
      "state": {}
     },
     "e94b777eac0b432a9d7ee374b1e68364": {
      "model_module": "@jupyter-widgets/base",
      "model_module_version": "1.0.0",
      "model_name": "LayoutModel",
      "state": {}
     },
     "ea1edc8957e04e9b87fd6fa2316093db": {
      "model_module": "@jupyter-widgets/controls",
      "model_module_version": "1.1.0",
      "model_name": "HTMLModel",
      "state": {
       "layout": "IPY_MODEL_35165903fbff4504ab87ef80e92addb3",
       "style": "IPY_MODEL_148623591456444c9432a1470a67320a",
       "value": "100% 1/1 [15:31&lt;00:00, 931.48s/it]"
      }
     },
     "ea59bf2c7fbd44349ad2c33d8fe73515": {
      "model_module": "@jupyter-widgets/controls",
      "model_module_version": "1.1.0",
      "model_name": "HTMLModel",
      "state": {
       "layout": "IPY_MODEL_bd9694d3f47e4d5eafe6d2506ca1e403",
       "style": "IPY_MODEL_a6394c46c7724a4db955ccd20726ca42",
       "value": "100% 12/12 [5:12:10&lt;00:00, 1560.86s/it]"
      }
     },
     "eb9e1fcd67fe4572bb6dba949129ccf3": {
      "model_module": "@jupyter-widgets/controls",
      "model_module_version": "1.1.0",
      "model_name": "HTMLModel",
      "state": {
       "layout": "IPY_MODEL_f070360e4af044899fdc4dde17d85027",
       "style": "IPY_MODEL_3576cb3d89b441878ee5202d87d8f776",
       "value": "100% 7/7 [32:49&lt;00:00, 281.29s/it]"
      }
     },
     "f0195b4bea0d44769045f99c5f0d9614": {
      "model_module": "@jupyter-widgets/controls",
      "model_module_version": "1.1.0",
      "model_name": "IntProgressModel",
      "state": {
       "bar_style": "success",
       "description": "Epoch",
       "layout": "IPY_MODEL_4f53067522904ffe8e12a598f49e30ea",
       "max": 2,
       "style": "IPY_MODEL_4826b9a7e5ad4de286659984c8ea47e9",
       "value": 2
      }
     },
     "f070360e4af044899fdc4dde17d85027": {
      "model_module": "@jupyter-widgets/base",
      "model_module_version": "1.0.0",
      "model_name": "LayoutModel",
      "state": {}
     },
     "f08c1c0b00f34ad8910231aba696f6ed": {
      "model_module": "@jupyter-widgets/controls",
      "model_module_version": "1.1.0",
      "model_name": "IntProgressModel",
      "state": {
       "bar_style": "success",
       "description": "Epoch",
       "layout": "IPY_MODEL_4a3cc2c23ab74925ac10c3111fa80172",
       "max": 7,
       "style": "IPY_MODEL_5997dc8c98cb42dab95403988ad06621",
       "value": 7
      }
     },
     "f0db66a961d8440c9b643694e0952774": {
      "model_module": "@jupyter-widgets/base",
      "model_module_version": "1.0.0",
      "model_name": "LayoutModel",
      "state": {}
     },
     "f196fbb3a9f54a549aaeba0dd3f81c2e": {
      "model_module": "@jupyter-widgets/controls",
      "model_module_version": "1.1.0",
      "model_name": "HBoxModel",
      "state": {
       "children": [
        "IPY_MODEL_1f0e220c370f4039b36daf85309137bc",
        "IPY_MODEL_2538acd25f5d49b99c3529cbc6e203cc"
       ],
       "layout": "IPY_MODEL_ff6f07437a9040b1b57a3be6deeb7303"
      }
     },
     "f1c84a2438ba4c778152d6baeadd07d1": {
      "model_module": "@jupyter-widgets/base",
      "model_module_version": "1.0.0",
      "model_name": "LayoutModel",
      "state": {}
     },
     "f47a09b9577b4ce7ba3f468c1db0194c": {
      "model_module": "@jupyter-widgets/base",
      "model_module_version": "1.0.0",
      "model_name": "LayoutModel",
      "state": {}
     },
     "f4e4cb02f5dc44aca2259a821b53578f": {
      "model_module": "@jupyter-widgets/base",
      "model_module_version": "1.0.0",
      "model_name": "LayoutModel",
      "state": {}
     },
     "f63a15a889164ba3b08f07042204f6f5": {
      "model_module": "@jupyter-widgets/controls",
      "model_module_version": "1.1.0",
      "model_name": "IntProgressModel",
      "state": {
       "bar_style": "success",
       "description": "Epoch",
       "layout": "IPY_MODEL_1c8a4eec5e9b46e9a3572b7a082aa40a",
       "max": 1,
       "style": "IPY_MODEL_0675c32561594992b949310d98168fa8",
       "value": 1
      }
     },
     "f646dacd96374c6f9cabe50f405a32d7": {
      "model_module": "@jupyter-widgets/controls",
      "model_module_version": "1.1.0",
      "model_name": "HTMLModel",
      "state": {
       "layout": "IPY_MODEL_c3d2a62379b14164ae53c55c5af021cb",
       "style": "IPY_MODEL_26829e5a5e1e4379a250ce1d97fe1b36",
       "value": "100% 1/1 [09:12&lt;00:00, 552.64s/it]"
      }
     },
     "f64819f1ff294d7c8a922c8d11245cc0": {
      "model_module": "@jupyter-widgets/controls",
      "model_module_version": "1.1.0",
      "model_name": "HBoxModel",
      "state": {
       "children": [
        "IPY_MODEL_c1d20489277c43c9882593788d7b83f4",
        "IPY_MODEL_f646dacd96374c6f9cabe50f405a32d7"
       ],
       "layout": "IPY_MODEL_b7425d5f7cdf4bbab90e03fa2a56e215"
      }
     },
     "f69f68461d414a8d8800f199fc09bf77": {
      "model_module": "@jupyter-widgets/base",
      "model_module_version": "1.0.0",
      "model_name": "LayoutModel",
      "state": {}
     },
     "f995af3acda64b68aebeb630388f709a": {
      "model_module": "@jupyter-widgets/base",
      "model_module_version": "1.0.0",
      "model_name": "LayoutModel",
      "state": {}
     },
     "fa43ae5833524ed983315f3f498e8dd2": {
      "model_module": "@jupyter-widgets/controls",
      "model_module_version": "1.1.0",
      "model_name": "ProgressStyleModel",
      "state": {
       "description_width": ""
      }
     },
     "fa52bddaf11743ec812a8cfe00078f09": {
      "model_module": "@jupyter-widgets/base",
      "model_module_version": "1.0.0",
      "model_name": "LayoutModel",
      "state": {}
     },
     "fd234499af864702b6a5d35937bba575": {
      "model_module": "@jupyter-widgets/controls",
      "model_module_version": "1.1.0",
      "model_name": "DescriptionStyleModel",
      "state": {
       "description_width": ""
      }
     },
     "ff6f07437a9040b1b57a3be6deeb7303": {
      "model_module": "@jupyter-widgets/base",
      "model_module_version": "1.0.0",
      "model_name": "LayoutModel",
      "state": {}
     }
    },
    "version_major": 2,
    "version_minor": 0
   }
  }
 },
 "nbformat": 4,
 "nbformat_minor": 2
}
