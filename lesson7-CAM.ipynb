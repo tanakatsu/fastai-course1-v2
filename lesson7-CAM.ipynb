{
 "cells": [
  {
   "cell_type": "markdown",
   "metadata": {},
   "source": [
    "## Dogs v Cats"
   ]
  },
  {
   "cell_type": "code",
   "execution_count": 1,
   "metadata": {},
   "outputs": [],
   "source": [
    "%reload_ext autoreload\n",
    "%autoreload 2\n",
    "%matplotlib inline\n",
    "\n",
    "from fastai.imports import *\n",
    "\n",
    "from fastai.transforms import *\n",
    "from fastai.conv_learner import *\n",
    "from fastai.model import *\n",
    "from fastai.dataset import *\n",
    "from fastai.sgdr import *"
   ]
  },
  {
   "cell_type": "code",
   "execution_count": 2,
   "metadata": {},
   "outputs": [],
   "source": [
    "PATH = \"data/dogscats/\"\n",
    "sz = 224\n",
    "arch = resnet34\n",
    "bs = 64"
   ]
  },
  {
   "cell_type": "code",
   "execution_count": 3,
   "metadata": {},
   "outputs": [],
   "source": [
    "m = arch(True) # pretrained=True"
   ]
  },
  {
   "cell_type": "code",
   "execution_count": 4,
   "metadata": {
    "scrolled": true
   },
   "outputs": [
    {
     "data": {
      "text/plain": [
       "ResNet(\n",
       "  (conv1): Conv2d (3, 64, kernel_size=(7, 7), stride=(2, 2), padding=(3, 3), bias=False)\n",
       "  (bn1): BatchNorm2d(64, eps=1e-05, momentum=0.1, affine=True)\n",
       "  (relu): ReLU(inplace)\n",
       "  (maxpool): MaxPool2d(kernel_size=(3, 3), stride=(2, 2), padding=(1, 1), dilation=(1, 1))\n",
       "  (layer1): Sequential(\n",
       "    (0): BasicBlock(\n",
       "      (conv1): Conv2d (64, 64, kernel_size=(3, 3), stride=(1, 1), padding=(1, 1), bias=False)\n",
       "      (bn1): BatchNorm2d(64, eps=1e-05, momentum=0.1, affine=True)\n",
       "      (relu): ReLU(inplace)\n",
       "      (conv2): Conv2d (64, 64, kernel_size=(3, 3), stride=(1, 1), padding=(1, 1), bias=False)\n",
       "      (bn2): BatchNorm2d(64, eps=1e-05, momentum=0.1, affine=True)\n",
       "    )\n",
       "    (1): BasicBlock(\n",
       "      (conv1): Conv2d (64, 64, kernel_size=(3, 3), stride=(1, 1), padding=(1, 1), bias=False)\n",
       "      (bn1): BatchNorm2d(64, eps=1e-05, momentum=0.1, affine=True)\n",
       "      (relu): ReLU(inplace)\n",
       "      (conv2): Conv2d (64, 64, kernel_size=(3, 3), stride=(1, 1), padding=(1, 1), bias=False)\n",
       "      (bn2): BatchNorm2d(64, eps=1e-05, momentum=0.1, affine=True)\n",
       "    )\n",
       "    (2): BasicBlock(\n",
       "      (conv1): Conv2d (64, 64, kernel_size=(3, 3), stride=(1, 1), padding=(1, 1), bias=False)\n",
       "      (bn1): BatchNorm2d(64, eps=1e-05, momentum=0.1, affine=True)\n",
       "      (relu): ReLU(inplace)\n",
       "      (conv2): Conv2d (64, 64, kernel_size=(3, 3), stride=(1, 1), padding=(1, 1), bias=False)\n",
       "      (bn2): BatchNorm2d(64, eps=1e-05, momentum=0.1, affine=True)\n",
       "    )\n",
       "  )\n",
       "  (layer2): Sequential(\n",
       "    (0): BasicBlock(\n",
       "      (conv1): Conv2d (64, 128, kernel_size=(3, 3), stride=(2, 2), padding=(1, 1), bias=False)\n",
       "      (bn1): BatchNorm2d(128, eps=1e-05, momentum=0.1, affine=True)\n",
       "      (relu): ReLU(inplace)\n",
       "      (conv2): Conv2d (128, 128, kernel_size=(3, 3), stride=(1, 1), padding=(1, 1), bias=False)\n",
       "      (bn2): BatchNorm2d(128, eps=1e-05, momentum=0.1, affine=True)\n",
       "      (downsample): Sequential(\n",
       "        (0): Conv2d (64, 128, kernel_size=(1, 1), stride=(2, 2), bias=False)\n",
       "        (1): BatchNorm2d(128, eps=1e-05, momentum=0.1, affine=True)\n",
       "      )\n",
       "    )\n",
       "    (1): BasicBlock(\n",
       "      (conv1): Conv2d (128, 128, kernel_size=(3, 3), stride=(1, 1), padding=(1, 1), bias=False)\n",
       "      (bn1): BatchNorm2d(128, eps=1e-05, momentum=0.1, affine=True)\n",
       "      (relu): ReLU(inplace)\n",
       "      (conv2): Conv2d (128, 128, kernel_size=(3, 3), stride=(1, 1), padding=(1, 1), bias=False)\n",
       "      (bn2): BatchNorm2d(128, eps=1e-05, momentum=0.1, affine=True)\n",
       "    )\n",
       "    (2): BasicBlock(\n",
       "      (conv1): Conv2d (128, 128, kernel_size=(3, 3), stride=(1, 1), padding=(1, 1), bias=False)\n",
       "      (bn1): BatchNorm2d(128, eps=1e-05, momentum=0.1, affine=True)\n",
       "      (relu): ReLU(inplace)\n",
       "      (conv2): Conv2d (128, 128, kernel_size=(3, 3), stride=(1, 1), padding=(1, 1), bias=False)\n",
       "      (bn2): BatchNorm2d(128, eps=1e-05, momentum=0.1, affine=True)\n",
       "    )\n",
       "    (3): BasicBlock(\n",
       "      (conv1): Conv2d (128, 128, kernel_size=(3, 3), stride=(1, 1), padding=(1, 1), bias=False)\n",
       "      (bn1): BatchNorm2d(128, eps=1e-05, momentum=0.1, affine=True)\n",
       "      (relu): ReLU(inplace)\n",
       "      (conv2): Conv2d (128, 128, kernel_size=(3, 3), stride=(1, 1), padding=(1, 1), bias=False)\n",
       "      (bn2): BatchNorm2d(128, eps=1e-05, momentum=0.1, affine=True)\n",
       "    )\n",
       "  )\n",
       "  (layer3): Sequential(\n",
       "    (0): BasicBlock(\n",
       "      (conv1): Conv2d (128, 256, kernel_size=(3, 3), stride=(2, 2), padding=(1, 1), bias=False)\n",
       "      (bn1): BatchNorm2d(256, eps=1e-05, momentum=0.1, affine=True)\n",
       "      (relu): ReLU(inplace)\n",
       "      (conv2): Conv2d (256, 256, kernel_size=(3, 3), stride=(1, 1), padding=(1, 1), bias=False)\n",
       "      (bn2): BatchNorm2d(256, eps=1e-05, momentum=0.1, affine=True)\n",
       "      (downsample): Sequential(\n",
       "        (0): Conv2d (128, 256, kernel_size=(1, 1), stride=(2, 2), bias=False)\n",
       "        (1): BatchNorm2d(256, eps=1e-05, momentum=0.1, affine=True)\n",
       "      )\n",
       "    )\n",
       "    (1): BasicBlock(\n",
       "      (conv1): Conv2d (256, 256, kernel_size=(3, 3), stride=(1, 1), padding=(1, 1), bias=False)\n",
       "      (bn1): BatchNorm2d(256, eps=1e-05, momentum=0.1, affine=True)\n",
       "      (relu): ReLU(inplace)\n",
       "      (conv2): Conv2d (256, 256, kernel_size=(3, 3), stride=(1, 1), padding=(1, 1), bias=False)\n",
       "      (bn2): BatchNorm2d(256, eps=1e-05, momentum=0.1, affine=True)\n",
       "    )\n",
       "    (2): BasicBlock(\n",
       "      (conv1): Conv2d (256, 256, kernel_size=(3, 3), stride=(1, 1), padding=(1, 1), bias=False)\n",
       "      (bn1): BatchNorm2d(256, eps=1e-05, momentum=0.1, affine=True)\n",
       "      (relu): ReLU(inplace)\n",
       "      (conv2): Conv2d (256, 256, kernel_size=(3, 3), stride=(1, 1), padding=(1, 1), bias=False)\n",
       "      (bn2): BatchNorm2d(256, eps=1e-05, momentum=0.1, affine=True)\n",
       "    )\n",
       "    (3): BasicBlock(\n",
       "      (conv1): Conv2d (256, 256, kernel_size=(3, 3), stride=(1, 1), padding=(1, 1), bias=False)\n",
       "      (bn1): BatchNorm2d(256, eps=1e-05, momentum=0.1, affine=True)\n",
       "      (relu): ReLU(inplace)\n",
       "      (conv2): Conv2d (256, 256, kernel_size=(3, 3), stride=(1, 1), padding=(1, 1), bias=False)\n",
       "      (bn2): BatchNorm2d(256, eps=1e-05, momentum=0.1, affine=True)\n",
       "    )\n",
       "    (4): BasicBlock(\n",
       "      (conv1): Conv2d (256, 256, kernel_size=(3, 3), stride=(1, 1), padding=(1, 1), bias=False)\n",
       "      (bn1): BatchNorm2d(256, eps=1e-05, momentum=0.1, affine=True)\n",
       "      (relu): ReLU(inplace)\n",
       "      (conv2): Conv2d (256, 256, kernel_size=(3, 3), stride=(1, 1), padding=(1, 1), bias=False)\n",
       "      (bn2): BatchNorm2d(256, eps=1e-05, momentum=0.1, affine=True)\n",
       "    )\n",
       "    (5): BasicBlock(\n",
       "      (conv1): Conv2d (256, 256, kernel_size=(3, 3), stride=(1, 1), padding=(1, 1), bias=False)\n",
       "      (bn1): BatchNorm2d(256, eps=1e-05, momentum=0.1, affine=True)\n",
       "      (relu): ReLU(inplace)\n",
       "      (conv2): Conv2d (256, 256, kernel_size=(3, 3), stride=(1, 1), padding=(1, 1), bias=False)\n",
       "      (bn2): BatchNorm2d(256, eps=1e-05, momentum=0.1, affine=True)\n",
       "    )\n",
       "  )\n",
       "  (layer4): Sequential(\n",
       "    (0): BasicBlock(\n",
       "      (conv1): Conv2d (256, 512, kernel_size=(3, 3), stride=(2, 2), padding=(1, 1), bias=False)\n",
       "      (bn1): BatchNorm2d(512, eps=1e-05, momentum=0.1, affine=True)\n",
       "      (relu): ReLU(inplace)\n",
       "      (conv2): Conv2d (512, 512, kernel_size=(3, 3), stride=(1, 1), padding=(1, 1), bias=False)\n",
       "      (bn2): BatchNorm2d(512, eps=1e-05, momentum=0.1, affine=True)\n",
       "      (downsample): Sequential(\n",
       "        (0): Conv2d (256, 512, kernel_size=(1, 1), stride=(2, 2), bias=False)\n",
       "        (1): BatchNorm2d(512, eps=1e-05, momentum=0.1, affine=True)\n",
       "      )\n",
       "    )\n",
       "    (1): BasicBlock(\n",
       "      (conv1): Conv2d (512, 512, kernel_size=(3, 3), stride=(1, 1), padding=(1, 1), bias=False)\n",
       "      (bn1): BatchNorm2d(512, eps=1e-05, momentum=0.1, affine=True)\n",
       "      (relu): ReLU(inplace)\n",
       "      (conv2): Conv2d (512, 512, kernel_size=(3, 3), stride=(1, 1), padding=(1, 1), bias=False)\n",
       "      (bn2): BatchNorm2d(512, eps=1e-05, momentum=0.1, affine=True)\n",
       "    )\n",
       "    (2): BasicBlock(\n",
       "      (conv1): Conv2d (512, 512, kernel_size=(3, 3), stride=(1, 1), padding=(1, 1), bias=False)\n",
       "      (bn1): BatchNorm2d(512, eps=1e-05, momentum=0.1, affine=True)\n",
       "      (relu): ReLU(inplace)\n",
       "      (conv2): Conv2d (512, 512, kernel_size=(3, 3), stride=(1, 1), padding=(1, 1), bias=False)\n",
       "      (bn2): BatchNorm2d(512, eps=1e-05, momentum=0.1, affine=True)\n",
       "    )\n",
       "  )\n",
       "  (avgpool): AvgPool2d(kernel_size=7, stride=1, padding=0, ceil_mode=False, count_include_pad=True)\n",
       "  (fc): Linear(in_features=512, out_features=1000)\n",
       ")"
      ]
     },
     "execution_count": 4,
     "metadata": {},
     "output_type": "execute_result"
    }
   ],
   "source": [
    "m"
   ]
  },
  {
   "cell_type": "code",
   "execution_count": 5,
   "metadata": {
    "scrolled": false
   },
   "outputs": [],
   "source": [
    "m = nn.Sequential(*children(m)[:-2], # remove the final layer: Linear(in_features=512, out_features=1000)\n",
    "                  nn.Conv2d(512, 2, 3, padding=1),  # output 2 filters (2 classes)\n",
    "                  nn.AdaptiveAvgPool2d(1), Flatten(), # AdaptiveAvgPooling2d: The output is of size H x W, for any input size. The number of output features is equal to the number of input planes.\n",
    "                  nn.LogSoftmax())"
   ]
  },
  {
   "cell_type": "code",
   "execution_count": 6,
   "metadata": {},
   "outputs": [],
   "source": [
    "tfms = tfms_from_model(arch, sz, aug_tfms=transforms_side_on, max_zoom=1.1)\n",
    "data = ImageClassifierData.from_paths(PATH, tfms=tfms, bs=bs)"
   ]
  },
  {
   "cell_type": "code",
   "execution_count": 7,
   "metadata": {},
   "outputs": [],
   "source": [
    "learn = ConvLearner.from_model_data(m, data)"
   ]
  },
  {
   "cell_type": "code",
   "execution_count": 8,
   "metadata": {},
   "outputs": [
    {
     "data": {
      "text/plain": [
       "OrderedDict([('Conv2d-1',\n",
       "              OrderedDict([('input_shape', [-1, 3, 224, 224]),\n",
       "                           ('output_shape', [-1, 64, 112, 112]),\n",
       "                           ('trainable', True),\n",
       "                           ('nb_params', 9408)])),\n",
       "             ('BatchNorm2d-2',\n",
       "              OrderedDict([('input_shape', [-1, 64, 112, 112]),\n",
       "                           ('output_shape', [-1, 64, 112, 112]),\n",
       "                           ('trainable', True),\n",
       "                           ('nb_params', 128)])),\n",
       "             ('ReLU-3',\n",
       "              OrderedDict([('input_shape', [-1, 64, 112, 112]),\n",
       "                           ('output_shape', [-1, 64, 112, 112]),\n",
       "                           ('nb_params', 0)])),\n",
       "             ('MaxPool2d-4',\n",
       "              OrderedDict([('input_shape', [-1, 64, 112, 112]),\n",
       "                           ('output_shape', [-1, 64, 56, 56]),\n",
       "                           ('nb_params', 0)])),\n",
       "             ('Conv2d-5',\n",
       "              OrderedDict([('input_shape', [-1, 64, 56, 56]),\n",
       "                           ('output_shape', [-1, 64, 56, 56]),\n",
       "                           ('trainable', True),\n",
       "                           ('nb_params', 36864)])),\n",
       "             ('BatchNorm2d-6',\n",
       "              OrderedDict([('input_shape', [-1, 64, 56, 56]),\n",
       "                           ('output_shape', [-1, 64, 56, 56]),\n",
       "                           ('trainable', True),\n",
       "                           ('nb_params', 128)])),\n",
       "             ('ReLU-7',\n",
       "              OrderedDict([('input_shape', [-1, 64, 56, 56]),\n",
       "                           ('output_shape', [-1, 64, 56, 56]),\n",
       "                           ('nb_params', 0)])),\n",
       "             ('Conv2d-8',\n",
       "              OrderedDict([('input_shape', [-1, 64, 56, 56]),\n",
       "                           ('output_shape', [-1, 64, 56, 56]),\n",
       "                           ('trainable', True),\n",
       "                           ('nb_params', 36864)])),\n",
       "             ('BatchNorm2d-9',\n",
       "              OrderedDict([('input_shape', [-1, 64, 56, 56]),\n",
       "                           ('output_shape', [-1, 64, 56, 56]),\n",
       "                           ('trainable', True),\n",
       "                           ('nb_params', 128)])),\n",
       "             ('ReLU-10',\n",
       "              OrderedDict([('input_shape', [-1, 64, 56, 56]),\n",
       "                           ('output_shape', [-1, 64, 56, 56]),\n",
       "                           ('nb_params', 0)])),\n",
       "             ('BasicBlock-11',\n",
       "              OrderedDict([('input_shape', [-1, 64, 56, 56]),\n",
       "                           ('output_shape', [-1, 64, 56, 56]),\n",
       "                           ('nb_params', 0)])),\n",
       "             ('Conv2d-12',\n",
       "              OrderedDict([('input_shape', [-1, 64, 56, 56]),\n",
       "                           ('output_shape', [-1, 64, 56, 56]),\n",
       "                           ('trainable', True),\n",
       "                           ('nb_params', 36864)])),\n",
       "             ('BatchNorm2d-13',\n",
       "              OrderedDict([('input_shape', [-1, 64, 56, 56]),\n",
       "                           ('output_shape', [-1, 64, 56, 56]),\n",
       "                           ('trainable', True),\n",
       "                           ('nb_params', 128)])),\n",
       "             ('ReLU-14',\n",
       "              OrderedDict([('input_shape', [-1, 64, 56, 56]),\n",
       "                           ('output_shape', [-1, 64, 56, 56]),\n",
       "                           ('nb_params', 0)])),\n",
       "             ('Conv2d-15',\n",
       "              OrderedDict([('input_shape', [-1, 64, 56, 56]),\n",
       "                           ('output_shape', [-1, 64, 56, 56]),\n",
       "                           ('trainable', True),\n",
       "                           ('nb_params', 36864)])),\n",
       "             ('BatchNorm2d-16',\n",
       "              OrderedDict([('input_shape', [-1, 64, 56, 56]),\n",
       "                           ('output_shape', [-1, 64, 56, 56]),\n",
       "                           ('trainable', True),\n",
       "                           ('nb_params', 128)])),\n",
       "             ('ReLU-17',\n",
       "              OrderedDict([('input_shape', [-1, 64, 56, 56]),\n",
       "                           ('output_shape', [-1, 64, 56, 56]),\n",
       "                           ('nb_params', 0)])),\n",
       "             ('BasicBlock-18',\n",
       "              OrderedDict([('input_shape', [-1, 64, 56, 56]),\n",
       "                           ('output_shape', [-1, 64, 56, 56]),\n",
       "                           ('nb_params', 0)])),\n",
       "             ('Conv2d-19',\n",
       "              OrderedDict([('input_shape', [-1, 64, 56, 56]),\n",
       "                           ('output_shape', [-1, 64, 56, 56]),\n",
       "                           ('trainable', True),\n",
       "                           ('nb_params', 36864)])),\n",
       "             ('BatchNorm2d-20',\n",
       "              OrderedDict([('input_shape', [-1, 64, 56, 56]),\n",
       "                           ('output_shape', [-1, 64, 56, 56]),\n",
       "                           ('trainable', True),\n",
       "                           ('nb_params', 128)])),\n",
       "             ('ReLU-21',\n",
       "              OrderedDict([('input_shape', [-1, 64, 56, 56]),\n",
       "                           ('output_shape', [-1, 64, 56, 56]),\n",
       "                           ('nb_params', 0)])),\n",
       "             ('Conv2d-22',\n",
       "              OrderedDict([('input_shape', [-1, 64, 56, 56]),\n",
       "                           ('output_shape', [-1, 64, 56, 56]),\n",
       "                           ('trainable', True),\n",
       "                           ('nb_params', 36864)])),\n",
       "             ('BatchNorm2d-23',\n",
       "              OrderedDict([('input_shape', [-1, 64, 56, 56]),\n",
       "                           ('output_shape', [-1, 64, 56, 56]),\n",
       "                           ('trainable', True),\n",
       "                           ('nb_params', 128)])),\n",
       "             ('ReLU-24',\n",
       "              OrderedDict([('input_shape', [-1, 64, 56, 56]),\n",
       "                           ('output_shape', [-1, 64, 56, 56]),\n",
       "                           ('nb_params', 0)])),\n",
       "             ('BasicBlock-25',\n",
       "              OrderedDict([('input_shape', [-1, 64, 56, 56]),\n",
       "                           ('output_shape', [-1, 64, 56, 56]),\n",
       "                           ('nb_params', 0)])),\n",
       "             ('Conv2d-26',\n",
       "              OrderedDict([('input_shape', [-1, 64, 56, 56]),\n",
       "                           ('output_shape', [-1, 128, 28, 28]),\n",
       "                           ('trainable', True),\n",
       "                           ('nb_params', 73728)])),\n",
       "             ('BatchNorm2d-27',\n",
       "              OrderedDict([('input_shape', [-1, 128, 28, 28]),\n",
       "                           ('output_shape', [-1, 128, 28, 28]),\n",
       "                           ('trainable', True),\n",
       "                           ('nb_params', 256)])),\n",
       "             ('ReLU-28',\n",
       "              OrderedDict([('input_shape', [-1, 128, 28, 28]),\n",
       "                           ('output_shape', [-1, 128, 28, 28]),\n",
       "                           ('nb_params', 0)])),\n",
       "             ('Conv2d-29',\n",
       "              OrderedDict([('input_shape', [-1, 128, 28, 28]),\n",
       "                           ('output_shape', [-1, 128, 28, 28]),\n",
       "                           ('trainable', True),\n",
       "                           ('nb_params', 147456)])),\n",
       "             ('BatchNorm2d-30',\n",
       "              OrderedDict([('input_shape', [-1, 128, 28, 28]),\n",
       "                           ('output_shape', [-1, 128, 28, 28]),\n",
       "                           ('trainable', True),\n",
       "                           ('nb_params', 256)])),\n",
       "             ('Conv2d-31',\n",
       "              OrderedDict([('input_shape', [-1, 64, 56, 56]),\n",
       "                           ('output_shape', [-1, 128, 28, 28]),\n",
       "                           ('trainable', True),\n",
       "                           ('nb_params', 8192)])),\n",
       "             ('BatchNorm2d-32',\n",
       "              OrderedDict([('input_shape', [-1, 128, 28, 28]),\n",
       "                           ('output_shape', [-1, 128, 28, 28]),\n",
       "                           ('trainable', True),\n",
       "                           ('nb_params', 256)])),\n",
       "             ('ReLU-33',\n",
       "              OrderedDict([('input_shape', [-1, 128, 28, 28]),\n",
       "                           ('output_shape', [-1, 128, 28, 28]),\n",
       "                           ('nb_params', 0)])),\n",
       "             ('BasicBlock-34',\n",
       "              OrderedDict([('input_shape', [-1, 64, 56, 56]),\n",
       "                           ('output_shape', [-1, 128, 28, 28]),\n",
       "                           ('nb_params', 0)])),\n",
       "             ('Conv2d-35',\n",
       "              OrderedDict([('input_shape', [-1, 128, 28, 28]),\n",
       "                           ('output_shape', [-1, 128, 28, 28]),\n",
       "                           ('trainable', True),\n",
       "                           ('nb_params', 147456)])),\n",
       "             ('BatchNorm2d-36',\n",
       "              OrderedDict([('input_shape', [-1, 128, 28, 28]),\n",
       "                           ('output_shape', [-1, 128, 28, 28]),\n",
       "                           ('trainable', True),\n",
       "                           ('nb_params', 256)])),\n",
       "             ('ReLU-37',\n",
       "              OrderedDict([('input_shape', [-1, 128, 28, 28]),\n",
       "                           ('output_shape', [-1, 128, 28, 28]),\n",
       "                           ('nb_params', 0)])),\n",
       "             ('Conv2d-38',\n",
       "              OrderedDict([('input_shape', [-1, 128, 28, 28]),\n",
       "                           ('output_shape', [-1, 128, 28, 28]),\n",
       "                           ('trainable', True),\n",
       "                           ('nb_params', 147456)])),\n",
       "             ('BatchNorm2d-39',\n",
       "              OrderedDict([('input_shape', [-1, 128, 28, 28]),\n",
       "                           ('output_shape', [-1, 128, 28, 28]),\n",
       "                           ('trainable', True),\n",
       "                           ('nb_params', 256)])),\n",
       "             ('ReLU-40',\n",
       "              OrderedDict([('input_shape', [-1, 128, 28, 28]),\n",
       "                           ('output_shape', [-1, 128, 28, 28]),\n",
       "                           ('nb_params', 0)])),\n",
       "             ('BasicBlock-41',\n",
       "              OrderedDict([('input_shape', [-1, 128, 28, 28]),\n",
       "                           ('output_shape', [-1, 128, 28, 28]),\n",
       "                           ('nb_params', 0)])),\n",
       "             ('Conv2d-42',\n",
       "              OrderedDict([('input_shape', [-1, 128, 28, 28]),\n",
       "                           ('output_shape', [-1, 128, 28, 28]),\n",
       "                           ('trainable', True),\n",
       "                           ('nb_params', 147456)])),\n",
       "             ('BatchNorm2d-43',\n",
       "              OrderedDict([('input_shape', [-1, 128, 28, 28]),\n",
       "                           ('output_shape', [-1, 128, 28, 28]),\n",
       "                           ('trainable', True),\n",
       "                           ('nb_params', 256)])),\n",
       "             ('ReLU-44',\n",
       "              OrderedDict([('input_shape', [-1, 128, 28, 28]),\n",
       "                           ('output_shape', [-1, 128, 28, 28]),\n",
       "                           ('nb_params', 0)])),\n",
       "             ('Conv2d-45',\n",
       "              OrderedDict([('input_shape', [-1, 128, 28, 28]),\n",
       "                           ('output_shape', [-1, 128, 28, 28]),\n",
       "                           ('trainable', True),\n",
       "                           ('nb_params', 147456)])),\n",
       "             ('BatchNorm2d-46',\n",
       "              OrderedDict([('input_shape', [-1, 128, 28, 28]),\n",
       "                           ('output_shape', [-1, 128, 28, 28]),\n",
       "                           ('trainable', True),\n",
       "                           ('nb_params', 256)])),\n",
       "             ('ReLU-47',\n",
       "              OrderedDict([('input_shape', [-1, 128, 28, 28]),\n",
       "                           ('output_shape', [-1, 128, 28, 28]),\n",
       "                           ('nb_params', 0)])),\n",
       "             ('BasicBlock-48',\n",
       "              OrderedDict([('input_shape', [-1, 128, 28, 28]),\n",
       "                           ('output_shape', [-1, 128, 28, 28]),\n",
       "                           ('nb_params', 0)])),\n",
       "             ('Conv2d-49',\n",
       "              OrderedDict([('input_shape', [-1, 128, 28, 28]),\n",
       "                           ('output_shape', [-1, 128, 28, 28]),\n",
       "                           ('trainable', True),\n",
       "                           ('nb_params', 147456)])),\n",
       "             ('BatchNorm2d-50',\n",
       "              OrderedDict([('input_shape', [-1, 128, 28, 28]),\n",
       "                           ('output_shape', [-1, 128, 28, 28]),\n",
       "                           ('trainable', True),\n",
       "                           ('nb_params', 256)])),\n",
       "             ('ReLU-51',\n",
       "              OrderedDict([('input_shape', [-1, 128, 28, 28]),\n",
       "                           ('output_shape', [-1, 128, 28, 28]),\n",
       "                           ('nb_params', 0)])),\n",
       "             ('Conv2d-52',\n",
       "              OrderedDict([('input_shape', [-1, 128, 28, 28]),\n",
       "                           ('output_shape', [-1, 128, 28, 28]),\n",
       "                           ('trainable', True),\n",
       "                           ('nb_params', 147456)])),\n",
       "             ('BatchNorm2d-53',\n",
       "              OrderedDict([('input_shape', [-1, 128, 28, 28]),\n",
       "                           ('output_shape', [-1, 128, 28, 28]),\n",
       "                           ('trainable', True),\n",
       "                           ('nb_params', 256)])),\n",
       "             ('ReLU-54',\n",
       "              OrderedDict([('input_shape', [-1, 128, 28, 28]),\n",
       "                           ('output_shape', [-1, 128, 28, 28]),\n",
       "                           ('nb_params', 0)])),\n",
       "             ('BasicBlock-55',\n",
       "              OrderedDict([('input_shape', [-1, 128, 28, 28]),\n",
       "                           ('output_shape', [-1, 128, 28, 28]),\n",
       "                           ('nb_params', 0)])),\n",
       "             ('Conv2d-56',\n",
       "              OrderedDict([('input_shape', [-1, 128, 28, 28]),\n",
       "                           ('output_shape', [-1, 256, 14, 14]),\n",
       "                           ('trainable', True),\n",
       "                           ('nb_params', 294912)])),\n",
       "             ('BatchNorm2d-57',\n",
       "              OrderedDict([('input_shape', [-1, 256, 14, 14]),\n",
       "                           ('output_shape', [-1, 256, 14, 14]),\n",
       "                           ('trainable', True),\n",
       "                           ('nb_params', 512)])),\n",
       "             ('ReLU-58',\n",
       "              OrderedDict([('input_shape', [-1, 256, 14, 14]),\n",
       "                           ('output_shape', [-1, 256, 14, 14]),\n",
       "                           ('nb_params', 0)])),\n",
       "             ('Conv2d-59',\n",
       "              OrderedDict([('input_shape', [-1, 256, 14, 14]),\n",
       "                           ('output_shape', [-1, 256, 14, 14]),\n",
       "                           ('trainable', True),\n",
       "                           ('nb_params', 589824)])),\n",
       "             ('BatchNorm2d-60',\n",
       "              OrderedDict([('input_shape', [-1, 256, 14, 14]),\n",
       "                           ('output_shape', [-1, 256, 14, 14]),\n",
       "                           ('trainable', True),\n",
       "                           ('nb_params', 512)])),\n",
       "             ('Conv2d-61',\n",
       "              OrderedDict([('input_shape', [-1, 128, 28, 28]),\n",
       "                           ('output_shape', [-1, 256, 14, 14]),\n",
       "                           ('trainable', True),\n",
       "                           ('nb_params', 32768)])),\n",
       "             ('BatchNorm2d-62',\n",
       "              OrderedDict([('input_shape', [-1, 256, 14, 14]),\n",
       "                           ('output_shape', [-1, 256, 14, 14]),\n",
       "                           ('trainable', True),\n",
       "                           ('nb_params', 512)])),\n",
       "             ('ReLU-63',\n",
       "              OrderedDict([('input_shape', [-1, 256, 14, 14]),\n",
       "                           ('output_shape', [-1, 256, 14, 14]),\n",
       "                           ('nb_params', 0)])),\n",
       "             ('BasicBlock-64',\n",
       "              OrderedDict([('input_shape', [-1, 128, 28, 28]),\n",
       "                           ('output_shape', [-1, 256, 14, 14]),\n",
       "                           ('nb_params', 0)])),\n",
       "             ('Conv2d-65',\n",
       "              OrderedDict([('input_shape', [-1, 256, 14, 14]),\n",
       "                           ('output_shape', [-1, 256, 14, 14]),\n",
       "                           ('trainable', True),\n",
       "                           ('nb_params', 589824)])),\n",
       "             ('BatchNorm2d-66',\n",
       "              OrderedDict([('input_shape', [-1, 256, 14, 14]),\n",
       "                           ('output_shape', [-1, 256, 14, 14]),\n",
       "                           ('trainable', True),\n",
       "                           ('nb_params', 512)])),\n",
       "             ('ReLU-67',\n",
       "              OrderedDict([('input_shape', [-1, 256, 14, 14]),\n",
       "                           ('output_shape', [-1, 256, 14, 14]),\n",
       "                           ('nb_params', 0)])),\n",
       "             ('Conv2d-68',\n",
       "              OrderedDict([('input_shape', [-1, 256, 14, 14]),\n",
       "                           ('output_shape', [-1, 256, 14, 14]),\n",
       "                           ('trainable', True),\n",
       "                           ('nb_params', 589824)])),\n",
       "             ('BatchNorm2d-69',\n",
       "              OrderedDict([('input_shape', [-1, 256, 14, 14]),\n",
       "                           ('output_shape', [-1, 256, 14, 14]),\n",
       "                           ('trainable', True),\n",
       "                           ('nb_params', 512)])),\n",
       "             ('ReLU-70',\n",
       "              OrderedDict([('input_shape', [-1, 256, 14, 14]),\n",
       "                           ('output_shape', [-1, 256, 14, 14]),\n",
       "                           ('nb_params', 0)])),\n",
       "             ('BasicBlock-71',\n",
       "              OrderedDict([('input_shape', [-1, 256, 14, 14]),\n",
       "                           ('output_shape', [-1, 256, 14, 14]),\n",
       "                           ('nb_params', 0)])),\n",
       "             ('Conv2d-72',\n",
       "              OrderedDict([('input_shape', [-1, 256, 14, 14]),\n",
       "                           ('output_shape', [-1, 256, 14, 14]),\n",
       "                           ('trainable', True),\n",
       "                           ('nb_params', 589824)])),\n",
       "             ('BatchNorm2d-73',\n",
       "              OrderedDict([('input_shape', [-1, 256, 14, 14]),\n",
       "                           ('output_shape', [-1, 256, 14, 14]),\n",
       "                           ('trainable', True),\n",
       "                           ('nb_params', 512)])),\n",
       "             ('ReLU-74',\n",
       "              OrderedDict([('input_shape', [-1, 256, 14, 14]),\n",
       "                           ('output_shape', [-1, 256, 14, 14]),\n",
       "                           ('nb_params', 0)])),\n",
       "             ('Conv2d-75',\n",
       "              OrderedDict([('input_shape', [-1, 256, 14, 14]),\n",
       "                           ('output_shape', [-1, 256, 14, 14]),\n",
       "                           ('trainable', True),\n",
       "                           ('nb_params', 589824)])),\n",
       "             ('BatchNorm2d-76',\n",
       "              OrderedDict([('input_shape', [-1, 256, 14, 14]),\n",
       "                           ('output_shape', [-1, 256, 14, 14]),\n",
       "                           ('trainable', True),\n",
       "                           ('nb_params', 512)])),\n",
       "             ('ReLU-77',\n",
       "              OrderedDict([('input_shape', [-1, 256, 14, 14]),\n",
       "                           ('output_shape', [-1, 256, 14, 14]),\n",
       "                           ('nb_params', 0)])),\n",
       "             ('BasicBlock-78',\n",
       "              OrderedDict([('input_shape', [-1, 256, 14, 14]),\n",
       "                           ('output_shape', [-1, 256, 14, 14]),\n",
       "                           ('nb_params', 0)])),\n",
       "             ('Conv2d-79',\n",
       "              OrderedDict([('input_shape', [-1, 256, 14, 14]),\n",
       "                           ('output_shape', [-1, 256, 14, 14]),\n",
       "                           ('trainable', True),\n",
       "                           ('nb_params', 589824)])),\n",
       "             ('BatchNorm2d-80',\n",
       "              OrderedDict([('input_shape', [-1, 256, 14, 14]),\n",
       "                           ('output_shape', [-1, 256, 14, 14]),\n",
       "                           ('trainable', True),\n",
       "                           ('nb_params', 512)])),\n",
       "             ('ReLU-81',\n",
       "              OrderedDict([('input_shape', [-1, 256, 14, 14]),\n",
       "                           ('output_shape', [-1, 256, 14, 14]),\n",
       "                           ('nb_params', 0)])),\n",
       "             ('Conv2d-82',\n",
       "              OrderedDict([('input_shape', [-1, 256, 14, 14]),\n",
       "                           ('output_shape', [-1, 256, 14, 14]),\n",
       "                           ('trainable', True),\n",
       "                           ('nb_params', 589824)])),\n",
       "             ('BatchNorm2d-83',\n",
       "              OrderedDict([('input_shape', [-1, 256, 14, 14]),\n",
       "                           ('output_shape', [-1, 256, 14, 14]),\n",
       "                           ('trainable', True),\n",
       "                           ('nb_params', 512)])),\n",
       "             ('ReLU-84',\n",
       "              OrderedDict([('input_shape', [-1, 256, 14, 14]),\n",
       "                           ('output_shape', [-1, 256, 14, 14]),\n",
       "                           ('nb_params', 0)])),\n",
       "             ('BasicBlock-85',\n",
       "              OrderedDict([('input_shape', [-1, 256, 14, 14]),\n",
       "                           ('output_shape', [-1, 256, 14, 14]),\n",
       "                           ('nb_params', 0)])),\n",
       "             ('Conv2d-86',\n",
       "              OrderedDict([('input_shape', [-1, 256, 14, 14]),\n",
       "                           ('output_shape', [-1, 256, 14, 14]),\n",
       "                           ('trainable', True),\n",
       "                           ('nb_params', 589824)])),\n",
       "             ('BatchNorm2d-87',\n",
       "              OrderedDict([('input_shape', [-1, 256, 14, 14]),\n",
       "                           ('output_shape', [-1, 256, 14, 14]),\n",
       "                           ('trainable', True),\n",
       "                           ('nb_params', 512)])),\n",
       "             ('ReLU-88',\n",
       "              OrderedDict([('input_shape', [-1, 256, 14, 14]),\n",
       "                           ('output_shape', [-1, 256, 14, 14]),\n",
       "                           ('nb_params', 0)])),\n",
       "             ('Conv2d-89',\n",
       "              OrderedDict([('input_shape', [-1, 256, 14, 14]),\n",
       "                           ('output_shape', [-1, 256, 14, 14]),\n",
       "                           ('trainable', True),\n",
       "                           ('nb_params', 589824)])),\n",
       "             ('BatchNorm2d-90',\n",
       "              OrderedDict([('input_shape', [-1, 256, 14, 14]),\n",
       "                           ('output_shape', [-1, 256, 14, 14]),\n",
       "                           ('trainable', True),\n",
       "                           ('nb_params', 512)])),\n",
       "             ('ReLU-91',\n",
       "              OrderedDict([('input_shape', [-1, 256, 14, 14]),\n",
       "                           ('output_shape', [-1, 256, 14, 14]),\n",
       "                           ('nb_params', 0)])),\n",
       "             ('BasicBlock-92',\n",
       "              OrderedDict([('input_shape', [-1, 256, 14, 14]),\n",
       "                           ('output_shape', [-1, 256, 14, 14]),\n",
       "                           ('nb_params', 0)])),\n",
       "             ('Conv2d-93',\n",
       "              OrderedDict([('input_shape', [-1, 256, 14, 14]),\n",
       "                           ('output_shape', [-1, 256, 14, 14]),\n",
       "                           ('trainable', True),\n",
       "                           ('nb_params', 589824)])),\n",
       "             ('BatchNorm2d-94',\n",
       "              OrderedDict([('input_shape', [-1, 256, 14, 14]),\n",
       "                           ('output_shape', [-1, 256, 14, 14]),\n",
       "                           ('trainable', True),\n",
       "                           ('nb_params', 512)])),\n",
       "             ('ReLU-95',\n",
       "              OrderedDict([('input_shape', [-1, 256, 14, 14]),\n",
       "                           ('output_shape', [-1, 256, 14, 14]),\n",
       "                           ('nb_params', 0)])),\n",
       "             ('Conv2d-96',\n",
       "              OrderedDict([('input_shape', [-1, 256, 14, 14]),\n",
       "                           ('output_shape', [-1, 256, 14, 14]),\n",
       "                           ('trainable', True),\n",
       "                           ('nb_params', 589824)])),\n",
       "             ('BatchNorm2d-97',\n",
       "              OrderedDict([('input_shape', [-1, 256, 14, 14]),\n",
       "                           ('output_shape', [-1, 256, 14, 14]),\n",
       "                           ('trainable', True),\n",
       "                           ('nb_params', 512)])),\n",
       "             ('ReLU-98',\n",
       "              OrderedDict([('input_shape', [-1, 256, 14, 14]),\n",
       "                           ('output_shape', [-1, 256, 14, 14]),\n",
       "                           ('nb_params', 0)])),\n",
       "             ('BasicBlock-99',\n",
       "              OrderedDict([('input_shape', [-1, 256, 14, 14]),\n",
       "                           ('output_shape', [-1, 256, 14, 14]),\n",
       "                           ('nb_params', 0)])),\n",
       "             ('Conv2d-100',\n",
       "              OrderedDict([('input_shape', [-1, 256, 14, 14]),\n",
       "                           ('output_shape', [-1, 512, 7, 7]),\n",
       "                           ('trainable', True),\n",
       "                           ('nb_params', 1179648)])),\n",
       "             ('BatchNorm2d-101',\n",
       "              OrderedDict([('input_shape', [-1, 512, 7, 7]),\n",
       "                           ('output_shape', [-1, 512, 7, 7]),\n",
       "                           ('trainable', True),\n",
       "                           ('nb_params', 1024)])),\n",
       "             ('ReLU-102',\n",
       "              OrderedDict([('input_shape', [-1, 512, 7, 7]),\n",
       "                           ('output_shape', [-1, 512, 7, 7]),\n",
       "                           ('nb_params', 0)])),\n",
       "             ('Conv2d-103',\n",
       "              OrderedDict([('input_shape', [-1, 512, 7, 7]),\n",
       "                           ('output_shape', [-1, 512, 7, 7]),\n",
       "                           ('trainable', True),\n",
       "                           ('nb_params', 2359296)])),\n",
       "             ('BatchNorm2d-104',\n",
       "              OrderedDict([('input_shape', [-1, 512, 7, 7]),\n",
       "                           ('output_shape', [-1, 512, 7, 7]),\n",
       "                           ('trainable', True),\n",
       "                           ('nb_params', 1024)])),\n",
       "             ('Conv2d-105',\n",
       "              OrderedDict([('input_shape', [-1, 256, 14, 14]),\n",
       "                           ('output_shape', [-1, 512, 7, 7]),\n",
       "                           ('trainable', True),\n",
       "                           ('nb_params', 131072)])),\n",
       "             ('BatchNorm2d-106',\n",
       "              OrderedDict([('input_shape', [-1, 512, 7, 7]),\n",
       "                           ('output_shape', [-1, 512, 7, 7]),\n",
       "                           ('trainable', True),\n",
       "                           ('nb_params', 1024)])),\n",
       "             ('ReLU-107',\n",
       "              OrderedDict([('input_shape', [-1, 512, 7, 7]),\n",
       "                           ('output_shape', [-1, 512, 7, 7]),\n",
       "                           ('nb_params', 0)])),\n",
       "             ('BasicBlock-108',\n",
       "              OrderedDict([('input_shape', [-1, 256, 14, 14]),\n",
       "                           ('output_shape', [-1, 512, 7, 7]),\n",
       "                           ('nb_params', 0)])),\n",
       "             ('Conv2d-109',\n",
       "              OrderedDict([('input_shape', [-1, 512, 7, 7]),\n",
       "                           ('output_shape', [-1, 512, 7, 7]),\n",
       "                           ('trainable', True),\n",
       "                           ('nb_params', 2359296)])),\n",
       "             ('BatchNorm2d-110',\n",
       "              OrderedDict([('input_shape', [-1, 512, 7, 7]),\n",
       "                           ('output_shape', [-1, 512, 7, 7]),\n",
       "                           ('trainable', True),\n",
       "                           ('nb_params', 1024)])),\n",
       "             ('ReLU-111',\n",
       "              OrderedDict([('input_shape', [-1, 512, 7, 7]),\n",
       "                           ('output_shape', [-1, 512, 7, 7]),\n",
       "                           ('nb_params', 0)])),\n",
       "             ('Conv2d-112',\n",
       "              OrderedDict([('input_shape', [-1, 512, 7, 7]),\n",
       "                           ('output_shape', [-1, 512, 7, 7]),\n",
       "                           ('trainable', True),\n",
       "                           ('nb_params', 2359296)])),\n",
       "             ('BatchNorm2d-113',\n",
       "              OrderedDict([('input_shape', [-1, 512, 7, 7]),\n",
       "                           ('output_shape', [-1, 512, 7, 7]),\n",
       "                           ('trainable', True),\n",
       "                           ('nb_params', 1024)])),\n",
       "             ('ReLU-114',\n",
       "              OrderedDict([('input_shape', [-1, 512, 7, 7]),\n",
       "                           ('output_shape', [-1, 512, 7, 7]),\n",
       "                           ('nb_params', 0)])),\n",
       "             ('BasicBlock-115',\n",
       "              OrderedDict([('input_shape', [-1, 512, 7, 7]),\n",
       "                           ('output_shape', [-1, 512, 7, 7]),\n",
       "                           ('nb_params', 0)])),\n",
       "             ('Conv2d-116',\n",
       "              OrderedDict([('input_shape', [-1, 512, 7, 7]),\n",
       "                           ('output_shape', [-1, 512, 7, 7]),\n",
       "                           ('trainable', True),\n",
       "                           ('nb_params', 2359296)])),\n",
       "             ('BatchNorm2d-117',\n",
       "              OrderedDict([('input_shape', [-1, 512, 7, 7]),\n",
       "                           ('output_shape', [-1, 512, 7, 7]),\n",
       "                           ('trainable', True),\n",
       "                           ('nb_params', 1024)])),\n",
       "             ('ReLU-118',\n",
       "              OrderedDict([('input_shape', [-1, 512, 7, 7]),\n",
       "                           ('output_shape', [-1, 512, 7, 7]),\n",
       "                           ('nb_params', 0)])),\n",
       "             ('Conv2d-119',\n",
       "              OrderedDict([('input_shape', [-1, 512, 7, 7]),\n",
       "                           ('output_shape', [-1, 512, 7, 7]),\n",
       "                           ('trainable', True),\n",
       "                           ('nb_params', 2359296)])),\n",
       "             ('BatchNorm2d-120',\n",
       "              OrderedDict([('input_shape', [-1, 512, 7, 7]),\n",
       "                           ('output_shape', [-1, 512, 7, 7]),\n",
       "                           ('trainable', True),\n",
       "                           ('nb_params', 1024)])),\n",
       "             ('ReLU-121',\n",
       "              OrderedDict([('input_shape', [-1, 512, 7, 7]),\n",
       "                           ('output_shape', [-1, 512, 7, 7]),\n",
       "                           ('nb_params', 0)])),\n",
       "             ('BasicBlock-122',\n",
       "              OrderedDict([('input_shape', [-1, 512, 7, 7]),\n",
       "                           ('output_shape', [-1, 512, 7, 7]),\n",
       "                           ('nb_params', 0)])),\n",
       "             ('Conv2d-123',\n",
       "              OrderedDict([('input_shape', [-1, 512, 7, 7]),\n",
       "                           ('output_shape', [-1, 2, 7, 7]),\n",
       "                           ('trainable', True),\n",
       "                           ('nb_params', 9218)])),\n",
       "             ('AdaptiveAvgPool2d-124',\n",
       "              OrderedDict([('input_shape', [-1, 2, 7, 7]),\n",
       "                           ('output_shape', [-1, 2, 1, 1]),\n",
       "                           ('nb_params', 0)])),\n",
       "             ('Flatten-125',\n",
       "              OrderedDict([('input_shape', [-1, 2, 1, 1]),\n",
       "                           ('output_shape', [-1, 2]),\n",
       "                           ('nb_params', 0)])),\n",
       "             ('LogSoftmax-126',\n",
       "              OrderedDict([('input_shape', [-1, 2]),\n",
       "                           ('output_shape', [-1, 2]),\n",
       "                           ('nb_params', 0)]))])"
      ]
     },
     "execution_count": 8,
     "metadata": {},
     "output_type": "execute_result"
    }
   ],
   "source": [
    "learn.summary()"
   ]
  },
  {
   "cell_type": "code",
   "execution_count": 10,
   "metadata": {},
   "outputs": [
    {
     "data": {
      "text/plain": [
       "True"
      ]
     },
     "execution_count": 10,
     "metadata": {},
     "output_type": "execute_result"
    }
   ],
   "source": [
    "m[-5].trainable"
   ]
  },
  {
   "cell_type": "code",
   "execution_count": 16,
   "metadata": {},
   "outputs": [
    {
     "data": {
      "text/plain": [
       "(LogSoftmax(),\n",
       " Conv2d (512, 2, kernel_size=(3, 3), stride=(1, 1), padding=(1, 1)))"
      ]
     },
     "execution_count": 16,
     "metadata": {},
     "output_type": "execute_result"
    }
   ],
   "source": [
    "m[-1], m[-4]"
   ]
  },
  {
   "cell_type": "code",
   "execution_count": 12,
   "metadata": {},
   "outputs": [],
   "source": [
    "learn.freeze_to(-4) # just train the last layer"
   ]
  },
  {
   "cell_type": "code",
   "execution_count": 13,
   "metadata": {},
   "outputs": [
    {
     "data": {
      "text/plain": [
       "True"
      ]
     },
     "execution_count": 13,
     "metadata": {},
     "output_type": "execute_result"
    }
   ],
   "source": [
    "m[-1].trainable"
   ]
  },
  {
   "cell_type": "code",
   "execution_count": 14,
   "metadata": {},
   "outputs": [
    {
     "data": {
      "text/plain": [
       "True"
      ]
     },
     "execution_count": 14,
     "metadata": {},
     "output_type": "execute_result"
    }
   ],
   "source": [
    "m[-4].trainable"
   ]
  },
  {
   "cell_type": "code",
   "execution_count": 15,
   "metadata": {},
   "outputs": [
    {
     "data": {
      "text/plain": [
       "False"
      ]
     },
     "execution_count": 15,
     "metadata": {},
     "output_type": "execute_result"
    }
   ],
   "source": [
    "m[-5].trainable"
   ]
  },
  {
   "cell_type": "code",
   "execution_count": 17,
   "metadata": {
    "scrolled": false
   },
   "outputs": [
    {
     "data": {
      "application/vnd.jupyter.widget-view+json": {
       "model_id": "53e7d34bc8c44737a74c1c19a81c2c5a",
       "version_major": 2,
       "version_minor": 0
      },
      "text/html": [
       "<p>Failed to display Jupyter Widget of type <code>HBox</code>.</p>\n",
       "<p>\n",
       "  If you're reading this message in the Jupyter Notebook or JupyterLab Notebook, it may mean\n",
       "  that the widgets JavaScript is still loading. If this message persists, it\n",
       "  likely means that the widgets JavaScript library is either not installed or\n",
       "  not enabled. See the <a href=\"https://ipywidgets.readthedocs.io/en/stable/user_install.html\">Jupyter\n",
       "  Widgets Documentation</a> for setup instructions.\n",
       "</p>\n",
       "<p>\n",
       "  If you're reading this message in another frontend (for example, a static\n",
       "  rendering on GitHub or <a href=\"https://nbviewer.jupyter.org/\">NBViewer</a>),\n",
       "  it may mean that your frontend doesn't currently support widgets.\n",
       "</p>\n"
      ],
      "text/plain": [
       "HBox(children=(IntProgress(value=0, description='Epoch', max=1), HTML(value='')))"
      ]
     },
     "metadata": {},
     "output_type": "display_data"
    },
    {
     "name": "stdout",
     "output_type": "stream",
     "text": [
      "epoch      trn_loss   val_loss   accuracy                    \n",
      "    0      0.14948    0.247789   0.980957  \n",
      "\n"
     ]
    },
    {
     "data": {
      "text/plain": [
       "[0.24778913, 0.98095703125]"
      ]
     },
     "execution_count": 17,
     "metadata": {},
     "output_type": "execute_result"
    }
   ],
   "source": [
    "learn.fit(0.01, 1)"
   ]
  },
  {
   "cell_type": "code",
   "execution_count": 18,
   "metadata": {
    "scrolled": false
   },
   "outputs": [
    {
     "data": {
      "application/vnd.jupyter.widget-view+json": {
       "model_id": "f0d3b715a3dc4a41945785ae2459755e",
       "version_major": 2,
       "version_minor": 0
      },
      "text/html": [
       "<p>Failed to display Jupyter Widget of type <code>HBox</code>.</p>\n",
       "<p>\n",
       "  If you're reading this message in the Jupyter Notebook or JupyterLab Notebook, it may mean\n",
       "  that the widgets JavaScript is still loading. If this message persists, it\n",
       "  likely means that the widgets JavaScript library is either not installed or\n",
       "  not enabled. See the <a href=\"https://ipywidgets.readthedocs.io/en/stable/user_install.html\">Jupyter\n",
       "  Widgets Documentation</a> for setup instructions.\n",
       "</p>\n",
       "<p>\n",
       "  If you're reading this message in another frontend (for example, a static\n",
       "  rendering on GitHub or <a href=\"https://nbviewer.jupyter.org/\">NBViewer</a>),\n",
       "  it may mean that your frontend doesn't currently support widgets.\n",
       "</p>\n"
      ],
      "text/plain": [
       "HBox(children=(IntProgress(value=0, description='Epoch', max=1), HTML(value='')))"
      ]
     },
     "metadata": {},
     "output_type": "display_data"
    },
    {
     "name": "stdout",
     "output_type": "stream",
     "text": [
      "epoch      trn_loss   val_loss   accuracy                     \n",
      "    0      0.108523   0.073568   0.990723  \n",
      "\n"
     ]
    },
    {
     "data": {
      "text/plain": [
       "[0.073568255, 0.99072265625]"
      ]
     },
     "execution_count": 18,
     "metadata": {},
     "output_type": "execute_result"
    }
   ],
   "source": [
    "learn.fit(0.01, 1, cycle_len=1)"
   ]
  },
  {
   "cell_type": "markdown",
   "metadata": {},
   "source": [
    "## CAM"
   ]
  },
  {
   "cell_type": "markdown",
   "metadata": {},
   "source": [
    "CAM = Class Activation Maps"
   ]
  },
  {
   "cell_type": "code",
   "execution_count": 19,
   "metadata": {},
   "outputs": [],
   "source": [
    "class SaveFeatures():\n",
    "    features=None\n",
    "    def __init__(self, m): self.hook = m.register_forward_hook(self.hook_fn)\n",
    "    def hook_fn(self, module, input, output): self.features = to_np(output)\n",
    "    def remove(self): self.hook.remove()"
   ]
  },
  {
   "cell_type": "code",
   "execution_count": 22,
   "metadata": {},
   "outputs": [],
   "source": [
    "x,y = next(iter(data.val_dl)) # [64, 3, 224, 224], [64]  where 64 is batch size\n",
    "x,y = x[None,1], y[None,1] # [1, 3, 224, 224], [1]\n",
    "\n",
    "#>>> a = np.array([[1,2],[3,4]])\n",
    "#>>> a[None,1]\n",
    "#array([[3, 4]])\n",
    "#>>> a[1]\n",
    "#array([3, 4])\n",
    "#>>> a[:,1]\n",
    "#array([2, 4])\n",
    "\n",
    "vx = Variable(x.cuda(), requires_grad=True)"
   ]
  },
  {
   "cell_type": "code",
   "execution_count": 24,
   "metadata": {},
   "outputs": [
    {
     "data": {
      "image/png": "[encoded data removed]",
      "text/plain": [
       "<matplotlib.figure.Figure at 0x7f452046bd30>"
      ]
     },
     "metadata": {},
     "output_type": "display_data"
    }
   ],
   "source": [
    "dx = data.val_ds.denorm(x)[0]\n",
    "plt.imshow(dx);"
   ]
  },
  {
   "cell_type": "code",
   "execution_count": 39,
   "metadata": {},
   "outputs": [
    {
     "data": {
      "text/plain": [
       "(Conv2d (512, 2, kernel_size=(3, 3), stride=(1, 1), padding=(1, 1)),\n",
       " AdaptiveAvgPool2d(output_size=1))"
      ]
     },
     "execution_count": 39,
     "metadata": {},
     "output_type": "execute_result"
    }
   ],
   "source": [
    "m[-4], m[-3] # The average pooling layer takes (2x7x7) grid coming out of final conv layer and average out how much each part is “cat-like”"
   ]
  },
  {
   "cell_type": "code",
   "execution_count": 26,
   "metadata": {},
   "outputs": [
    {
     "data": {
      "text/plain": [
       "array([1., 0.], dtype=float32)"
      ]
     },
     "execution_count": 26,
     "metadata": {},
     "output_type": "execute_result"
    }
   ],
   "source": [
    "sf = SaveFeatures(m[-4]) # set hook. every time it calculates a layer, it calls this hook.\n",
    "py = m(Variable(x.cuda())) # py is predictions\n",
    "sf.remove()\n",
    "\n",
    "py = np.exp(to_np(py)[0]); py # (2,)"
   ]
  },
  {
   "cell_type": "code",
   "execution_count": 30,
   "metadata": {},
   "outputs": [
    {
     "data": {
      "text/plain": [
       "(2, 7, 7)"
      ]
     },
     "execution_count": 30,
     "metadata": {},
     "output_type": "execute_result"
    }
   ],
   "source": [
    "feat = np.maximum(0, sf.features[0])\n",
    "feat.shape"
   ]
  },
  {
   "cell_type": "code",
   "execution_count": 32,
   "metadata": {},
   "outputs": [
    {
     "data": {
      "text/plain": [
       "array([[0.18096, 0.2856 , 0.35293, 0.40698, 0.45721, 0.41488, 0.24897],\n",
       "       [0.25737, 0.4287 , 0.55593, 0.65191, 0.74634, 0.71132, 0.45964],\n",
       "       [0.39886, 0.64064, 0.7775 , 0.86709, 0.97825, 0.93532, 0.62046],\n",
       "       [0.43209, 0.6764 , 0.80796, 0.91821, 1.     , 0.93029, 0.59863],\n",
       "       [0.30181, 0.45433, 0.58915, 0.73661, 0.86353, 0.79795, 0.49237],\n",
       "       [0.12513, 0.17455, 0.27813, 0.44983, 0.58618, 0.54223, 0.32223],\n",
       "       [0.     , 0.     , 0.01094, 0.12353, 0.21437, 0.19878, 0.11088]], dtype=float32)"
      ]
     },
     "execution_count": 32,
     "metadata": {},
     "output_type": "execute_result"
    }
   ],
   "source": [
    "f2=np.dot(np.rollaxis(feat,0,3), py) # np.rollaxis(feat,0,3) returns (7, 7, 2) where feat shape is (2, 7, 7)\n",
    "# normalize to 0.0-1.0\n",
    "f2-=f2.min()\n",
    "f2/=f2.max()\n",
    "f2 # (7, 7)\n",
    "\n",
    "#>>> a = np.ones((3,4,5,6))\n",
    "#>>> np.rollaxis(a, 0, 3).shape # move axis 0 into the position of axis 3\n",
    "#(4, 5, 3, 6)"
   ]
  },
  {
   "cell_type": "code",
   "execution_count": 34,
   "metadata": {},
   "outputs": [
    {
     "name": "stderr",
     "output_type": "stream",
     "text": [
      "/home/ubuntu/anaconda3/envs/fastai/lib/python3.6/site-packages/ipykernel_launcher.py:2: DeprecationWarning: `imresize` is deprecated!\n",
      "`imresize` is deprecated in SciPy 1.0.0, and will be removed in 1.2.0.\n",
      "Use ``skimage.transform.resize`` instead.\n",
      "  \n"
     ]
    },
    {
     "data": {
      "image/png": "[encoded data removed]",
      "text/plain": [
       "<matplotlib.figure.Figure at 0x7f451f37ebe0>"
      ]
     },
     "metadata": {},
     "output_type": "display_data"
    }
   ],
   "source": [
    "plt.imshow(dx)\n",
    "plt.imshow(scipy.misc.imresize(f2, dx.shape), alpha=0.5, cmap='hot');"
   ]
  },
  {
   "cell_type": "markdown",
   "metadata": {
    "collapsed": true,
    "heading_collapsed": true
   },
   "source": [
    "## Model"
   ]
  },
  {
   "cell_type": "code",
   "execution_count": 35,
   "metadata": {
    "hidden": true
   },
   "outputs": [],
   "source": [
    "learn.unfreeze()\n",
    "learn.bn_freeze(True)"
   ]
  },
  {
   "cell_type": "code",
   "execution_count": 36,
   "metadata": {
    "hidden": true
   },
   "outputs": [],
   "source": [
    "lr=np.array([1e-6,1e-4,1e-2])"
   ]
  },
  {
   "cell_type": "code",
   "execution_count": 37,
   "metadata": {
    "hidden": true,
    "scrolled": false
   },
   "outputs": [
    {
     "data": {
      "application/vnd.jupyter.widget-view+json": {
       "model_id": "e754cdbb8ec14f40b29d7753f2b80882",
       "version_major": 2,
       "version_minor": 0
      },
      "text/html": [
       "<p>Failed to display Jupyter Widget of type <code>HBox</code>.</p>\n",
       "<p>\n",
       "  If you're reading this message in the Jupyter Notebook or JupyterLab Notebook, it may mean\n",
       "  that the widgets JavaScript is still loading. If this message persists, it\n",
       "  likely means that the widgets JavaScript library is either not installed or\n",
       "  not enabled. See the <a href=\"https://ipywidgets.readthedocs.io/en/stable/user_install.html\">Jupyter\n",
       "  Widgets Documentation</a> for setup instructions.\n",
       "</p>\n",
       "<p>\n",
       "  If you're reading this message in another frontend (for example, a static\n",
       "  rendering on GitHub or <a href=\"https://nbviewer.jupyter.org/\">NBViewer</a>),\n",
       "  it may mean that your frontend doesn't currently support widgets.\n",
       "</p>\n"
      ],
      "text/plain": [
       "HBox(children=(IntProgress(value=0, description='Epoch', max=2), HTML(value='')))"
      ]
     },
     "metadata": {},
     "output_type": "display_data"
    },
    {
     "name": "stdout",
     "output_type": "stream",
     "text": [
      "epoch      trn_loss   val_loss   accuracy                     \n",
      "    0      0.10189    0.072934   0.991211  \n",
      "    1      0.095344   0.069264   0.991211                     \n",
      "\n"
     ]
    },
    {
     "data": {
      "text/plain": [
       "[0.069263905, 0.9912109375]"
      ]
     },
     "execution_count": 37,
     "metadata": {},
     "output_type": "execute_result"
    }
   ],
   "source": [
    "learn.fit(lr, 2, cycle_len=1)"
   ]
  },
  {
   "cell_type": "code",
   "execution_count": 40,
   "metadata": {
    "hidden": true
   },
   "outputs": [
    {
     "name": "stdout",
     "output_type": "stream",
     "text": [
      "                                             \r"
     ]
    },
    {
     "data": {
      "text/plain": [
       "0.9915"
      ]
     },
     "execution_count": 40,
     "metadata": {},
     "output_type": "execute_result"
    }
   ],
   "source": [
    "# accuracy(*learn.TTA())\n",
    "\n",
    "log_preds, y = learn.TTA()\n",
    "preds = np.mean(np.exp(log_preds),0)\n",
    "accuracy_np(preds, y)"
   ]
  },
  {
   "cell_type": "code",
   "execution_count": 41,
   "metadata": {
    "hidden": true,
    "scrolled": false
   },
   "outputs": [
    {
     "data": {
      "application/vnd.jupyter.widget-view+json": {
       "model_id": "a5d87f6aae424965b031c02eff068cba",
       "version_major": 2,
       "version_minor": 0
      },
      "text/html": [
       "<p>Failed to display Jupyter Widget of type <code>HBox</code>.</p>\n",
       "<p>\n",
       "  If you're reading this message in the Jupyter Notebook or JupyterLab Notebook, it may mean\n",
       "  that the widgets JavaScript is still loading. If this message persists, it\n",
       "  likely means that the widgets JavaScript library is either not installed or\n",
       "  not enabled. See the <a href=\"https://ipywidgets.readthedocs.io/en/stable/user_install.html\">Jupyter\n",
       "  Widgets Documentation</a> for setup instructions.\n",
       "</p>\n",
       "<p>\n",
       "  If you're reading this message in another frontend (for example, a static\n",
       "  rendering on GitHub or <a href=\"https://nbviewer.jupyter.org/\">NBViewer</a>),\n",
       "  it may mean that your frontend doesn't currently support widgets.\n",
       "</p>\n"
      ],
      "text/plain": [
       "HBox(children=(IntProgress(value=0, description='Epoch', max=2), HTML(value='')))"
      ]
     },
     "metadata": {},
     "output_type": "display_data"
    },
    {
     "name": "stdout",
     "output_type": "stream",
     "text": [
      "epoch      trn_loss   val_loss   accuracy                     \n",
      "    0      0.101585   0.065855   0.991699  \n",
      "    1      0.085696   0.071362   0.990234                     \n",
      "\n"
     ]
    },
    {
     "data": {
      "text/plain": [
       "[0.07136191, 0.990234375]"
      ]
     },
     "execution_count": 41,
     "metadata": {},
     "output_type": "execute_result"
    }
   ],
   "source": [
    "learn.fit(lr, 2, cycle_len=1)"
   ]
  },
  {
   "cell_type": "code",
   "execution_count": 42,
   "metadata": {
    "hidden": true
   },
   "outputs": [
    {
     "name": "stdout",
     "output_type": "stream",
     "text": [
      "                                             \r"
     ]
    },
    {
     "data": {
      "text/plain": [
       "0.991"
      ]
     },
     "execution_count": 42,
     "metadata": {},
     "output_type": "execute_result"
    }
   ],
   "source": [
    "# accuracy(*learn.TTA())\n",
    "\n",
    "log_preds, y = learn.TTA()\n",
    "preds = np.mean(np.exp(log_preds),0)\n",
    "accuracy_np(preds, y)"
   ]
  },
  {
   "cell_type": "code",
   "execution_count": null,
   "metadata": {
    "collapsed": true,
    "hidden": true
   },
   "outputs": [],
   "source": []
  }
 ],
 "metadata": {
  "kernelspec": {
   "display_name": "Python 3",
   "language": "python",
   "name": "python3"
  },
  "language_info": {
   "codemirror_mode": {
    "name": "ipython",
    "version": 3
   },
   "file_extension": ".py",
   "mimetype": "text/x-python",
   "name": "python",
   "nbconvert_exporter": "python",
   "pygments_lexer": "ipython3",
   "version": "3.6.4"
  },
  "toc": {
   "colors": {
    "hover_highlight": "#DAA520",
    "navigate_num": "#000000",
    "navigate_text": "#333333",
    "running_highlight": "#FF0000",
    "selected_highlight": "#FFD700",
    "sidebar_border": "#EEEEEE",
    "wrapper_background": "#FFFFFF"
   },
   "moveMenuLeft": true,
   "nav_menu": {
    "height": "286px",
    "width": "252px"
   },
   "navigate_menu": true,
   "number_sections": true,
   "sideBar": true,
   "threshold": 4,
   "toc_cell": false,
   "toc_section_display": "block",
   "toc_window_display": false,
   "widenNotebook": false
  },
  "widgets": {
   "application/vnd.jupyter.widget-state+json": {
    "state": {
     "0a1b0f4b33764e7097a93fd78aac882d": {
      "model_module": "@jupyter-widgets/base",
      "model_module_version": "1.0.0",
      "model_name": "LayoutModel",
      "state": {}
     },
     "0bfb140e275b418b99d22c8e72923b2c": {
      "model_module": "@jupyter-widgets/base",
      "model_module_version": "1.0.0",
      "model_name": "LayoutModel",
      "state": {}
     },
     "11e1c2b176ad4a9382818c7ccff26474": {
      "model_module": "@jupyter-widgets/base",
      "model_module_version": "1.0.0",
      "model_name": "LayoutModel",
      "state": {}
     },
     "1cc2618dd7c54084847a3f3e73cef8b6": {
      "model_module": "@jupyter-widgets/controls",
      "model_module_version": "1.1.0",
      "model_name": "ProgressStyleModel",
      "state": {
       "description_width": ""
      }
     },
     "3546ff90413a46b885a57a955e6fff7f": {
      "model_module": "@jupyter-widgets/controls",
      "model_module_version": "1.1.0",
      "model_name": "IntProgressModel",
      "state": {
       "bar_style": "success",
       "description": "Epoch",
       "layout": "IPY_MODEL_88e041b5b842436c986b735aa88239f1",
       "max": 1,
       "style": "IPY_MODEL_b394615ff336412f863d986df582b6c0",
       "value": 1
      }
     },
     "4d05020913634ef0ba981c1d74a96fe1": {
      "model_module": "@jupyter-widgets/base",
      "model_module_version": "1.0.0",
      "model_name": "LayoutModel",
      "state": {}
     },
     "53e7d34bc8c44737a74c1c19a81c2c5a": {
      "model_module": "@jupyter-widgets/controls",
      "model_module_version": "1.1.0",
      "model_name": "HBoxModel",
      "state": {
       "children": [
        "IPY_MODEL_83308915307f4b04a4b62a94ebe995ca",
        "IPY_MODEL_b9b0a09456984799baee4fc57db69dba"
       ],
       "layout": "IPY_MODEL_79f68dd0a46b4603a2eea3770d7d4982"
      }
     },
     "5bdd6f2bbda84533b1b7e1a5bda095e9": {
      "model_module": "@jupyter-widgets/controls",
      "model_module_version": "1.1.0",
      "model_name": "DescriptionStyleModel",
      "state": {
       "description_width": ""
      }
     },
     "6181b623d72e41aa905e9b81fbed64ab": {
      "model_module": "@jupyter-widgets/controls",
      "model_module_version": "1.1.0",
      "model_name": "DescriptionStyleModel",
      "state": {
       "description_width": ""
      }
     },
     "66dbbab4f2504d57a5da54de6c98127f": {
      "model_module": "@jupyter-widgets/base",
      "model_module_version": "1.0.0",
      "model_name": "LayoutModel",
      "state": {}
     },
     "74ed42a551474f2c9ed5a5fdd877e1aa": {
      "model_module": "@jupyter-widgets/controls",
      "model_module_version": "1.1.0",
      "model_name": "HTMLModel",
      "state": {
       "layout": "IPY_MODEL_4d05020913634ef0ba981c1d74a96fe1",
       "style": "IPY_MODEL_ef578ac3535149dea9d0f0cca04d4365",
       "value": "  0% 0/2 [00:00&lt;?, ?it/s]"
      }
     },
     "79f68dd0a46b4603a2eea3770d7d4982": {
      "model_module": "@jupyter-widgets/base",
      "model_module_version": "1.0.0",
      "model_name": "LayoutModel",
      "state": {}
     },
     "7b50f64f5052478fa24413940359da06": {
      "model_module": "@jupyter-widgets/controls",
      "model_module_version": "1.1.0",
      "model_name": "IntProgressModel",
      "state": {
       "description": "Epoch",
       "layout": "IPY_MODEL_66dbbab4f2504d57a5da54de6c98127f",
       "max": 2,
       "style": "IPY_MODEL_cca97e5aef2b47c185dfab671d5f3cd4"
      }
     },
     "7cf999b6371d4d02963a398306d0a6ab": {
      "model_module": "@jupyter-widgets/controls",
      "model_module_version": "1.1.0",
      "model_name": "ProgressStyleModel",
      "state": {
       "description_width": ""
      }
     },
     "83308915307f4b04a4b62a94ebe995ca": {
      "model_module": "@jupyter-widgets/controls",
      "model_module_version": "1.1.0",
      "model_name": "IntProgressModel",
      "state": {
       "bar_style": "success",
       "description": "Epoch",
       "layout": "IPY_MODEL_11e1c2b176ad4a9382818c7ccff26474",
       "max": 1,
       "style": "IPY_MODEL_1cc2618dd7c54084847a3f3e73cef8b6",
       "value": 1
      }
     },
     "83affd42a2cf4ecb9410d3ef5143ff04": {
      "model_module": "@jupyter-widgets/base",
      "model_module_version": "1.0.0",
      "model_name": "LayoutModel",
      "state": {}
     },
     "88e041b5b842436c986b735aa88239f1": {
      "model_module": "@jupyter-widgets/base",
      "model_module_version": "1.0.0",
      "model_name": "LayoutModel",
      "state": {}
     },
     "9c5d06f2055641a59ca401d9e25e46be": {
      "model_module": "@jupyter-widgets/base",
      "model_module_version": "1.0.0",
      "model_name": "LayoutModel",
      "state": {}
     },
     "a5d87f6aae424965b031c02eff068cba": {
      "model_module": "@jupyter-widgets/controls",
      "model_module_version": "1.1.0",
      "model_name": "HBoxModel",
      "state": {
       "children": [
        "IPY_MODEL_7b50f64f5052478fa24413940359da06",
        "IPY_MODEL_74ed42a551474f2c9ed5a5fdd877e1aa"
       ],
       "layout": "IPY_MODEL_a8e399ae2188453d8c07ac2c81542213"
      }
     },
     "a8e399ae2188453d8c07ac2c81542213": {
      "model_module": "@jupyter-widgets/base",
      "model_module_version": "1.0.0",
      "model_name": "LayoutModel",
      "state": {}
     },
     "b394615ff336412f863d986df582b6c0": {
      "model_module": "@jupyter-widgets/controls",
      "model_module_version": "1.1.0",
      "model_name": "ProgressStyleModel",
      "state": {
       "description_width": ""
      }
     },
     "b9b0a09456984799baee4fc57db69dba": {
      "model_module": "@jupyter-widgets/controls",
      "model_module_version": "1.1.0",
      "model_name": "HTMLModel",
      "state": {
       "layout": "IPY_MODEL_9c5d06f2055641a59ca401d9e25e46be",
       "style": "IPY_MODEL_6181b623d72e41aa905e9b81fbed64ab",
       "value": "100% 1/1 [02:09&lt;00:00, 129.48s/it]"
      }
     },
     "b9f1d5d75a3b4fb2916670c44decee36": {
      "model_module": "@jupyter-widgets/base",
      "model_module_version": "1.0.0",
      "model_name": "LayoutModel",
      "state": {}
     },
     "cca97e5aef2b47c185dfab671d5f3cd4": {
      "model_module": "@jupyter-widgets/controls",
      "model_module_version": "1.1.0",
      "model_name": "ProgressStyleModel",
      "state": {
       "description_width": ""
      }
     },
     "d4c5ee0d9ab24f9c888b7da7aecc1dc9": {
      "model_module": "@jupyter-widgets/controls",
      "model_module_version": "1.1.0",
      "model_name": "HTMLModel",
      "state": {
       "layout": "IPY_MODEL_e85951bf26f942ddae5d9d254486aedc",
       "style": "IPY_MODEL_f2ba6eff5ee04c4f8ac58404da38b706",
       "value": "100% 1/1 [02:03&lt;00:00, 123.38s/it]"
      }
     },
     "e5cd0a0df27b4d389a9593978872c057": {
      "model_module": "@jupyter-widgets/controls",
      "model_module_version": "1.1.0",
      "model_name": "HTMLModel",
      "state": {
       "layout": "IPY_MODEL_0a1b0f4b33764e7097a93fd78aac882d",
       "style": "IPY_MODEL_5bdd6f2bbda84533b1b7e1a5bda095e9",
       "value": "100% 2/2 [10:58&lt;00:00, 329.48s/it]"
      }
     },
     "e754cdbb8ec14f40b29d7753f2b80882": {
      "model_module": "@jupyter-widgets/controls",
      "model_module_version": "1.1.0",
      "model_name": "HBoxModel",
      "state": {
       "children": [
        "IPY_MODEL_eee06921f8e341eeafd499c6a6962626",
        "IPY_MODEL_e5cd0a0df27b4d389a9593978872c057"
       ],
       "layout": "IPY_MODEL_83affd42a2cf4ecb9410d3ef5143ff04"
      }
     },
     "e85951bf26f942ddae5d9d254486aedc": {
      "model_module": "@jupyter-widgets/base",
      "model_module_version": "1.0.0",
      "model_name": "LayoutModel",
      "state": {}
     },
     "eee06921f8e341eeafd499c6a6962626": {
      "model_module": "@jupyter-widgets/controls",
      "model_module_version": "1.1.0",
      "model_name": "IntProgressModel",
      "state": {
       "bar_style": "success",
       "description": "Epoch",
       "layout": "IPY_MODEL_0bfb140e275b418b99d22c8e72923b2c",
       "max": 2,
       "style": "IPY_MODEL_7cf999b6371d4d02963a398306d0a6ab",
       "value": 2
      }
     },
     "ef578ac3535149dea9d0f0cca04d4365": {
      "model_module": "@jupyter-widgets/controls",
      "model_module_version": "1.1.0",
      "model_name": "DescriptionStyleModel",
      "state": {
       "description_width": ""
      }
     },
     "f0d3b715a3dc4a41945785ae2459755e": {
      "model_module": "@jupyter-widgets/controls",
      "model_module_version": "1.1.0",
      "model_name": "HBoxModel",
      "state": {
       "children": [
        "IPY_MODEL_3546ff90413a46b885a57a955e6fff7f",
        "IPY_MODEL_d4c5ee0d9ab24f9c888b7da7aecc1dc9"
       ],
       "layout": "IPY_MODEL_b9f1d5d75a3b4fb2916670c44decee36"
      }
     },
     "f2ba6eff5ee04c4f8ac58404da38b706": {
      "model_module": "@jupyter-widgets/controls",
      "model_module_version": "1.1.0",
      "model_name": "DescriptionStyleModel",
      "state": {
       "description_width": ""
      }
     }
    },
    "version_major": 2,
    "version_minor": 0
   }
  }
 },
 "nbformat": 4,
 "nbformat_minor": 2
}
