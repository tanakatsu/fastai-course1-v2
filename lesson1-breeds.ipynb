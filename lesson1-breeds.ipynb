{
 "cells": [
  {
   "cell_type": "markdown",
   "metadata": {},
   "source": [
    "# 1 Dogs breeds\n",
    "\n",
    "https://youtu.be/JNxcznsrRb8?t=1h31m8s"
   ]
  },
  {
   "cell_type": "code",
   "execution_count": 1,
   "metadata": {},
   "outputs": [],
   "source": [
    "%reload_ext autoreload\n",
    "%autoreload 2\n",
    "%matplotlib inline"
   ]
  },
  {
   "cell_type": "code",
   "execution_count": 2,
   "metadata": {},
   "outputs": [],
   "source": [
    "from fastai.imports import *\n",
    "from fastai.torch_imports import *\n",
    "from fastai.transforms import *\n",
    "from fastai.conv_learner import *\n",
    "from fastai.model import *\n",
    "from fastai.dataset import *\n",
    "from fastai.sgdr import *\n",
    "from fastai.plots import *"
   ]
  },
  {
   "cell_type": "code",
   "execution_count": 3,
   "metadata": {},
   "outputs": [],
   "source": [
    "torch.cuda.set_device(0)"
   ]
  },
  {
   "cell_type": "code",
   "execution_count": 4,
   "metadata": {},
   "outputs": [],
   "source": [
    "PATH = \"data/dogbreed/\"\n",
    "sz = 224\n",
    "arch = resnext101_64\n",
    "bs = 58"
   ]
  },
  {
   "cell_type": "code",
   "execution_count": 5,
   "metadata": {},
   "outputs": [],
   "source": [
    "label_csv = f'{PATH}labels.csv'\n",
    "n = len(list(open(label_csv))) - 1 # header is not counted (-1)\n",
    "val_idxs = get_cv_idxs(n) # random 20% data for validation set"
   ]
  },
  {
   "cell_type": "code",
   "execution_count": 6,
   "metadata": {},
   "outputs": [
    {
     "data": {
      "text/plain": [
       "10222"
      ]
     },
     "execution_count": 6,
     "metadata": {},
     "output_type": "execute_result"
    }
   ],
   "source": [
    "n"
   ]
  },
  {
   "cell_type": "code",
   "execution_count": 7,
   "metadata": {},
   "outputs": [
    {
     "data": {
      "text/plain": [
       "2044"
      ]
     },
     "execution_count": 7,
     "metadata": {},
     "output_type": "execute_result"
    }
   ],
   "source": [
    "len(val_idxs)"
   ]
  },
  {
   "cell_type": "code",
   "execution_count": 8,
   "metadata": {},
   "outputs": [
    {
     "name": "stdout",
     "output_type": "stream",
     "text": [
      "--2018-01-24 12:55:10--  http://files.fast.ai/models/weights.tgz\n",
      "Resolving files.fast.ai (files.fast.ai)... 67.205.15.147\n",
      "Connecting to files.fast.ai (files.fast.ai)|67.205.15.147|:80... connected.\n",
      "HTTP request sent, awaiting response... 200 OK\n",
      "Length: 1195411318 (1.1G) [text/plain]\n",
      "Saving to: ‘fastai/weights.tgz’\n",
      "\n",
      "fastai/weights.tgz  100%[===================>]   1.11G  34.4MB/s    in 38s     \n",
      "\n",
      "2018-01-24 12:55:52 (30.3 MB/s) - ‘fastai/weights.tgz’ saved [1195411318/1195411318]\n",
      "\n"
     ]
    }
   ],
   "source": [
    "# If you haven't downloaded weights.tgz yet, download the file.\n",
    "#     http://forums.fast.ai/t/error-when-trying-to-use-resnext50/7555\n",
    "#     http://forums.fast.ai/t/lesson-2-in-class-discussion/7452/222\n",
    "!wget -O fastai/weights.tgz http://files.fast.ai/models/weights.tgz"
   ]
  },
  {
   "cell_type": "code",
   "execution_count": 16,
   "metadata": {},
   "outputs": [
    {
     "name": "stdout",
     "output_type": "stream",
     "text": [
      "weights/\n",
      "weights/wrn_50_2f.pth\n",
      "weights/resnext_101_32x4d.pth\n",
      "weights/resnext_101_64x4d.pth\n",
      "weights/inceptionresnetv2-d579a627.pth\n",
      "weights/inceptionv4-97ef9c30.pth\n",
      "weights/resnext_50_32x4d.pth\n"
     ]
    }
   ],
   "source": [
    "!tar xvfz fastai/weights.tgz -C fastai"
   ]
  },
  {
   "cell_type": "markdown",
   "metadata": {},
   "source": [
    "## 2 Initial exploration"
   ]
  },
  {
   "cell_type": "code",
   "execution_count": 8,
   "metadata": {
    "scrolled": true
   },
   "outputs": [
    {
     "name": "stdout",
     "output_type": "stream",
     "text": [
      "labels.csv  sample_submission.csv  subm  test  tmp  train\r\n"
     ]
    }
   ],
   "source": [
    "!ls {PATH}"
   ]
  },
  {
   "cell_type": "code",
   "execution_count": 9,
   "metadata": {},
   "outputs": [],
   "source": [
    "label_df = pd.read_csv(label_csv)"
   ]
  },
  {
   "cell_type": "code",
   "execution_count": 10,
   "metadata": {},
   "outputs": [
    {
     "data": {
      "text/html": [
       "<div>\n",
       "<style scoped>\n",
       "    .dataframe tbody tr th:only-of-type {\n",
       "        vertical-align: middle;\n",
       "    }\n",
       "\n",
       "    .dataframe tbody tr th {\n",
       "        vertical-align: top;\n",
       "    }\n",
       "\n",
       "    .dataframe thead th {\n",
       "        text-align: right;\n",
       "    }\n",
       "</style>\n",
       "<table border=\"1\" class=\"dataframe\">\n",
       "  <thead>\n",
       "    <tr style=\"text-align: right;\">\n",
       "      <th></th>\n",
       "      <th>id</th>\n",
       "      <th>breed</th>\n",
       "    </tr>\n",
       "  </thead>\n",
       "  <tbody>\n",
       "    <tr>\n",
       "      <th>0</th>\n",
       "      <td>000bec180eb18c7604dcecc8fe0dba07</td>\n",
       "      <td>boston_bull</td>\n",
       "    </tr>\n",
       "    <tr>\n",
       "      <th>1</th>\n",
       "      <td>001513dfcb2ffafc82cccf4d8bbaba97</td>\n",
       "      <td>dingo</td>\n",
       "    </tr>\n",
       "    <tr>\n",
       "      <th>2</th>\n",
       "      <td>001cdf01b096e06d78e9e5112d419397</td>\n",
       "      <td>pekinese</td>\n",
       "    </tr>\n",
       "    <tr>\n",
       "      <th>3</th>\n",
       "      <td>00214f311d5d2247d5dfe4fe24b2303d</td>\n",
       "      <td>bluetick</td>\n",
       "    </tr>\n",
       "    <tr>\n",
       "      <th>4</th>\n",
       "      <td>0021f9ceb3235effd7fcde7f7538ed62</td>\n",
       "      <td>golden_retriever</td>\n",
       "    </tr>\n",
       "  </tbody>\n",
       "</table>\n",
       "</div>"
      ],
      "text/plain": [
       "                                 id             breed\n",
       "0  000bec180eb18c7604dcecc8fe0dba07       boston_bull\n",
       "1  001513dfcb2ffafc82cccf4d8bbaba97             dingo\n",
       "2  001cdf01b096e06d78e9e5112d419397          pekinese\n",
       "3  00214f311d5d2247d5dfe4fe24b2303d          bluetick\n",
       "4  0021f9ceb3235effd7fcde7f7538ed62  golden_retriever"
      ]
     },
     "execution_count": 10,
     "metadata": {},
     "output_type": "execute_result"
    }
   ],
   "source": [
    "label_df.head()"
   ]
  },
  {
   "cell_type": "code",
   "execution_count": 11,
   "metadata": {
    "scrolled": true
   },
   "outputs": [
    {
     "data": {
      "text/html": [
       "<div>\n",
       "<style scoped>\n",
       "    .dataframe tbody tr th:only-of-type {\n",
       "        vertical-align: middle;\n",
       "    }\n",
       "\n",
       "    .dataframe tbody tr th {\n",
       "        vertical-align: top;\n",
       "    }\n",
       "\n",
       "    .dataframe thead th {\n",
       "        text-align: right;\n",
       "    }\n",
       "</style>\n",
       "<table border=\"1\" class=\"dataframe\">\n",
       "  <thead>\n",
       "    <tr style=\"text-align: right;\">\n",
       "      <th></th>\n",
       "      <th>id</th>\n",
       "    </tr>\n",
       "    <tr>\n",
       "      <th>breed</th>\n",
       "      <th></th>\n",
       "    </tr>\n",
       "  </thead>\n",
       "  <tbody>\n",
       "    <tr>\n",
       "      <th>scottish_deerhound</th>\n",
       "      <td>126</td>\n",
       "    </tr>\n",
       "    <tr>\n",
       "      <th>maltese_dog</th>\n",
       "      <td>117</td>\n",
       "    </tr>\n",
       "    <tr>\n",
       "      <th>afghan_hound</th>\n",
       "      <td>116</td>\n",
       "    </tr>\n",
       "    <tr>\n",
       "      <th>entlebucher</th>\n",
       "      <td>115</td>\n",
       "    </tr>\n",
       "    <tr>\n",
       "      <th>bernese_mountain_dog</th>\n",
       "      <td>114</td>\n",
       "    </tr>\n",
       "    <tr>\n",
       "      <th>shih-tzu</th>\n",
       "      <td>112</td>\n",
       "    </tr>\n",
       "    <tr>\n",
       "      <th>great_pyrenees</th>\n",
       "      <td>111</td>\n",
       "    </tr>\n",
       "    <tr>\n",
       "      <th>pomeranian</th>\n",
       "      <td>111</td>\n",
       "    </tr>\n",
       "    <tr>\n",
       "      <th>basenji</th>\n",
       "      <td>110</td>\n",
       "    </tr>\n",
       "    <tr>\n",
       "      <th>samoyed</th>\n",
       "      <td>109</td>\n",
       "    </tr>\n",
       "    <tr>\n",
       "      <th>airedale</th>\n",
       "      <td>107</td>\n",
       "    </tr>\n",
       "    <tr>\n",
       "      <th>tibetan_terrier</th>\n",
       "      <td>107</td>\n",
       "    </tr>\n",
       "    <tr>\n",
       "      <th>leonberg</th>\n",
       "      <td>106</td>\n",
       "    </tr>\n",
       "    <tr>\n",
       "      <th>cairn</th>\n",
       "      <td>106</td>\n",
       "    </tr>\n",
       "    <tr>\n",
       "      <th>beagle</th>\n",
       "      <td>105</td>\n",
       "    </tr>\n",
       "    <tr>\n",
       "      <th>japanese_spaniel</th>\n",
       "      <td>105</td>\n",
       "    </tr>\n",
       "    <tr>\n",
       "      <th>australian_terrier</th>\n",
       "      <td>102</td>\n",
       "    </tr>\n",
       "    <tr>\n",
       "      <th>blenheim_spaniel</th>\n",
       "      <td>102</td>\n",
       "    </tr>\n",
       "    <tr>\n",
       "      <th>miniature_pinscher</th>\n",
       "      <td>102</td>\n",
       "    </tr>\n",
       "    <tr>\n",
       "      <th>irish_wolfhound</th>\n",
       "      <td>101</td>\n",
       "    </tr>\n",
       "    <tr>\n",
       "      <th>lakeland_terrier</th>\n",
       "      <td>99</td>\n",
       "    </tr>\n",
       "    <tr>\n",
       "      <th>saluki</th>\n",
       "      <td>99</td>\n",
       "    </tr>\n",
       "    <tr>\n",
       "      <th>papillon</th>\n",
       "      <td>96</td>\n",
       "    </tr>\n",
       "    <tr>\n",
       "      <th>whippet</th>\n",
       "      <td>95</td>\n",
       "    </tr>\n",
       "    <tr>\n",
       "      <th>siberian_husky</th>\n",
       "      <td>95</td>\n",
       "    </tr>\n",
       "    <tr>\n",
       "      <th>norwegian_elkhound</th>\n",
       "      <td>95</td>\n",
       "    </tr>\n",
       "    <tr>\n",
       "      <th>pug</th>\n",
       "      <td>94</td>\n",
       "    </tr>\n",
       "    <tr>\n",
       "      <th>chow</th>\n",
       "      <td>93</td>\n",
       "    </tr>\n",
       "    <tr>\n",
       "      <th>italian_greyhound</th>\n",
       "      <td>92</td>\n",
       "    </tr>\n",
       "    <tr>\n",
       "      <th>pembroke</th>\n",
       "      <td>92</td>\n",
       "    </tr>\n",
       "    <tr>\n",
       "      <th>...</th>\n",
       "      <td>...</td>\n",
       "    </tr>\n",
       "    <tr>\n",
       "      <th>german_short-haired_pointer</th>\n",
       "      <td>75</td>\n",
       "    </tr>\n",
       "    <tr>\n",
       "      <th>boxer</th>\n",
       "      <td>75</td>\n",
       "    </tr>\n",
       "    <tr>\n",
       "      <th>bull_mastiff</th>\n",
       "      <td>75</td>\n",
       "    </tr>\n",
       "    <tr>\n",
       "      <th>borzoi</th>\n",
       "      <td>75</td>\n",
       "    </tr>\n",
       "    <tr>\n",
       "      <th>pekinese</th>\n",
       "      <td>75</td>\n",
       "    </tr>\n",
       "    <tr>\n",
       "      <th>cocker_spaniel</th>\n",
       "      <td>74</td>\n",
       "    </tr>\n",
       "    <tr>\n",
       "      <th>american_staffordshire_terrier</th>\n",
       "      <td>74</td>\n",
       "    </tr>\n",
       "    <tr>\n",
       "      <th>doberman</th>\n",
       "      <td>74</td>\n",
       "    </tr>\n",
       "    <tr>\n",
       "      <th>brittany_spaniel</th>\n",
       "      <td>73</td>\n",
       "    </tr>\n",
       "    <tr>\n",
       "      <th>malinois</th>\n",
       "      <td>73</td>\n",
       "    </tr>\n",
       "    <tr>\n",
       "      <th>standard_schnauzer</th>\n",
       "      <td>72</td>\n",
       "    </tr>\n",
       "    <tr>\n",
       "      <th>flat-coated_retriever</th>\n",
       "      <td>72</td>\n",
       "    </tr>\n",
       "    <tr>\n",
       "      <th>redbone</th>\n",
       "      <td>72</td>\n",
       "    </tr>\n",
       "    <tr>\n",
       "      <th>border_collie</th>\n",
       "      <td>72</td>\n",
       "    </tr>\n",
       "    <tr>\n",
       "      <th>curly-coated_retriever</th>\n",
       "      <td>72</td>\n",
       "    </tr>\n",
       "    <tr>\n",
       "      <th>kuvasz</th>\n",
       "      <td>71</td>\n",
       "    </tr>\n",
       "    <tr>\n",
       "      <th>chihuahua</th>\n",
       "      <td>71</td>\n",
       "    </tr>\n",
       "    <tr>\n",
       "      <th>soft-coated_wheaten_terrier</th>\n",
       "      <td>71</td>\n",
       "    </tr>\n",
       "    <tr>\n",
       "      <th>french_bulldog</th>\n",
       "      <td>70</td>\n",
       "    </tr>\n",
       "    <tr>\n",
       "      <th>vizsla</th>\n",
       "      <td>70</td>\n",
       "    </tr>\n",
       "    <tr>\n",
       "      <th>tibetan_mastiff</th>\n",
       "      <td>69</td>\n",
       "    </tr>\n",
       "    <tr>\n",
       "      <th>german_shepherd</th>\n",
       "      <td>69</td>\n",
       "    </tr>\n",
       "    <tr>\n",
       "      <th>giant_schnauzer</th>\n",
       "      <td>69</td>\n",
       "    </tr>\n",
       "    <tr>\n",
       "      <th>walker_hound</th>\n",
       "      <td>69</td>\n",
       "    </tr>\n",
       "    <tr>\n",
       "      <th>otterhound</th>\n",
       "      <td>69</td>\n",
       "    </tr>\n",
       "    <tr>\n",
       "      <th>golden_retriever</th>\n",
       "      <td>67</td>\n",
       "    </tr>\n",
       "    <tr>\n",
       "      <th>brabancon_griffon</th>\n",
       "      <td>67</td>\n",
       "    </tr>\n",
       "    <tr>\n",
       "      <th>komondor</th>\n",
       "      <td>67</td>\n",
       "    </tr>\n",
       "    <tr>\n",
       "      <th>briard</th>\n",
       "      <td>66</td>\n",
       "    </tr>\n",
       "    <tr>\n",
       "      <th>eskimo_dog</th>\n",
       "      <td>66</td>\n",
       "    </tr>\n",
       "  </tbody>\n",
       "</table>\n",
       "<p>120 rows × 1 columns</p>\n",
       "</div>"
      ],
      "text/plain": [
       "                                 id\n",
       "breed                              \n",
       "scottish_deerhound              126\n",
       "maltese_dog                     117\n",
       "afghan_hound                    116\n",
       "entlebucher                     115\n",
       "bernese_mountain_dog            114\n",
       "shih-tzu                        112\n",
       "great_pyrenees                  111\n",
       "pomeranian                      111\n",
       "basenji                         110\n",
       "samoyed                         109\n",
       "airedale                        107\n",
       "tibetan_terrier                 107\n",
       "leonberg                        106\n",
       "cairn                           106\n",
       "beagle                          105\n",
       "japanese_spaniel                105\n",
       "australian_terrier              102\n",
       "blenheim_spaniel                102\n",
       "miniature_pinscher              102\n",
       "irish_wolfhound                 101\n",
       "lakeland_terrier                 99\n",
       "saluki                           99\n",
       "papillon                         96\n",
       "whippet                          95\n",
       "siberian_husky                   95\n",
       "norwegian_elkhound               95\n",
       "pug                              94\n",
       "chow                             93\n",
       "italian_greyhound                92\n",
       "pembroke                         92\n",
       "...                             ...\n",
       "german_short-haired_pointer      75\n",
       "boxer                            75\n",
       "bull_mastiff                     75\n",
       "borzoi                           75\n",
       "pekinese                         75\n",
       "cocker_spaniel                   74\n",
       "american_staffordshire_terrier   74\n",
       "doberman                         74\n",
       "brittany_spaniel                 73\n",
       "malinois                         73\n",
       "standard_schnauzer               72\n",
       "flat-coated_retriever            72\n",
       "redbone                          72\n",
       "border_collie                    72\n",
       "curly-coated_retriever           72\n",
       "kuvasz                           71\n",
       "chihuahua                        71\n",
       "soft-coated_wheaten_terrier      71\n",
       "french_bulldog                   70\n",
       "vizsla                           70\n",
       "tibetan_mastiff                  69\n",
       "german_shepherd                  69\n",
       "giant_schnauzer                  69\n",
       "walker_hound                     69\n",
       "otterhound                       69\n",
       "golden_retriever                 67\n",
       "brabancon_griffon                67\n",
       "komondor                         67\n",
       "briard                           66\n",
       "eskimo_dog                       66\n",
       "\n",
       "[120 rows x 1 columns]"
      ]
     },
     "execution_count": 11,
     "metadata": {},
     "output_type": "execute_result"
    }
   ],
   "source": [
    "label_df.pivot_table(index=\"breed\", aggfunc=len).sort_values('id', ascending=False)"
   ]
  },
  {
   "cell_type": "code",
   "execution_count": 12,
   "metadata": {},
   "outputs": [],
   "source": [
    "tfms = tfms_from_model(arch, sz, aug_tfms=transforms_side_on, max_zoom=1.1)\n",
    "data = ImageClassifierData.from_csv(PATH, 'train', f'{PATH}labels.csv', test_name='test', # we need to specify where the test set is if you want to submit to Kaggle competitions\n",
    "                                   val_idxs=val_idxs, suffix='.jpg', tfms=tfms, bs=bs)"
   ]
  },
  {
   "cell_type": "code",
   "execution_count": 13,
   "metadata": {
    "scrolled": true
   },
   "outputs": [
    {
     "data": {
      "text/plain": [
       "'data/dogbreed/train/001513dfcb2ffafc82cccf4d8bbaba97.jpg'"
      ]
     },
     "execution_count": 13,
     "metadata": {},
     "output_type": "execute_result"
    }
   ],
   "source": [
    "fn = PATH + data.trn_ds.fnames[0]; fn"
   ]
  },
  {
   "cell_type": "code",
   "execution_count": 14,
   "metadata": {},
   "outputs": [
    {
     "data": {
      "image/png": "[encoded data removed]",
      "text/plain": [
       "<PIL.JpegImagePlugin.JpegImageFile image mode=RGB size=500x375 at 0x7F1DD63B7898>"
      ]
     },
     "execution_count": 14,
     "metadata": {},
     "output_type": "execute_result"
    }
   ],
   "source": [
    "img = PIL.Image.open(fn); img"
   ]
  },
  {
   "cell_type": "code",
   "execution_count": 15,
   "metadata": {},
   "outputs": [
    {
     "data": {
      "text/plain": [
       "(500, 375)"
      ]
     },
     "execution_count": 15,
     "metadata": {},
     "output_type": "execute_result"
    }
   ],
   "source": [
    "img.size"
   ]
  },
  {
   "cell_type": "code",
   "execution_count": 16,
   "metadata": {},
   "outputs": [],
   "source": [
    "size_d = {k: PIL.Image.open(PATH + k).size for k in data.trn_ds.fnames}"
   ]
  },
  {
   "cell_type": "code",
   "execution_count": 17,
   "metadata": {},
   "outputs": [],
   "source": [
    "row_sz, col_sz = list(zip(*size_d.values()))"
   ]
  },
  {
   "cell_type": "code",
   "execution_count": 18,
   "metadata": {},
   "outputs": [],
   "source": [
    "row_sz = np.array(row_sz); col_sz = np.array(col_sz)"
   ]
  },
  {
   "cell_type": "code",
   "execution_count": 19,
   "metadata": {},
   "outputs": [
    {
     "data": {
      "text/plain": [
       "array([500, 500, 500, 500, 500])"
      ]
     },
     "execution_count": 19,
     "metadata": {},
     "output_type": "execute_result"
    }
   ],
   "source": [
    "row_sz[:5]"
   ]
  },
  {
   "cell_type": "code",
   "execution_count": 20,
   "metadata": {},
   "outputs": [
    {
     "data": {
      "image/png": "[encoded data removed]",
      "text/plain": [
       "<matplotlib.figure.Figure at 0x7f1dd62bba20>"
      ]
     },
     "metadata": {},
     "output_type": "display_data"
    }
   ],
   "source": [
    "plt.hist(row_sz);"
   ]
  },
  {
   "cell_type": "code",
   "execution_count": 21,
   "metadata": {
    "scrolled": true
   },
   "outputs": [
    {
     "data": {
      "text/plain": [
       "(array([ 135.,  592., 1347., 1164., 4599.,  128.,   76.,   62.,   14.,   11.]),\n",
       " array([ 97. , 185.5, 274. , 362.5, 451. , 539.5, 628. , 716.5, 805. , 893.5, 982. ]),\n",
       " <a list of 10 Patch objects>)"
      ]
     },
     "execution_count": 21,
     "metadata": {},
     "output_type": "execute_result"
    },
    {
     "data": {
      "image/png": "[encoded data removed]",
      "text/plain": [
       "<matplotlib.figure.Figure at 0x7f1dd611eba8>"
      ]
     },
     "metadata": {},
     "output_type": "display_data"
    }
   ],
   "source": [
    "plt.hist(row_sz[row_sz < 1000])"
   ]
  },
  {
   "cell_type": "code",
   "execution_count": 22,
   "metadata": {},
   "outputs": [
    {
     "data": {
      "image/png": "[encoded data removed]",
      "text/plain": [
       "<matplotlib.figure.Figure at 0x7f1dd5ff55c0>"
      ]
     },
     "metadata": {},
     "output_type": "display_data"
    }
   ],
   "source": [
    "plt.hist(col_sz);"
   ]
  },
  {
   "cell_type": "code",
   "execution_count": 23,
   "metadata": {
    "scrolled": false
   },
   "outputs": [
    {
     "data": {
      "text/plain": [
       "(array([ 235.,  733., 2205., 2979., 1807.,   98.,   27.,   33.,    7.,   10.]),\n",
       " array([102., 190., 278., 366., 454., 542., 630., 718., 806., 894., 982.]),\n",
       " <a list of 10 Patch objects>)"
      ]
     },
     "execution_count": 23,
     "metadata": {},
     "output_type": "execute_result"
    },
    {
     "data": {
      "image/png": "[encoded data removed]",
      "text/plain": [
       "<matplotlib.figure.Figure at 0x7f1dd5fbacc0>"
      ]
     },
     "metadata": {},
     "output_type": "display_data"
    }
   ],
   "source": [
    "plt.hist(col_sz[col_sz < 1000])"
   ]
  },
  {
   "cell_type": "code",
   "execution_count": 24,
   "metadata": {
    "scrolled": true
   },
   "outputs": [
    {
     "data": {
      "text/plain": [
       "(8178, 10357)"
      ]
     },
     "execution_count": 24,
     "metadata": {},
     "output_type": "execute_result"
    }
   ],
   "source": [
    "len(data.trn_ds), len(data.test_ds)"
   ]
  },
  {
   "cell_type": "code",
   "execution_count": 25,
   "metadata": {},
   "outputs": [
    {
     "data": {
      "text/plain": [
       "(120,\n",
       " ['affenpinscher',\n",
       "  'afghan_hound',\n",
       "  'african_hunting_dog',\n",
       "  'airedale',\n",
       "  'american_staffordshire_terrier'])"
      ]
     },
     "execution_count": 25,
     "metadata": {},
     "output_type": "execute_result"
    }
   ],
   "source": [
    "len(data.classes), data.classes[:5]"
   ]
  },
  {
   "cell_type": "markdown",
   "metadata": {},
   "source": [
    "## 3 Initial model"
   ]
  },
  {
   "cell_type": "code",
   "execution_count": 26,
   "metadata": {},
   "outputs": [],
   "source": [
    "def get_data(sz, bs): # sz: image size, bs: batch size\n",
    "    tmfs = tfms_from_model(arch, sz, aug_tfms=transforms_side_on, max_zoom=1.1)\n",
    "    data = ImageClassifierData.from_csv(PATH, 'train', f'{PATH}labels.csv', test_name='test',\n",
    "                                       val_idxs=val_idxs, suffix='.jpg', tfms=tfms, bs=bs)\n",
    "    \n",
    "    # http://forums.fast.ai/t/how-to-train-on-the-full-dataset-using-imageclassifierdata-from-csv/7761/13\n",
    "    # http://forums.fast.ai/t/how-to-train-on-the-full-dataset-using-imageclassifierdata-from-csv/7761/37\n",
    "    return data if sz > 300 else data.resize(340, 'tmp') # Reading the jpgs and resizing is slow for big images, so resizing them all to 340 first saves time\n",
    "\n",
    "#Source:   \n",
    "#    def resize(self, targ, new_path):\n",
    "#        new_ds = []\n",
    "#        dls = [self.trn_dl,self.val_dl,self.fix_dl,self.aug_dl]\n",
    "#        if self.test_dl: dls += [self.test_dl, self.test_aug_dl]\n",
    "#        else: dls += [None,None]\n",
    "#        t = tqdm_notebook(dls)\n",
    "#        for dl in t: new_ds.append(self.resized(dl, targ, new_path))\n",
    "#        t.close()\n",
    "#        return self.__class__(new_ds[0].path, new_ds, self.bs, self.num_workers, self.classes)\n",
    "#File:      ~/fastai/courses/dl1/fastai/dataset.py"
   ]
  },
  {
   "cell_type": "markdown",
   "metadata": {},
   "source": [
    "### 3.1 Precompute"
   ]
  },
  {
   "cell_type": "code",
   "execution_count": 27,
   "metadata": {},
   "outputs": [
    {
     "data": {
      "application/vnd.jupyter.widget-view+json": {
       "model_id": "c30905e882964682bbe231e445b57833",
       "version_major": 2,
       "version_minor": 0
      },
      "text/html": [
       "<p>Failed to display Jupyter Widget of type <code>HBox</code>.</p>\n",
       "<p>\n",
       "  If you're reading this message in the Jupyter Notebook or JupyterLab Notebook, it may mean\n",
       "  that the widgets JavaScript is still loading. If this message persists, it\n",
       "  likely means that the widgets JavaScript library is either not installed or\n",
       "  not enabled. See the <a href=\"https://ipywidgets.readthedocs.io/en/stable/user_install.html\">Jupyter\n",
       "  Widgets Documentation</a> for setup instructions.\n",
       "</p>\n",
       "<p>\n",
       "  If you're reading this message in another frontend (for example, a static\n",
       "  rendering on GitHub or <a href=\"https://nbviewer.jupyter.org/\">NBViewer</a>),\n",
       "  it may mean that your frontend doesn't currently support widgets.\n",
       "</p>\n"
      ],
      "text/plain": [
       "HBox(children=(IntProgress(value=0, max=6), HTML(value='')))"
      ]
     },
     "metadata": {},
     "output_type": "display_data"
    },
    {
     "name": "stdout",
     "output_type": "stream",
     "text": [
      "\n"
     ]
    }
   ],
   "source": [
    "data = get_data(sz, bs)"
   ]
  },
  {
   "cell_type": "code",
   "execution_count": 28,
   "metadata": {},
   "outputs": [],
   "source": [
    "learn = ConvLearner.pretrained(arch, data, precompute=True)"
   ]
  },
  {
   "cell_type": "code",
   "execution_count": 29,
   "metadata": {},
   "outputs": [
    {
     "data": {
      "application/vnd.jupyter.widget-view+json": {
       "model_id": "bd8469f87f2d4e789610110acd07571d",
       "version_major": 2,
       "version_minor": 0
      },
      "text/html": [
       "<p>Failed to display Jupyter Widget of type <code>HBox</code>.</p>\n",
       "<p>\n",
       "  If you're reading this message in the Jupyter Notebook or JupyterLab Notebook, it may mean\n",
       "  that the widgets JavaScript is still loading. If this message persists, it\n",
       "  likely means that the widgets JavaScript library is either not installed or\n",
       "  not enabled. See the <a href=\"https://ipywidgets.readthedocs.io/en/stable/user_install.html\">Jupyter\n",
       "  Widgets Documentation</a> for setup instructions.\n",
       "</p>\n",
       "<p>\n",
       "  If you're reading this message in another frontend (for example, a static\n",
       "  rendering on GitHub or <a href=\"https://nbviewer.jupyter.org/\">NBViewer</a>),\n",
       "  it may mean that your frontend doesn't currently support widgets.\n",
       "</p>\n"
      ],
      "text/plain": [
       "HBox(children=(IntProgress(value=0, description='Epoch', max=5), HTML(value='')))"
      ]
     },
     "metadata": {},
     "output_type": "display_data"
    },
    {
     "name": "stdout",
     "output_type": "stream",
     "text": [
      "epoch      trn_loss   val_loss   accuracy                    \n",
      "    0      0.953369   0.417489   0.905651  \n",
      "    1      0.452394   0.314993   0.920977                    \n",
      "    2      0.310134   0.294751   0.922893                    \n",
      "    3      0.249502   0.305566   0.921935                    \n",
      "    4      0.199666   0.300465   0.920977                    \n",
      "\n"
     ]
    },
    {
     "data": {
      "text/plain": [
       "[0.300465, 0.9209770146343443]"
      ]
     },
     "execution_count": 29,
     "metadata": {},
     "output_type": "execute_result"
    }
   ],
   "source": [
    "learn.fit(1e-2, 5)"
   ]
  },
  {
   "cell_type": "markdown",
   "metadata": {},
   "source": [
    "### 3.2 Augment"
   ]
  },
  {
   "cell_type": "code",
   "execution_count": 30,
   "metadata": {},
   "outputs": [],
   "source": [
    "from sklearn import metrics"
   ]
  },
  {
   "cell_type": "code",
   "execution_count": 31,
   "metadata": {},
   "outputs": [
    {
     "data": {
      "application/vnd.jupyter.widget-view+json": {
       "model_id": "c28408357da544cd8c8bbd5c7469e541",
       "version_major": 2,
       "version_minor": 0
      },
      "text/html": [
       "<p>Failed to display Jupyter Widget of type <code>HBox</code>.</p>\n",
       "<p>\n",
       "  If you're reading this message in the Jupyter Notebook or JupyterLab Notebook, it may mean\n",
       "  that the widgets JavaScript is still loading. If this message persists, it\n",
       "  likely means that the widgets JavaScript library is either not installed or\n",
       "  not enabled. See the <a href=\"https://ipywidgets.readthedocs.io/en/stable/user_install.html\">Jupyter\n",
       "  Widgets Documentation</a> for setup instructions.\n",
       "</p>\n",
       "<p>\n",
       "  If you're reading this message in another frontend (for example, a static\n",
       "  rendering on GitHub or <a href=\"https://nbviewer.jupyter.org/\">NBViewer</a>),\n",
       "  it may mean that your frontend doesn't currently support widgets.\n",
       "</p>\n"
      ],
      "text/plain": [
       "HBox(children=(IntProgress(value=0, max=6), HTML(value='')))"
      ]
     },
     "metadata": {},
     "output_type": "display_data"
    },
    {
     "name": "stdout",
     "output_type": "stream",
     "text": [
      "\n"
     ]
    }
   ],
   "source": [
    "data = get_data(sz, bs)"
   ]
  },
  {
   "cell_type": "code",
   "execution_count": 32,
   "metadata": {},
   "outputs": [],
   "source": [
    "learn = ConvLearner.pretrained(arch, data, precompute=True, ps=0.5)"
   ]
  },
  {
   "cell_type": "code",
   "execution_count": 33,
   "metadata": {},
   "outputs": [
    {
     "data": {
      "application/vnd.jupyter.widget-view+json": {
       "model_id": "c522ca216e5a49e4a7624f94b7215c52",
       "version_major": 2,
       "version_minor": 0
      },
      "text/html": [
       "<p>Failed to display Jupyter Widget of type <code>HBox</code>.</p>\n",
       "<p>\n",
       "  If you're reading this message in the Jupyter Notebook or JupyterLab Notebook, it may mean\n",
       "  that the widgets JavaScript is still loading. If this message persists, it\n",
       "  likely means that the widgets JavaScript library is either not installed or\n",
       "  not enabled. See the <a href=\"https://ipywidgets.readthedocs.io/en/stable/user_install.html\">Jupyter\n",
       "  Widgets Documentation</a> for setup instructions.\n",
       "</p>\n",
       "<p>\n",
       "  If you're reading this message in another frontend (for example, a static\n",
       "  rendering on GitHub or <a href=\"https://nbviewer.jupyter.org/\">NBViewer</a>),\n",
       "  it may mean that your frontend doesn't currently support widgets.\n",
       "</p>\n"
      ],
      "text/plain": [
       "HBox(children=(IntProgress(value=0, description='Epoch', max=2), HTML(value='')))"
      ]
     },
     "metadata": {},
     "output_type": "display_data"
    },
    {
     "name": "stdout",
     "output_type": "stream",
     "text": [
      "epoch      trn_loss   val_loss   accuracy                   \n",
      "    0      1.148577   0.47553    0.904215  \n",
      "    1      0.539843   0.345226   0.916667                    \n",
      "\n"
     ]
    },
    {
     "data": {
      "text/plain": [
       "[0.34522644, 0.9166666716337204]"
      ]
     },
     "execution_count": 33,
     "metadata": {},
     "output_type": "execute_result"
    }
   ],
   "source": [
    "learn.fit(1e-2, 2)"
   ]
  },
  {
   "cell_type": "code",
   "execution_count": 34,
   "metadata": {},
   "outputs": [],
   "source": [
    "learn.precompute = False"
   ]
  },
  {
   "cell_type": "code",
   "execution_count": 35,
   "metadata": {},
   "outputs": [
    {
     "data": {
      "application/vnd.jupyter.widget-view+json": {
       "model_id": "c438be876cfc49e8920f2704c6cddbdc",
       "version_major": 2,
       "version_minor": 0
      },
      "text/html": [
       "<p>Failed to display Jupyter Widget of type <code>HBox</code>.</p>\n",
       "<p>\n",
       "  If you're reading this message in the Jupyter Notebook or JupyterLab Notebook, it may mean\n",
       "  that the widgets JavaScript is still loading. If this message persists, it\n",
       "  likely means that the widgets JavaScript library is either not installed or\n",
       "  not enabled. See the <a href=\"https://ipywidgets.readthedocs.io/en/stable/user_install.html\">Jupyter\n",
       "  Widgets Documentation</a> for setup instructions.\n",
       "</p>\n",
       "<p>\n",
       "  If you're reading this message in another frontend (for example, a static\n",
       "  rendering on GitHub or <a href=\"https://nbviewer.jupyter.org/\">NBViewer</a>),\n",
       "  it may mean that your frontend doesn't currently support widgets.\n",
       "</p>\n"
      ],
      "text/plain": [
       "HBox(children=(IntProgress(value=0, description='Epoch', max=5), HTML(value='')))"
      ]
     },
     "metadata": {},
     "output_type": "display_data"
    },
    {
     "name": "stdout",
     "output_type": "stream",
     "text": [
      "epoch      trn_loss   val_loss   accuracy                    \n",
      "    0      0.461428   0.269782   0.926245  \n",
      "    1      0.409727   0.257414   0.929598                    \n",
      "    2      0.375959   0.248469   0.930077                    \n",
      "    3      0.349082   0.235947   0.930556                    \n",
      "    4      0.330319   0.237483   0.92433                     \n",
      "\n"
     ]
    },
    {
     "data": {
      "text/plain": [
       "[0.23748296, 0.924329506026374]"
      ]
     },
     "execution_count": 35,
     "metadata": {},
     "output_type": "execute_result"
    }
   ],
   "source": [
    "learn.fit(1e-2, 5, cycle_len=1)"
   ]
  },
  {
   "cell_type": "code",
   "execution_count": 36,
   "metadata": {},
   "outputs": [],
   "source": [
    "learn.save('224_pre')"
   ]
  },
  {
   "cell_type": "code",
   "execution_count": null,
   "metadata": {},
   "outputs": [],
   "source": [
    "learn.load('224_pre')"
   ]
  },
  {
   "cell_type": "markdown",
   "metadata": {},
   "source": [
    "## 4 Increase size"
   ]
  },
  {
   "cell_type": "code",
   "execution_count": 37,
   "metadata": {
    "scrolled": true
   },
   "outputs": [
    {
     "data": {
      "application/vnd.jupyter.widget-view+json": {
       "model_id": "40060908ceee46fb859195274eca3da8",
       "version_major": 2,
       "version_minor": 0
      },
      "text/html": [
       "<p>Failed to display Jupyter Widget of type <code>HBox</code>.</p>\n",
       "<p>\n",
       "  If you're reading this message in the Jupyter Notebook or JupyterLab Notebook, it may mean\n",
       "  that the widgets JavaScript is still loading. If this message persists, it\n",
       "  likely means that the widgets JavaScript library is either not installed or\n",
       "  not enabled. See the <a href=\"https://ipywidgets.readthedocs.io/en/stable/user_install.html\">Jupyter\n",
       "  Widgets Documentation</a> for setup instructions.\n",
       "</p>\n",
       "<p>\n",
       "  If you're reading this message in another frontend (for example, a static\n",
       "  rendering on GitHub or <a href=\"https://nbviewer.jupyter.org/\">NBViewer</a>),\n",
       "  it may mean that your frontend doesn't currently support widgets.\n",
       "</p>\n"
      ],
      "text/plain": [
       "HBox(children=(IntProgress(value=0, max=6), HTML(value='')))"
      ]
     },
     "metadata": {},
     "output_type": "display_data"
    },
    {
     "name": "stdout",
     "output_type": "stream",
     "text": [
      "\n"
     ]
    }
   ],
   "source": [
    "# Starting training on small images for a few epochs, then switching to bigger images, and continuing training is an amazingly effective way to avoid overfitting.\n",
    "\n",
    "# http://forums.fast.ai/t/planet-classification-challenge/7824/96\n",
    "# set_data doesn’t change the model at all. It just gives it new data to train with.\n",
    "learn.set_data(get_data(299, bs)) \n",
    "learn.freeze()\n",
    "\n",
    "#Source:   \n",
    "#    def set_data(self, data, precompute=False):\n",
    "#        super().set_data(data)\n",
    "#        if precompute:\n",
    "#            self.unfreeze()\n",
    "#            self.save_fc1()\n",
    "#            self.freeze()\n",
    "#            self.precompute = True\n",
    "#        else:\n",
    "#            self.freeze()\n",
    "#File:      ~/fastai/courses/dl1/fastai/conv_learner.py"
   ]
  },
  {
   "cell_type": "code",
   "execution_count": 38,
   "metadata": {},
   "outputs": [
    {
     "data": {
      "text/plain": [
       "OrderedDict([('Conv2d-1',\n",
       "              OrderedDict([('input_shape', [-1, 3, 224, 224]),\n",
       "                           ('output_shape', [-1, 64, 112, 112]),\n",
       "                           ('trainable', False),\n",
       "                           ('nb_params', 9408)])),\n",
       "             ('BatchNorm2d-2',\n",
       "              OrderedDict([('input_shape', [-1, 64, 112, 112]),\n",
       "                           ('output_shape', [-1, 64, 112, 112]),\n",
       "                           ('trainable', False),\n",
       "                           ('nb_params', 128)])),\n",
       "             ('ReLU-3',\n",
       "              OrderedDict([('input_shape', [-1, 64, 112, 112]),\n",
       "                           ('output_shape', [-1, 64, 112, 112]),\n",
       "                           ('nb_params', 0)])),\n",
       "             ('MaxPool2d-4',\n",
       "              OrderedDict([('input_shape', [-1, 64, 112, 112]),\n",
       "                           ('output_shape', [-1, 64, 56, 56]),\n",
       "                           ('nb_params', 0)])),\n",
       "             ('Conv2d-5',\n",
       "              OrderedDict([('input_shape', [-1, 64, 56, 56]),\n",
       "                           ('output_shape', [-1, 256, 56, 56]),\n",
       "                           ('trainable', False),\n",
       "                           ('nb_params', 16384)])),\n",
       "             ('BatchNorm2d-6',\n",
       "              OrderedDict([('input_shape', [-1, 256, 56, 56]),\n",
       "                           ('output_shape', [-1, 256, 56, 56]),\n",
       "                           ('trainable', False),\n",
       "                           ('nb_params', 512)])),\n",
       "             ('ReLU-7',\n",
       "              OrderedDict([('input_shape', [-1, 256, 56, 56]),\n",
       "                           ('output_shape', [-1, 256, 56, 56]),\n",
       "                           ('nb_params', 0)])),\n",
       "             ('Conv2d-8',\n",
       "              OrderedDict([('input_shape', [-1, 256, 56, 56]),\n",
       "                           ('output_shape', [-1, 256, 56, 56]),\n",
       "                           ('trainable', False),\n",
       "                           ('nb_params', 9216)])),\n",
       "             ('BatchNorm2d-9',\n",
       "              OrderedDict([('input_shape', [-1, 256, 56, 56]),\n",
       "                           ('output_shape', [-1, 256, 56, 56]),\n",
       "                           ('trainable', False),\n",
       "                           ('nb_params', 512)])),\n",
       "             ('ReLU-10',\n",
       "              OrderedDict([('input_shape', [-1, 256, 56, 56]),\n",
       "                           ('output_shape', [-1, 256, 56, 56]),\n",
       "                           ('nb_params', 0)])),\n",
       "             ('Conv2d-11',\n",
       "              OrderedDict([('input_shape', [-1, 256, 56, 56]),\n",
       "                           ('output_shape', [-1, 256, 56, 56]),\n",
       "                           ('trainable', False),\n",
       "                           ('nb_params', 65536)])),\n",
       "             ('BatchNorm2d-12',\n",
       "              OrderedDict([('input_shape', [-1, 256, 56, 56]),\n",
       "                           ('output_shape', [-1, 256, 56, 56]),\n",
       "                           ('trainable', False),\n",
       "                           ('nb_params', 512)])),\n",
       "             ('Conv2d-13',\n",
       "              OrderedDict([('input_shape', [-1, 64, 56, 56]),\n",
       "                           ('output_shape', [-1, 256, 56, 56]),\n",
       "                           ('trainable', False),\n",
       "                           ('nb_params', 16384)])),\n",
       "             ('BatchNorm2d-14',\n",
       "              OrderedDict([('input_shape', [-1, 256, 56, 56]),\n",
       "                           ('output_shape', [-1, 256, 56, 56]),\n",
       "                           ('trainable', False),\n",
       "                           ('nb_params', 512)])),\n",
       "             ('ReLU-15',\n",
       "              OrderedDict([('input_shape', [-1, 256, 56, 56]),\n",
       "                           ('output_shape', [-1, 256, 56, 56]),\n",
       "                           ('nb_params', 0)])),\n",
       "             ('Conv2d-16',\n",
       "              OrderedDict([('input_shape', [-1, 256, 56, 56]),\n",
       "                           ('output_shape', [-1, 256, 56, 56]),\n",
       "                           ('trainable', False),\n",
       "                           ('nb_params', 65536)])),\n",
       "             ('BatchNorm2d-17',\n",
       "              OrderedDict([('input_shape', [-1, 256, 56, 56]),\n",
       "                           ('output_shape', [-1, 256, 56, 56]),\n",
       "                           ('trainable', False),\n",
       "                           ('nb_params', 512)])),\n",
       "             ('ReLU-18',\n",
       "              OrderedDict([('input_shape', [-1, 256, 56, 56]),\n",
       "                           ('output_shape', [-1, 256, 56, 56]),\n",
       "                           ('nb_params', 0)])),\n",
       "             ('Conv2d-19',\n",
       "              OrderedDict([('input_shape', [-1, 256, 56, 56]),\n",
       "                           ('output_shape', [-1, 256, 56, 56]),\n",
       "                           ('trainable', False),\n",
       "                           ('nb_params', 9216)])),\n",
       "             ('BatchNorm2d-20',\n",
       "              OrderedDict([('input_shape', [-1, 256, 56, 56]),\n",
       "                           ('output_shape', [-1, 256, 56, 56]),\n",
       "                           ('trainable', False),\n",
       "                           ('nb_params', 512)])),\n",
       "             ('ReLU-21',\n",
       "              OrderedDict([('input_shape', [-1, 256, 56, 56]),\n",
       "                           ('output_shape', [-1, 256, 56, 56]),\n",
       "                           ('nb_params', 0)])),\n",
       "             ('Conv2d-22',\n",
       "              OrderedDict([('input_shape', [-1, 256, 56, 56]),\n",
       "                           ('output_shape', [-1, 256, 56, 56]),\n",
       "                           ('trainable', False),\n",
       "                           ('nb_params', 65536)])),\n",
       "             ('BatchNorm2d-23',\n",
       "              OrderedDict([('input_shape', [-1, 256, 56, 56]),\n",
       "                           ('output_shape', [-1, 256, 56, 56]),\n",
       "                           ('trainable', False),\n",
       "                           ('nb_params', 512)])),\n",
       "             ('ReLU-24',\n",
       "              OrderedDict([('input_shape', [-1, 256, 56, 56]),\n",
       "                           ('output_shape', [-1, 256, 56, 56]),\n",
       "                           ('nb_params', 0)])),\n",
       "             ('Conv2d-25',\n",
       "              OrderedDict([('input_shape', [-1, 256, 56, 56]),\n",
       "                           ('output_shape', [-1, 256, 56, 56]),\n",
       "                           ('trainable', False),\n",
       "                           ('nb_params', 65536)])),\n",
       "             ('BatchNorm2d-26',\n",
       "              OrderedDict([('input_shape', [-1, 256, 56, 56]),\n",
       "                           ('output_shape', [-1, 256, 56, 56]),\n",
       "                           ('trainable', False),\n",
       "                           ('nb_params', 512)])),\n",
       "             ('ReLU-27',\n",
       "              OrderedDict([('input_shape', [-1, 256, 56, 56]),\n",
       "                           ('output_shape', [-1, 256, 56, 56]),\n",
       "                           ('nb_params', 0)])),\n",
       "             ('Conv2d-28',\n",
       "              OrderedDict([('input_shape', [-1, 256, 56, 56]),\n",
       "                           ('output_shape', [-1, 256, 56, 56]),\n",
       "                           ('trainable', False),\n",
       "                           ('nb_params', 9216)])),\n",
       "             ('BatchNorm2d-29',\n",
       "              OrderedDict([('input_shape', [-1, 256, 56, 56]),\n",
       "                           ('output_shape', [-1, 256, 56, 56]),\n",
       "                           ('trainable', False),\n",
       "                           ('nb_params', 512)])),\n",
       "             ('ReLU-30',\n",
       "              OrderedDict([('input_shape', [-1, 256, 56, 56]),\n",
       "                           ('output_shape', [-1, 256, 56, 56]),\n",
       "                           ('nb_params', 0)])),\n",
       "             ('Conv2d-31',\n",
       "              OrderedDict([('input_shape', [-1, 256, 56, 56]),\n",
       "                           ('output_shape', [-1, 256, 56, 56]),\n",
       "                           ('trainable', False),\n",
       "                           ('nb_params', 65536)])),\n",
       "             ('BatchNorm2d-32',\n",
       "              OrderedDict([('input_shape', [-1, 256, 56, 56]),\n",
       "                           ('output_shape', [-1, 256, 56, 56]),\n",
       "                           ('trainable', False),\n",
       "                           ('nb_params', 512)])),\n",
       "             ('ReLU-33',\n",
       "              OrderedDict([('input_shape', [-1, 256, 56, 56]),\n",
       "                           ('output_shape', [-1, 256, 56, 56]),\n",
       "                           ('nb_params', 0)])),\n",
       "             ('Conv2d-34',\n",
       "              OrderedDict([('input_shape', [-1, 256, 56, 56]),\n",
       "                           ('output_shape', [-1, 512, 56, 56]),\n",
       "                           ('trainable', False),\n",
       "                           ('nb_params', 131072)])),\n",
       "             ('BatchNorm2d-35',\n",
       "              OrderedDict([('input_shape', [-1, 512, 56, 56]),\n",
       "                           ('output_shape', [-1, 512, 56, 56]),\n",
       "                           ('trainable', False),\n",
       "                           ('nb_params', 1024)])),\n",
       "             ('ReLU-36',\n",
       "              OrderedDict([('input_shape', [-1, 512, 56, 56]),\n",
       "                           ('output_shape', [-1, 512, 56, 56]),\n",
       "                           ('nb_params', 0)])),\n",
       "             ('Conv2d-37',\n",
       "              OrderedDict([('input_shape', [-1, 512, 56, 56]),\n",
       "                           ('output_shape', [-1, 512, 28, 28]),\n",
       "                           ('trainable', False),\n",
       "                           ('nb_params', 36864)])),\n",
       "             ('BatchNorm2d-38',\n",
       "              OrderedDict([('input_shape', [-1, 512, 28, 28]),\n",
       "                           ('output_shape', [-1, 512, 28, 28]),\n",
       "                           ('trainable', False),\n",
       "                           ('nb_params', 1024)])),\n",
       "             ('ReLU-39',\n",
       "              OrderedDict([('input_shape', [-1, 512, 28, 28]),\n",
       "                           ('output_shape', [-1, 512, 28, 28]),\n",
       "                           ('nb_params', 0)])),\n",
       "             ('Conv2d-40',\n",
       "              OrderedDict([('input_shape', [-1, 512, 28, 28]),\n",
       "                           ('output_shape', [-1, 512, 28, 28]),\n",
       "                           ('trainable', False),\n",
       "                           ('nb_params', 262144)])),\n",
       "             ('BatchNorm2d-41',\n",
       "              OrderedDict([('input_shape', [-1, 512, 28, 28]),\n",
       "                           ('output_shape', [-1, 512, 28, 28]),\n",
       "                           ('trainable', False),\n",
       "                           ('nb_params', 1024)])),\n",
       "             ('Conv2d-42',\n",
       "              OrderedDict([('input_shape', [-1, 256, 56, 56]),\n",
       "                           ('output_shape', [-1, 512, 28, 28]),\n",
       "                           ('trainable', False),\n",
       "                           ('nb_params', 131072)])),\n",
       "             ('BatchNorm2d-43',\n",
       "              OrderedDict([('input_shape', [-1, 512, 28, 28]),\n",
       "                           ('output_shape', [-1, 512, 28, 28]),\n",
       "                           ('trainable', False),\n",
       "                           ('nb_params', 1024)])),\n",
       "             ('ReLU-44',\n",
       "              OrderedDict([('input_shape', [-1, 512, 28, 28]),\n",
       "                           ('output_shape', [-1, 512, 28, 28]),\n",
       "                           ('nb_params', 0)])),\n",
       "             ('Conv2d-45',\n",
       "              OrderedDict([('input_shape', [-1, 512, 28, 28]),\n",
       "                           ('output_shape', [-1, 512, 28, 28]),\n",
       "                           ('trainable', False),\n",
       "                           ('nb_params', 262144)])),\n",
       "             ('BatchNorm2d-46',\n",
       "              OrderedDict([('input_shape', [-1, 512, 28, 28]),\n",
       "                           ('output_shape', [-1, 512, 28, 28]),\n",
       "                           ('trainable', False),\n",
       "                           ('nb_params', 1024)])),\n",
       "             ('ReLU-47',\n",
       "              OrderedDict([('input_shape', [-1, 512, 28, 28]),\n",
       "                           ('output_shape', [-1, 512, 28, 28]),\n",
       "                           ('nb_params', 0)])),\n",
       "             ('Conv2d-48',\n",
       "              OrderedDict([('input_shape', [-1, 512, 28, 28]),\n",
       "                           ('output_shape', [-1, 512, 28, 28]),\n",
       "                           ('trainable', False),\n",
       "                           ('nb_params', 36864)])),\n",
       "             ('BatchNorm2d-49',\n",
       "              OrderedDict([('input_shape', [-1, 512, 28, 28]),\n",
       "                           ('output_shape', [-1, 512, 28, 28]),\n",
       "                           ('trainable', False),\n",
       "                           ('nb_params', 1024)])),\n",
       "             ('ReLU-50',\n",
       "              OrderedDict([('input_shape', [-1, 512, 28, 28]),\n",
       "                           ('output_shape', [-1, 512, 28, 28]),\n",
       "                           ('nb_params', 0)])),\n",
       "             ('Conv2d-51',\n",
       "              OrderedDict([('input_shape', [-1, 512, 28, 28]),\n",
       "                           ('output_shape', [-1, 512, 28, 28]),\n",
       "                           ('trainable', False),\n",
       "                           ('nb_params', 262144)])),\n",
       "             ('BatchNorm2d-52',\n",
       "              OrderedDict([('input_shape', [-1, 512, 28, 28]),\n",
       "                           ('output_shape', [-1, 512, 28, 28]),\n",
       "                           ('trainable', False),\n",
       "                           ('nb_params', 1024)])),\n",
       "             ('ReLU-53',\n",
       "              OrderedDict([('input_shape', [-1, 512, 28, 28]),\n",
       "                           ('output_shape', [-1, 512, 28, 28]),\n",
       "                           ('nb_params', 0)])),\n",
       "             ('Conv2d-54',\n",
       "              OrderedDict([('input_shape', [-1, 512, 28, 28]),\n",
       "                           ('output_shape', [-1, 512, 28, 28]),\n",
       "                           ('trainable', False),\n",
       "                           ('nb_params', 262144)])),\n",
       "             ('BatchNorm2d-55',\n",
       "              OrderedDict([('input_shape', [-1, 512, 28, 28]),\n",
       "                           ('output_shape', [-1, 512, 28, 28]),\n",
       "                           ('trainable', False),\n",
       "                           ('nb_params', 1024)])),\n",
       "             ('ReLU-56',\n",
       "              OrderedDict([('input_shape', [-1, 512, 28, 28]),\n",
       "                           ('output_shape', [-1, 512, 28, 28]),\n",
       "                           ('nb_params', 0)])),\n",
       "             ('Conv2d-57',\n",
       "              OrderedDict([('input_shape', [-1, 512, 28, 28]),\n",
       "                           ('output_shape', [-1, 512, 28, 28]),\n",
       "                           ('trainable', False),\n",
       "                           ('nb_params', 36864)])),\n",
       "             ('BatchNorm2d-58',\n",
       "              OrderedDict([('input_shape', [-1, 512, 28, 28]),\n",
       "                           ('output_shape', [-1, 512, 28, 28]),\n",
       "                           ('trainable', False),\n",
       "                           ('nb_params', 1024)])),\n",
       "             ('ReLU-59',\n",
       "              OrderedDict([('input_shape', [-1, 512, 28, 28]),\n",
       "                           ('output_shape', [-1, 512, 28, 28]),\n",
       "                           ('nb_params', 0)])),\n",
       "             ('Conv2d-60',\n",
       "              OrderedDict([('input_shape', [-1, 512, 28, 28]),\n",
       "                           ('output_shape', [-1, 512, 28, 28]),\n",
       "                           ('trainable', False),\n",
       "                           ('nb_params', 262144)])),\n",
       "             ('BatchNorm2d-61',\n",
       "              OrderedDict([('input_shape', [-1, 512, 28, 28]),\n",
       "                           ('output_shape', [-1, 512, 28, 28]),\n",
       "                           ('trainable', False),\n",
       "                           ('nb_params', 1024)])),\n",
       "             ('ReLU-62',\n",
       "              OrderedDict([('input_shape', [-1, 512, 28, 28]),\n",
       "                           ('output_shape', [-1, 512, 28, 28]),\n",
       "                           ('nb_params', 0)])),\n",
       "             ('Conv2d-63',\n",
       "              OrderedDict([('input_shape', [-1, 512, 28, 28]),\n",
       "                           ('output_shape', [-1, 512, 28, 28]),\n",
       "                           ('trainable', False),\n",
       "                           ('nb_params', 262144)])),\n",
       "             ('BatchNorm2d-64',\n",
       "              OrderedDict([('input_shape', [-1, 512, 28, 28]),\n",
       "                           ('output_shape', [-1, 512, 28, 28]),\n",
       "                           ('trainable', False),\n",
       "                           ('nb_params', 1024)])),\n",
       "             ('ReLU-65',\n",
       "              OrderedDict([('input_shape', [-1, 512, 28, 28]),\n",
       "                           ('output_shape', [-1, 512, 28, 28]),\n",
       "                           ('nb_params', 0)])),\n",
       "             ('Conv2d-66',\n",
       "              OrderedDict([('input_shape', [-1, 512, 28, 28]),\n",
       "                           ('output_shape', [-1, 512, 28, 28]),\n",
       "                           ('trainable', False),\n",
       "                           ('nb_params', 36864)])),\n",
       "             ('BatchNorm2d-67',\n",
       "              OrderedDict([('input_shape', [-1, 512, 28, 28]),\n",
       "                           ('output_shape', [-1, 512, 28, 28]),\n",
       "                           ('trainable', False),\n",
       "                           ('nb_params', 1024)])),\n",
       "             ('ReLU-68',\n",
       "              OrderedDict([('input_shape', [-1, 512, 28, 28]),\n",
       "                           ('output_shape', [-1, 512, 28, 28]),\n",
       "                           ('nb_params', 0)])),\n",
       "             ('Conv2d-69',\n",
       "              OrderedDict([('input_shape', [-1, 512, 28, 28]),\n",
       "                           ('output_shape', [-1, 512, 28, 28]),\n",
       "                           ('trainable', False),\n",
       "                           ('nb_params', 262144)])),\n",
       "             ('BatchNorm2d-70',\n",
       "              OrderedDict([('input_shape', [-1, 512, 28, 28]),\n",
       "                           ('output_shape', [-1, 512, 28, 28]),\n",
       "                           ('trainable', False),\n",
       "                           ('nb_params', 1024)])),\n",
       "             ('ReLU-71',\n",
       "              OrderedDict([('input_shape', [-1, 512, 28, 28]),\n",
       "                           ('output_shape', [-1, 512, 28, 28]),\n",
       "                           ('nb_params', 0)])),\n",
       "             ('Conv2d-72',\n",
       "              OrderedDict([('input_shape', [-1, 512, 28, 28]),\n",
       "                           ('output_shape', [-1, 1024, 28, 28]),\n",
       "                           ('trainable', False),\n",
       "                           ('nb_params', 524288)])),\n",
       "             ('BatchNorm2d-73',\n",
       "              OrderedDict([('input_shape', [-1, 1024, 28, 28]),\n",
       "                           ('output_shape', [-1, 1024, 28, 28]),\n",
       "                           ('trainable', False),\n",
       "                           ('nb_params', 2048)])),\n",
       "             ('ReLU-74',\n",
       "              OrderedDict([('input_shape', [-1, 1024, 28, 28]),\n",
       "                           ('output_shape', [-1, 1024, 28, 28]),\n",
       "                           ('nb_params', 0)])),\n",
       "             ('Conv2d-75',\n",
       "              OrderedDict([('input_shape', [-1, 1024, 28, 28]),\n",
       "                           ('output_shape', [-1, 1024, 14, 14]),\n",
       "                           ('trainable', False),\n",
       "                           ('nb_params', 147456)])),\n",
       "             ('BatchNorm2d-76',\n",
       "              OrderedDict([('input_shape', [-1, 1024, 14, 14]),\n",
       "                           ('output_shape', [-1, 1024, 14, 14]),\n",
       "                           ('trainable', False),\n",
       "                           ('nb_params', 2048)])),\n",
       "             ('ReLU-77',\n",
       "              OrderedDict([('input_shape', [-1, 1024, 14, 14]),\n",
       "                           ('output_shape', [-1, 1024, 14, 14]),\n",
       "                           ('nb_params', 0)])),\n",
       "             ('Conv2d-78',\n",
       "              OrderedDict([('input_shape', [-1, 1024, 14, 14]),\n",
       "                           ('output_shape', [-1, 1024, 14, 14]),\n",
       "                           ('trainable', False),\n",
       "                           ('nb_params', 1048576)])),\n",
       "             ('BatchNorm2d-79',\n",
       "              OrderedDict([('input_shape', [-1, 1024, 14, 14]),\n",
       "                           ('output_shape', [-1, 1024, 14, 14]),\n",
       "                           ('trainable', False),\n",
       "                           ('nb_params', 2048)])),\n",
       "             ('Conv2d-80',\n",
       "              OrderedDict([('input_shape', [-1, 512, 28, 28]),\n",
       "                           ('output_shape', [-1, 1024, 14, 14]),\n",
       "                           ('trainable', False),\n",
       "                           ('nb_params', 524288)])),\n",
       "             ('BatchNorm2d-81',\n",
       "              OrderedDict([('input_shape', [-1, 1024, 14, 14]),\n",
       "                           ('output_shape', [-1, 1024, 14, 14]),\n",
       "                           ('trainable', False),\n",
       "                           ('nb_params', 2048)])),\n",
       "             ('ReLU-82',\n",
       "              OrderedDict([('input_shape', [-1, 1024, 14, 14]),\n",
       "                           ('output_shape', [-1, 1024, 14, 14]),\n",
       "                           ('nb_params', 0)])),\n",
       "             ('Conv2d-83',\n",
       "              OrderedDict([('input_shape', [-1, 1024, 14, 14]),\n",
       "                           ('output_shape', [-1, 1024, 14, 14]),\n",
       "                           ('trainable', False),\n",
       "                           ('nb_params', 1048576)])),\n",
       "             ('BatchNorm2d-84',\n",
       "              OrderedDict([('input_shape', [-1, 1024, 14, 14]),\n",
       "                           ('output_shape', [-1, 1024, 14, 14]),\n",
       "                           ('trainable', False),\n",
       "                           ('nb_params', 2048)])),\n",
       "             ('ReLU-85',\n",
       "              OrderedDict([('input_shape', [-1, 1024, 14, 14]),\n",
       "                           ('output_shape', [-1, 1024, 14, 14]),\n",
       "                           ('nb_params', 0)])),\n",
       "             ('Conv2d-86',\n",
       "              OrderedDict([('input_shape', [-1, 1024, 14, 14]),\n",
       "                           ('output_shape', [-1, 1024, 14, 14]),\n",
       "                           ('trainable', False),\n",
       "                           ('nb_params', 147456)])),\n",
       "             ('BatchNorm2d-87',\n",
       "              OrderedDict([('input_shape', [-1, 1024, 14, 14]),\n",
       "                           ('output_shape', [-1, 1024, 14, 14]),\n",
       "                           ('trainable', False),\n",
       "                           ('nb_params', 2048)])),\n",
       "             ('ReLU-88',\n",
       "              OrderedDict([('input_shape', [-1, 1024, 14, 14]),\n",
       "                           ('output_shape', [-1, 1024, 14, 14]),\n",
       "                           ('nb_params', 0)])),\n",
       "             ('Conv2d-89',\n",
       "              OrderedDict([('input_shape', [-1, 1024, 14, 14]),\n",
       "                           ('output_shape', [-1, 1024, 14, 14]),\n",
       "                           ('trainable', False),\n",
       "                           ('nb_params', 1048576)])),\n",
       "             ('BatchNorm2d-90',\n",
       "              OrderedDict([('input_shape', [-1, 1024, 14, 14]),\n",
       "                           ('output_shape', [-1, 1024, 14, 14]),\n",
       "                           ('trainable', False),\n",
       "                           ('nb_params', 2048)])),\n",
       "             ('ReLU-91',\n",
       "              OrderedDict([('input_shape', [-1, 1024, 14, 14]),\n",
       "                           ('output_shape', [-1, 1024, 14, 14]),\n",
       "                           ('nb_params', 0)])),\n",
       "             ('Conv2d-92',\n",
       "              OrderedDict([('input_shape', [-1, 1024, 14, 14]),\n",
       "                           ('output_shape', [-1, 1024, 14, 14]),\n",
       "                           ('trainable', False),\n",
       "                           ('nb_params', 1048576)])),\n",
       "             ('BatchNorm2d-93',\n",
       "              OrderedDict([('input_shape', [-1, 1024, 14, 14]),\n",
       "                           ('output_shape', [-1, 1024, 14, 14]),\n",
       "                           ('trainable', False),\n",
       "                           ('nb_params', 2048)])),\n",
       "             ('ReLU-94',\n",
       "              OrderedDict([('input_shape', [-1, 1024, 14, 14]),\n",
       "                           ('output_shape', [-1, 1024, 14, 14]),\n",
       "                           ('nb_params', 0)])),\n",
       "             ('Conv2d-95',\n",
       "              OrderedDict([('input_shape', [-1, 1024, 14, 14]),\n",
       "                           ('output_shape', [-1, 1024, 14, 14]),\n",
       "                           ('trainable', False),\n",
       "                           ('nb_params', 147456)])),\n",
       "             ('BatchNorm2d-96',\n",
       "              OrderedDict([('input_shape', [-1, 1024, 14, 14]),\n",
       "                           ('output_shape', [-1, 1024, 14, 14]),\n",
       "                           ('trainable', False),\n",
       "                           ('nb_params', 2048)])),\n",
       "             ('ReLU-97',\n",
       "              OrderedDict([('input_shape', [-1, 1024, 14, 14]),\n",
       "                           ('output_shape', [-1, 1024, 14, 14]),\n",
       "                           ('nb_params', 0)])),\n",
       "             ('Conv2d-98',\n",
       "              OrderedDict([('input_shape', [-1, 1024, 14, 14]),\n",
       "                           ('output_shape', [-1, 1024, 14, 14]),\n",
       "                           ('trainable', False),\n",
       "                           ('nb_params', 1048576)])),\n",
       "             ('BatchNorm2d-99',\n",
       "              OrderedDict([('input_shape', [-1, 1024, 14, 14]),\n",
       "                           ('output_shape', [-1, 1024, 14, 14]),\n",
       "                           ('trainable', False),\n",
       "                           ('nb_params', 2048)])),\n",
       "             ('ReLU-100',\n",
       "              OrderedDict([('input_shape', [-1, 1024, 14, 14]),\n",
       "                           ('output_shape', [-1, 1024, 14, 14]),\n",
       "                           ('nb_params', 0)])),\n",
       "             ('Conv2d-101',\n",
       "              OrderedDict([('input_shape', [-1, 1024, 14, 14]),\n",
       "                           ('output_shape', [-1, 1024, 14, 14]),\n",
       "                           ('trainable', False),\n",
       "                           ('nb_params', 1048576)])),\n",
       "             ('BatchNorm2d-102',\n",
       "              OrderedDict([('input_shape', [-1, 1024, 14, 14]),\n",
       "                           ('output_shape', [-1, 1024, 14, 14]),\n",
       "                           ('trainable', False),\n",
       "                           ('nb_params', 2048)])),\n",
       "             ('ReLU-103',\n",
       "              OrderedDict([('input_shape', [-1, 1024, 14, 14]),\n",
       "                           ('output_shape', [-1, 1024, 14, 14]),\n",
       "                           ('nb_params', 0)])),\n",
       "             ('Conv2d-104',\n",
       "              OrderedDict([('input_shape', [-1, 1024, 14, 14]),\n",
       "                           ('output_shape', [-1, 1024, 14, 14]),\n",
       "                           ('trainable', False),\n",
       "                           ('nb_params', 147456)])),\n",
       "             ('BatchNorm2d-105',\n",
       "              OrderedDict([('input_shape', [-1, 1024, 14, 14]),\n",
       "                           ('output_shape', [-1, 1024, 14, 14]),\n",
       "                           ('trainable', False),\n",
       "                           ('nb_params', 2048)])),\n",
       "             ('ReLU-106',\n",
       "              OrderedDict([('input_shape', [-1, 1024, 14, 14]),\n",
       "                           ('output_shape', [-1, 1024, 14, 14]),\n",
       "                           ('nb_params', 0)])),\n",
       "             ('Conv2d-107',\n",
       "              OrderedDict([('input_shape', [-1, 1024, 14, 14]),\n",
       "                           ('output_shape', [-1, 1024, 14, 14]),\n",
       "                           ('trainable', False),\n",
       "                           ('nb_params', 1048576)])),\n",
       "             ('BatchNorm2d-108',\n",
       "              OrderedDict([('input_shape', [-1, 1024, 14, 14]),\n",
       "                           ('output_shape', [-1, 1024, 14, 14]),\n",
       "                           ('trainable', False),\n",
       "                           ('nb_params', 2048)])),\n",
       "             ('ReLU-109',\n",
       "              OrderedDict([('input_shape', [-1, 1024, 14, 14]),\n",
       "                           ('output_shape', [-1, 1024, 14, 14]),\n",
       "                           ('nb_params', 0)])),\n",
       "             ('Conv2d-110',\n",
       "              OrderedDict([('input_shape', [-1, 1024, 14, 14]),\n",
       "                           ('output_shape', [-1, 1024, 14, 14]),\n",
       "                           ('trainable', False),\n",
       "                           ('nb_params', 1048576)])),\n",
       "             ('BatchNorm2d-111',\n",
       "              OrderedDict([('input_shape', [-1, 1024, 14, 14]),\n",
       "                           ('output_shape', [-1, 1024, 14, 14]),\n",
       "                           ('trainable', False),\n",
       "                           ('nb_params', 2048)])),\n",
       "             ('ReLU-112',\n",
       "              OrderedDict([('input_shape', [-1, 1024, 14, 14]),\n",
       "                           ('output_shape', [-1, 1024, 14, 14]),\n",
       "                           ('nb_params', 0)])),\n",
       "             ('Conv2d-113',\n",
       "              OrderedDict([('input_shape', [-1, 1024, 14, 14]),\n",
       "                           ('output_shape', [-1, 1024, 14, 14]),\n",
       "                           ('trainable', False),\n",
       "                           ('nb_params', 147456)])),\n",
       "             ('BatchNorm2d-114',\n",
       "              OrderedDict([('input_shape', [-1, 1024, 14, 14]),\n",
       "                           ('output_shape', [-1, 1024, 14, 14]),\n",
       "                           ('trainable', False),\n",
       "                           ('nb_params', 2048)])),\n",
       "             ('ReLU-115',\n",
       "              OrderedDict([('input_shape', [-1, 1024, 14, 14]),\n",
       "                           ('output_shape', [-1, 1024, 14, 14]),\n",
       "                           ('nb_params', 0)])),\n",
       "             ('Conv2d-116',\n",
       "              OrderedDict([('input_shape', [-1, 1024, 14, 14]),\n",
       "                           ('output_shape', [-1, 1024, 14, 14]),\n",
       "                           ('trainable', False),\n",
       "                           ('nb_params', 1048576)])),\n",
       "             ('BatchNorm2d-117',\n",
       "              OrderedDict([('input_shape', [-1, 1024, 14, 14]),\n",
       "                           ('output_shape', [-1, 1024, 14, 14]),\n",
       "                           ('trainable', False),\n",
       "                           ('nb_params', 2048)])),\n",
       "             ('ReLU-118',\n",
       "              OrderedDict([('input_shape', [-1, 1024, 14, 14]),\n",
       "                           ('output_shape', [-1, 1024, 14, 14]),\n",
       "                           ('nb_params', 0)])),\n",
       "             ('Conv2d-119',\n",
       "              OrderedDict([('input_shape', [-1, 1024, 14, 14]),\n",
       "                           ('output_shape', [-1, 1024, 14, 14]),\n",
       "                           ('trainable', False),\n",
       "                           ('nb_params', 1048576)])),\n",
       "             ('BatchNorm2d-120',\n",
       "              OrderedDict([('input_shape', [-1, 1024, 14, 14]),\n",
       "                           ('output_shape', [-1, 1024, 14, 14]),\n",
       "                           ('trainable', False),\n",
       "                           ('nb_params', 2048)])),\n",
       "             ('ReLU-121',\n",
       "              OrderedDict([('input_shape', [-1, 1024, 14, 14]),\n",
       "                           ('output_shape', [-1, 1024, 14, 14]),\n",
       "                           ('nb_params', 0)])),\n",
       "             ('Conv2d-122',\n",
       "              OrderedDict([('input_shape', [-1, 1024, 14, 14]),\n",
       "                           ('output_shape', [-1, 1024, 14, 14]),\n",
       "                           ('trainable', False),\n",
       "                           ('nb_params', 147456)])),\n",
       "             ('BatchNorm2d-123',\n",
       "              OrderedDict([('input_shape', [-1, 1024, 14, 14]),\n",
       "                           ('output_shape', [-1, 1024, 14, 14]),\n",
       "                           ('trainable', False),\n",
       "                           ('nb_params', 2048)])),\n",
       "             ('ReLU-124',\n",
       "              OrderedDict([('input_shape', [-1, 1024, 14, 14]),\n",
       "                           ('output_shape', [-1, 1024, 14, 14]),\n",
       "                           ('nb_params', 0)])),\n",
       "             ('Conv2d-125',\n",
       "              OrderedDict([('input_shape', [-1, 1024, 14, 14]),\n",
       "                           ('output_shape', [-1, 1024, 14, 14]),\n",
       "                           ('trainable', False),\n",
       "                           ('nb_params', 1048576)])),\n",
       "             ('BatchNorm2d-126',\n",
       "              OrderedDict([('input_shape', [-1, 1024, 14, 14]),\n",
       "                           ('output_shape', [-1, 1024, 14, 14]),\n",
       "                           ('trainable', False),\n",
       "                           ('nb_params', 2048)])),\n",
       "             ('ReLU-127',\n",
       "              OrderedDict([('input_shape', [-1, 1024, 14, 14]),\n",
       "                           ('output_shape', [-1, 1024, 14, 14]),\n",
       "                           ('nb_params', 0)])),\n",
       "             ('Conv2d-128',\n",
       "              OrderedDict([('input_shape', [-1, 1024, 14, 14]),\n",
       "                           ('output_shape', [-1, 1024, 14, 14]),\n",
       "                           ('trainable', False),\n",
       "                           ('nb_params', 1048576)])),\n",
       "             ('BatchNorm2d-129',\n",
       "              OrderedDict([('input_shape', [-1, 1024, 14, 14]),\n",
       "                           ('output_shape', [-1, 1024, 14, 14]),\n",
       "                           ('trainable', False),\n",
       "                           ('nb_params', 2048)])),\n",
       "             ('ReLU-130',\n",
       "              OrderedDict([('input_shape', [-1, 1024, 14, 14]),\n",
       "                           ('output_shape', [-1, 1024, 14, 14]),\n",
       "                           ('nb_params', 0)])),\n",
       "             ('Conv2d-131',\n",
       "              OrderedDict([('input_shape', [-1, 1024, 14, 14]),\n",
       "                           ('output_shape', [-1, 1024, 14, 14]),\n",
       "                           ('trainable', False),\n",
       "                           ('nb_params', 147456)])),\n",
       "             ('BatchNorm2d-132',\n",
       "              OrderedDict([('input_shape', [-1, 1024, 14, 14]),\n",
       "                           ('output_shape', [-1, 1024, 14, 14]),\n",
       "                           ('trainable', False),\n",
       "                           ('nb_params', 2048)])),\n",
       "             ('ReLU-133',\n",
       "              OrderedDict([('input_shape', [-1, 1024, 14, 14]),\n",
       "                           ('output_shape', [-1, 1024, 14, 14]),\n",
       "                           ('nb_params', 0)])),\n",
       "             ('Conv2d-134',\n",
       "              OrderedDict([('input_shape', [-1, 1024, 14, 14]),\n",
       "                           ('output_shape', [-1, 1024, 14, 14]),\n",
       "                           ('trainable', False),\n",
       "                           ('nb_params', 1048576)])),\n",
       "             ('BatchNorm2d-135',\n",
       "              OrderedDict([('input_shape', [-1, 1024, 14, 14]),\n",
       "                           ('output_shape', [-1, 1024, 14, 14]),\n",
       "                           ('trainable', False),\n",
       "                           ('nb_params', 2048)])),\n",
       "             ('ReLU-136',\n",
       "              OrderedDict([('input_shape', [-1, 1024, 14, 14]),\n",
       "                           ('output_shape', [-1, 1024, 14, 14]),\n",
       "                           ('nb_params', 0)])),\n",
       "             ('Conv2d-137',\n",
       "              OrderedDict([('input_shape', [-1, 1024, 14, 14]),\n",
       "                           ('output_shape', [-1, 1024, 14, 14]),\n",
       "                           ('trainable', False),\n",
       "                           ('nb_params', 1048576)])),\n",
       "             ('BatchNorm2d-138',\n",
       "              OrderedDict([('input_shape', [-1, 1024, 14, 14]),\n",
       "                           ('output_shape', [-1, 1024, 14, 14]),\n",
       "                           ('trainable', False),\n",
       "                           ('nb_params', 2048)])),\n",
       "             ('ReLU-139',\n",
       "              OrderedDict([('input_shape', [-1, 1024, 14, 14]),\n",
       "                           ('output_shape', [-1, 1024, 14, 14]),\n",
       "                           ('nb_params', 0)])),\n",
       "             ('Conv2d-140',\n",
       "              OrderedDict([('input_shape', [-1, 1024, 14, 14]),\n",
       "                           ('output_shape', [-1, 1024, 14, 14]),\n",
       "                           ('trainable', False),\n",
       "                           ('nb_params', 147456)])),\n",
       "             ('BatchNorm2d-141',\n",
       "              OrderedDict([('input_shape', [-1, 1024, 14, 14]),\n",
       "                           ('output_shape', [-1, 1024, 14, 14]),\n",
       "                           ('trainable', False),\n",
       "                           ('nb_params', 2048)])),\n",
       "             ('ReLU-142',\n",
       "              OrderedDict([('input_shape', [-1, 1024, 14, 14]),\n",
       "                           ('output_shape', [-1, 1024, 14, 14]),\n",
       "                           ('nb_params', 0)])),\n",
       "             ('Conv2d-143',\n",
       "              OrderedDict([('input_shape', [-1, 1024, 14, 14]),\n",
       "                           ('output_shape', [-1, 1024, 14, 14]),\n",
       "                           ('trainable', False),\n",
       "                           ('nb_params', 1048576)])),\n",
       "             ('BatchNorm2d-144',\n",
       "              OrderedDict([('input_shape', [-1, 1024, 14, 14]),\n",
       "                           ('output_shape', [-1, 1024, 14, 14]),\n",
       "                           ('trainable', False),\n",
       "                           ('nb_params', 2048)])),\n",
       "             ('ReLU-145',\n",
       "              OrderedDict([('input_shape', [-1, 1024, 14, 14]),\n",
       "                           ('output_shape', [-1, 1024, 14, 14]),\n",
       "                           ('nb_params', 0)])),\n",
       "             ('Conv2d-146',\n",
       "              OrderedDict([('input_shape', [-1, 1024, 14, 14]),\n",
       "                           ('output_shape', [-1, 1024, 14, 14]),\n",
       "                           ('trainable', False),\n",
       "                           ('nb_params', 1048576)])),\n",
       "             ('BatchNorm2d-147',\n",
       "              OrderedDict([('input_shape', [-1, 1024, 14, 14]),\n",
       "                           ('output_shape', [-1, 1024, 14, 14]),\n",
       "                           ('trainable', False),\n",
       "                           ('nb_params', 2048)])),\n",
       "             ('ReLU-148',\n",
       "              OrderedDict([('input_shape', [-1, 1024, 14, 14]),\n",
       "                           ('output_shape', [-1, 1024, 14, 14]),\n",
       "                           ('nb_params', 0)])),\n",
       "             ('Conv2d-149',\n",
       "              OrderedDict([('input_shape', [-1, 1024, 14, 14]),\n",
       "                           ('output_shape', [-1, 1024, 14, 14]),\n",
       "                           ('trainable', False),\n",
       "                           ('nb_params', 147456)])),\n",
       "             ('BatchNorm2d-150',\n",
       "              OrderedDict([('input_shape', [-1, 1024, 14, 14]),\n",
       "                           ('output_shape', [-1, 1024, 14, 14]),\n",
       "                           ('trainable', False),\n",
       "                           ('nb_params', 2048)])),\n",
       "             ('ReLU-151',\n",
       "              OrderedDict([('input_shape', [-1, 1024, 14, 14]),\n",
       "                           ('output_shape', [-1, 1024, 14, 14]),\n",
       "                           ('nb_params', 0)])),\n",
       "             ('Conv2d-152',\n",
       "              OrderedDict([('input_shape', [-1, 1024, 14, 14]),\n",
       "                           ('output_shape', [-1, 1024, 14, 14]),\n",
       "                           ('trainable', False),\n",
       "                           ('nb_params', 1048576)])),\n",
       "             ('BatchNorm2d-153',\n",
       "              OrderedDict([('input_shape', [-1, 1024, 14, 14]),\n",
       "                           ('output_shape', [-1, 1024, 14, 14]),\n",
       "                           ('trainable', False),\n",
       "                           ('nb_params', 2048)])),\n",
       "             ('ReLU-154',\n",
       "              OrderedDict([('input_shape', [-1, 1024, 14, 14]),\n",
       "                           ('output_shape', [-1, 1024, 14, 14]),\n",
       "                           ('nb_params', 0)])),\n",
       "             ('Conv2d-155',\n",
       "              OrderedDict([('input_shape', [-1, 1024, 14, 14]),\n",
       "                           ('output_shape', [-1, 1024, 14, 14]),\n",
       "                           ('trainable', False),\n",
       "                           ('nb_params', 1048576)])),\n",
       "             ('BatchNorm2d-156',\n",
       "              OrderedDict([('input_shape', [-1, 1024, 14, 14]),\n",
       "                           ('output_shape', [-1, 1024, 14, 14]),\n",
       "                           ('trainable', False),\n",
       "                           ('nb_params', 2048)])),\n",
       "             ('ReLU-157',\n",
       "              OrderedDict([('input_shape', [-1, 1024, 14, 14]),\n",
       "                           ('output_shape', [-1, 1024, 14, 14]),\n",
       "                           ('nb_params', 0)])),\n",
       "             ('Conv2d-158',\n",
       "              OrderedDict([('input_shape', [-1, 1024, 14, 14]),\n",
       "                           ('output_shape', [-1, 1024, 14, 14]),\n",
       "                           ('trainable', False),\n",
       "                           ('nb_params', 147456)])),\n",
       "             ('BatchNorm2d-159',\n",
       "              OrderedDict([('input_shape', [-1, 1024, 14, 14]),\n",
       "                           ('output_shape', [-1, 1024, 14, 14]),\n",
       "                           ('trainable', False),\n",
       "                           ('nb_params', 2048)])),\n",
       "             ('ReLU-160',\n",
       "              OrderedDict([('input_shape', [-1, 1024, 14, 14]),\n",
       "                           ('output_shape', [-1, 1024, 14, 14]),\n",
       "                           ('nb_params', 0)])),\n",
       "             ('Conv2d-161',\n",
       "              OrderedDict([('input_shape', [-1, 1024, 14, 14]),\n",
       "                           ('output_shape', [-1, 1024, 14, 14]),\n",
       "                           ('trainable', False),\n",
       "                           ('nb_params', 1048576)])),\n",
       "             ('BatchNorm2d-162',\n",
       "              OrderedDict([('input_shape', [-1, 1024, 14, 14]),\n",
       "                           ('output_shape', [-1, 1024, 14, 14]),\n",
       "                           ('trainable', False),\n",
       "                           ('nb_params', 2048)])),\n",
       "             ('ReLU-163',\n",
       "              OrderedDict([('input_shape', [-1, 1024, 14, 14]),\n",
       "                           ('output_shape', [-1, 1024, 14, 14]),\n",
       "                           ('nb_params', 0)])),\n",
       "             ('Conv2d-164',\n",
       "              OrderedDict([('input_shape', [-1, 1024, 14, 14]),\n",
       "                           ('output_shape', [-1, 1024, 14, 14]),\n",
       "                           ('trainable', False),\n",
       "                           ('nb_params', 1048576)])),\n",
       "             ('BatchNorm2d-165',\n",
       "              OrderedDict([('input_shape', [-1, 1024, 14, 14]),\n",
       "                           ('output_shape', [-1, 1024, 14, 14]),\n",
       "                           ('trainable', False),\n",
       "                           ('nb_params', 2048)])),\n",
       "             ('ReLU-166',\n",
       "              OrderedDict([('input_shape', [-1, 1024, 14, 14]),\n",
       "                           ('output_shape', [-1, 1024, 14, 14]),\n",
       "                           ('nb_params', 0)])),\n",
       "             ('Conv2d-167',\n",
       "              OrderedDict([('input_shape', [-1, 1024, 14, 14]),\n",
       "                           ('output_shape', [-1, 1024, 14, 14]),\n",
       "                           ('trainable', False),\n",
       "                           ('nb_params', 147456)])),\n",
       "             ('BatchNorm2d-168',\n",
       "              OrderedDict([('input_shape', [-1, 1024, 14, 14]),\n",
       "                           ('output_shape', [-1, 1024, 14, 14]),\n",
       "                           ('trainable', False),\n",
       "                           ('nb_params', 2048)])),\n",
       "             ('ReLU-169',\n",
       "              OrderedDict([('input_shape', [-1, 1024, 14, 14]),\n",
       "                           ('output_shape', [-1, 1024, 14, 14]),\n",
       "                           ('nb_params', 0)])),\n",
       "             ('Conv2d-170',\n",
       "              OrderedDict([('input_shape', [-1, 1024, 14, 14]),\n",
       "                           ('output_shape', [-1, 1024, 14, 14]),\n",
       "                           ('trainable', False),\n",
       "                           ('nb_params', 1048576)])),\n",
       "             ('BatchNorm2d-171',\n",
       "              OrderedDict([('input_shape', [-1, 1024, 14, 14]),\n",
       "                           ('output_shape', [-1, 1024, 14, 14]),\n",
       "                           ('trainable', False),\n",
       "                           ('nb_params', 2048)])),\n",
       "             ('ReLU-172',\n",
       "              OrderedDict([('input_shape', [-1, 1024, 14, 14]),\n",
       "                           ('output_shape', [-1, 1024, 14, 14]),\n",
       "                           ('nb_params', 0)])),\n",
       "             ('Conv2d-173',\n",
       "              OrderedDict([('input_shape', [-1, 1024, 14, 14]),\n",
       "                           ('output_shape', [-1, 1024, 14, 14]),\n",
       "                           ('trainable', False),\n",
       "                           ('nb_params', 1048576)])),\n",
       "             ('BatchNorm2d-174',\n",
       "              OrderedDict([('input_shape', [-1, 1024, 14, 14]),\n",
       "                           ('output_shape', [-1, 1024, 14, 14]),\n",
       "                           ('trainable', False),\n",
       "                           ('nb_params', 2048)])),\n",
       "             ('ReLU-175',\n",
       "              OrderedDict([('input_shape', [-1, 1024, 14, 14]),\n",
       "                           ('output_shape', [-1, 1024, 14, 14]),\n",
       "                           ('nb_params', 0)])),\n",
       "             ('Conv2d-176',\n",
       "              OrderedDict([('input_shape', [-1, 1024, 14, 14]),\n",
       "                           ('output_shape', [-1, 1024, 14, 14]),\n",
       "                           ('trainable', False),\n",
       "                           ('nb_params', 147456)])),\n",
       "             ('BatchNorm2d-177',\n",
       "              OrderedDict([('input_shape', [-1, 1024, 14, 14]),\n",
       "                           ('output_shape', [-1, 1024, 14, 14]),\n",
       "                           ('trainable', False),\n",
       "                           ('nb_params', 2048)])),\n",
       "             ('ReLU-178',\n",
       "              OrderedDict([('input_shape', [-1, 1024, 14, 14]),\n",
       "                           ('output_shape', [-1, 1024, 14, 14]),\n",
       "                           ('nb_params', 0)])),\n",
       "             ('Conv2d-179',\n",
       "              OrderedDict([('input_shape', [-1, 1024, 14, 14]),\n",
       "                           ('output_shape', [-1, 1024, 14, 14]),\n",
       "                           ('trainable', False),\n",
       "                           ('nb_params', 1048576)])),\n",
       "             ('BatchNorm2d-180',\n",
       "              OrderedDict([('input_shape', [-1, 1024, 14, 14]),\n",
       "                           ('output_shape', [-1, 1024, 14, 14]),\n",
       "                           ('trainable', False),\n",
       "                           ('nb_params', 2048)])),\n",
       "             ('ReLU-181',\n",
       "              OrderedDict([('input_shape', [-1, 1024, 14, 14]),\n",
       "                           ('output_shape', [-1, 1024, 14, 14]),\n",
       "                           ('nb_params', 0)])),\n",
       "             ('Conv2d-182',\n",
       "              OrderedDict([('input_shape', [-1, 1024, 14, 14]),\n",
       "                           ('output_shape', [-1, 1024, 14, 14]),\n",
       "                           ('trainable', False),\n",
       "                           ('nb_params', 1048576)])),\n",
       "             ('BatchNorm2d-183',\n",
       "              OrderedDict([('input_shape', [-1, 1024, 14, 14]),\n",
       "                           ('output_shape', [-1, 1024, 14, 14]),\n",
       "                           ('trainable', False),\n",
       "                           ('nb_params', 2048)])),\n",
       "             ('ReLU-184',\n",
       "              OrderedDict([('input_shape', [-1, 1024, 14, 14]),\n",
       "                           ('output_shape', [-1, 1024, 14, 14]),\n",
       "                           ('nb_params', 0)])),\n",
       "             ('Conv2d-185',\n",
       "              OrderedDict([('input_shape', [-1, 1024, 14, 14]),\n",
       "                           ('output_shape', [-1, 1024, 14, 14]),\n",
       "                           ('trainable', False),\n",
       "                           ('nb_params', 147456)])),\n",
       "             ('BatchNorm2d-186',\n",
       "              OrderedDict([('input_shape', [-1, 1024, 14, 14]),\n",
       "                           ('output_shape', [-1, 1024, 14, 14]),\n",
       "                           ('trainable', False),\n",
       "                           ('nb_params', 2048)])),\n",
       "             ('ReLU-187',\n",
       "              OrderedDict([('input_shape', [-1, 1024, 14, 14]),\n",
       "                           ('output_shape', [-1, 1024, 14, 14]),\n",
       "                           ('nb_params', 0)])),\n",
       "             ('Conv2d-188',\n",
       "              OrderedDict([('input_shape', [-1, 1024, 14, 14]),\n",
       "                           ('output_shape', [-1, 1024, 14, 14]),\n",
       "                           ('trainable', False),\n",
       "                           ('nb_params', 1048576)])),\n",
       "             ('BatchNorm2d-189',\n",
       "              OrderedDict([('input_shape', [-1, 1024, 14, 14]),\n",
       "                           ('output_shape', [-1, 1024, 14, 14]),\n",
       "                           ('trainable', False),\n",
       "                           ('nb_params', 2048)])),\n",
       "             ('ReLU-190',\n",
       "              OrderedDict([('input_shape', [-1, 1024, 14, 14]),\n",
       "                           ('output_shape', [-1, 1024, 14, 14]),\n",
       "                           ('nb_params', 0)])),\n",
       "             ('Conv2d-191',\n",
       "              OrderedDict([('input_shape', [-1, 1024, 14, 14]),\n",
       "                           ('output_shape', [-1, 1024, 14, 14]),\n",
       "                           ('trainable', False),\n",
       "                           ('nb_params', 1048576)])),\n",
       "             ('BatchNorm2d-192',\n",
       "              OrderedDict([('input_shape', [-1, 1024, 14, 14]),\n",
       "                           ('output_shape', [-1, 1024, 14, 14]),\n",
       "                           ('trainable', False),\n",
       "                           ('nb_params', 2048)])),\n",
       "             ('ReLU-193',\n",
       "              OrderedDict([('input_shape', [-1, 1024, 14, 14]),\n",
       "                           ('output_shape', [-1, 1024, 14, 14]),\n",
       "                           ('nb_params', 0)])),\n",
       "             ('Conv2d-194',\n",
       "              OrderedDict([('input_shape', [-1, 1024, 14, 14]),\n",
       "                           ('output_shape', [-1, 1024, 14, 14]),\n",
       "                           ('trainable', False),\n",
       "                           ('nb_params', 147456)])),\n",
       "             ('BatchNorm2d-195',\n",
       "              OrderedDict([('input_shape', [-1, 1024, 14, 14]),\n",
       "                           ('output_shape', [-1, 1024, 14, 14]),\n",
       "                           ('trainable', False),\n",
       "                           ('nb_params', 2048)])),\n",
       "             ('ReLU-196',\n",
       "              OrderedDict([('input_shape', [-1, 1024, 14, 14]),\n",
       "                           ('output_shape', [-1, 1024, 14, 14]),\n",
       "                           ('nb_params', 0)])),\n",
       "             ('Conv2d-197',\n",
       "              OrderedDict([('input_shape', [-1, 1024, 14, 14]),\n",
       "                           ('output_shape', [-1, 1024, 14, 14]),\n",
       "                           ('trainable', False),\n",
       "                           ('nb_params', 1048576)])),\n",
       "             ('BatchNorm2d-198',\n",
       "              OrderedDict([('input_shape', [-1, 1024, 14, 14]),\n",
       "                           ('output_shape', [-1, 1024, 14, 14]),\n",
       "                           ('trainable', False),\n",
       "                           ('nb_params', 2048)])),\n",
       "             ('ReLU-199',\n",
       "              OrderedDict([('input_shape', [-1, 1024, 14, 14]),\n",
       "                           ('output_shape', [-1, 1024, 14, 14]),\n",
       "                           ('nb_params', 0)])),\n",
       "             ('Conv2d-200',\n",
       "              OrderedDict([('input_shape', [-1, 1024, 14, 14]),\n",
       "                           ('output_shape', [-1, 1024, 14, 14]),\n",
       "                           ('trainable', False),\n",
       "                           ('nb_params', 1048576)])),\n",
       "             ('BatchNorm2d-201',\n",
       "              OrderedDict([('input_shape', [-1, 1024, 14, 14]),\n",
       "                           ('output_shape', [-1, 1024, 14, 14]),\n",
       "                           ('trainable', False),\n",
       "                           ('nb_params', 2048)])),\n",
       "             ('ReLU-202',\n",
       "              OrderedDict([('input_shape', [-1, 1024, 14, 14]),\n",
       "                           ('output_shape', [-1, 1024, 14, 14]),\n",
       "                           ('nb_params', 0)])),\n",
       "             ('Conv2d-203',\n",
       "              OrderedDict([('input_shape', [-1, 1024, 14, 14]),\n",
       "                           ('output_shape', [-1, 1024, 14, 14]),\n",
       "                           ('trainable', False),\n",
       "                           ('nb_params', 147456)])),\n",
       "             ('BatchNorm2d-204',\n",
       "              OrderedDict([('input_shape', [-1, 1024, 14, 14]),\n",
       "                           ('output_shape', [-1, 1024, 14, 14]),\n",
       "                           ('trainable', False),\n",
       "                           ('nb_params', 2048)])),\n",
       "             ('ReLU-205',\n",
       "              OrderedDict([('input_shape', [-1, 1024, 14, 14]),\n",
       "                           ('output_shape', [-1, 1024, 14, 14]),\n",
       "                           ('nb_params', 0)])),\n",
       "             ('Conv2d-206',\n",
       "              OrderedDict([('input_shape', [-1, 1024, 14, 14]),\n",
       "                           ('output_shape', [-1, 1024, 14, 14]),\n",
       "                           ('trainable', False),\n",
       "                           ('nb_params', 1048576)])),\n",
       "             ('BatchNorm2d-207',\n",
       "              OrderedDict([('input_shape', [-1, 1024, 14, 14]),\n",
       "                           ('output_shape', [-1, 1024, 14, 14]),\n",
       "                           ('trainable', False),\n",
       "                           ('nb_params', 2048)])),\n",
       "             ('ReLU-208',\n",
       "              OrderedDict([('input_shape', [-1, 1024, 14, 14]),\n",
       "                           ('output_shape', [-1, 1024, 14, 14]),\n",
       "                           ('nb_params', 0)])),\n",
       "             ('Conv2d-209',\n",
       "              OrderedDict([('input_shape', [-1, 1024, 14, 14]),\n",
       "                           ('output_shape', [-1, 1024, 14, 14]),\n",
       "                           ('trainable', False),\n",
       "                           ('nb_params', 1048576)])),\n",
       "             ('BatchNorm2d-210',\n",
       "              OrderedDict([('input_shape', [-1, 1024, 14, 14]),\n",
       "                           ('output_shape', [-1, 1024, 14, 14]),\n",
       "                           ('trainable', False),\n",
       "                           ('nb_params', 2048)])),\n",
       "             ('ReLU-211',\n",
       "              OrderedDict([('input_shape', [-1, 1024, 14, 14]),\n",
       "                           ('output_shape', [-1, 1024, 14, 14]),\n",
       "                           ('nb_params', 0)])),\n",
       "             ('Conv2d-212',\n",
       "              OrderedDict([('input_shape', [-1, 1024, 14, 14]),\n",
       "                           ('output_shape', [-1, 1024, 14, 14]),\n",
       "                           ('trainable', False),\n",
       "                           ('nb_params', 147456)])),\n",
       "             ('BatchNorm2d-213',\n",
       "              OrderedDict([('input_shape', [-1, 1024, 14, 14]),\n",
       "                           ('output_shape', [-1, 1024, 14, 14]),\n",
       "                           ('trainable', False),\n",
       "                           ('nb_params', 2048)])),\n",
       "             ('ReLU-214',\n",
       "              OrderedDict([('input_shape', [-1, 1024, 14, 14]),\n",
       "                           ('output_shape', [-1, 1024, 14, 14]),\n",
       "                           ('nb_params', 0)])),\n",
       "             ('Conv2d-215',\n",
       "              OrderedDict([('input_shape', [-1, 1024, 14, 14]),\n",
       "                           ('output_shape', [-1, 1024, 14, 14]),\n",
       "                           ('trainable', False),\n",
       "                           ('nb_params', 1048576)])),\n",
       "             ('BatchNorm2d-216',\n",
       "              OrderedDict([('input_shape', [-1, 1024, 14, 14]),\n",
       "                           ('output_shape', [-1, 1024, 14, 14]),\n",
       "                           ('trainable', False),\n",
       "                           ('nb_params', 2048)])),\n",
       "             ('ReLU-217',\n",
       "              OrderedDict([('input_shape', [-1, 1024, 14, 14]),\n",
       "                           ('output_shape', [-1, 1024, 14, 14]),\n",
       "                           ('nb_params', 0)])),\n",
       "             ('Conv2d-218',\n",
       "              OrderedDict([('input_shape', [-1, 1024, 14, 14]),\n",
       "                           ('output_shape', [-1, 1024, 14, 14]),\n",
       "                           ('trainable', False),\n",
       "                           ('nb_params', 1048576)])),\n",
       "             ('BatchNorm2d-219',\n",
       "              OrderedDict([('input_shape', [-1, 1024, 14, 14]),\n",
       "                           ('output_shape', [-1, 1024, 14, 14]),\n",
       "                           ('trainable', False),\n",
       "                           ('nb_params', 2048)])),\n",
       "             ('ReLU-220',\n",
       "              OrderedDict([('input_shape', [-1, 1024, 14, 14]),\n",
       "                           ('output_shape', [-1, 1024, 14, 14]),\n",
       "                           ('nb_params', 0)])),\n",
       "             ('Conv2d-221',\n",
       "              OrderedDict([('input_shape', [-1, 1024, 14, 14]),\n",
       "                           ('output_shape', [-1, 1024, 14, 14]),\n",
       "                           ('trainable', False),\n",
       "                           ('nb_params', 147456)])),\n",
       "             ('BatchNorm2d-222',\n",
       "              OrderedDict([('input_shape', [-1, 1024, 14, 14]),\n",
       "                           ('output_shape', [-1, 1024, 14, 14]),\n",
       "                           ('trainable', False),\n",
       "                           ('nb_params', 2048)])),\n",
       "             ('ReLU-223',\n",
       "              OrderedDict([('input_shape', [-1, 1024, 14, 14]),\n",
       "                           ('output_shape', [-1, 1024, 14, 14]),\n",
       "                           ('nb_params', 0)])),\n",
       "             ('Conv2d-224',\n",
       "              OrderedDict([('input_shape', [-1, 1024, 14, 14]),\n",
       "                           ('output_shape', [-1, 1024, 14, 14]),\n",
       "                           ('trainable', False),\n",
       "                           ('nb_params', 1048576)])),\n",
       "             ('BatchNorm2d-225',\n",
       "              OrderedDict([('input_shape', [-1, 1024, 14, 14]),\n",
       "                           ('output_shape', [-1, 1024, 14, 14]),\n",
       "                           ('trainable', False),\n",
       "                           ('nb_params', 2048)])),\n",
       "             ('ReLU-226',\n",
       "              OrderedDict([('input_shape', [-1, 1024, 14, 14]),\n",
       "                           ('output_shape', [-1, 1024, 14, 14]),\n",
       "                           ('nb_params', 0)])),\n",
       "             ('Conv2d-227',\n",
       "              OrderedDict([('input_shape', [-1, 1024, 14, 14]),\n",
       "                           ('output_shape', [-1, 1024, 14, 14]),\n",
       "                           ('trainable', False),\n",
       "                           ('nb_params', 1048576)])),\n",
       "             ('BatchNorm2d-228',\n",
       "              OrderedDict([('input_shape', [-1, 1024, 14, 14]),\n",
       "                           ('output_shape', [-1, 1024, 14, 14]),\n",
       "                           ('trainable', False),\n",
       "                           ('nb_params', 2048)])),\n",
       "             ('ReLU-229',\n",
       "              OrderedDict([('input_shape', [-1, 1024, 14, 14]),\n",
       "                           ('output_shape', [-1, 1024, 14, 14]),\n",
       "                           ('nb_params', 0)])),\n",
       "             ('Conv2d-230',\n",
       "              OrderedDict([('input_shape', [-1, 1024, 14, 14]),\n",
       "                           ('output_shape', [-1, 1024, 14, 14]),\n",
       "                           ('trainable', False),\n",
       "                           ('nb_params', 147456)])),\n",
       "             ('BatchNorm2d-231',\n",
       "              OrderedDict([('input_shape', [-1, 1024, 14, 14]),\n",
       "                           ('output_shape', [-1, 1024, 14, 14]),\n",
       "                           ('trainable', False),\n",
       "                           ('nb_params', 2048)])),\n",
       "             ('ReLU-232',\n",
       "              OrderedDict([('input_shape', [-1, 1024, 14, 14]),\n",
       "                           ('output_shape', [-1, 1024, 14, 14]),\n",
       "                           ('nb_params', 0)])),\n",
       "             ('Conv2d-233',\n",
       "              OrderedDict([('input_shape', [-1, 1024, 14, 14]),\n",
       "                           ('output_shape', [-1, 1024, 14, 14]),\n",
       "                           ('trainable', False),\n",
       "                           ('nb_params', 1048576)])),\n",
       "             ('BatchNorm2d-234',\n",
       "              OrderedDict([('input_shape', [-1, 1024, 14, 14]),\n",
       "                           ('output_shape', [-1, 1024, 14, 14]),\n",
       "                           ('trainable', False),\n",
       "                           ('nb_params', 2048)])),\n",
       "             ('ReLU-235',\n",
       "              OrderedDict([('input_shape', [-1, 1024, 14, 14]),\n",
       "                           ('output_shape', [-1, 1024, 14, 14]),\n",
       "                           ('nb_params', 0)])),\n",
       "             ('Conv2d-236',\n",
       "              OrderedDict([('input_shape', [-1, 1024, 14, 14]),\n",
       "                           ('output_shape', [-1, 1024, 14, 14]),\n",
       "                           ('trainable', False),\n",
       "                           ('nb_params', 1048576)])),\n",
       "             ('BatchNorm2d-237',\n",
       "              OrderedDict([('input_shape', [-1, 1024, 14, 14]),\n",
       "                           ('output_shape', [-1, 1024, 14, 14]),\n",
       "                           ('trainable', False),\n",
       "                           ('nb_params', 2048)])),\n",
       "             ('ReLU-238',\n",
       "              OrderedDict([('input_shape', [-1, 1024, 14, 14]),\n",
       "                           ('output_shape', [-1, 1024, 14, 14]),\n",
       "                           ('nb_params', 0)])),\n",
       "             ('Conv2d-239',\n",
       "              OrderedDict([('input_shape', [-1, 1024, 14, 14]),\n",
       "                           ('output_shape', [-1, 1024, 14, 14]),\n",
       "                           ('trainable', False),\n",
       "                           ('nb_params', 147456)])),\n",
       "             ('BatchNorm2d-240',\n",
       "              OrderedDict([('input_shape', [-1, 1024, 14, 14]),\n",
       "                           ('output_shape', [-1, 1024, 14, 14]),\n",
       "                           ('trainable', False),\n",
       "                           ('nb_params', 2048)])),\n",
       "             ('ReLU-241',\n",
       "              OrderedDict([('input_shape', [-1, 1024, 14, 14]),\n",
       "                           ('output_shape', [-1, 1024, 14, 14]),\n",
       "                           ('nb_params', 0)])),\n",
       "             ('Conv2d-242',\n",
       "              OrderedDict([('input_shape', [-1, 1024, 14, 14]),\n",
       "                           ('output_shape', [-1, 1024, 14, 14]),\n",
       "                           ('trainable', False),\n",
       "                           ('nb_params', 1048576)])),\n",
       "             ('BatchNorm2d-243',\n",
       "              OrderedDict([('input_shape', [-1, 1024, 14, 14]),\n",
       "                           ('output_shape', [-1, 1024, 14, 14]),\n",
       "                           ('trainable', False),\n",
       "                           ('nb_params', 2048)])),\n",
       "             ('ReLU-244',\n",
       "              OrderedDict([('input_shape', [-1, 1024, 14, 14]),\n",
       "                           ('output_shape', [-1, 1024, 14, 14]),\n",
       "                           ('nb_params', 0)])),\n",
       "             ('Conv2d-245',\n",
       "              OrderedDict([('input_shape', [-1, 1024, 14, 14]),\n",
       "                           ('output_shape', [-1, 1024, 14, 14]),\n",
       "                           ('trainable', False),\n",
       "                           ('nb_params', 1048576)])),\n",
       "             ('BatchNorm2d-246',\n",
       "              OrderedDict([('input_shape', [-1, 1024, 14, 14]),\n",
       "                           ('output_shape', [-1, 1024, 14, 14]),\n",
       "                           ('trainable', False),\n",
       "                           ('nb_params', 2048)])),\n",
       "             ('ReLU-247',\n",
       "              OrderedDict([('input_shape', [-1, 1024, 14, 14]),\n",
       "                           ('output_shape', [-1, 1024, 14, 14]),\n",
       "                           ('nb_params', 0)])),\n",
       "             ('Conv2d-248',\n",
       "              OrderedDict([('input_shape', [-1, 1024, 14, 14]),\n",
       "                           ('output_shape', [-1, 1024, 14, 14]),\n",
       "                           ('trainable', False),\n",
       "                           ('nb_params', 147456)])),\n",
       "             ('BatchNorm2d-249',\n",
       "              OrderedDict([('input_shape', [-1, 1024, 14, 14]),\n",
       "                           ('output_shape', [-1, 1024, 14, 14]),\n",
       "                           ('trainable', False),\n",
       "                           ('nb_params', 2048)])),\n",
       "             ('ReLU-250',\n",
       "              OrderedDict([('input_shape', [-1, 1024, 14, 14]),\n",
       "                           ('output_shape', [-1, 1024, 14, 14]),\n",
       "                           ('nb_params', 0)])),\n",
       "             ('Conv2d-251',\n",
       "              OrderedDict([('input_shape', [-1, 1024, 14, 14]),\n",
       "                           ('output_shape', [-1, 1024, 14, 14]),\n",
       "                           ('trainable', False),\n",
       "                           ('nb_params', 1048576)])),\n",
       "             ('BatchNorm2d-252',\n",
       "              OrderedDict([('input_shape', [-1, 1024, 14, 14]),\n",
       "                           ('output_shape', [-1, 1024, 14, 14]),\n",
       "                           ('trainable', False),\n",
       "                           ('nb_params', 2048)])),\n",
       "             ('ReLU-253',\n",
       "              OrderedDict([('input_shape', [-1, 1024, 14, 14]),\n",
       "                           ('output_shape', [-1, 1024, 14, 14]),\n",
       "                           ('nb_params', 0)])),\n",
       "             ('Conv2d-254',\n",
       "              OrderedDict([('input_shape', [-1, 1024, 14, 14]),\n",
       "                           ('output_shape', [-1, 1024, 14, 14]),\n",
       "                           ('trainable', False),\n",
       "                           ('nb_params', 1048576)])),\n",
       "             ('BatchNorm2d-255',\n",
       "              OrderedDict([('input_shape', [-1, 1024, 14, 14]),\n",
       "                           ('output_shape', [-1, 1024, 14, 14]),\n",
       "                           ('trainable', False),\n",
       "                           ('nb_params', 2048)])),\n",
       "             ('ReLU-256',\n",
       "              OrderedDict([('input_shape', [-1, 1024, 14, 14]),\n",
       "                           ('output_shape', [-1, 1024, 14, 14]),\n",
       "                           ('nb_params', 0)])),\n",
       "             ('Conv2d-257',\n",
       "              OrderedDict([('input_shape', [-1, 1024, 14, 14]),\n",
       "                           ('output_shape', [-1, 1024, 14, 14]),\n",
       "                           ('trainable', False),\n",
       "                           ('nb_params', 147456)])),\n",
       "             ('BatchNorm2d-258',\n",
       "              OrderedDict([('input_shape', [-1, 1024, 14, 14]),\n",
       "                           ('output_shape', [-1, 1024, 14, 14]),\n",
       "                           ('trainable', False),\n",
       "                           ('nb_params', 2048)])),\n",
       "             ('ReLU-259',\n",
       "              OrderedDict([('input_shape', [-1, 1024, 14, 14]),\n",
       "                           ('output_shape', [-1, 1024, 14, 14]),\n",
       "                           ('nb_params', 0)])),\n",
       "             ('Conv2d-260',\n",
       "              OrderedDict([('input_shape', [-1, 1024, 14, 14]),\n",
       "                           ('output_shape', [-1, 1024, 14, 14]),\n",
       "                           ('trainable', False),\n",
       "                           ('nb_params', 1048576)])),\n",
       "             ('BatchNorm2d-261',\n",
       "              OrderedDict([('input_shape', [-1, 1024, 14, 14]),\n",
       "                           ('output_shape', [-1, 1024, 14, 14]),\n",
       "                           ('trainable', False),\n",
       "                           ('nb_params', 2048)])),\n",
       "             ('ReLU-262',\n",
       "              OrderedDict([('input_shape', [-1, 1024, 14, 14]),\n",
       "                           ('output_shape', [-1, 1024, 14, 14]),\n",
       "                           ('nb_params', 0)])),\n",
       "             ('Conv2d-263',\n",
       "              OrderedDict([('input_shape', [-1, 1024, 14, 14]),\n",
       "                           ('output_shape', [-1, 1024, 14, 14]),\n",
       "                           ('trainable', False),\n",
       "                           ('nb_params', 1048576)])),\n",
       "             ('BatchNorm2d-264',\n",
       "              OrderedDict([('input_shape', [-1, 1024, 14, 14]),\n",
       "                           ('output_shape', [-1, 1024, 14, 14]),\n",
       "                           ('trainable', False),\n",
       "                           ('nb_params', 2048)])),\n",
       "             ('ReLU-265',\n",
       "              OrderedDict([('input_shape', [-1, 1024, 14, 14]),\n",
       "                           ('output_shape', [-1, 1024, 14, 14]),\n",
       "                           ('nb_params', 0)])),\n",
       "             ('Conv2d-266',\n",
       "              OrderedDict([('input_shape', [-1, 1024, 14, 14]),\n",
       "                           ('output_shape', [-1, 1024, 14, 14]),\n",
       "                           ('trainable', False),\n",
       "                           ('nb_params', 147456)])),\n",
       "             ('BatchNorm2d-267',\n",
       "              OrderedDict([('input_shape', [-1, 1024, 14, 14]),\n",
       "                           ('output_shape', [-1, 1024, 14, 14]),\n",
       "                           ('trainable', False),\n",
       "                           ('nb_params', 2048)])),\n",
       "             ('ReLU-268',\n",
       "              OrderedDict([('input_shape', [-1, 1024, 14, 14]),\n",
       "                           ('output_shape', [-1, 1024, 14, 14]),\n",
       "                           ('nb_params', 0)])),\n",
       "             ('Conv2d-269',\n",
       "              OrderedDict([('input_shape', [-1, 1024, 14, 14]),\n",
       "                           ('output_shape', [-1, 1024, 14, 14]),\n",
       "                           ('trainable', False),\n",
       "                           ('nb_params', 1048576)])),\n",
       "             ('BatchNorm2d-270',\n",
       "              OrderedDict([('input_shape', [-1, 1024, 14, 14]),\n",
       "                           ('output_shape', [-1, 1024, 14, 14]),\n",
       "                           ('trainable', False),\n",
       "                           ('nb_params', 2048)])),\n",
       "             ('ReLU-271',\n",
       "              OrderedDict([('input_shape', [-1, 1024, 14, 14]),\n",
       "                           ('output_shape', [-1, 1024, 14, 14]),\n",
       "                           ('nb_params', 0)])),\n",
       "             ('Conv2d-272',\n",
       "              OrderedDict([('input_shape', [-1, 1024, 14, 14]),\n",
       "                           ('output_shape', [-1, 1024, 14, 14]),\n",
       "                           ('trainable', False),\n",
       "                           ('nb_params', 1048576)])),\n",
       "             ('BatchNorm2d-273',\n",
       "              OrderedDict([('input_shape', [-1, 1024, 14, 14]),\n",
       "                           ('output_shape', [-1, 1024, 14, 14]),\n",
       "                           ('trainable', False),\n",
       "                           ('nb_params', 2048)])),\n",
       "             ('ReLU-274',\n",
       "              OrderedDict([('input_shape', [-1, 1024, 14, 14]),\n",
       "                           ('output_shape', [-1, 1024, 14, 14]),\n",
       "                           ('nb_params', 0)])),\n",
       "             ('Conv2d-275',\n",
       "              OrderedDict([('input_shape', [-1, 1024, 14, 14]),\n",
       "                           ('output_shape', [-1, 1024, 14, 14]),\n",
       "                           ('trainable', False),\n",
       "                           ('nb_params', 147456)])),\n",
       "             ('BatchNorm2d-276',\n",
       "              OrderedDict([('input_shape', [-1, 1024, 14, 14]),\n",
       "                           ('output_shape', [-1, 1024, 14, 14]),\n",
       "                           ('trainable', False),\n",
       "                           ('nb_params', 2048)])),\n",
       "             ('ReLU-277',\n",
       "              OrderedDict([('input_shape', [-1, 1024, 14, 14]),\n",
       "                           ('output_shape', [-1, 1024, 14, 14]),\n",
       "                           ('nb_params', 0)])),\n",
       "             ('Conv2d-278',\n",
       "              OrderedDict([('input_shape', [-1, 1024, 14, 14]),\n",
       "                           ('output_shape', [-1, 1024, 14, 14]),\n",
       "                           ('trainable', False),\n",
       "                           ('nb_params', 1048576)])),\n",
       "             ('BatchNorm2d-279',\n",
       "              OrderedDict([('input_shape', [-1, 1024, 14, 14]),\n",
       "                           ('output_shape', [-1, 1024, 14, 14]),\n",
       "                           ('trainable', False),\n",
       "                           ('nb_params', 2048)])),\n",
       "             ('ReLU-280',\n",
       "              OrderedDict([('input_shape', [-1, 1024, 14, 14]),\n",
       "                           ('output_shape', [-1, 1024, 14, 14]),\n",
       "                           ('nb_params', 0)])),\n",
       "             ('Conv2d-281',\n",
       "              OrderedDict([('input_shape', [-1, 1024, 14, 14]),\n",
       "                           ('output_shape', [-1, 2048, 14, 14]),\n",
       "                           ('trainable', False),\n",
       "                           ('nb_params', 2097152)])),\n",
       "             ('BatchNorm2d-282',\n",
       "              OrderedDict([('input_shape', [-1, 2048, 14, 14]),\n",
       "                           ('output_shape', [-1, 2048, 14, 14]),\n",
       "                           ('trainable', False),\n",
       "                           ('nb_params', 4096)])),\n",
       "             ('ReLU-283',\n",
       "              OrderedDict([('input_shape', [-1, 2048, 14, 14]),\n",
       "                           ('output_shape', [-1, 2048, 14, 14]),\n",
       "                           ('nb_params', 0)])),\n",
       "             ('Conv2d-284',\n",
       "              OrderedDict([('input_shape', [-1, 2048, 14, 14]),\n",
       "                           ('output_shape', [-1, 2048, 7, 7]),\n",
       "                           ('trainable', False),\n",
       "                           ('nb_params', 589824)])),\n",
       "             ('BatchNorm2d-285',\n",
       "              OrderedDict([('input_shape', [-1, 2048, 7, 7]),\n",
       "                           ('output_shape', [-1, 2048, 7, 7]),\n",
       "                           ('trainable', False),\n",
       "                           ('nb_params', 4096)])),\n",
       "             ('ReLU-286',\n",
       "              OrderedDict([('input_shape', [-1, 2048, 7, 7]),\n",
       "                           ('output_shape', [-1, 2048, 7, 7]),\n",
       "                           ('nb_params', 0)])),\n",
       "             ('Conv2d-287',\n",
       "              OrderedDict([('input_shape', [-1, 2048, 7, 7]),\n",
       "                           ('output_shape', [-1, 2048, 7, 7]),\n",
       "                           ('trainable', False),\n",
       "                           ('nb_params', 4194304)])),\n",
       "             ('BatchNorm2d-288',\n",
       "              OrderedDict([('input_shape', [-1, 2048, 7, 7]),\n",
       "                           ('output_shape', [-1, 2048, 7, 7]),\n",
       "                           ('trainable', False),\n",
       "                           ('nb_params', 4096)])),\n",
       "             ('Conv2d-289',\n",
       "              OrderedDict([('input_shape', [-1, 1024, 14, 14]),\n",
       "                           ('output_shape', [-1, 2048, 7, 7]),\n",
       "                           ('trainable', False),\n",
       "                           ('nb_params', 2097152)])),\n",
       "             ('BatchNorm2d-290',\n",
       "              OrderedDict([('input_shape', [-1, 2048, 7, 7]),\n",
       "                           ('output_shape', [-1, 2048, 7, 7]),\n",
       "                           ('trainable', False),\n",
       "                           ('nb_params', 4096)])),\n",
       "             ('ReLU-291',\n",
       "              OrderedDict([('input_shape', [-1, 2048, 7, 7]),\n",
       "                           ('output_shape', [-1, 2048, 7, 7]),\n",
       "                           ('nb_params', 0)])),\n",
       "             ('Conv2d-292',\n",
       "              OrderedDict([('input_shape', [-1, 2048, 7, 7]),\n",
       "                           ('output_shape', [-1, 2048, 7, 7]),\n",
       "                           ('trainable', False),\n",
       "                           ('nb_params', 4194304)])),\n",
       "             ('BatchNorm2d-293',\n",
       "              OrderedDict([('input_shape', [-1, 2048, 7, 7]),\n",
       "                           ('output_shape', [-1, 2048, 7, 7]),\n",
       "                           ('trainable', False),\n",
       "                           ('nb_params', 4096)])),\n",
       "             ('ReLU-294',\n",
       "              OrderedDict([('input_shape', [-1, 2048, 7, 7]),\n",
       "                           ('output_shape', [-1, 2048, 7, 7]),\n",
       "                           ('nb_params', 0)])),\n",
       "             ('Conv2d-295',\n",
       "              OrderedDict([('input_shape', [-1, 2048, 7, 7]),\n",
       "                           ('output_shape', [-1, 2048, 7, 7]),\n",
       "                           ('trainable', False),\n",
       "                           ('nb_params', 589824)])),\n",
       "             ('BatchNorm2d-296',\n",
       "              OrderedDict([('input_shape', [-1, 2048, 7, 7]),\n",
       "                           ('output_shape', [-1, 2048, 7, 7]),\n",
       "                           ('trainable', False),\n",
       "                           ('nb_params', 4096)])),\n",
       "             ('ReLU-297',\n",
       "              OrderedDict([('input_shape', [-1, 2048, 7, 7]),\n",
       "                           ('output_shape', [-1, 2048, 7, 7]),\n",
       "                           ('nb_params', 0)])),\n",
       "             ('Conv2d-298',\n",
       "              OrderedDict([('input_shape', [-1, 2048, 7, 7]),\n",
       "                           ('output_shape', [-1, 2048, 7, 7]),\n",
       "                           ('trainable', False),\n",
       "                           ('nb_params', 4194304)])),\n",
       "             ('BatchNorm2d-299',\n",
       "              OrderedDict([('input_shape', [-1, 2048, 7, 7]),\n",
       "                           ('output_shape', [-1, 2048, 7, 7]),\n",
       "                           ('trainable', False),\n",
       "                           ('nb_params', 4096)])),\n",
       "             ('ReLU-300',\n",
       "              OrderedDict([('input_shape', [-1, 2048, 7, 7]),\n",
       "                           ('output_shape', [-1, 2048, 7, 7]),\n",
       "                           ('nb_params', 0)])),\n",
       "             ('Conv2d-301',\n",
       "              OrderedDict([('input_shape', [-1, 2048, 7, 7]),\n",
       "                           ('output_shape', [-1, 2048, 7, 7]),\n",
       "                           ('trainable', False),\n",
       "                           ('nb_params', 4194304)])),\n",
       "             ('BatchNorm2d-302',\n",
       "              OrderedDict([('input_shape', [-1, 2048, 7, 7]),\n",
       "                           ('output_shape', [-1, 2048, 7, 7]),\n",
       "                           ('trainable', False),\n",
       "                           ('nb_params', 4096)])),\n",
       "             ('ReLU-303',\n",
       "              OrderedDict([('input_shape', [-1, 2048, 7, 7]),\n",
       "                           ('output_shape', [-1, 2048, 7, 7]),\n",
       "                           ('nb_params', 0)])),\n",
       "             ('Conv2d-304',\n",
       "              OrderedDict([('input_shape', [-1, 2048, 7, 7]),\n",
       "                           ('output_shape', [-1, 2048, 7, 7]),\n",
       "                           ('trainable', False),\n",
       "                           ('nb_params', 589824)])),\n",
       "             ('BatchNorm2d-305',\n",
       "              OrderedDict([('input_shape', [-1, 2048, 7, 7]),\n",
       "                           ('output_shape', [-1, 2048, 7, 7]),\n",
       "                           ('trainable', False),\n",
       "                           ('nb_params', 4096)])),\n",
       "             ('ReLU-306',\n",
       "              OrderedDict([('input_shape', [-1, 2048, 7, 7]),\n",
       "                           ('output_shape', [-1, 2048, 7, 7]),\n",
       "                           ('nb_params', 0)])),\n",
       "             ('Conv2d-307',\n",
       "              OrderedDict([('input_shape', [-1, 2048, 7, 7]),\n",
       "                           ('output_shape', [-1, 2048, 7, 7]),\n",
       "                           ('trainable', False),\n",
       "                           ('nb_params', 4194304)])),\n",
       "             ('BatchNorm2d-308',\n",
       "              OrderedDict([('input_shape', [-1, 2048, 7, 7]),\n",
       "                           ('output_shape', [-1, 2048, 7, 7]),\n",
       "                           ('trainable', False),\n",
       "                           ('nb_params', 4096)])),\n",
       "             ('ReLU-309',\n",
       "              OrderedDict([('input_shape', [-1, 2048, 7, 7]),\n",
       "                           ('output_shape', [-1, 2048, 7, 7]),\n",
       "                           ('nb_params', 0)])),\n",
       "             ('AdaptiveMaxPool2d-310',\n",
       "              OrderedDict([('input_shape', [-1, 2048, 7, 7]),\n",
       "                           ('output_shape', [-1, 2048, 1, 1]),\n",
       "                           ('nb_params', 0)])),\n",
       "             ('AdaptiveAvgPool2d-311',\n",
       "              OrderedDict([('input_shape', [-1, 2048, 7, 7]),\n",
       "                           ('output_shape', [-1, 2048, 1, 1]),\n",
       "                           ('nb_params', 0)])),\n",
       "             ('AdaptiveConcatPool2d-312',\n",
       "              OrderedDict([('input_shape', [-1, 2048, 7, 7]),\n",
       "                           ('output_shape', [-1, 4096, 1, 1]),\n",
       "                           ('nb_params', 0)])),\n",
       "             ('Flatten-313',\n",
       "              OrderedDict([('input_shape', [-1, 4096, 1, 1]),\n",
       "                           ('output_shape', [-1, 4096]),\n",
       "                           ('nb_params', 0)])),\n",
       "             ('BatchNorm1d-314',\n",
       "              OrderedDict([('input_shape', [-1, 4096]),\n",
       "                           ('output_shape', [-1, 4096]),\n",
       "                           ('trainable', True),\n",
       "                           ('nb_params', 8192)])),\n",
       "             ('Dropout-315',\n",
       "              OrderedDict([('input_shape', [-1, 4096]),\n",
       "                           ('output_shape', [-1, 4096]),\n",
       "                           ('nb_params', 0)])),\n",
       "             ('Linear-316',\n",
       "              OrderedDict([('input_shape', [-1, 4096]),\n",
       "                           ('output_shape', [-1, 512]),\n",
       "                           ('trainable', True),\n",
       "                           ('nb_params', 2097664)])),\n",
       "             ('ReLU-317',\n",
       "              OrderedDict([('input_shape', [-1, 512]),\n",
       "                           ('output_shape', [-1, 512]),\n",
       "                           ('nb_params', 0)])),\n",
       "             ('BatchNorm1d-318',\n",
       "              OrderedDict([('input_shape', [-1, 512]),\n",
       "                           ('output_shape', [-1, 512]),\n",
       "                           ('trainable', True),\n",
       "                           ('nb_params', 1024)])),\n",
       "             ('Dropout-319',\n",
       "              OrderedDict([('input_shape', [-1, 512]),\n",
       "                           ('output_shape', [-1, 512]),\n",
       "                           ('nb_params', 0)])),\n",
       "             ('Linear-320',\n",
       "              OrderedDict([('input_shape', [-1, 512]),\n",
       "                           ('output_shape', [-1, 120]),\n",
       "                           ('trainable', True),\n",
       "                           ('nb_params', 61560)])),\n",
       "             ('LogSoftmax-321',\n",
       "              OrderedDict([('input_shape', [-1, 120]),\n",
       "                           ('output_shape', [-1, 120]),\n",
       "                           ('nb_params', 0)]))])"
      ]
     },
     "execution_count": 38,
     "metadata": {},
     "output_type": "execute_result"
    }
   ],
   "source": [
    "learn.summary()"
   ]
  },
  {
   "cell_type": "code",
   "execution_count": 39,
   "metadata": {},
   "outputs": [
    {
     "data": {
      "application/vnd.jupyter.widget-view+json": {
       "model_id": "c8ef187b9a1249018de7378cee824894",
       "version_major": 2,
       "version_minor": 0
      },
      "text/html": [
       "<p>Failed to display Jupyter Widget of type <code>HBox</code>.</p>\n",
       "<p>\n",
       "  If you're reading this message in the Jupyter Notebook or JupyterLab Notebook, it may mean\n",
       "  that the widgets JavaScript is still loading. If this message persists, it\n",
       "  likely means that the widgets JavaScript library is either not installed or\n",
       "  not enabled. See the <a href=\"https://ipywidgets.readthedocs.io/en/stable/user_install.html\">Jupyter\n",
       "  Widgets Documentation</a> for setup instructions.\n",
       "</p>\n",
       "<p>\n",
       "  If you're reading this message in another frontend (for example, a static\n",
       "  rendering on GitHub or <a href=\"https://nbviewer.jupyter.org/\">NBViewer</a>),\n",
       "  it may mean that your frontend doesn't currently support widgets.\n",
       "</p>\n"
      ],
      "text/plain": [
       "HBox(children=(IntProgress(value=0, description='Epoch', max=3), HTML(value='')))"
      ]
     },
     "metadata": {},
     "output_type": "display_data"
    },
    {
     "name": "stdout",
     "output_type": "stream",
     "text": [
      "epoch      trn_loss   val_loss   accuracy                    \n",
      "    0      0.306527   0.234837   0.927203  \n",
      "    1      0.296566   0.232511   0.925766                    \n",
      "    2      0.273987   0.228817   0.930556                    \n",
      "\n"
     ]
    },
    {
     "data": {
      "text/plain": [
       "[0.22881675, 0.9305555621782938]"
      ]
     },
     "execution_count": 39,
     "metadata": {},
     "output_type": "execute_result"
    }
   ],
   "source": [
    "learn.fit(1e-2, 3, cycle_len=1)"
   ]
  },
  {
   "cell_type": "markdown",
   "metadata": {},
   "source": [
    "Validation loss is much lower than training loss. This is a sign of underfitting. Cycle_len=1 may be too short. Let's set cycle_mult=2 to find better parameter."
   ]
  },
  {
   "cell_type": "code",
   "execution_count": 40,
   "metadata": {},
   "outputs": [
    {
     "data": {
      "application/vnd.jupyter.widget-view+json": {
       "model_id": "201ae86e437e4b5390782e9df272326d",
       "version_major": 2,
       "version_minor": 0
      },
      "text/html": [
       "<p>Failed to display Jupyter Widget of type <code>HBox</code>.</p>\n",
       "<p>\n",
       "  If you're reading this message in the Jupyter Notebook or JupyterLab Notebook, it may mean\n",
       "  that the widgets JavaScript is still loading. If this message persists, it\n",
       "  likely means that the widgets JavaScript library is either not installed or\n",
       "  not enabled. See the <a href=\"https://ipywidgets.readthedocs.io/en/stable/user_install.html\">Jupyter\n",
       "  Widgets Documentation</a> for setup instructions.\n",
       "</p>\n",
       "<p>\n",
       "  If you're reading this message in another frontend (for example, a static\n",
       "  rendering on GitHub or <a href=\"https://nbviewer.jupyter.org/\">NBViewer</a>),\n",
       "  it may mean that your frontend doesn't currently support widgets.\n",
       "</p>\n"
      ],
      "text/plain": [
       "HBox(children=(IntProgress(value=0, description='Epoch', max=7), HTML(value='')))"
      ]
     },
     "metadata": {},
     "output_type": "display_data"
    },
    {
     "name": "stdout",
     "output_type": "stream",
     "text": [
      "epoch      trn_loss   val_loss   accuracy                    \n",
      "    0      0.261201   0.229759   0.926724  \n",
      "    1      0.258334   0.220122   0.926245                    \n",
      "    2      0.245712   0.217593   0.931034                    \n",
      "    3      0.247839   0.220838   0.933908                    \n",
      "    4      0.215104   0.21559    0.931513                    \n",
      "    5      0.20874    0.210346   0.936782                    \n",
      "    6      0.198487   0.210754   0.933908                    \n",
      "\n"
     ]
    },
    {
     "data": {
      "text/plain": [
       "[0.21075392, 0.9339080469475852]"
      ]
     },
     "execution_count": 40,
     "metadata": {},
     "output_type": "execute_result"
    }
   ],
   "source": [
    "# When you are under fitting, it means cycle_len=1 is too short (learning rate is getting reset before it had the chance to zoom in properly).\n",
    "learn.fit(1e-2, 3, cycle_len=1, cycle_mult=2) # 1+2+4 = 7 epochs"
   ]
  },
  {
   "cell_type": "markdown",
   "metadata": {},
   "source": [
    "Training loss and validation loss are getting closer and smaller. We are on right track."
   ]
  },
  {
   "cell_type": "code",
   "execution_count": 41,
   "metadata": {
    "scrolled": true
   },
   "outputs": [
    {
     "name": "stdout",
     "output_type": "stream",
     "text": [
      "                                             \r"
     ]
    },
    {
     "data": {
      "text/plain": [
       "(0.9315068493150684, 0.22091166726867872)"
      ]
     },
     "execution_count": 41,
     "metadata": {},
     "output_type": "execute_result"
    }
   ],
   "source": [
    "log_preds, y = learn.TTA() # (5, 2044, 120), (2044,)\n",
    "# http://forums.fast.ai/t/wiki-lesson-2/9399/41\n",
    "#probs = np.exp(log_preds) # This does not work. This causes AttributeError: 'bool' object has no attribute 'mean' on accuracy()\n",
    "probs = np.mean(np.exp(log_preds),0)\n",
    "#accuracy(probs, y), metrics.log_loss(y, probs) # This does not work since accuracy() has changed.\n",
    "accuracy_np(probs, y), metrics.log_loss(y, probs)"
   ]
  },
  {
   "cell_type": "code",
   "execution_count": 42,
   "metadata": {},
   "outputs": [
    {
     "data": {
      "text/plain": [
       "(2044, array([19, 15,  7, 99, 73]))"
      ]
     },
     "execution_count": 42,
     "metadata": {},
     "output_type": "execute_result"
    }
   ],
   "source": [
    "len(data.val_ds.y), data.val_ds.y[:5]"
   ]
  },
  {
   "cell_type": "code",
   "execution_count": 43,
   "metadata": {},
   "outputs": [],
   "source": [
    "learn.save('299_pre')"
   ]
  },
  {
   "cell_type": "code",
   "execution_count": null,
   "metadata": {},
   "outputs": [],
   "source": [
    "learn.load('299_pre')"
   ]
  },
  {
   "cell_type": "code",
   "execution_count": 44,
   "metadata": {
    "scrolled": true
   },
   "outputs": [
    {
     "data": {
      "application/vnd.jupyter.widget-view+json": {
       "model_id": "def3b0d0275c454e95c5c2952fc9d017",
       "version_major": 2,
       "version_minor": 0
      },
      "text/html": [
       "<p>Failed to display Jupyter Widget of type <code>HBox</code>.</p>\n",
       "<p>\n",
       "  If you're reading this message in the Jupyter Notebook or JupyterLab Notebook, it may mean\n",
       "  that the widgets JavaScript is still loading. If this message persists, it\n",
       "  likely means that the widgets JavaScript library is either not installed or\n",
       "  not enabled. See the <a href=\"https://ipywidgets.readthedocs.io/en/stable/user_install.html\">Jupyter\n",
       "  Widgets Documentation</a> for setup instructions.\n",
       "</p>\n",
       "<p>\n",
       "  If you're reading this message in another frontend (for example, a static\n",
       "  rendering on GitHub or <a href=\"https://nbviewer.jupyter.org/\">NBViewer</a>),\n",
       "  it may mean that your frontend doesn't currently support widgets.\n",
       "</p>\n"
      ],
      "text/plain": [
       "HBox(children=(IntProgress(value=0, description='Epoch', max=2), HTML(value='')))"
      ]
     },
     "metadata": {},
     "output_type": "display_data"
    },
    {
     "name": "stdout",
     "output_type": "stream",
     "text": [
      "epoch      trn_loss   val_loss   accuracy                    \n",
      "    0      0.201131   0.211465   0.933908  \n",
      "    1      0.196877   0.212951   0.931513                    \n",
      "\n"
     ]
    },
    {
     "data": {
      "text/plain": [
       "[0.21295144, 0.9315134088198344]"
      ]
     },
     "execution_count": 44,
     "metadata": {},
     "output_type": "execute_result"
    }
   ],
   "source": [
    "learn.fit(1e-2, 1, cycle_len=2) # 1+1 = 2 epochs"
   ]
  },
  {
   "cell_type": "code",
   "execution_count": 45,
   "metadata": {},
   "outputs": [],
   "source": [
    "learn.save('299_pre')"
   ]
  },
  {
   "cell_type": "code",
   "execution_count": 46,
   "metadata": {},
   "outputs": [
    {
     "name": "stdout",
     "output_type": "stream",
     "text": [
      "                                             \r"
     ]
    },
    {
     "data": {
      "text/plain": [
       "(0.9324853228962818, 0.2263276811552095)"
      ]
     },
     "execution_count": 46,
     "metadata": {},
     "output_type": "execute_result"
    }
   ],
   "source": [
    "log_preds, y = learn.TTA()\n",
    "probs = np.mean(np.exp(log_preds),0)\n",
    "# accuracy(probs, y), metrics.log_loss(y, probs)\n",
    "accuracy_np(probs, y), metrics.log_loss(y, probs)"
   ]
  },
  {
   "cell_type": "markdown",
   "metadata": {},
   "source": [
    "This dataset is so similar to ImageNet dataset. Training convolution layers doesn't help much. We are not going to unfreeze."
   ]
  },
  {
   "cell_type": "markdown",
   "metadata": {},
   "source": [
    "## 5 Create submission\n",
    "\n",
    "https://youtu.be/9C06ZPF8Uuc?t=1905"
   ]
  },
  {
   "cell_type": "code",
   "execution_count": 47,
   "metadata": {},
   "outputs": [
    {
     "data": {
      "text/plain": [
       "['affenpinscher',\n",
       " 'afghan_hound',\n",
       " 'african_hunting_dog',\n",
       " 'airedale',\n",
       " 'american_staffordshire_terrier',\n",
       " 'appenzeller',\n",
       " 'australian_terrier',\n",
       " 'basenji',\n",
       " 'basset',\n",
       " 'beagle',\n",
       " 'bedlington_terrier',\n",
       " 'bernese_mountain_dog',\n",
       " 'black-and-tan_coonhound',\n",
       " 'blenheim_spaniel',\n",
       " 'bloodhound',\n",
       " 'bluetick',\n",
       " 'border_collie',\n",
       " 'border_terrier',\n",
       " 'borzoi',\n",
       " 'boston_bull',\n",
       " 'bouvier_des_flandres',\n",
       " 'boxer',\n",
       " 'brabancon_griffon',\n",
       " 'briard',\n",
       " 'brittany_spaniel',\n",
       " 'bull_mastiff',\n",
       " 'cairn',\n",
       " 'cardigan',\n",
       " 'chesapeake_bay_retriever',\n",
       " 'chihuahua',\n",
       " 'chow',\n",
       " 'clumber',\n",
       " 'cocker_spaniel',\n",
       " 'collie',\n",
       " 'curly-coated_retriever',\n",
       " 'dandie_dinmont',\n",
       " 'dhole',\n",
       " 'dingo',\n",
       " 'doberman',\n",
       " 'english_foxhound',\n",
       " 'english_setter',\n",
       " 'english_springer',\n",
       " 'entlebucher',\n",
       " 'eskimo_dog',\n",
       " 'flat-coated_retriever',\n",
       " 'french_bulldog',\n",
       " 'german_shepherd',\n",
       " 'german_short-haired_pointer',\n",
       " 'giant_schnauzer',\n",
       " 'golden_retriever',\n",
       " 'gordon_setter',\n",
       " 'great_dane',\n",
       " 'great_pyrenees',\n",
       " 'greater_swiss_mountain_dog',\n",
       " 'groenendael',\n",
       " 'ibizan_hound',\n",
       " 'irish_setter',\n",
       " 'irish_terrier',\n",
       " 'irish_water_spaniel',\n",
       " 'irish_wolfhound',\n",
       " 'italian_greyhound',\n",
       " 'japanese_spaniel',\n",
       " 'keeshond',\n",
       " 'kelpie',\n",
       " 'kerry_blue_terrier',\n",
       " 'komondor',\n",
       " 'kuvasz',\n",
       " 'labrador_retriever',\n",
       " 'lakeland_terrier',\n",
       " 'leonberg',\n",
       " 'lhasa',\n",
       " 'malamute',\n",
       " 'malinois',\n",
       " 'maltese_dog',\n",
       " 'mexican_hairless',\n",
       " 'miniature_pinscher',\n",
       " 'miniature_poodle',\n",
       " 'miniature_schnauzer',\n",
       " 'newfoundland',\n",
       " 'norfolk_terrier',\n",
       " 'norwegian_elkhound',\n",
       " 'norwich_terrier',\n",
       " 'old_english_sheepdog',\n",
       " 'otterhound',\n",
       " 'papillon',\n",
       " 'pekinese',\n",
       " 'pembroke',\n",
       " 'pomeranian',\n",
       " 'pug',\n",
       " 'redbone',\n",
       " 'rhodesian_ridgeback',\n",
       " 'rottweiler',\n",
       " 'saint_bernard',\n",
       " 'saluki',\n",
       " 'samoyed',\n",
       " 'schipperke',\n",
       " 'scotch_terrier',\n",
       " 'scottish_deerhound',\n",
       " 'sealyham_terrier',\n",
       " 'shetland_sheepdog',\n",
       " 'shih-tzu',\n",
       " 'siberian_husky',\n",
       " 'silky_terrier',\n",
       " 'soft-coated_wheaten_terrier',\n",
       " 'staffordshire_bullterrier',\n",
       " 'standard_poodle',\n",
       " 'standard_schnauzer',\n",
       " 'sussex_spaniel',\n",
       " 'tibetan_mastiff',\n",
       " 'tibetan_terrier',\n",
       " 'toy_poodle',\n",
       " 'toy_terrier',\n",
       " 'vizsla',\n",
       " 'walker_hound',\n",
       " 'weimaraner',\n",
       " 'welsh_springer_spaniel',\n",
       " 'west_highland_white_terrier',\n",
       " 'whippet',\n",
       " 'wire-haired_fox_terrier',\n",
       " 'yorkshire_terrier']"
      ]
     },
     "execution_count": 47,
     "metadata": {},
     "output_type": "execute_result"
    }
   ],
   "source": [
    "data.classes"
   ]
  },
  {
   "cell_type": "code",
   "execution_count": 48,
   "metadata": {},
   "outputs": [
    {
     "data": {
      "text/plain": [
       "['test/57df9fc7793c4c40e806167ea94773a5.jpg',\n",
       " 'test/56883df95a5356a29297c6dccfab0b47.jpg',\n",
       " 'test/f12b509213db8bb0a721fcd228b31f0e.jpg',\n",
       " 'test/a59fa6f74528014c4ffe94e117868abe.jpg',\n",
       " 'test/d6da712fa79d6631324452fa74d648a3.jpg',\n",
       " 'test/6a2cfab843ba8a78ab3f179a56b9d8e2.jpg',\n",
       " 'test/a057d4b2a4343cb814937b517fb3be9a.jpg',\n",
       " 'test/957379d51e207de4885b41d0b1758d8c.jpg',\n",
       " 'test/56769dd3037ce85d52c2ef9b951137de.jpg',\n",
       " 'test/f90f630e3728dfe9428e291af0cc4af5.jpg',\n",
       " 'test/86c2d71776b76d0c7acdf34a87b7f9c7.jpg',\n",
       " 'test/0cf7c74a10aa9c602d194717ab781794.jpg',\n",
       " 'test/cf64016d08aacd4e9b6af996aa2deda9.jpg',\n",
       " 'test/b3c8be64d0c83b0350bc79e61276fcb0.jpg',\n",
       " 'test/cf9045c5f367cc2d012bf545f0a56b52.jpg',\n",
       " 'test/a9a33f0585e5af26dffd6dc0a00ba88f.jpg',\n",
       " 'test/67ed04767d1db6ecee253f8bd49fafd9.jpg',\n",
       " 'test/60dc0b634487ca5c243799a9673f368e.jpg',\n",
       " 'test/ab9befc0cdafaf3784775f5e833368b0.jpg',\n",
       " 'test/62cb6f10735860b02cfbe6d6ba8a2d55.jpg',\n",
       " 'test/76ac0074b7bec31ef8376a24b671a4e3.jpg',\n",
       " 'test/1381912fe152f7873af101cf0d51bbaf.jpg',\n",
       " 'test/6325d16890b72d22008ed74b93d5d9b9.jpg',\n",
       " 'test/5f571aa094aff976ca384870f58f21ae.jpg',\n",
       " 'test/bddc020b85db9a98e42b9b1ee0bdf6be.jpg',\n",
       " 'test/5184900e7725e1000d60d6f9fc13dd37.jpg',\n",
       " 'test/a501bc8ad9ad751cfb0fe461f59d252e.jpg',\n",
       " 'test/c330d4e1b37fed980b98e1cf8f87ebc8.jpg',\n",
       " 'test/1a76f956fca627980c7f966eedb5af01.jpg',\n",
       " 'test/858b362d3a26a2426f4bc0e0cbf951fc.jpg',\n",
       " 'test/abf859385eda96155ab8cc68c66170f0.jpg',\n",
       " 'test/a1e6772dff16af9a3a832d325972ebaf.jpg',\n",
       " 'test/30a0e2267307d6d51e9a05789a1130e3.jpg',\n",
       " 'test/fb159dcc18f38882fe46283a8fa8ef72.jpg',\n",
       " 'test/49c6017f964abcc0783090fffb280238.jpg',\n",
       " 'test/2f1bd9cdf7a54ed233dfd71ec194bc4c.jpg',\n",
       " 'test/8bc098fd981ba69ebb346b6a1608b0b5.jpg',\n",
       " 'test/65ab3318dbbb01da5f650d86be3ba413.jpg',\n",
       " 'test/c33c30b259b1422900edcbf290ffcbc0.jpg',\n",
       " 'test/ce9d7ef3d7ad47dea651d770d29586ea.jpg',\n",
       " 'test/75814122786c8acdbfbea15ac335b577.jpg',\n",
       " 'test/ea5a0fb0d92c07b2e14da4dcd0d48c45.jpg',\n",
       " 'test/2464089ba3fc5696013a7cc10e3052e1.jpg',\n",
       " 'test/fe2aaa06247c9c040b23ac9ef6529654.jpg',\n",
       " 'test/304d7234be25057d44b86d1fbb5468c7.jpg',\n",
       " 'test/03f3173218d97d4e386d2daf76622ffe.jpg',\n",
       " 'test/3179961a73bccc4fae9d3a5e28bed374.jpg',\n",
       " 'test/3fd9870f479430479e8f4137a4ef3a4e.jpg',\n",
       " 'test/1c857714795c657006755bf5e45613c9.jpg',\n",
       " 'test/9ab7200ef7989a89f77debd8a8bc676e.jpg',\n",
       " 'test/4d3ff3175f121743c13c7406486be193.jpg',\n",
       " 'test/33d92aec747f4d1b241553689f3f399a.jpg',\n",
       " 'test/0770fe4187dd10984ea1afa07757dc8c.jpg',\n",
       " 'test/751f30cfd573d51e4e2e21b5d1d292e6.jpg',\n",
       " 'test/3ee1025997b782f6eb2ddd20cd0965c1.jpg',\n",
       " 'test/0bd08711dd75d82507a002b300f9fc61.jpg',\n",
       " 'test/5c71b5a2dca2cee34c46ac506a93b0ff.jpg',\n",
       " 'test/a965eadb7590983a0a0cd6b9f78ffe54.jpg',\n",
       " 'test/6832f5eb46f5892b829d3a3f1fd14ba0.jpg',\n",
       " 'test/f74be541c9805bf2dc3ed53e46fa28c7.jpg',\n",
       " 'test/5e593fd2bbde69cc3a30d7cdec1663c6.jpg',\n",
       " 'test/78f549933ae746a977a63f4267b39904.jpg',\n",
       " 'test/d6b0ead1d782826364fe2f6a149ab372.jpg',\n",
       " 'test/7525f818192ef1a06c5ccfad611562e3.jpg',\n",
       " 'test/f0933ef7831649c79490ebb34de07a01.jpg',\n",
       " 'test/c0222cee2593ea556505eb60a57d046f.jpg',\n",
       " 'test/a67e66eafd749e489e888f7f323e344e.jpg',\n",
       " 'test/06603bac954d5a150ac83836f2bd6c9b.jpg',\n",
       " 'test/6f685b838df534b65ca28b19ac31bc50.jpg',\n",
       " 'test/adad00f7d63fd80bcedcbc7186f5a694.jpg',\n",
       " 'test/0ff286d9ddd36a08df220910ec46a4be.jpg',\n",
       " 'test/e8d27c76d6921b27aea1e2da6920396f.jpg',\n",
       " 'test/c0379c60746dbc0e2498fdd0a36ba080.jpg',\n",
       " 'test/f95d1a0c5f7ef6ad663421002a0f32c9.jpg',\n",
       " 'test/32c88a21c86293c59b59563499ac48a1.jpg',\n",
       " 'test/abbe1108ea6a8a96d8b08c59e2c92601.jpg',\n",
       " 'test/c5aafd6df54eb78ce3a241a59572cf3b.jpg',\n",
       " 'test/64081b6b6635b3a772e3b8252d67ec08.jpg',\n",
       " 'test/1703181ee84a6931a6d665da5f98d36f.jpg',\n",
       " 'test/3cd083c459f059362fcac2f44e24a045.jpg',\n",
       " 'test/642e814cee15a5e68a634600cf9da611.jpg',\n",
       " 'test/7990246e6263bf869c52695350617501.jpg',\n",
       " 'test/61745de0a81a7956495a0892ca8de341.jpg',\n",
       " 'test/cf47fa664e913eb875ea47c17f60778b.jpg',\n",
       " 'test/d90a9d6c29d871c0c7203b590fcb4ee0.jpg',\n",
       " 'test/820b503ecec1f281dc72b048b1ecbf2f.jpg',\n",
       " 'test/eb61a828e939eb633c1811f283d15647.jpg',\n",
       " 'test/36edf3ddc4934b2d84cc940d4f6e8c99.jpg',\n",
       " 'test/59b07b46f717691187c603b9da6d4811.jpg',\n",
       " 'test/bfa4e738355858e51c3c690cd6306444.jpg',\n",
       " 'test/56d6c58aa719ec8d4f8f513800578f8c.jpg',\n",
       " 'test/321b689fdf26f061aebe30e82e560c6d.jpg',\n",
       " 'test/d9a541d73eb08d9764eeb04038c6c235.jpg',\n",
       " 'test/0efe03910c7c5f576cf52c9e7c28beaa.jpg',\n",
       " 'test/bef8782ecaed8ec75cbae58b54462964.jpg',\n",
       " 'test/c21922d515b3f6d2daa82c4e6c387b0b.jpg',\n",
       " 'test/91509dedbc2414e9a97cd9d831ddcc9c.jpg',\n",
       " 'test/f80081668f74c26b7084d8676ba12d9f.jpg',\n",
       " 'test/aaaea3147c28c80cef02be1a99d4f9db.jpg',\n",
       " 'test/f82a903b13fb1d4331d889847d93259f.jpg',\n",
       " 'test/a07211e87a6f435fec0c126dee3f9530.jpg',\n",
       " 'test/1c6d5fd3d037d75d66d1bd7f95dce367.jpg',\n",
       " 'test/10f5107a94eaa2355bc66f095e1ee9fc.jpg',\n",
       " 'test/5455496508af49e178e5caef97749034.jpg',\n",
       " 'test/c2c089c15ef388953c1a47aa25d63ceb.jpg',\n",
       " 'test/c95b766fc978c583fdfdea80c11cf59c.jpg',\n",
       " 'test/d1013cd32793410daad99222dfb6e3e6.jpg',\n",
       " 'test/a346df417d341bef083e7ed4a7adc90c.jpg',\n",
       " 'test/8a43b0e4ecfb318f9661cd6c3eace60d.jpg',\n",
       " 'test/22f62d7194a0dd28884d51482c4e4675.jpg',\n",
       " 'test/c1bae285fa572caf2537e67e9d134451.jpg',\n",
       " 'test/db3e6c729f35b96ad15b8c0610d40d31.jpg',\n",
       " 'test/76d1bf760bb0fc5d457442bf5de4fac6.jpg',\n",
       " 'test/e00e5f7f822fd670bba314f87cce8428.jpg',\n",
       " 'test/1119c5511941dd992da0f8f66b34e55c.jpg',\n",
       " 'test/1cb17b18aeb47d13e7bec401cc42e79e.jpg',\n",
       " 'test/9fd95b4b35bba0c2ae20ab6494ef0a93.jpg',\n",
       " 'test/4965b1010842edad76c258586fd1848d.jpg',\n",
       " 'test/11752752be98909829638b08dbc4eb33.jpg',\n",
       " 'test/3925d2014ea043627ec53e1e97da317c.jpg',\n",
       " 'test/e145bbebb9ad1e740256e460899a6b67.jpg',\n",
       " 'test/452e58a7cfc482391e5ed7a25201f446.jpg',\n",
       " 'test/edd5c8d96746d4af7eed0550eafd4b90.jpg',\n",
       " 'test/61fc1160eb1b6bdd34605c84aaf92347.jpg',\n",
       " 'test/a06ed61f625bd8b82f7135f3ef732197.jpg',\n",
       " 'test/a5708b78f875b0cd0d78ef2a4900681e.jpg',\n",
       " 'test/b2537086fd2af2d0472a182d2568b2b7.jpg',\n",
       " 'test/c2d2845260e74a9f4d8d967ea6bb8364.jpg',\n",
       " 'test/ebf7096a543da53b1e4759753aedad26.jpg',\n",
       " 'test/8db94c3efe16b1d584ca43c4c8dea3b3.jpg',\n",
       " 'test/75f65f02a53a08b5a73b40502daa430a.jpg',\n",
       " 'test/21e874df199f1c06e041040b35cbc716.jpg',\n",
       " 'test/bafa0a59a0895469d29af27856f8901c.jpg',\n",
       " 'test/7a89cb07afac36dee1257a15674fa7e7.jpg',\n",
       " 'test/f90032fc6036df7fab8f6fda5be69824.jpg',\n",
       " 'test/a191db53dbd439ca46590a60906e4e55.jpg',\n",
       " 'test/ef4b59cdb6485917a71f2c40df9c8d47.jpg',\n",
       " 'test/87257235396dd80a674d99251d370e12.jpg',\n",
       " 'test/012ca7efe684c5cdfb83f35e8fbafe1b.jpg',\n",
       " 'test/14dac63a8e92005b685c7d39ddd8ed40.jpg',\n",
       " 'test/e0f2620cb1ebf648b986c8a09dbd3664.jpg',\n",
       " 'test/525568ebb0b0c907fac66ae1fc57deeb.jpg',\n",
       " 'test/de084b830010b6107215fef5d4a75b94.jpg',\n",
       " 'test/2c4aab0a71b7d43de83e2b3dd393b9a6.jpg',\n",
       " 'test/f62ed18a684c62a90212d9867d30b0f9.jpg',\n",
       " 'test/6300db453a6deac4a530c5cd6a9b055f.jpg',\n",
       " 'test/c706d7e205d780d265fe1d06674ed109.jpg',\n",
       " 'test/30d5f8a700a6d7cdfe68115d0318ec4e.jpg',\n",
       " 'test/b2193a53c04ea9192860fece3f4c2d99.jpg',\n",
       " 'test/f7730df5cb8a3823cebc4369f2274793.jpg',\n",
       " 'test/ef8604e60473eb234c5725219f338df8.jpg',\n",
       " 'test/e67b8da61ba5b55bcc01200ab057c7b0.jpg',\n",
       " 'test/5fcc6279e65dc893713c18feec7849a5.jpg',\n",
       " 'test/32e783378b18b4cd5d047f68639b2e8a.jpg',\n",
       " 'test/c8d8c68534f7ec96b0f8aad87f526687.jpg',\n",
       " 'test/729b3383c0ea301434a759c14093a596.jpg',\n",
       " 'test/bbcc4372d4d3ff011af6266a88b85528.jpg',\n",
       " 'test/f05275e168cf813f7dadd9d1dddfab8a.jpg',\n",
       " 'test/99cc4f815762a17fb345d352028956b5.jpg',\n",
       " 'test/2098bc3ad923e7c7e0da147830a6c528.jpg',\n",
       " 'test/a7a060cb93bd2cbfc49c648d49970604.jpg',\n",
       " 'test/79ea4777276fd287c8762dee22198486.jpg',\n",
       " 'test/1ba1c3c3ad310873eb0e4182d05eb80c.jpg',\n",
       " 'test/effcbcfa58ba87eac8439b7106d8623c.jpg',\n",
       " 'test/feb37df99be2a13acac2d58e13351b41.jpg',\n",
       " 'test/c8c5efff1a3c534b6eb8a3fc05c69033.jpg',\n",
       " 'test/d9ada1f8cf8af7595ea951c485c9bbaa.jpg',\n",
       " 'test/1c8830e9687bdadd13bab1cf14ee33cd.jpg',\n",
       " 'test/b00081f031f0b6a462f83a3a6f52b55e.jpg',\n",
       " 'test/ad31b8b2a5dc04e507c0b70044dbf889.jpg',\n",
       " 'test/e0f9b92adbba451d296678f466732969.jpg',\n",
       " 'test/6c6034c639ad37d3f0bf753d016e33a8.jpg',\n",
       " 'test/73c140ce9ba6bc5527f2ecf1ef17e974.jpg',\n",
       " 'test/a00031fa651b4de857db1d9333af15ed.jpg',\n",
       " 'test/993801b99c2c193ba45e23ff00401bd2.jpg',\n",
       " 'test/31c2efd9fd68f02daf2ef02c66d8b20a.jpg',\n",
       " 'test/f2b7d11ea6ccf65f214cac2abee8d1a1.jpg',\n",
       " 'test/6c88fa09dbf786adbba14f026b312556.jpg',\n",
       " 'test/386024ac883f8d7b13a4d27e4df36905.jpg',\n",
       " 'test/eb2e408930e0873deb85484ef46f07fd.jpg',\n",
       " 'test/27c5d715e02f0c7d7758cd81abba9018.jpg',\n",
       " 'test/5feb2319ceb682f960af1427128dbd45.jpg',\n",
       " 'test/66f0995851846d4068c8f7e4c9ca19c5.jpg',\n",
       " 'test/0dd0c324a6f4a599756b3b750165c41a.jpg',\n",
       " 'test/f53c0a1ab2af3549a2ef5825d023b160.jpg',\n",
       " 'test/41dada589404f36e9b0631e9f461c3e8.jpg',\n",
       " 'test/5256deeac5f5575b54e9c72cc64f1eb9.jpg',\n",
       " 'test/23de43477e38ec0e956d78dc2d001716.jpg',\n",
       " 'test/9a32d1d6c3d9a2cee0794f1e27737157.jpg',\n",
       " 'test/a36bf90ef275e00b91959e508eee653f.jpg',\n",
       " 'test/555faa8e60a944340d02e9433b6dd1b5.jpg',\n",
       " 'test/4bdb60fe388792dc7272867ca020d0df.jpg',\n",
       " 'test/c0f9fac1d3042e9abca15c833b5bcca6.jpg',\n",
       " 'test/e774fbfeb4b712ca042f93edea3835af.jpg',\n",
       " 'test/ab7aac73e121f69650caad2afe4a0971.jpg',\n",
       " 'test/f27521a58ff23d0bb6390bd802b368c4.jpg',\n",
       " 'test/8e45d28a1b2e7d8672ea4e0efd06fbc1.jpg',\n",
       " 'test/d9b9a2e622cc9cec857b627cbea801a5.jpg',\n",
       " 'test/ffb68ded4a2247b3c011840ece0a605c.jpg',\n",
       " 'test/c762956da4860b0ee3a5f9c7b7fdb57f.jpg',\n",
       " 'test/04378b6550e324c2edfe51a23ed2f2ee.jpg',\n",
       " 'test/a546087247faa0fdd5c89142d6fd5274.jpg',\n",
       " 'test/3ada0c8069128db8b76c5d1039bddeac.jpg',\n",
       " 'test/332eff8d1e8f55a0e7335a1552f681ef.jpg',\n",
       " 'test/b0b6c18ccb0aa7b27020fc9063daef57.jpg',\n",
       " 'test/502c1adaa36b3991c2dd62c0f01c0253.jpg',\n",
       " 'test/f6b7274f16f605b9649fd021a5c70046.jpg',\n",
       " 'test/daf5f7e6ded367276d92e7a4b1aeabe2.jpg',\n",
       " 'test/3744370e3a21be059b4c1e50628eb3c7.jpg',\n",
       " 'test/ddf4f1d39b7ebc610ff479396cd9c6fc.jpg',\n",
       " 'test/72e26d6e06b465421461ca20e6d0e33a.jpg',\n",
       " 'test/8222f54c670c0c455e2899882c9f9c24.jpg',\n",
       " 'test/f6b8d1787176be43d99bb3aa8fbff45f.jpg',\n",
       " 'test/69e231ddd06ed66f4517f695908c7e6e.jpg',\n",
       " 'test/fb05fd17b96a9d33288691701da2dffd.jpg',\n",
       " 'test/fc39121062e4a0aae5131ab4f1e56e0f.jpg',\n",
       " 'test/8ef205befc91705986ec7d410c781c2a.jpg',\n",
       " 'test/94e6990e098745b875219aa29b53e05f.jpg',\n",
       " 'test/7e8784694efb44bde9446359f95e2781.jpg',\n",
       " 'test/9088e2d0a3fe9092ec09ee00bb4d73cb.jpg',\n",
       " 'test/a6f0113dcf3bbfc0aa98cc3a60c8eaa0.jpg',\n",
       " 'test/77786f2601ba6ab4ddb5a36fa52b414b.jpg',\n",
       " 'test/8a61ad45cae28a62f8a173f62cdb20da.jpg',\n",
       " 'test/4ead408f81b09e617882bcad28bf7593.jpg',\n",
       " 'test/9ec769e34bc902bd9de458103e9347c8.jpg',\n",
       " 'test/188bd471a25447903d80f2ee66c403f8.jpg',\n",
       " 'test/8e9e8d7d4ff0c336d869f9f372e4ef77.jpg',\n",
       " 'test/7b9891c59e2add2db4d8ad834d461e0a.jpg',\n",
       " 'test/56c76aab35926ffe901a3ef9c78d4a28.jpg',\n",
       " 'test/00485d47de966a9437ad3b33ac193b6f.jpg',\n",
       " 'test/e751e319cfdc9912ae2e5da2a9b053e0.jpg',\n",
       " 'test/d96d8776631ea558e306c3605471917a.jpg',\n",
       " 'test/7b2afd50a12d0a24be71e246756fe2fa.jpg',\n",
       " 'test/dacf001ddba61650b7cc587b8db2f50e.jpg',\n",
       " 'test/26865eddcab8376dcec5abfff77af0fd.jpg',\n",
       " 'test/79b5eae9c0e5c4acec686d49a380d5c8.jpg',\n",
       " 'test/424637827b400b0cb2bda490d336c52e.jpg',\n",
       " 'test/f414cc74bc9df7c993ca72c5ac986846.jpg',\n",
       " 'test/1e7c9f4b611a9f917c492e83a0d54704.jpg',\n",
       " 'test/3360969abaf458a84e7bfa91fb0602b9.jpg',\n",
       " 'test/b1aeb449e903e417bb1a0cc677912336.jpg',\n",
       " 'test/39240a4bacaa392e0c81f0f0d1c9a10a.jpg',\n",
       " 'test/6570caa02983d571c7a073d82cc5fb9c.jpg',\n",
       " 'test/bc45ad24fc667776a43785b1ae0dc906.jpg',\n",
       " 'test/ab99ed68fe6812846c15f26936dff9e4.jpg',\n",
       " 'test/23ebeb57e74030f84613c46d473fa37f.jpg',\n",
       " 'test/631cfa978b97e848b7c37fb5630d84da.jpg',\n",
       " 'test/c4b5a213c7d56fa7f0253fae003b05c7.jpg',\n",
       " 'test/c87df7444c1531bebe08ff8092c4daa2.jpg',\n",
       " 'test/9d306df1a7045525b6c48593873b9b90.jpg',\n",
       " 'test/3692e90a28ff97f0bba9fc7dc599ec20.jpg',\n",
       " 'test/1fe29466bff45f20047fc20efe5628b3.jpg',\n",
       " 'test/06aed832e3a1e4593a63e3b6490064d9.jpg',\n",
       " 'test/740599f0dc24bf74c8bab1c20305dcc2.jpg',\n",
       " 'test/64c008255895612cbd39cfcb2e24fb30.jpg',\n",
       " 'test/d361d73172d166881955c782296c5a7f.jpg',\n",
       " 'test/6063fa5fef88446f86b8081bdf12d9e6.jpg',\n",
       " 'test/f2c4131850c17dee485d48c2bb8a358e.jpg',\n",
       " 'test/6e9173e742c6a980d48945c9839f69f4.jpg',\n",
       " 'test/0684c3415499ddfd78e945c725066034.jpg',\n",
       " 'test/93e40f4032dddf8130ae96bbf5f9180b.jpg',\n",
       " 'test/d1a126a94098e06e3f131681035699fe.jpg',\n",
       " 'test/b706b182f887ceb117fd378a930d192a.jpg',\n",
       " 'test/7b652554621492fb9f573688833d367d.jpg',\n",
       " 'test/e743bea73da2c0dab99ccdbc697b1ac8.jpg',\n",
       " 'test/c4e89e7ccd0dc6b6e87bb7ebce81a204.jpg',\n",
       " 'test/da316b3810125758e911850b9c389ce9.jpg',\n",
       " 'test/521e724a15b2deea6df73c664c431380.jpg',\n",
       " 'test/796d050c63485ca7433c865b4c7b366a.jpg',\n",
       " 'test/ea111bb38037c9922185a0e9513391d7.jpg',\n",
       " 'test/fd35a8d1fde0b1f9c27f604502539c51.jpg',\n",
       " 'test/ef0209bcfab48f72f71c9d1b8648aa45.jpg',\n",
       " 'test/3dd28f8e10a898adef51f60755f87091.jpg',\n",
       " 'test/9d024559062d855289c59de3071025c1.jpg',\n",
       " 'test/959454466c795a45b91926d4ddc9fd65.jpg',\n",
       " 'test/feacb43d576eb6d78b38d4eb835d7b20.jpg',\n",
       " 'test/9ed1e324b75e412a1b15672bf8b70f68.jpg',\n",
       " 'test/28baad5964569a06c8d6474051fc5d3e.jpg',\n",
       " 'test/069f97f28c811705453d84528a7af240.jpg',\n",
       " 'test/c35b4585bb7b4b2c0f6972baf08692f0.jpg',\n",
       " 'test/9847c601a7bcc75c7951fbf5eba39150.jpg',\n",
       " 'test/fba60b5a1e775e03b54a6d7a516346ba.jpg',\n",
       " 'test/b848ed6ba1753d43e83aadc492cd348c.jpg',\n",
       " 'test/2c39f55bb9fdea9164d30bd0a0c34182.jpg',\n",
       " 'test/ab3242753d5b6a79985112a3cd63908a.jpg',\n",
       " 'test/e51de127ddf2c492372a63f0644b1a58.jpg',\n",
       " 'test/4038ffa4b7b486b6bae50f0aa793e177.jpg',\n",
       " 'test/d09cef7dce522043685e6c347c158e0a.jpg',\n",
       " 'test/67ff491b2cfdf65c1ccc5307163b3b03.jpg',\n",
       " 'test/e9f25d81c8fa96020a77a1f3148d0d3c.jpg',\n",
       " 'test/fc405345f9ba08169e24ee81cc1fcaad.jpg',\n",
       " 'test/704a957148a1dc163174d05187205fab.jpg',\n",
       " 'test/e9d1478e035f22b0cf94be580d620f80.jpg',\n",
       " 'test/9df8d047aef9f0a40aa467289ff11cb7.jpg',\n",
       " 'test/f14fea2fe647a06dce75eb19dbf1273f.jpg',\n",
       " 'test/9282c21669a8c219d4bcc4623e3a7ac3.jpg',\n",
       " 'test/24b5d5145f82f13bfeb31cb2c6ef1695.jpg',\n",
       " 'test/e974e77b0f9076d31a225812064b4ac9.jpg',\n",
       " 'test/df4b040b13c5f514d215ba7c0813eaf8.jpg',\n",
       " 'test/3c44bdeb4acf5b0f83363fea0873a06d.jpg',\n",
       " 'test/e76a7a1d23d687b5015b07df762c0c10.jpg',\n",
       " 'test/a5d1f79162eb391ad82192d4d6899181.jpg',\n",
       " 'test/be83051daeeef1dafa4bb65c31980fff.jpg',\n",
       " 'test/08b34271d7d196d13bbeeea99504e099.jpg',\n",
       " 'test/f56185baca63dfc073ca82bee5bf24e4.jpg',\n",
       " 'test/9a472c0d05d01f72b968d5ad94a976c4.jpg',\n",
       " 'test/26f470e5811219936bc6cef1e2e93ec0.jpg',\n",
       " 'test/982818afa4c7512878806181dfba2fa7.jpg',\n",
       " 'test/f02b0bb575f8dd86c63ab38df20483ba.jpg',\n",
       " 'test/9948ef8d970738404ae97dec0b4211da.jpg',\n",
       " 'test/daa0715d146737e7d9cee7532a69a219.jpg',\n",
       " 'test/0259f8dda68116cff1170758a5fea1db.jpg',\n",
       " 'test/0df5d0e873f58e89111b5de3d3fab9d2.jpg',\n",
       " 'test/f6e209dbbd97aadf518f16d18a807ffb.jpg',\n",
       " 'test/c79c45aca18085994e6761ccfa89000d.jpg',\n",
       " 'test/635f438cd68b65dd6b4e100b338015fd.jpg',\n",
       " 'test/f45014f665123584d3588802ee020bce.jpg',\n",
       " 'test/ad075080a2a99b8928ab7beaca056e3e.jpg',\n",
       " 'test/d9cc62cf60266f824731f8a4e70ba718.jpg',\n",
       " 'test/385cf6904272259c0edc8882df482cfa.jpg',\n",
       " 'test/73406a7dcf72b037ac50adfe906bba04.jpg',\n",
       " 'test/4a99333bc325352c853b378f1d9f69e4.jpg',\n",
       " 'test/7308c95772b943b4603d4d48c4d9f058.jpg',\n",
       " 'test/6e4f69a3c182853524371e05ca608a90.jpg',\n",
       " 'test/c0dfed6fbe7e086fb9fa08a97de0d40b.jpg',\n",
       " 'test/a19ab9cf2beb1c1dfb32d68921b33c71.jpg',\n",
       " 'test/46577805f296f67b837bfd2020b515f8.jpg',\n",
       " 'test/98f5041ffe1940c51bd37128e35ccbfb.jpg',\n",
       " 'test/39bfe266cc37ee03a2d24f74021d31bd.jpg',\n",
       " 'test/20829910484801e2d14e2e78be8739fd.jpg',\n",
       " 'test/8c5442d028fdf92119a23980f1ae2885.jpg',\n",
       " 'test/ed0b66d283d948128c45ce57478ba048.jpg',\n",
       " 'test/cc5f9b543a724d7c24b8fa6b52834e40.jpg',\n",
       " 'test/39faf41647ad4a97555314d5ff882bde.jpg',\n",
       " 'test/b7c338972e7a41919c87cddd2664de9c.jpg',\n",
       " 'test/f00d734eff06f3a77fcc629402a95597.jpg',\n",
       " 'test/d4d9c355deadefe4e65a28553fae8f3c.jpg',\n",
       " 'test/26860744a584cc58fe821ea35c61ee50.jpg',\n",
       " 'test/3a577a6f0d98eb6ab8ce4370d419ecb2.jpg',\n",
       " 'test/29548de9a7435fccdcf228afe5fd221f.jpg',\n",
       " 'test/9ddd1ae51a25ed1480ed1c5774083bf3.jpg',\n",
       " 'test/37a65e58d020d023cb26bbff46468c33.jpg',\n",
       " 'test/f10c58048410333d9c4156046b0ea54f.jpg',\n",
       " 'test/9f5f68252297c32645853a602195fee3.jpg',\n",
       " 'test/7a82374b96dd6ff135e84a079e4433d0.jpg',\n",
       " 'test/9d194995dc94f4caa713c7f10675ffcd.jpg',\n",
       " 'test/86ecaf468c8cd48a5edc6bef040039cb.jpg',\n",
       " 'test/9d97ca8c85b481e7b1245cd65ec8bd5f.jpg',\n",
       " 'test/1443f05f5281e3fe986fc40f7ee55c34.jpg',\n",
       " 'test/7273e162e5e79d239547ea31d0540b7b.jpg',\n",
       " 'test/d6d08fe634318194555a9419180d4ab0.jpg',\n",
       " 'test/3b37e30fd0fde6a708ef4a6792c31c3f.jpg',\n",
       " 'test/e8914f74848c23b70b520887b3ff2e8a.jpg',\n",
       " 'test/7ec3929c60fe70208989c9882722a25b.jpg',\n",
       " 'test/54ecb469a09aade9392bd267ec600034.jpg',\n",
       " 'test/0012a730dfa437f5f3613fb75efcd4ce.jpg',\n",
       " 'test/fc00016dee37d944be852f6e8a1aea0f.jpg',\n",
       " 'test/259c1c2c423e4bf038963b8510b0a2f6.jpg',\n",
       " 'test/fdb809a503be4e22b5548405f8b6c171.jpg',\n",
       " 'test/b61e615a0aa9fdf2125087a2c251031e.jpg',\n",
       " 'test/d497bd5b6606138e3066d8ce3c5e50fb.jpg',\n",
       " 'test/8a7bfbbb5b1d83bb5e37d4b38994bd43.jpg',\n",
       " 'test/2f3685ad0f4c2685557ebdb0fd5b9773.jpg',\n",
       " 'test/8ffb64ee0970306a0b01f7a2a8da73eb.jpg',\n",
       " 'test/8dacca06fedcc9a683e310594babd901.jpg',\n",
       " 'test/f377a8251538b962741e18c944875038.jpg',\n",
       " 'test/7898dde57e90b8e0037badd488da35ae.jpg',\n",
       " 'test/acdc983dcdf5becaa7d38728b7588dc3.jpg',\n",
       " 'test/099c7e227b6beaa4e87c893d25f56c63.jpg',\n",
       " 'test/d18486afa78d7dffd79d3f13516557de.jpg',\n",
       " 'test/328c274a631df9fa62c63d83cb8e528d.jpg',\n",
       " 'test/a3236baacfb2865e3fa6f0dfa3f1422d.jpg',\n",
       " 'test/4ad35c0c14299088af1fb766d315952d.jpg',\n",
       " 'test/d6ccd266aa68d8e06a7882f9e0145492.jpg',\n",
       " 'test/5ff5a05029bfffd1ee1962ca7d686378.jpg',\n",
       " 'test/3b1a9e5257bb761a4373a0a0e6682388.jpg',\n",
       " 'test/372ec9d3411f5d36176a094f7ec12705.jpg',\n",
       " 'test/076144231ddb6a687889696e1978edfc.jpg',\n",
       " 'test/f1705303b30da3a48db2a5f34376b947.jpg',\n",
       " 'test/475313d23338d7f22f4812c14e3d506f.jpg',\n",
       " 'test/0d907500951c7c38dd9f8a94adb899f7.jpg',\n",
       " 'test/f85ccd6fb240cd4771e80c1e3aeea571.jpg',\n",
       " 'test/b71e801121f0b20020b421f12dc201b0.jpg',\n",
       " 'test/1ad307a10f54496d506cae71fff3a8ce.jpg',\n",
       " 'test/4cbbd65654e38b1b741ef4cee25df024.jpg',\n",
       " 'test/a11d4a8d9cbc1dae233c1673a5dfeb82.jpg',\n",
       " 'test/b9617e0a49a90f7cd35d21b78caee8cb.jpg',\n",
       " 'test/96fbcdf365faf8b8007aa35aa9debec5.jpg',\n",
       " 'test/a8f0c522c04acb6b50305d0c16e46c39.jpg',\n",
       " 'test/bccec86223be760e4a9c7899d0628812.jpg',\n",
       " 'test/6d35e614946b7beb0765da5197edc610.jpg',\n",
       " 'test/2026806bdd75ca943b290c6f2cfb6e95.jpg',\n",
       " 'test/1c6785d832f3bd13c01ee474e3fbf5b3.jpg',\n",
       " 'test/a3be6cd3cf8483dd98af6202f0233689.jpg',\n",
       " 'test/007ed71136966728f5c0936e23c8286b.jpg',\n",
       " 'test/805d229571294da3389e07e3e59bcfa7.jpg',\n",
       " 'test/5fe3639eac759e48304baee9e2264356.jpg',\n",
       " 'test/ba57c17dae7055ef1c54c479262fee4d.jpg',\n",
       " 'test/56330333f87bd915763bc6b3ea9a7482.jpg',\n",
       " 'test/0b0411aa35fd85a85e504793064fc3de.jpg',\n",
       " 'test/9420a80439095a8f690aae1daac448c4.jpg',\n",
       " 'test/4dd8fff330624c41f2e58839b1e8050b.jpg',\n",
       " 'test/df69bb4b3dbdc81541e2bd70a5f35cb1.jpg',\n",
       " 'test/46069a1ceb5a169aaf8d4036ab9b0a7e.jpg',\n",
       " 'test/ab0a2f763d8efcad360f6471c73c6995.jpg',\n",
       " 'test/79098c3b68960cc0f48a4354e32dccfd.jpg',\n",
       " 'test/6964b5801dee4d11fd56a2c873021a6e.jpg',\n",
       " 'test/0e7baab11c3e1a71d364720ff43aa5b4.jpg',\n",
       " 'test/715d2393b41f54000521d07950e8464a.jpg',\n",
       " 'test/e8763575a23f1e1a86788b82bd105f07.jpg',\n",
       " 'test/2cc09f27c6e1e8e88172367cea8c3780.jpg',\n",
       " 'test/3f3910d53f0a1e88dba269a5a7037806.jpg',\n",
       " 'test/a67f8364a16bfa53b465d3de669fd645.jpg',\n",
       " 'test/5263b3471ecbbb9df4ff3604921bc787.jpg',\n",
       " 'test/2d5b4c67b5345f68cf0f0d4198705e5e.jpg',\n",
       " 'test/cf60a9769d9c9df6cc57a67ff7c42a09.jpg',\n",
       " 'test/8d8b5a5a78a08b7e034b4c68bafeb966.jpg',\n",
       " 'test/1af45a09b89b9e68edec248cef6a5abb.jpg',\n",
       " 'test/7f2ada1ec852e829d0e2bcb7cc7b50c0.jpg',\n",
       " 'test/e22127411f6347464f3e91a775bd0245.jpg',\n",
       " 'test/9bfac33202b439e6a86a284f8ff4b5a8.jpg',\n",
       " 'test/a52987023c657190aa20a31dbc399df2.jpg',\n",
       " 'test/f1dcabbeb1dbebb326a4b029b6f8b188.jpg',\n",
       " 'test/5f12375f0ace4faf12fbdafc8a06dbf5.jpg',\n",
       " 'test/e97a63b529b7b274eeb605391366b576.jpg',\n",
       " 'test/909173cbb07a1f2b86fcbaaa22dbac06.jpg',\n",
       " 'test/91bfe31395da3830ce1d81904cd7a60e.jpg',\n",
       " 'test/79ab5c9545fdca6831f527daf80c6d44.jpg',\n",
       " 'test/2bb1eb084de888fec8135189b656890e.jpg',\n",
       " 'test/26e2088b434979e9688d163188f71aa3.jpg',\n",
       " 'test/67709931f291cf5e4f2931c65c4c80af.jpg',\n",
       " 'test/444d86d0e4f0eb12207b0ff40a9e6bcc.jpg',\n",
       " 'test/3ada400595a24fb5ff3c1fab4dea1581.jpg',\n",
       " 'test/4f3034d7ed810ab337ef992fbfbf8827.jpg',\n",
       " 'test/e6295bd4afe5ddf93a02cbd668819e9e.jpg',\n",
       " 'test/68033cd44294966b9c7ef98f4ee19512.jpg',\n",
       " 'test/dfdeddf3da8d52c211620eaabd82b773.jpg',\n",
       " 'test/a781b14452fcb0716575e58d04c5d886.jpg',\n",
       " 'test/2748c17215c04b1cd94822ea8695e1e4.jpg',\n",
       " 'test/8bfaadf26932b13538d99ec45aacf15b.jpg',\n",
       " 'test/2ca32f723dc882e6ccd9a0c4bc7b9044.jpg',\n",
       " 'test/4f3092ff4e3e5ab775c22863e32f20db.jpg',\n",
       " 'test/1b9e0f96cc35264cb5ea9ac9e6925bfd.jpg',\n",
       " 'test/2fa13e03954dee3e1816a5b4ee1bb75b.jpg',\n",
       " 'test/8364818eba106a2e70dd4fab53cde21c.jpg',\n",
       " 'test/f8e874d412ff17b33dae7fc7b92f6124.jpg',\n",
       " 'test/8c8a47cac8b6fd7aae1ed898424216a0.jpg',\n",
       " 'test/6fa52b20c124da0aab210e8540a50016.jpg',\n",
       " 'test/36939316bd5dc74df7e0c33e76074408.jpg',\n",
       " 'test/4ce3cf844376ffee0cac48bcefb2a553.jpg',\n",
       " 'test/c970c9cf57b8ff9eccea685bfd6f240e.jpg',\n",
       " 'test/f3e898913d681b7d938a298f9e068254.jpg',\n",
       " 'test/1b46e096107169adb7771ad029596bb9.jpg',\n",
       " 'test/bb966d3a3d243f7f613aaa728485f60f.jpg',\n",
       " 'test/b6198ed26acdf1a18797f6f0403217cb.jpg',\n",
       " 'test/1068f009dde547e7f1b472a538a1348d.jpg',\n",
       " 'test/17b8437db4c5a5b2554e68e6be1cf258.jpg',\n",
       " 'test/32371dfb88c6dae1d1915f1f8c3fc5d1.jpg',\n",
       " 'test/093b8af8f6a470fe25730c1d1c891805.jpg',\n",
       " 'test/ed0ec7befaa38726a118ab7e4d53b332.jpg',\n",
       " 'test/c860dce3776ee42b790952ea992a7bc9.jpg',\n",
       " 'test/84706e80023d20f30f1cf4f69741f9dc.jpg',\n",
       " 'test/49c11b9ceb257c6d99cf33789c2828ee.jpg',\n",
       " 'test/c3bfcaf712a23d793c02737a9007a971.jpg',\n",
       " 'test/dccf2e91f79396055e7ff83f1f207fbc.jpg',\n",
       " 'test/ef59760870674327ca5d004bae427422.jpg',\n",
       " 'test/a8f3055821c65b70e67911cc5bad1270.jpg',\n",
       " 'test/cd3c8b6e92538229f09a9634e3fcff49.jpg',\n",
       " 'test/56746ab26adb514bc9d57642837d16e4.jpg',\n",
       " 'test/4c44d439cff33a42178ee9d12f85b4ee.jpg',\n",
       " 'test/b2880d380cbe73d031937f7c4605992d.jpg',\n",
       " 'test/4e06ab5e4129cd603e8a5df22ae9dcfc.jpg',\n",
       " 'test/792b82a4b30a681cc8046b6770aa6d9c.jpg',\n",
       " 'test/c46f22468e73417f1c78b1361bc7f6f8.jpg',\n",
       " 'test/c21cb86f40cd4918ee36630b78caf26f.jpg',\n",
       " 'test/3701144391a8dde3a105aaebdd81ced2.jpg',\n",
       " 'test/e6cc659102d490f622b3e6b4f60bfaaf.jpg',\n",
       " 'test/077b4c62007a362be52711169abfa4fd.jpg',\n",
       " 'test/fbd60c426c459b27f0671bddacfa568c.jpg',\n",
       " 'test/975133aa03b0e417c0a18944ac61c41e.jpg',\n",
       " 'test/b0904dad8c1223dedfa44c9d9d3b0074.jpg',\n",
       " 'test/9477f91293a30cbd63107a20205b1d53.jpg',\n",
       " 'test/25b45743facea5e9f312ccf620ba29a8.jpg',\n",
       " 'test/4e5819cf0ae80046757d7241f502a43f.jpg',\n",
       " 'test/9a64ea7bf2211f9021da989ada36063f.jpg',\n",
       " 'test/25929fe1b00d59ad03db9576464e6cb9.jpg',\n",
       " 'test/5b2d1ab24a9250bdea55819eb73e99b3.jpg',\n",
       " 'test/e7340d1efa70bf6d6c134e1e150f9473.jpg',\n",
       " 'test/ff8f9a768544fda79ffad62576f4d129.jpg',\n",
       " 'test/5a9f620cd46e19e41d15044109b6fb20.jpg',\n",
       " 'test/40bc48838c2bf936ac2f207cf02c861f.jpg',\n",
       " 'test/b6162e12a3de875f3f3af5ea3c581abb.jpg',\n",
       " 'test/9e1224c66332635a1562596799527a0a.jpg',\n",
       " 'test/372390ca9cf85da9f02e5225d3a052b1.jpg',\n",
       " 'test/f298a81a55b9d62e6d337ecdf7b1e827.jpg',\n",
       " 'test/66931ffceb2218d11e0353820046a3aa.jpg',\n",
       " 'test/aaf65dabc7d2114f6cc9c56e142dd93c.jpg',\n",
       " 'test/68656de34ecba9514e27bfa8663ea424.jpg',\n",
       " 'test/0c8c480c7a385be3ab227159ab481938.jpg',\n",
       " 'test/e9b105a5b7873f33477f777d5a9447f8.jpg',\n",
       " 'test/4be816fa71cd7a061dc5f7a7b7d7dcd6.jpg',\n",
       " 'test/c8c9ad5883f6ef16fadc73890308d6f0.jpg',\n",
       " 'test/4792fb57129b278b74a58f5f2c8bf2a1.jpg',\n",
       " 'test/6326340c4e362a50acfef22a548626a1.jpg',\n",
       " 'test/0b73c34b32b7cfdec418cccd9b8a1edd.jpg',\n",
       " 'test/e458d6133dd1b436b047f86910f7fe34.jpg',\n",
       " 'test/a7d038e675344e7e18f05e3e14c81414.jpg',\n",
       " 'test/bf9a109dd391229fa06b3a34bc1470bf.jpg',\n",
       " 'test/276b3a945c27e662e711ee1b09002524.jpg',\n",
       " 'test/651136a08a228e5ee4cccb522e502e15.jpg',\n",
       " 'test/bf23f102104e43630fd4aeb576995f2b.jpg',\n",
       " 'test/6a2dc8880da477f5b3ea0a00c63faa3c.jpg',\n",
       " 'test/74f091944af35fb1040132a940b81de3.jpg',\n",
       " 'test/54e672c42a734881f367cac7ddf677f8.jpg',\n",
       " 'test/e92455b9e6291d0f192f23ccd4e0be3a.jpg',\n",
       " 'test/65a69d42bea45ba503d9d93429dbdc26.jpg',\n",
       " 'test/e683ba5a138de0fbb7bb1523862b43f2.jpg',\n",
       " 'test/2236e418e4dfcef943097eb3b70b69a0.jpg',\n",
       " 'test/5028d2d148171673158c6ec80c03d8e7.jpg',\n",
       " 'test/5c3b1f04d688b339e0511cd96d4a8f18.jpg',\n",
       " 'test/4744f6dcb41662c000619553e0bb2b17.jpg',\n",
       " 'test/7554a46b469aadeea862ad1ad7984685.jpg',\n",
       " 'test/655d76fbf0d40d40c472657abdecf4a7.jpg',\n",
       " 'test/c57024fdd7da7544f7c80faa0dce0674.jpg',\n",
       " 'test/d46f64d08d9b37bc73833d087982740a.jpg',\n",
       " 'test/79eceeb51dcb499f1b85021bbeaecc7c.jpg',\n",
       " 'test/ec89476b99aab390011acee436f9642a.jpg',\n",
       " 'test/6609f69ad0cfcebdd4bfac4f392ef314.jpg',\n",
       " 'test/dfa54e85c1309d8a9933deedc1d775c7.jpg',\n",
       " 'test/3f584fb5a0de489a823f3037e8b65065.jpg',\n",
       " 'test/8b04879c87f77830bf329b3feb3653f4.jpg',\n",
       " 'test/55b95fb638556476ab18ebaac6350143.jpg',\n",
       " 'test/19edaa27d65bb14aa6140ac05910cf80.jpg',\n",
       " 'test/dff4932a639f0bf9b1e693fff89fc898.jpg',\n",
       " 'test/25d131ecdf7d4937ee31b248c3d0b5c3.jpg',\n",
       " 'test/7ccc55630e822fe5e611d43e5cdc8cf0.jpg',\n",
       " 'test/98ab98e40fc6786a5441eb6a1ef628ca.jpg',\n",
       " 'test/b53114323c95b21388d52608c2d84573.jpg',\n",
       " 'test/8db6b8f62434b16f4c83a6b807a322ff.jpg',\n",
       " 'test/8ead441b5308c4717d2f2420a4d00f70.jpg',\n",
       " 'test/c0d45b04b7b427c973c71ad23b6a77f4.jpg',\n",
       " 'test/83c3a329b5fe2a7a8360086a735402f0.jpg',\n",
       " 'test/fb1493c964bd07227bee28b3afc0477d.jpg',\n",
       " 'test/484791ba2c0daf4c87404f4a429d7dfb.jpg',\n",
       " 'test/97d02fa5ba4a5b5d72324ee24cb7daf4.jpg',\n",
       " 'test/6c731a8b807371b2f124d0f8d84348c6.jpg',\n",
       " 'test/c3ec6483b2b5a60e247067d51901fd7b.jpg',\n",
       " 'test/a4e8a2b98ab80f5341070eb173dff5f9.jpg',\n",
       " 'test/26e08d841dab93f119685d5f5e9ec866.jpg',\n",
       " 'test/8797679e44c841b01118444dff222894.jpg',\n",
       " 'test/81fcf88f635727bce89a31142c8a4007.jpg',\n",
       " 'test/2b875c0f9a0d65b3ae4ee05a5caf9d5f.jpg',\n",
       " 'test/0868fa59f5b4e8c92e3ea230cf912328.jpg',\n",
       " 'test/e4a6892fb0e5c0680edc17138089d93c.jpg',\n",
       " 'test/c71a4969aee06783edcdb204a6245372.jpg',\n",
       " 'test/ba027bbbca482bd76c8c5b1cc1fa91e4.jpg',\n",
       " 'test/5efdd994a4d814114754297889776331.jpg',\n",
       " 'test/6e8f18e1dbe1ba7f8a88bc8094adc025.jpg',\n",
       " 'test/a22cfc744f11c2133f185123901ea137.jpg',\n",
       " 'test/cea07bfee1853169bca6ed318563cf82.jpg',\n",
       " 'test/9306ca2491832795f90dd0cfe4e54e4a.jpg',\n",
       " 'test/573b952339cffa250a6c02f6b8f73037.jpg',\n",
       " 'test/8f6f72343b68253f28088d771a9b343c.jpg',\n",
       " 'test/671d2144c3101da033c9f2b1f78bfff0.jpg',\n",
       " 'test/fd1a7be32f10493735555e62913c0841.jpg',\n",
       " 'test/e5c0666aa15120eba4718ae947a52c45.jpg',\n",
       " 'test/b91281d65a5769c6312fec0d0ff6f606.jpg',\n",
       " 'test/9c7817f5a1890558f7d83f16b29151b4.jpg',\n",
       " 'test/fd04e7236081ae28e353974f05f90bbf.jpg',\n",
       " 'test/758f9a07201494c594e3bd73063c9bdc.jpg',\n",
       " 'test/5b5cc34e13309c8602a6c8d8a783bc01.jpg',\n",
       " 'test/31fd12dd573f80fa94f7d8330b57f563.jpg',\n",
       " 'test/e5a89b25873ada7aaafec0de1af86cb1.jpg',\n",
       " 'test/178f52ba324c3408ef540a81307a54a0.jpg',\n",
       " 'test/4f0dccab1f2eaf24fe9848f02bc99a34.jpg',\n",
       " 'test/10863e6d9d1cb526cc9d90f30a585719.jpg',\n",
       " 'test/921989c37b9e66a8fd69e45f6de899c0.jpg',\n",
       " 'test/e5e51d0dfc3ccdb74de51933b2671742.jpg',\n",
       " 'test/364cff5215cb87c62f878a08b64f30b2.jpg',\n",
       " 'test/81d9330094617649be2182349aa268cb.jpg',\n",
       " 'test/c93e93653ad272d49b8fbc0ccfc1e086.jpg',\n",
       " 'test/4e5705314844dd061c89fb93c6c21546.jpg',\n",
       " 'test/25600c773eee1db25c6f29e9601597ee.jpg',\n",
       " 'test/2fa000699577a417b18ba0875e457564.jpg',\n",
       " 'test/798219c15b8a5ba54fa5d09772e9e1ea.jpg',\n",
       " 'test/086a6fe01b1805017e8cef3c9ccb52ab.jpg',\n",
       " 'test/eaa28b3163bb05afd07117ec4c6bb059.jpg',\n",
       " 'test/e5f2204119380ce1a17fd09435c5012a.jpg',\n",
       " 'test/40c1e2abebcc0a5373976802d7ec834f.jpg',\n",
       " 'test/4a297e34abbd732700246a8ddefefa8c.jpg',\n",
       " 'test/945d5bc18a470bda95312f99d0d4b1c5.jpg',\n",
       " 'test/c5cf586eea0e1c956877cbf2f755344d.jpg',\n",
       " 'test/fc29d76d1e3cd3478e9c3121fa50749a.jpg',\n",
       " 'test/0441fda84f1eab8ddc72a8262a66e626.jpg',\n",
       " 'test/c0001a023f3b954f3b31fff403f60444.jpg',\n",
       " 'test/565852172ce10a9543ce7c2e4752cf04.jpg',\n",
       " 'test/7765136bd0b50472d4e1334d413e7fda.jpg',\n",
       " 'test/9f04a42304ebbc558a5cf0c3f46541b3.jpg',\n",
       " 'test/fcc4ae9d2d9a24b77de033e5cc966d01.jpg',\n",
       " 'test/e241bfdd5cc6154698394905abaa0d76.jpg',\n",
       " 'test/796cc4fe56597d3e8cfc9595ca1454de.jpg',\n",
       " 'test/4423c704fafa60bf1df144f738340cef.jpg',\n",
       " 'test/f9810c674a581269d3d68e50c8d73b85.jpg',\n",
       " 'test/755196b54b8e20e083510292e65d1126.jpg',\n",
       " 'test/d4bd6bd5b2ed69e650d7e3f633cdffdd.jpg',\n",
       " 'test/0b98d2c4d26387ae0e105aa930a7ce09.jpg',\n",
       " 'test/3359cbcd24d208935fe1b1464b69a8b2.jpg',\n",
       " 'test/10cd1f206da577eb0ef2ba6ce012b385.jpg',\n",
       " 'test/d401f036d655c68c0b72762217790db2.jpg',\n",
       " 'test/58c9184e27d29fc3414627f36c6e2d25.jpg',\n",
       " 'test/af054060703fbdcdc9945cb501b6b007.jpg',\n",
       " 'test/9eff5d3f40de09241a6288d1b305685c.jpg',\n",
       " 'test/e702ddff98bd0b05ab200ffb43fb080a.jpg',\n",
       " 'test/03205e3e568c87e1568a8415272a8da4.jpg',\n",
       " 'test/ca244b60ca88c2ea416f937f21a77e83.jpg',\n",
       " 'test/45e1b016d1ad70d71d80b8e6179a7795.jpg',\n",
       " 'test/0ab808aa3571846e50ed74a204662c52.jpg',\n",
       " 'test/30f960fef5fd6547d76d08d09c3f6e2d.jpg',\n",
       " 'test/9e4686c68f6ba0ff1530ce8d20197e87.jpg',\n",
       " 'test/33f49ad67acfe8816d56d232fe87b48b.jpg',\n",
       " 'test/a28e1500f38f0cb8e6f00832d497c7e5.jpg',\n",
       " 'test/c656463bfa2068e0b296a327fb0d6081.jpg',\n",
       " 'test/74d0958335f471545048b074781c5228.jpg',\n",
       " 'test/e646ac89e0832502f9a726c72773cfcc.jpg',\n",
       " 'test/939c0404e0c2a1422dee63b27eea240d.jpg',\n",
       " 'test/f01df7641b237cd177d71fdb8db9bd58.jpg',\n",
       " 'test/868d3d0c45ffc86510b3ad9b6ee6d913.jpg',\n",
       " 'test/49adf44b63b707f951298072329968f1.jpg',\n",
       " 'test/a5aa4e972242a61829ad10b220a12c64.jpg',\n",
       " 'test/2d8cc8db157895f8900407d349564e63.jpg',\n",
       " 'test/9491a0cbb74c6d94827942e13b7cfe1e.jpg',\n",
       " 'test/9a9449fca1ebb1b8262ccb8eb682996c.jpg',\n",
       " 'test/7495c3d0ada8b19e865fe5655535086c.jpg',\n",
       " 'test/877cb64ef00dfaab72274b477588a816.jpg',\n",
       " 'test/3f999cf1693fa903bf7dd6164dd46e59.jpg',\n",
       " 'test/e91c648dc54d6f418636ec7bc1566912.jpg',\n",
       " 'test/f7f845383fa94fea9722b22a5ab0da73.jpg',\n",
       " 'test/dc9f477f7978ec255a8e334d8a9af494.jpg',\n",
       " 'test/7d09f8317466a8426e562d61272357da.jpg',\n",
       " 'test/821073087c17a0600d930c95361ab4ba.jpg',\n",
       " 'test/e0c767bc2bc03b909526f1861c712b13.jpg',\n",
       " 'test/36503f477d96bcbf902440edeb28a475.jpg',\n",
       " 'test/2c6041f8fdee4378957f87427d70b326.jpg',\n",
       " 'test/0821ea02386d4a714d7b6e39ee5e66e8.jpg',\n",
       " 'test/218b9f29f8739307bf5878176715f202.jpg',\n",
       " 'test/13557ec58aad7410efbc8f843754988b.jpg',\n",
       " 'test/edd77b60eb22df1021e726b87c270064.jpg',\n",
       " 'test/f41a03e617bde76fef19ec1cf1355d59.jpg',\n",
       " 'test/58f035c2426d1c300dfde4d891af4186.jpg',\n",
       " 'test/055cb4e6ba1540c275d6ccd2c0b52c27.jpg',\n",
       " 'test/6facc3b37fe3f1312f72f3d17543089c.jpg',\n",
       " 'test/a5c1646de93471cbad69c80119572687.jpg',\n",
       " 'test/1e5d3de587bc5db73a52fd01147166bd.jpg',\n",
       " 'test/967898f6705e9c4dd97ec7c8f8b1956e.jpg',\n",
       " 'test/b714acadb59446512f4db58c333fc0fd.jpg',\n",
       " 'test/ae3a2e79b17a2f0ba57206cb00d725c4.jpg',\n",
       " 'test/67ecd74f0b9430d215b5036f21fa8f84.jpg',\n",
       " 'test/5bd2e1f97550f18c55e1fc265faf2e97.jpg',\n",
       " 'test/4d70f96e378247df9f598ad4e49ed89d.jpg',\n",
       " 'test/9459d3e37e929a0c0130abe1786778be.jpg',\n",
       " 'test/6b03bc633b0976b42218b99bcec7df91.jpg',\n",
       " 'test/9853e6ef65a60ac92012f199becd0d2e.jpg',\n",
       " 'test/9adb4c6f4b1c3203626f7b130c7fe49a.jpg',\n",
       " 'test/1dd20662b303e96f68c5b298a98eb8f1.jpg',\n",
       " 'test/266d72317675f3fafaf614cd80c04182.jpg',\n",
       " 'test/786c5d48f5b20a0ffbfa7cdfae09bf61.jpg',\n",
       " 'test/07165cea9be18c57a340345c02a3e885.jpg',\n",
       " 'test/d993cffadff907ffc455e6cd1dfc7863.jpg',\n",
       " 'test/df2b5cee4b3d8a3cb893b668df16d572.jpg',\n",
       " 'test/bb5dccafefdac840935697a0f648fd72.jpg',\n",
       " 'test/e9ef6c9f1a1ad34c42b6595c18f164e2.jpg',\n",
       " 'test/f74e342ace4cdfbf26dfd2bd32a62cee.jpg',\n",
       " 'test/b56650f1502f151ef1c307f93f1b03ff.jpg',\n",
       " 'test/f082ee9b91ad597fdf11cc08771bbb50.jpg',\n",
       " 'test/3c35691f75c7186041609ee99d072039.jpg',\n",
       " 'test/afe9cfdd1434c6641d54e81b5116f099.jpg',\n",
       " 'test/28950f53443e40e5a704a8cb5a1e1d35.jpg',\n",
       " 'test/94750ce6f7946018d0cc20c2beb83d90.jpg',\n",
       " 'test/61d2b82f1dc1b7a859b6a89c5a336c4d.jpg',\n",
       " 'test/50368ea7175cafce522ddb0a61a003d0.jpg',\n",
       " 'test/b69471b930e624d31cbb99388ae8ed29.jpg',\n",
       " 'test/0ff55c6329f9bfe0f49a02d2d6c20cb4.jpg',\n",
       " 'test/0854e34e53c9dd84579d4c37086dbdf5.jpg',\n",
       " 'test/37810d09d050bf679fd89d4f1961897b.jpg',\n",
       " 'test/24ea2e01a7cf3250a0fbc6b5a06f6664.jpg',\n",
       " 'test/4f8739b5e43ebb6843f52669ebeccc4b.jpg',\n",
       " 'test/be4b222cc999789857d7dabb0be4295a.jpg',\n",
       " 'test/5a2db0d866b973c0bd3503a31df0c55b.jpg',\n",
       " 'test/3249b32e02c0605003c4f596d3a74fe3.jpg',\n",
       " 'test/bb589c9bae9914e82d398283e9b151df.jpg',\n",
       " 'test/7c02585f77cb0f2b31002e5b4b38a2bd.jpg',\n",
       " 'test/c675d90e03504e309465b5267ec381ed.jpg',\n",
       " 'test/334215ba2a62e1d9dc91b8f484af3b97.jpg',\n",
       " 'test/b88f5214b30167415697d8cf96d29d0f.jpg',\n",
       " 'test/61f2e51806a151d8967c584f78bf6d74.jpg',\n",
       " 'test/669e58ccbccad5d4880e391046ab1343.jpg',\n",
       " 'test/329754c8127a0e2b35ec0a0fcf235d16.jpg',\n",
       " 'test/4d63401331c349e43aa4c50845b6d4ad.jpg',\n",
       " 'test/12c3287c880cb83dfbc9cbce3d2952be.jpg',\n",
       " 'test/a9df6b381744989a5b0f9d7cb95b56e4.jpg',\n",
       " 'test/f35c272e3ece87df743552aa517488b0.jpg',\n",
       " 'test/35aaea679a279ceec46f649f0590f325.jpg',\n",
       " 'test/b151fa5a434c3a7fcc6618c8d6a0797a.jpg',\n",
       " 'test/7edf77f00dcc7151013e71828cded079.jpg',\n",
       " 'test/a8eec44f9b53402c3316820624aae42e.jpg',\n",
       " 'test/2b0fb6de060a823b5723c4bcf1bd0f8a.jpg',\n",
       " 'test/0551436dc38f714b0444949cd6f46073.jpg',\n",
       " 'test/e15513ca7ebb4730731f34c25e906502.jpg',\n",
       " 'test/72619596c8e1c77a240935bc5be22ac9.jpg',\n",
       " 'test/fd4e99fff3c7203d010fa1fac5ef570d.jpg',\n",
       " 'test/b623a2d8b78bee1490619154d7a6fe55.jpg',\n",
       " 'test/5c848060a6a8ca95eccf680c6a56169c.jpg',\n",
       " 'test/346ff167d16f44acef5ca5b1c9c9636d.jpg',\n",
       " 'test/ef0ec3c95160918de7bd290897ea9f65.jpg',\n",
       " 'test/a3f2bdc1b31e838afd609a242c44310d.jpg',\n",
       " 'test/1d1c000670c98e32cb04f97d338be910.jpg',\n",
       " 'test/7073db20fb2bfa2235290a5d4cfe398b.jpg',\n",
       " 'test/c7c4a612bdccea8e81e6c677ca56d399.jpg',\n",
       " 'test/28d6506ec1073e9bbd756cc1a49a886d.jpg',\n",
       " 'test/6bcfa68cb4490c308fc77094ddfb48ac.jpg',\n",
       " 'test/7b9a78f1f5575e7d337d35caf148adba.jpg',\n",
       " 'test/d5c160b47de14a1b8bb121a605640b20.jpg',\n",
       " 'test/ee59d7c0fdd2344e9d6d815f1099ffb1.jpg',\n",
       " 'test/a6efa3d0b7942c684dd35898f4928905.jpg',\n",
       " 'test/4fce6bd61f6093aa4f501a1e6a7073e9.jpg',\n",
       " 'test/85824b525fee5287fda022bd67cc0347.jpg',\n",
       " 'test/02db0128479b6544c07b3ed247ebc937.jpg',\n",
       " 'test/6dc8b801689473766e8ce04031c6bf31.jpg',\n",
       " 'test/c2942b59843d50f302945f0ebf1db03c.jpg',\n",
       " 'test/1f415fdfba198e37db879b1ab908aa71.jpg',\n",
       " 'test/a3f81e2c5ab1ee19ccd0211a381c4301.jpg',\n",
       " 'test/144a87a697d9e819322ff0b8f57075e1.jpg',\n",
       " 'test/97b52c9b094e6e8a978565d8eb78db75.jpg',\n",
       " 'test/07e4edc428816ffe6b8dd1024bed2782.jpg',\n",
       " 'test/51a9fc982eb0b63bedb58b67d65d35ea.jpg',\n",
       " 'test/1f0215808e10201f4ba417cee4f0ba8d.jpg',\n",
       " 'test/1de0cc1a40046bcb58400263159597db.jpg',\n",
       " 'test/94e2137ede652c3b240e583114dae522.jpg',\n",
       " 'test/fec0e1ad18d153c54a71215002ba4f04.jpg',\n",
       " 'test/511ca6e3539192aa5c8747bb697e0525.jpg',\n",
       " 'test/05e789faff69d1c30cda54e44d7f0059.jpg',\n",
       " 'test/b0795add22600de65330b537b7709705.jpg',\n",
       " 'test/c2b4f929f0b4728155b582eba9735fc0.jpg',\n",
       " 'test/a35808adff58c482268cc69e12613c2a.jpg',\n",
       " 'test/8b203552cefac6573c9b2035d1c5c1fc.jpg',\n",
       " 'test/42feb15909b1a7da5d85bc1a2baafe47.jpg',\n",
       " 'test/bc5269cf2a1ade06078c28fee8660b5d.jpg',\n",
       " 'test/8644dd377f4775b17bf8c914265b149c.jpg',\n",
       " 'test/c2f4d8346143083ec1c0a9f4c871d0fb.jpg',\n",
       " 'test/7c320aff66ee91bfaccee485b97a9ce5.jpg',\n",
       " 'test/4f5ef91d33d35b31d91e2fe250bc88cb.jpg',\n",
       " 'test/3714f57e1d95d8183864cf4d13074f73.jpg',\n",
       " 'test/205c8404bdda68b888a452290c800f21.jpg',\n",
       " 'test/eec15026b5af233fa79dfb6081e1f339.jpg',\n",
       " 'test/cc41015b99b0cf2974a7ce1f6c11a0ff.jpg',\n",
       " 'test/1be1d95cc9cea3c8cc1b0b31a4ac9a4c.jpg',\n",
       " 'test/d3c526961a354ba6f36ef9b39ad45e66.jpg',\n",
       " 'test/2afc19a2977ea96c823cc86046dc7646.jpg',\n",
       " 'test/0656e4606d4a98f2e8c8452416ac1ea0.jpg',\n",
       " 'test/d88cb9fa369a935b04c272faac0a4152.jpg',\n",
       " 'test/145e1b4570fd32057e82c8d5754576e5.jpg',\n",
       " 'test/ae60c8319d1ed69ced161ace4f075b88.jpg',\n",
       " 'test/77aba4baccd5d43a9063d7e834aeb791.jpg',\n",
       " 'test/b35032576a933d77b3345ae19f8f7dc2.jpg',\n",
       " 'test/1dac364849934707c3dc109b86a92e5c.jpg',\n",
       " 'test/ed1d8dfbebbb70b252cd71e165ea3d76.jpg',\n",
       " 'test/57ff0f64f17597e00f58aa6db0392f83.jpg',\n",
       " 'test/d99e838a712ae8ffad19976477c3d2a3.jpg',\n",
       " 'test/e64d56f012476f124591a22648114a37.jpg',\n",
       " 'test/5dbae9788a740ea9b923303391ceeaa3.jpg',\n",
       " 'test/ada95e14b8198eb631e14321e148b718.jpg',\n",
       " 'test/223a2071464f05c2ae405762b9ca3af6.jpg',\n",
       " 'test/b958f52751dfc027def9c38dcf7c66ed.jpg',\n",
       " 'test/0b8132fc7939d41b92e13ebffec83261.jpg',\n",
       " 'test/0fe9386d16a008c40f260dbf3bef4a00.jpg',\n",
       " 'test/e487437a727b3e4f0b919c878d39ae6e.jpg',\n",
       " 'test/1f229393f0607e721466390a81debe1c.jpg',\n",
       " 'test/56b1cc3f408fcf200f1e17e6c44edab5.jpg',\n",
       " 'test/4efacbc76bcd2b3706cc3b908de9ac5b.jpg',\n",
       " 'test/f44005bd8019c5b9fb3ba2216e5d2af8.jpg',\n",
       " 'test/2b2ae5a4911e51ff9d600d6550dbfa17.jpg',\n",
       " 'test/a139581faa6b04f7d4c0e87107e33a01.jpg',\n",
       " 'test/31a69c8f551901f731fa9f4edc7d8c17.jpg',\n",
       " 'test/b420b647c567344a867cc6c1483d455e.jpg',\n",
       " 'test/25388b6d6833aab10a08588599ab92eb.jpg',\n",
       " 'test/57ed76869c0c0115317c08317e2e33a6.jpg',\n",
       " 'test/11fd8887c88af2cad11b1f0824bbb3b2.jpg',\n",
       " 'test/8e53560770c4f22fab9c92cafed86bcf.jpg',\n",
       " 'test/6850f70da9a13a14539d2b1226025c8b.jpg',\n",
       " 'test/28826c8902e4b36658d0729705097e24.jpg',\n",
       " 'test/44a596ab62489bdf368f58e2d246333e.jpg',\n",
       " 'test/ad30cefe3a170987b742186c0b9407f0.jpg',\n",
       " 'test/2c74df8dee83739bc909f120223e0bba.jpg',\n",
       " 'test/e07e608afaa89ee4ee939ad0a3bd3224.jpg',\n",
       " 'test/2bac65c746f402138f3c6e91875bcc21.jpg',\n",
       " 'test/82b8fed3d9e3d9cf02bc286e32002416.jpg',\n",
       " 'test/ba6c60c37a347d8f05e3ff02cc531512.jpg',\n",
       " 'test/6b8718cde05cc71a8fb6e68d43ab224b.jpg',\n",
       " 'test/761f5d01c29f8f8d51c45a28bb2c64ed.jpg',\n",
       " 'test/191acdbc92d6643220bdc61f2dcec643.jpg',\n",
       " 'test/2f13a80c9269d600951c8a0e4d1c9a81.jpg',\n",
       " 'test/796620b6c4063ee95d7b35b691595058.jpg',\n",
       " 'test/e23ad195d88975333bbcde7dce5faf01.jpg',\n",
       " 'test/3074830106a7331fb7cb1e3312f513d4.jpg',\n",
       " 'test/167750ceffff7fb01e189998bbc78541.jpg',\n",
       " 'test/0b297c77f3c031ee31ae2095e6a72405.jpg',\n",
       " 'test/13802b88269d75c9bda1c8a2489abc5c.jpg',\n",
       " 'test/82d7e56f36d56fb62d3b7299762464ab.jpg',\n",
       " 'test/8f0c59a69ee53ea445062d1428f494af.jpg',\n",
       " 'test/eb7d51eeeab24f94b54a4f8b19f6cdc5.jpg',\n",
       " 'test/c2d87315df1b02017edd04f30f8b60fa.jpg',\n",
       " 'test/3de98ac5b1344f02756bc3e9b2e90433.jpg',\n",
       " 'test/ab5f92418abab68a08c895f2352b6896.jpg',\n",
       " 'test/b1aa9c743d188c4cf27c7433b4290699.jpg',\n",
       " 'test/1cb39487e071702fb2ac1a31be2d31d7.jpg',\n",
       " 'test/a517beb4183be5a0b0140a4bee9cd47e.jpg',\n",
       " 'test/56c26bf0ab12b5c10b761037671c2520.jpg',\n",
       " 'test/df645ae75554d4d7130bfa1b72be53ce.jpg',\n",
       " 'test/6b62eee9c188519f2b1bcf65493b4129.jpg',\n",
       " 'test/49e9e9145a958803a9ba2e3f6e0a71ab.jpg',\n",
       " 'test/1439e842cb9f8b2c3fcc64806cf82728.jpg',\n",
       " 'test/d9b9bc0839bc75beb0686e21c143c0eb.jpg',\n",
       " 'test/a468d10f3a618186de49d4c5780911fc.jpg',\n",
       " 'test/aa578ee232975465e28d8b372d410149.jpg',\n",
       " 'test/0036c6bcec6031be9e62a257b1c3c442.jpg',\n",
       " 'test/7261882b948e7bd67aa9bc550bf02b18.jpg',\n",
       " 'test/de327414ced20d4e6f786a68bff82e10.jpg',\n",
       " 'test/a6f7a3bad09db1ac741a7dbb765482f2.jpg',\n",
       " 'test/4f68d9eab3837bdc7ba40ca406916e25.jpg',\n",
       " 'test/5e1e573a765ba3b14e88938b5af3b4a5.jpg',\n",
       " 'test/6bd20de4719f720a3ffe0fe0fa66d72d.jpg',\n",
       " 'test/8dc7ff54ae077a63cd489faa94684709.jpg',\n",
       " 'test/258f32b2e965e29825a2afe8ffccf25d.jpg',\n",
       " 'test/4bbfdb65ca5794529a84f9f539bb4bba.jpg',\n",
       " 'test/0d2eabeabab223d84cc00ffa8aacd16d.jpg',\n",
       " 'test/7d58823cd3a11a72c7d2d6e9001f90b7.jpg',\n",
       " 'test/8cbea8595993c0f55000ff525a9c889e.jpg',\n",
       " 'test/281dfcadcdbcee85949accc0eadd4732.jpg',\n",
       " 'test/ec4536edae000402b075a55d062eca21.jpg',\n",
       " 'test/7df01000512f89208350aef78733ccb7.jpg',\n",
       " 'test/28443fec87fe42d33ff84bbe7d112a09.jpg',\n",
       " 'test/7071f924ee7be563a68b0969077cb4fb.jpg',\n",
       " 'test/b7ed359bf1d597b4d253ccec29156b9a.jpg',\n",
       " 'test/c21a378bb7db56b6789ae458370059a1.jpg',\n",
       " 'test/de59703200e1b19b520033e76dea9b62.jpg',\n",
       " 'test/158e88cf3cb41d3a88308d163eaa2176.jpg',\n",
       " 'test/f2d8c849a9ec1a3217e53ebbb7d50e3e.jpg',\n",
       " 'test/21801f730f50cfffbae4dea4a81660b4.jpg',\n",
       " 'test/1975d3b342d0023da3219a41c864ff41.jpg',\n",
       " 'test/17f840f8bfc7ef60eec37f9ee52c9517.jpg',\n",
       " 'test/21717d69bbd1ea85d50ac6c302cd9128.jpg',\n",
       " 'test/b1cd742b8e651699372c104b0ee50ce0.jpg',\n",
       " 'test/29038ab1642e75af85141cff681c8334.jpg',\n",
       " 'test/0630bc53549c1169cb9c081907a8cb05.jpg',\n",
       " 'test/004bf14426d1a830d459a9e0c0721309.jpg',\n",
       " 'test/82339c485430817cf7036d604acee4dd.jpg',\n",
       " 'test/667067662feed53f9ac4ac4d6d995892.jpg',\n",
       " 'test/6eb02e880979a02e155b62cf68d4345d.jpg',\n",
       " 'test/bdf9a7db5457a0f9a1fb97d831a124e9.jpg',\n",
       " 'test/e0d85c8c8730c81e80ff2ca74bb61c87.jpg',\n",
       " 'test/38a54d837294a3fdb769867cb264488c.jpg',\n",
       " 'test/86813de67a3747df67805ab8508ac7c9.jpg',\n",
       " 'test/d9ad7f21c3efa2f7a9bf39835214b5a5.jpg',\n",
       " 'test/226c82a64d425ea5acb7a2f54b12bc35.jpg',\n",
       " 'test/c86f52e4264e01a8b6432f9e0255b3af.jpg',\n",
       " 'test/f6d25bad96714bbb31d494239c80deda.jpg',\n",
       " 'test/15f9bce2f39a0855b04d1fcc173e5f7a.jpg',\n",
       " 'test/d2e51cd71015fa1df5d82c48de99d871.jpg',\n",
       " 'test/8341f50a86c819b3cb8828740a97e7ef.jpg',\n",
       " 'test/5bb84f09173f26c20a3c470cb1bb235d.jpg',\n",
       " 'test/8d661dfb329568d0f365c4f9a030b52d.jpg',\n",
       " 'test/dd98d4023806fdee7721b42db812f131.jpg',\n",
       " 'test/56568522569abd46a624739163883d6a.jpg',\n",
       " 'test/4c9daae07b3b3ed5d5e8920e54b21176.jpg',\n",
       " 'test/0092bd9e90a13403373fc0e9e1218938.jpg',\n",
       " 'test/aafeaab1de0124e7c213acd3473ca3c1.jpg',\n",
       " 'test/ed3f78bd3eb6751819212fa111857e51.jpg',\n",
       " 'test/ad4f20474fa6a0cf0a84c656fb440b27.jpg',\n",
       " 'test/4e4572c19d7d137c63ea81ff197b3996.jpg',\n",
       " 'test/200b2eec162e6f6c695db70cf8d3ae73.jpg',\n",
       " 'test/27ec49d331670b1c86ed3e52fa670585.jpg',\n",
       " 'test/cc671ee46e9a0fb3cd41c43fcdc1c54a.jpg',\n",
       " 'test/d0314311cfbc923db41873d78cd9ae43.jpg',\n",
       " 'test/34bdc9f7f79214d326ad2f20b5c32f95.jpg',\n",
       " 'test/3304bb6f7dba8b14fb7ff61bef70cea9.jpg',\n",
       " 'test/e0ccfbe350e0e8bc7bb7e1f95fa07b3b.jpg',\n",
       " 'test/39c29f03d0404ff7b5789635b962e75a.jpg',\n",
       " 'test/c2041b87090d86e3f4682040cd824b33.jpg',\n",
       " 'test/e2b6d4957b62934bd831c3a1b65e2ebb.jpg',\n",
       " 'test/efd7266343c00fd2cb3cf5aec4aa0b42.jpg',\n",
       " 'test/35b4b91f00ebe414b79e1290c73c0676.jpg',\n",
       " 'test/d00a9cb79ee6edbdb0e683de51a8f50a.jpg',\n",
       " 'test/6f17a6667382b1b3a6e1d614a306f41c.jpg',\n",
       " 'test/0348bdc26f3ddab7bb839fe245f9062f.jpg',\n",
       " 'test/3635d8ca924240e41c75386c4231bef1.jpg',\n",
       " 'test/ff20371d584e330e288f9a863f484ca5.jpg',\n",
       " 'test/53a13ab77b9ed9e2a062511f4cb39804.jpg',\n",
       " 'test/6c52bfa416908dbe178def9cce316f08.jpg',\n",
       " 'test/92d8c1fd586f6565c82d6828335cac14.jpg',\n",
       " 'test/5e65ceb8d66a901246ca3a88bc2db930.jpg',\n",
       " 'test/3a1c97e85aaaf6810c1f5a8c9250a6a7.jpg',\n",
       " 'test/928e71ceee6c6e61aec4d9f900ca65f1.jpg',\n",
       " 'test/c939c34169b34dfc8b8c80c9b3b2bd08.jpg',\n",
       " 'test/71955aab620cf2e788decb3c09421012.jpg',\n",
       " 'test/812c0a953a2c7f83ef54e54aa46fd510.jpg',\n",
       " 'test/866cd03671f0837de234ea98ff979de3.jpg',\n",
       " 'test/d111da09291de948a9bda08dff4328f4.jpg',\n",
       " 'test/adb386aaab53bb6f847bc50158808d3f.jpg',\n",
       " 'test/1443444abbb6e1d0974a0c8db8b42db9.jpg',\n",
       " 'test/aa14c1133c39dad2aefcb6326cb2502d.jpg',\n",
       " 'test/2b9c65dad9ebbb88e3531e44c8b8b88b.jpg',\n",
       " 'test/d8d6cd8825d0222dc74792788619b72e.jpg',\n",
       " 'test/7b3a9c2f5f01acd4846bdc65f4190ece.jpg',\n",
       " 'test/d06358573fddbbd3c97a1f18da0122ff.jpg',\n",
       " 'test/895c941d23392eb5d2d1ba1bca7c945e.jpg',\n",
       " 'test/b46e5c6e20f384eec6570c8845b7dd01.jpg',\n",
       " 'test/5dfc0321f7cdec9deeb8edecc05ceaff.jpg',\n",
       " 'test/f681821203c5ff0a675b6f998767e4ab.jpg',\n",
       " 'test/e1adb64372b1784c01401cb73bb20807.jpg',\n",
       " 'test/07217f9dab968cf02c4cb37acf2acc28.jpg',\n",
       " 'test/ef627a04965eda29fc3761b1f663aef1.jpg',\n",
       " 'test/844ecf21ddef99656d7829d1e139f9fa.jpg',\n",
       " 'test/c35984486ce33eeda8556cdea9797bda.jpg',\n",
       " 'test/577e35e4390b3fdf1f9b5db1a8b40cca.jpg',\n",
       " 'test/e14cc46044a0fb31554250b07c93bd48.jpg',\n",
       " 'test/d8e7a8dd3d639116edfad1a9d1463130.jpg',\n",
       " 'test/f5e35cdf4d058fb4d1f2372cf9cd1909.jpg',\n",
       " 'test/329b1ef3e91e807eb6135475ee947e30.jpg',\n",
       " 'test/7e0dbdb422e54f62b0124123b63ca0b2.jpg',\n",
       " 'test/8636f5669797f54ecdb973ed9e9f6f1d.jpg',\n",
       " 'test/285eda48fcb5365727d6b07110db17e3.jpg',\n",
       " 'test/7baea2db19d6fd9c2f01d14e971e5549.jpg',\n",
       " 'test/0298eb3d74444d2c405639d51c220bc2.jpg',\n",
       " 'test/7e9ea302a3f645152c00b09764c8a272.jpg',\n",
       " 'test/06c65731c3bb87dfadb14cbc4e7504c7.jpg',\n",
       " 'test/4f7a2ecf68a37cb430b04728a07c5e45.jpg',\n",
       " 'test/13dbf5ece2fbece654f6007c0dd9dfe7.jpg',\n",
       " 'test/b75d9cb98dc9bb5448632a96f8785cae.jpg',\n",
       " 'test/261698fc6b5ee8d7832993faeab992d6.jpg',\n",
       " 'test/6770edd7893c3521c9c197b8169ab5c6.jpg',\n",
       " 'test/778c748d5ab8034bde2a100fd64c0344.jpg',\n",
       " 'test/5de79cddad717b04df0dcb7a132dd5f1.jpg',\n",
       " 'test/3be602e5b58c0274b72ad5322d3c8601.jpg',\n",
       " 'test/a77d35700ad115836818527dce93460e.jpg',\n",
       " 'test/d8e39eb35436e6c4e1119cbe377c4371.jpg',\n",
       " 'test/34cf7ba73c36ad2e1218b13e8dddad7a.jpg',\n",
       " 'test/8bcd9b2e171111039c45518139d0417d.jpg',\n",
       " 'test/14b0dfc136f86ca7b07dcc5d1837b8b1.jpg',\n",
       " 'test/cb2e6f11680876b86bf7a9bde6186da2.jpg',\n",
       " 'test/9f37e8ea16c98f6ab7034b4cc1f26a7b.jpg',\n",
       " 'test/21912b0666fb7fb953e57e3c785b845d.jpg',\n",
       " 'test/e9b16b4bdf5b0561fc7c69b2f36e1a7e.jpg',\n",
       " 'test/1fdcbe1bcd80c118461512790a250e67.jpg',\n",
       " 'test/a5fdb7d8648007676af30c0fd6ffa9db.jpg',\n",
       " 'test/b91bccc28b23560a3fec5da3e88a8544.jpg',\n",
       " 'test/b8da90f454f62fb33c83715a404aca3b.jpg',\n",
       " 'test/41b0714cb0d0ffdb5f2da02dac83549e.jpg',\n",
       " 'test/a249e1b6752e56145f24f8cc4c8ccae8.jpg',\n",
       " 'test/f532b476d5d46f4ba89b22449e3c147d.jpg',\n",
       " 'test/21ba363165c9eb542b9f67a6e9f1da57.jpg',\n",
       " 'test/092b3603e559d05e09e226b56bf5f788.jpg',\n",
       " 'test/29e85e7dd33b3d55c72ff8cf8878a3fb.jpg',\n",
       " 'test/420ca2f011341d6e70558c6e2b46b258.jpg',\n",
       " 'test/c856e6ac2e86c4c99e7395b89f496a02.jpg',\n",
       " 'test/9bc5701373a8e4cb3d64d75322a19f9b.jpg',\n",
       " 'test/56ca9320bb1875419974c285684c9e1e.jpg',\n",
       " 'test/7cbc041e79135a572aad87904b5c9c57.jpg',\n",
       " 'test/15d19747ffe5fb9f8a3cb1aa0974483c.jpg',\n",
       " 'test/a0256a9577f2e7c6631dd78556e4bab8.jpg',\n",
       " 'test/51ecc75144edc86a0b008cf96d5bdd02.jpg',\n",
       " 'test/2c8cefbfeac08ede0d264016092a024f.jpg',\n",
       " 'test/a6b470d42e7d26a9f0614fa6a4897eff.jpg',\n",
       " 'test/d4b35622d0df5814f4056812d7507e50.jpg',\n",
       " 'test/bd9c44ff1aee15b6db0a598fde09a0a1.jpg',\n",
       " 'test/a4e7a39658ee317d06b7d5aa5fcca6ec.jpg',\n",
       " 'test/fc7c34b64c3dc982db60e50b656983fc.jpg',\n",
       " 'test/b540c0a0bf7a998d2c1e641b7021490d.jpg',\n",
       " 'test/746e5a57b19ef7fc85ae76d95c705a7f.jpg',\n",
       " 'test/92d6354734c8c5029f99d37780717692.jpg',\n",
       " 'test/1edc9d0814654106f79ec57747ada6a3.jpg',\n",
       " 'test/5783a4aa26a050ee5fc3b7e6f389fb26.jpg',\n",
       " 'test/30b1c9d463a013bf3825f374066ba165.jpg',\n",
       " 'test/959209551edd3e87aaa1eca7e42c28c6.jpg',\n",
       " 'test/ea23e5341ec5fc3f798ae527a4659d81.jpg',\n",
       " 'test/af0875565d699c45cad0509c61c4244a.jpg',\n",
       " 'test/e2f94ad185a2cfa2311c66c3e8bdba17.jpg',\n",
       " 'test/0d5043156904a8ade08741ce8006fa28.jpg',\n",
       " 'test/7895d82a63edc46d8a450dc4a651c37e.jpg',\n",
       " 'test/06b727fc8e24e46fd7ea78b08091cab5.jpg',\n",
       " 'test/c9629271409541d68f1c2c35b6d8133f.jpg',\n",
       " 'test/f09826fc9cb9aa425caae5f8aaaa8bef.jpg',\n",
       " 'test/28dd9823c2208e68fd2f93c152e2a627.jpg',\n",
       " 'test/57fd7978f33934d09aa6609b770c10e8.jpg',\n",
       " 'test/5468714fe0b866f1e26a86b3fc5da863.jpg',\n",
       " 'test/ea5bd02a78f243c609cd227c4a09c6c4.jpg',\n",
       " 'test/68cfc459e57429b1f8b6372fa1363a60.jpg',\n",
       " 'test/fa770328b53a68589a12b6f059099ee8.jpg',\n",
       " 'test/6ce9a737f73ced0e6a43a2e08d904adc.jpg',\n",
       " 'test/b6614b9f9276022bb19f7e6bf69d2c42.jpg',\n",
       " 'test/c2fe25d50856656351b975c1fb3ee6db.jpg',\n",
       " ...]"
      ]
     },
     "execution_count": 48,
     "metadata": {},
     "output_type": "execute_result"
    }
   ],
   "source": [
    "data.test_ds.fnames"
   ]
  },
  {
   "cell_type": "code",
   "execution_count": 49,
   "metadata": {},
   "outputs": [
    {
     "name": "stdout",
     "output_type": "stream",
     "text": [
      "                                              \r"
     ]
    }
   ],
   "source": [
    "log_preds, y = learn.TTA(is_test=True) # use test dataset rather than validation dataset\n",
    "# probs = np.exp(log_preds)\n",
    "# accuracy(log_preds, y), metrcs.log_loss(y, probs)\n",
    "probs = np.mean(np.exp(log_preds),0)\n",
    "#accuracy_np(probs, y), metrcs.log_loss(y, probs) # This does not make sense since test dataset has no labels"
   ]
  },
  {
   "cell_type": "code",
   "execution_count": 50,
   "metadata": {},
   "outputs": [
    {
     "data": {
      "text/plain": [
       "(10357, 120)"
      ]
     },
     "execution_count": 50,
     "metadata": {},
     "output_type": "execute_result"
    }
   ],
   "source": [
    "probs.shape # (n_images, n_classes)"
   ]
  },
  {
   "cell_type": "code",
   "execution_count": 51,
   "metadata": {},
   "outputs": [],
   "source": [
    "df = pd.DataFrame(probs)\n",
    "df.columns = data.classes"
   ]
  },
  {
   "cell_type": "code",
   "execution_count": 52,
   "metadata": {},
   "outputs": [],
   "source": [
    "df.insert(0, 'id', [o[5:-4] for o in data.test_ds.fnames])"
   ]
  },
  {
   "cell_type": "code",
   "execution_count": 53,
   "metadata": {},
   "outputs": [
    {
     "data": {
      "text/html": [
       "<div>\n",
       "<style scoped>\n",
       "    .dataframe tbody tr th:only-of-type {\n",
       "        vertical-align: middle;\n",
       "    }\n",
       "\n",
       "    .dataframe tbody tr th {\n",
       "        vertical-align: top;\n",
       "    }\n",
       "\n",
       "    .dataframe thead th {\n",
       "        text-align: right;\n",
       "    }\n",
       "</style>\n",
       "<table border=\"1\" class=\"dataframe\">\n",
       "  <thead>\n",
       "    <tr style=\"text-align: right;\">\n",
       "      <th></th>\n",
       "      <th>id</th>\n",
       "      <th>affenpinscher</th>\n",
       "      <th>afghan_hound</th>\n",
       "      <th>african_hunting_dog</th>\n",
       "      <th>airedale</th>\n",
       "      <th>american_staffordshire_terrier</th>\n",
       "      <th>appenzeller</th>\n",
       "      <th>australian_terrier</th>\n",
       "      <th>basenji</th>\n",
       "      <th>basset</th>\n",
       "      <th>...</th>\n",
       "      <th>toy_poodle</th>\n",
       "      <th>toy_terrier</th>\n",
       "      <th>vizsla</th>\n",
       "      <th>walker_hound</th>\n",
       "      <th>weimaraner</th>\n",
       "      <th>welsh_springer_spaniel</th>\n",
       "      <th>west_highland_white_terrier</th>\n",
       "      <th>whippet</th>\n",
       "      <th>wire-haired_fox_terrier</th>\n",
       "      <th>yorkshire_terrier</th>\n",
       "    </tr>\n",
       "  </thead>\n",
       "  <tbody>\n",
       "    <tr>\n",
       "      <th>0</th>\n",
       "      <td>57df9fc7793c4c40e806167ea94773a5</td>\n",
       "      <td>2.514036e-07</td>\n",
       "      <td>4.159064e-07</td>\n",
       "      <td>8.302565e-07</td>\n",
       "      <td>8.981381e-07</td>\n",
       "      <td>4.115708e-06</td>\n",
       "      <td>3.464863e-07</td>\n",
       "      <td>3.604474e-07</td>\n",
       "      <td>2.223004e-06</td>\n",
       "      <td>1.131863e-06</td>\n",
       "      <td>...</td>\n",
       "      <td>2.303008e-07</td>\n",
       "      <td>0.000003</td>\n",
       "      <td>9.984455e-01</td>\n",
       "      <td>5.507553e-05</td>\n",
       "      <td>2.214444e-06</td>\n",
       "      <td>5.953983e-07</td>\n",
       "      <td>3.533577e-07</td>\n",
       "      <td>4.723124e-07</td>\n",
       "      <td>1.709894e-07</td>\n",
       "      <td>8.712985e-07</td>\n",
       "    </tr>\n",
       "    <tr>\n",
       "      <th>1</th>\n",
       "      <td>56883df95a5356a29297c6dccfab0b47</td>\n",
       "      <td>2.932099e-05</td>\n",
       "      <td>6.257771e-03</td>\n",
       "      <td>3.296521e-05</td>\n",
       "      <td>1.164076e-05</td>\n",
       "      <td>7.160784e-07</td>\n",
       "      <td>1.128400e-06</td>\n",
       "      <td>1.987652e-05</td>\n",
       "      <td>6.480739e-07</td>\n",
       "      <td>3.403582e-05</td>\n",
       "      <td>...</td>\n",
       "      <td>3.364148e-05</td>\n",
       "      <td>0.000002</td>\n",
       "      <td>1.394021e-06</td>\n",
       "      <td>1.177503e-06</td>\n",
       "      <td>1.580704e-06</td>\n",
       "      <td>1.597822e-04</td>\n",
       "      <td>1.692940e-05</td>\n",
       "      <td>1.050479e-06</td>\n",
       "      <td>8.732577e-06</td>\n",
       "      <td>8.753066e-05</td>\n",
       "    </tr>\n",
       "    <tr>\n",
       "      <th>2</th>\n",
       "      <td>f12b509213db8bb0a721fcd228b31f0e</td>\n",
       "      <td>1.131657e-06</td>\n",
       "      <td>2.386512e-07</td>\n",
       "      <td>2.435563e-07</td>\n",
       "      <td>1.717508e-08</td>\n",
       "      <td>1.613881e-07</td>\n",
       "      <td>1.068136e-07</td>\n",
       "      <td>2.259799e-07</td>\n",
       "      <td>4.243912e-07</td>\n",
       "      <td>1.394491e-08</td>\n",
       "      <td>...</td>\n",
       "      <td>2.155493e-07</td>\n",
       "      <td>0.000002</td>\n",
       "      <td>6.025869e-08</td>\n",
       "      <td>1.035946e-08</td>\n",
       "      <td>7.811074e-08</td>\n",
       "      <td>9.733709e-09</td>\n",
       "      <td>2.617039e-08</td>\n",
       "      <td>2.094341e-08</td>\n",
       "      <td>3.151696e-09</td>\n",
       "      <td>1.373631e-07</td>\n",
       "    </tr>\n",
       "    <tr>\n",
       "      <th>3</th>\n",
       "      <td>a59fa6f74528014c4ffe94e117868abe</td>\n",
       "      <td>1.255684e-06</td>\n",
       "      <td>1.443244e-06</td>\n",
       "      <td>2.103759e-05</td>\n",
       "      <td>2.531680e-06</td>\n",
       "      <td>2.569915e-06</td>\n",
       "      <td>9.939011e-06</td>\n",
       "      <td>2.662981e-06</td>\n",
       "      <td>1.893997e-04</td>\n",
       "      <td>5.641929e-06</td>\n",
       "      <td>...</td>\n",
       "      <td>7.617309e-06</td>\n",
       "      <td>0.000017</td>\n",
       "      <td>2.611693e-06</td>\n",
       "      <td>8.382358e-06</td>\n",
       "      <td>2.323551e-06</td>\n",
       "      <td>6.216013e-06</td>\n",
       "      <td>4.839344e-06</td>\n",
       "      <td>1.208481e-05</td>\n",
       "      <td>4.144740e-06</td>\n",
       "      <td>1.264118e-06</td>\n",
       "    </tr>\n",
       "    <tr>\n",
       "      <th>4</th>\n",
       "      <td>d6da712fa79d6631324452fa74d648a3</td>\n",
       "      <td>3.038510e-07</td>\n",
       "      <td>3.941698e-06</td>\n",
       "      <td>3.538555e-06</td>\n",
       "      <td>5.949972e-07</td>\n",
       "      <td>1.271707e-06</td>\n",
       "      <td>2.756194e-07</td>\n",
       "      <td>1.282060e-07</td>\n",
       "      <td>1.430583e-06</td>\n",
       "      <td>8.531477e-07</td>\n",
       "      <td>...</td>\n",
       "      <td>8.479451e-08</td>\n",
       "      <td>0.000001</td>\n",
       "      <td>2.005555e-07</td>\n",
       "      <td>1.815171e-06</td>\n",
       "      <td>8.276661e-07</td>\n",
       "      <td>3.928014e-08</td>\n",
       "      <td>6.950992e-07</td>\n",
       "      <td>7.379809e-07</td>\n",
       "      <td>2.768018e-07</td>\n",
       "      <td>2.606114e-07</td>\n",
       "    </tr>\n",
       "  </tbody>\n",
       "</table>\n",
       "<p>5 rows × 121 columns</p>\n",
       "</div>"
      ],
      "text/plain": [
       "                                 id  affenpinscher  afghan_hound  \\\n",
       "0  57df9fc7793c4c40e806167ea94773a5   2.514036e-07  4.159064e-07   \n",
       "1  56883df95a5356a29297c6dccfab0b47   2.932099e-05  6.257771e-03   \n",
       "2  f12b509213db8bb0a721fcd228b31f0e   1.131657e-06  2.386512e-07   \n",
       "3  a59fa6f74528014c4ffe94e117868abe   1.255684e-06  1.443244e-06   \n",
       "4  d6da712fa79d6631324452fa74d648a3   3.038510e-07  3.941698e-06   \n",
       "\n",
       "   african_hunting_dog      airedale  american_staffordshire_terrier  \\\n",
       "0         8.302565e-07  8.981381e-07                    4.115708e-06   \n",
       "1         3.296521e-05  1.164076e-05                    7.160784e-07   \n",
       "2         2.435563e-07  1.717508e-08                    1.613881e-07   \n",
       "3         2.103759e-05  2.531680e-06                    2.569915e-06   \n",
       "4         3.538555e-06  5.949972e-07                    1.271707e-06   \n",
       "\n",
       "    appenzeller  australian_terrier       basenji        basset  \\\n",
       "0  3.464863e-07        3.604474e-07  2.223004e-06  1.131863e-06   \n",
       "1  1.128400e-06        1.987652e-05  6.480739e-07  3.403582e-05   \n",
       "2  1.068136e-07        2.259799e-07  4.243912e-07  1.394491e-08   \n",
       "3  9.939011e-06        2.662981e-06  1.893997e-04  5.641929e-06   \n",
       "4  2.756194e-07        1.282060e-07  1.430583e-06  8.531477e-07   \n",
       "\n",
       "         ...            toy_poodle  toy_terrier        vizsla  walker_hound  \\\n",
       "0        ...          2.303008e-07     0.000003  9.984455e-01  5.507553e-05   \n",
       "1        ...          3.364148e-05     0.000002  1.394021e-06  1.177503e-06   \n",
       "2        ...          2.155493e-07     0.000002  6.025869e-08  1.035946e-08   \n",
       "3        ...          7.617309e-06     0.000017  2.611693e-06  8.382358e-06   \n",
       "4        ...          8.479451e-08     0.000001  2.005555e-07  1.815171e-06   \n",
       "\n",
       "     weimaraner  welsh_springer_spaniel  west_highland_white_terrier  \\\n",
       "0  2.214444e-06            5.953983e-07                 3.533577e-07   \n",
       "1  1.580704e-06            1.597822e-04                 1.692940e-05   \n",
       "2  7.811074e-08            9.733709e-09                 2.617039e-08   \n",
       "3  2.323551e-06            6.216013e-06                 4.839344e-06   \n",
       "4  8.276661e-07            3.928014e-08                 6.950992e-07   \n",
       "\n",
       "        whippet  wire-haired_fox_terrier  yorkshire_terrier  \n",
       "0  4.723124e-07             1.709894e-07       8.712985e-07  \n",
       "1  1.050479e-06             8.732577e-06       8.753066e-05  \n",
       "2  2.094341e-08             3.151696e-09       1.373631e-07  \n",
       "3  1.208481e-05             4.144740e-06       1.264118e-06  \n",
       "4  7.379809e-07             2.768018e-07       2.606114e-07  \n",
       "\n",
       "[5 rows x 121 columns]"
      ]
     },
     "execution_count": 53,
     "metadata": {},
     "output_type": "execute_result"
    }
   ],
   "source": [
    "df.head()"
   ]
  },
  {
   "cell_type": "code",
   "execution_count": 54,
   "metadata": {},
   "outputs": [],
   "source": [
    "SUBM = f'{PATH}/subm/'\n",
    "os.makedirs(SUBM, exist_ok=True)\n",
    "df.to_csv(f'{SUBM}subm.gz', compression='gzip', index=False)"
   ]
  },
  {
   "cell_type": "code",
   "execution_count": 55,
   "metadata": {},
   "outputs": [
    {
     "data": {
      "text/html": [
       "<a href='data/dogbreed//subm/subm.gz' target='_blank'>data/dogbreed//subm/subm.gz</a><br>"
      ],
      "text/plain": [
       "/home/ubuntu/fastai/courses/dl1/data/dogbreed/subm/subm.gz"
      ]
     },
     "execution_count": 55,
     "metadata": {},
     "output_type": "execute_result"
    }
   ],
   "source": [
    "FileLink(f'{SUBM}subm.gz')"
   ]
  },
  {
   "cell_type": "markdown",
   "metadata": {},
   "source": [
    "## 6 Individual prediction"
   ]
  },
  {
   "cell_type": "code",
   "execution_count": 56,
   "metadata": {},
   "outputs": [],
   "source": [
    "fn = data.val_ds.fnames[0]"
   ]
  },
  {
   "cell_type": "code",
   "execution_count": 57,
   "metadata": {},
   "outputs": [
    {
     "data": {
      "text/plain": [
       "'train/000bec180eb18c7604dcecc8fe0dba07.jpg'"
      ]
     },
     "execution_count": 57,
     "metadata": {},
     "output_type": "execute_result"
    }
   ],
   "source": [
    "fn"
   ]
  },
  {
   "cell_type": "code",
   "execution_count": 58,
   "metadata": {},
   "outputs": [
    {
     "data": {
      "image/png": "[encoded data removed]",
      "text/plain": [
       "<PIL.Image.Image image mode=RGB size=150x150 at 0x7F1DD5EC7160>"
      ]
     },
     "execution_count": 58,
     "metadata": {},
     "output_type": "execute_result"
    }
   ],
   "source": [
    "Image.open(PATH + fn).resize((150, 150))"
   ]
  },
  {
   "cell_type": "code",
   "execution_count": 59,
   "metadata": {},
   "outputs": [],
   "source": [
    "trn_tfms, val_tfms = tfms_from_model(arch, sz)"
   ]
  },
  {
   "cell_type": "code",
   "execution_count": 63,
   "metadata": {},
   "outputs": [
    {
     "data": {
      "text/plain": [
       "19"
      ]
     },
     "execution_count": 63,
     "metadata": {},
     "output_type": "execute_result"
    }
   ],
   "source": [
    "ds = FilesIndexArrayDataset([fn], np.array([0]), val_tfms, PATH)\n",
    "dl = DataLoader(ds)\n",
    "preds = learn.predict_dl(dl)\n",
    "np.argmax(preds)"
   ]
  },
  {
   "cell_type": "code",
   "execution_count": null,
   "metadata": {},
   "outputs": [],
   "source": [
    "# This does not work...\n",
    "\n",
    "#im = trn_tfms(Image.open(PATH + fn)) # AttributeError: 'JpegImageFile' object has no attribute 'shape'\n",
    "im = trn_tfms(open_image(PATH + fn))\n",
    "preds = to_np(learn.model(V(T(im[None].cuda())))) # AttributeError: 'numpy.ndarray' object has no attribute 'cuda'\n",
    "np.argmax(preds)"
   ]
  },
  {
   "cell_type": "code",
   "execution_count": 61,
   "metadata": {},
   "outputs": [],
   "source": [
    "trn_tfms, val_tfms = tfms_from_model(arch, sz)"
   ]
  },
  {
   "cell_type": "code",
   "execution_count": 62,
   "metadata": {},
   "outputs": [
    {
     "data": {
      "text/plain": [
       "19"
      ]
     },
     "execution_count": 62,
     "metadata": {},
     "output_type": "execute_result"
    }
   ],
   "source": [
    "# http://forums.fast.ai/t/how-do-we-use-our-model-against-a-specific-image/7661/101\n",
    "#im = trn_tfms(Image.open(PATH + fn)) # AttributeError: 'JpegImageFile' object has no attribute 'shape'. Image.open() returns PIL.JpegImagePlugin.JpegImageFile\n",
    "im = trn_tfms(open_image(PATH + fn)) # open_image() returns numpy.ndarray\n",
    "# im = trn_tfms(np.asarray(Image.open(PATH + fn)) / 255) # This will work.\n",
    "preds = learn.predict_array(im[None])\n",
    "np.argmax(preds)"
   ]
  }
 ],
 "metadata": {
  "kernelspec": {
   "display_name": "Python 3",
   "language": "python",
   "name": "python3"
  },
  "language_info": {
   "codemirror_mode": {
    "name": "ipython",
    "version": 3
   },
   "file_extension": ".py",
   "mimetype": "text/x-python",
   "name": "python",
   "nbconvert_exporter": "python",
   "pygments_lexer": "ipython3",
   "version": "3.6.4"
  },
  "widgets": {
   "application/vnd.jupyter.widget-state+json": {
    "state": {
     "0147ea39a83144aa99e7877a908ca502": {
      "model_module": "@jupyter-widgets/base",
      "model_module_version": "1.0.0",
      "model_name": "LayoutModel",
      "state": {}
     },
     "02af08793c9a4c5ba0cbd7462a715f89": {
      "model_module": "@jupyter-widgets/controls",
      "model_module_version": "1.1.0",
      "model_name": "ProgressStyleModel",
      "state": {
       "description_width": ""
      }
     },
     "03c7476e32ce48c2b38a7023c2dcc0a1": {
      "model_module": "@jupyter-widgets/base",
      "model_module_version": "1.0.0",
      "model_name": "LayoutModel",
      "state": {}
     },
     "075434e4b0234c5fa61c8d63fec51679": {
      "model_module": "@jupyter-widgets/controls",
      "model_module_version": "1.1.0",
      "model_name": "ProgressStyleModel",
      "state": {
       "description_width": ""
      }
     },
     "08ba1e10c1a641f7876680a632f6821d": {
      "model_module": "@jupyter-widgets/controls",
      "model_module_version": "1.1.0",
      "model_name": "IntProgressModel",
      "state": {
       "bar_style": "success",
       "layout": "IPY_MODEL_b0edcf9ef0754ca4bb7fe6e8790c464b",
       "max": 6,
       "style": "IPY_MODEL_c13bdace91114d639b408aa120c97f79",
       "value": 6
      }
     },
     "0b49f5119c6d4a25bb575a20e33fe219": {
      "model_module": "@jupyter-widgets/base",
      "model_module_version": "1.0.0",
      "model_name": "LayoutModel",
      "state": {}
     },
     "12cc98b1fc954667bd49c08972278f1d": {
      "model_module": "@jupyter-widgets/controls",
      "model_module_version": "1.1.0",
      "model_name": "ProgressStyleModel",
      "state": {
       "description_width": ""
      }
     },
     "13cbbf3a554a40f09d40df39c2cacf47": {
      "model_module": "@jupyter-widgets/base",
      "model_module_version": "1.0.0",
      "model_name": "LayoutModel",
      "state": {}
     },
     "148c1abd5f1747a2a787c09cef3071bc": {
      "model_module": "@jupyter-widgets/controls",
      "model_module_version": "1.1.0",
      "model_name": "HTMLModel",
      "state": {
       "layout": "IPY_MODEL_902c060a37b4491788462dce6be1798b",
       "style": "IPY_MODEL_88db019106ca4893816ea780e567a175",
       "value": "100% 3/3 [16:30&lt;00:00, 330.17s/it]"
      }
     },
     "16993380d0fa42b888a52dbf1bb42f20": {
      "model_module": "@jupyter-widgets/controls",
      "model_module_version": "1.1.0",
      "model_name": "IntProgressModel",
      "state": {
       "bar_style": "success",
       "layout": "IPY_MODEL_c74dedf09f57490a9f1ac9af54e14bf3",
       "max": 6,
       "style": "IPY_MODEL_557d35c901f54575b5963e3b7ce932a3",
       "value": 6
      }
     },
     "19c5557812814cb28bc7e0cc80c65c5f": {
      "model_module": "@jupyter-widgets/base",
      "model_module_version": "1.0.0",
      "model_name": "LayoutModel",
      "state": {}
     },
     "1c241c0e5b5844508c1c50e2a7c09b1b": {
      "model_module": "@jupyter-widgets/base",
      "model_module_version": "1.0.0",
      "model_name": "LayoutModel",
      "state": {}
     },
     "1c509f99160e41d5af6e565b1541e571": {
      "model_module": "@jupyter-widgets/controls",
      "model_module_version": "1.1.0",
      "model_name": "HTMLModel",
      "state": {
       "layout": "IPY_MODEL_9352e3fd2af54e09ad67afb4ac446b27",
       "style": "IPY_MODEL_62e7ecfbbea7427385deb25ed2f4232f",
       "value": "100% 6/6 [00:00&lt;00:00, 380.26it/s]"
      }
     },
     "1e2f1c40607144eb9cb7b9e257d06f35": {
      "model_module": "@jupyter-widgets/base",
      "model_module_version": "1.0.0",
      "model_name": "LayoutModel",
      "state": {}
     },
     "1fc90792a2b74c38aaf73659c3756831": {
      "model_module": "@jupyter-widgets/base",
      "model_module_version": "1.0.0",
      "model_name": "LayoutModel",
      "state": {}
     },
     "201ae86e437e4b5390782e9df272326d": {
      "model_module": "@jupyter-widgets/controls",
      "model_module_version": "1.1.0",
      "model_name": "HBoxModel",
      "state": {
       "children": [
        "IPY_MODEL_c8871c57d7bd4b61a99633668fb44621",
        "IPY_MODEL_38eb37d7293d4273a6ae06b5a451617d"
       ],
       "layout": "IPY_MODEL_1c241c0e5b5844508c1c50e2a7c09b1b"
      }
     },
     "20bfce64bf354e2398353b6a2a31d0e5": {
      "model_module": "@jupyter-widgets/base",
      "model_module_version": "1.0.0",
      "model_name": "LayoutModel",
      "state": {}
     },
     "21e75994f5e749748dd5693819e51d93": {
      "model_module": "@jupyter-widgets/controls",
      "model_module_version": "1.1.0",
      "model_name": "DescriptionStyleModel",
      "state": {
       "description_width": ""
      }
     },
     "22952b3bfa674aff898e452b30bd319e": {
      "model_module": "@jupyter-widgets/controls",
      "model_module_version": "1.1.0",
      "model_name": "DescriptionStyleModel",
      "state": {
       "description_width": ""
      }
     },
     "26e2b0e7abb24e3fad1b5c0c166aa44d": {
      "model_module": "@jupyter-widgets/controls",
      "model_module_version": "1.1.0",
      "model_name": "IntProgressModel",
      "state": {
       "bar_style": "success",
       "description": "Epoch",
       "layout": "IPY_MODEL_363595af2f5f4ad3a3f5a9e46069d58e",
       "max": 5,
       "style": "IPY_MODEL_02af08793c9a4c5ba0cbd7462a715f89",
       "value": 5
      }
     },
     "288366a4c5ba435286c34d6d5ad69201": {
      "model_module": "@jupyter-widgets/controls",
      "model_module_version": "1.1.0",
      "model_name": "HBoxModel",
      "state": {
       "children": [
        "IPY_MODEL_33f7abed940a4b24b01110da8ec67ddc",
        "IPY_MODEL_93f4380114fe48b88db18d0c97736fd4"
       ],
       "layout": "IPY_MODEL_5b17418f64954c14843a914942f8ce3d"
      }
     },
     "292be092bc964dd7a48bc62c906f5814": {
      "model_module": "@jupyter-widgets/controls",
      "model_module_version": "1.1.0",
      "model_name": "ProgressStyleModel",
      "state": {
       "description_width": ""
      }
     },
     "2d1dfcb285154a7bac2db184a87f3c4e": {
      "model_module": "@jupyter-widgets/base",
      "model_module_version": "1.0.0",
      "model_name": "LayoutModel",
      "state": {}
     },
     "2ff92f760a2b46a99576ab77daccac1d": {
      "model_module": "@jupyter-widgets/base",
      "model_module_version": "1.0.0",
      "model_name": "LayoutModel",
      "state": {}
     },
     "33ce7c9b732e4715ae12b71669addfdf": {
      "model_module": "@jupyter-widgets/controls",
      "model_module_version": "1.1.0",
      "model_name": "IntProgressModel",
      "state": {
       "bar_style": "success",
       "layout": "IPY_MODEL_20bfce64bf354e2398353b6a2a31d0e5",
       "max": 6,
       "style": "IPY_MODEL_830aa543858f4a54a14aad440bcbde34",
       "value": 6
      }
     },
     "33f7abed940a4b24b01110da8ec67ddc": {
      "model_module": "@jupyter-widgets/controls",
      "model_module_version": "1.1.0",
      "model_name": "IntProgressModel",
      "state": {
       "bar_style": "success",
       "layout": "IPY_MODEL_7ba0d94e2ef544fe9126eacee6588468",
       "max": 6,
       "style": "IPY_MODEL_8c8cb52ff5e54c55a297af7571a105ea",
       "value": 6
      }
     },
     "363595af2f5f4ad3a3f5a9e46069d58e": {
      "model_module": "@jupyter-widgets/base",
      "model_module_version": "1.0.0",
      "model_name": "LayoutModel",
      "state": {}
     },
     "37f00a662a3c4b5f9f29db6903cfc5ba": {
      "model_module": "@jupyter-widgets/controls",
      "model_module_version": "1.1.0",
      "model_name": "DescriptionStyleModel",
      "state": {
       "description_width": ""
      }
     },
     "37faed3c96f343e895d8f29ab07137c0": {
      "model_module": "@jupyter-widgets/base",
      "model_module_version": "1.0.0",
      "model_name": "LayoutModel",
      "state": {}
     },
     "38eb37d7293d4273a6ae06b5a451617d": {
      "model_module": "@jupyter-widgets/controls",
      "model_module_version": "1.1.0",
      "model_name": "HTMLModel",
      "state": {
       "layout": "IPY_MODEL_42c23fec7e814a9aaf39ffa59c0ffe20",
       "style": "IPY_MODEL_7163788d004d4c15b0b0137a654079a0",
       "value": "100% 7/7 [35:35&lt;00:00, 305.08s/it]"
      }
     },
     "39cf7d6b5e98460e9a621f1d74e32fad": {
      "model_module": "@jupyter-widgets/controls",
      "model_module_version": "1.1.0",
      "model_name": "HTMLModel",
      "state": {
       "layout": "IPY_MODEL_cb554ddf38bb4597b282655ee74ca321",
       "style": "IPY_MODEL_c45beabad9d34af5b39ce603b5308ef9",
       "value": "100% 5/5 [27:26&lt;00:00, 329.38s/it]"
      }
     },
     "39d7df82d70b40df9f1171dad9ce2b4c": {
      "model_module": "@jupyter-widgets/controls",
      "model_module_version": "1.1.0",
      "model_name": "DescriptionStyleModel",
      "state": {
       "description_width": ""
      }
     },
     "3a1160614abc4724b73cc9bc2e0d0d46": {
      "model_module": "@jupyter-widgets/controls",
      "model_module_version": "1.1.0",
      "model_name": "HTMLModel",
      "state": {
       "layout": "IPY_MODEL_19c5557812814cb28bc7e0cc80c65c5f",
       "style": "IPY_MODEL_87707de469bc4c4bb2ba2a2ed7322de1",
       "value": "100% 5/5 [00:28&lt;00:00,  5.70s/it]"
      }
     },
     "3b2e29458fdc49d0864a7fc9a1faafb6": {
      "model_module": "@jupyter-widgets/base",
      "model_module_version": "1.0.0",
      "model_name": "LayoutModel",
      "state": {}
     },
     "3ed035ff92d947ad9059d4bc03f2576c": {
      "model_module": "@jupyter-widgets/controls",
      "model_module_version": "1.1.0",
      "model_name": "HBoxModel",
      "state": {
       "children": [
        "IPY_MODEL_16993380d0fa42b888a52dbf1bb42f20",
        "IPY_MODEL_a52bd3eee7aa4e9093ee525fc42ff232"
       ],
       "layout": "IPY_MODEL_66e271ee790148eb89ae51b9b22216aa"
      }
     },
     "40060908ceee46fb859195274eca3da8": {
      "model_module": "@jupyter-widgets/controls",
      "model_module_version": "1.1.0",
      "model_name": "HBoxModel",
      "state": {
       "children": [
        "IPY_MODEL_4b3362ffeac948e490ce91f1e0786f2e",
        "IPY_MODEL_c09f764cc1c74e3aa75fea864a8d21f3"
       ],
       "layout": "IPY_MODEL_e6926f2efb5340528a00c5045376c380"
      }
     },
     "405077ae66ac44afbd35d90a6afd6cab": {
      "model_module": "@jupyter-widgets/base",
      "model_module_version": "1.0.0",
      "model_name": "LayoutModel",
      "state": {}
     },
     "41a9d48c29ef4752bcd2ddc7076dac3c": {
      "model_module": "@jupyter-widgets/base",
      "model_module_version": "1.0.0",
      "model_name": "LayoutModel",
      "state": {}
     },
     "42c23fec7e814a9aaf39ffa59c0ffe20": {
      "model_module": "@jupyter-widgets/base",
      "model_module_version": "1.0.0",
      "model_name": "LayoutModel",
      "state": {}
     },
     "43f1cb9394c5422798a91c1b6b0a5907": {
      "model_module": "@jupyter-widgets/base",
      "model_module_version": "1.0.0",
      "model_name": "LayoutModel",
      "state": {}
     },
     "45a9f25bf3964af68dfce8bbb2091917": {
      "model_module": "@jupyter-widgets/controls",
      "model_module_version": "1.1.0",
      "model_name": "DescriptionStyleModel",
      "state": {
       "description_width": ""
      }
     },
     "4654ebf91a484cb8b153920fb89bb522": {
      "model_module": "@jupyter-widgets/base",
      "model_module_version": "1.0.0",
      "model_name": "LayoutModel",
      "state": {}
     },
     "4b3362ffeac948e490ce91f1e0786f2e": {
      "model_module": "@jupyter-widgets/controls",
      "model_module_version": "1.1.0",
      "model_name": "IntProgressModel",
      "state": {
       "bar_style": "success",
       "layout": "IPY_MODEL_67e1b7b183484f03b2f63c22c44e8713",
       "max": 6,
       "style": "IPY_MODEL_12cc98b1fc954667bd49c08972278f1d",
       "value": 6
      }
     },
     "4c5e108b0b9145cb9987a673dda89bb6": {
      "model_module": "@jupyter-widgets/base",
      "model_module_version": "1.0.0",
      "model_name": "LayoutModel",
      "state": {}
     },
     "4d7cbd1c9b0b45359d4d31ad4e50e441": {
      "model_module": "@jupyter-widgets/base",
      "model_module_version": "1.0.0",
      "model_name": "LayoutModel",
      "state": {}
     },
     "54f04d9c381446649b742e1242de6953": {
      "model_module": "@jupyter-widgets/controls",
      "model_module_version": "1.1.0",
      "model_name": "IntProgressModel",
      "state": {
       "bar_style": "success",
       "description": "Epoch",
       "layout": "IPY_MODEL_f6539e378c294a6c955da278da4ade4e",
       "max": 2,
       "style": "IPY_MODEL_b1cddc992f864976b0f4132e0c4819f4",
       "value": 2
      }
     },
     "557d35c901f54575b5963e3b7ce932a3": {
      "model_module": "@jupyter-widgets/controls",
      "model_module_version": "1.1.0",
      "model_name": "ProgressStyleModel",
      "state": {
       "description_width": ""
      }
     },
     "5791e4167111408ca3f1be2e16334803": {
      "model_module": "@jupyter-widgets/base",
      "model_module_version": "1.0.0",
      "model_name": "LayoutModel",
      "state": {}
     },
     "5b0ec0306b6440c1a068951bf0d4a50c": {
      "model_module": "@jupyter-widgets/controls",
      "model_module_version": "1.1.0",
      "model_name": "ProgressStyleModel",
      "state": {
       "description_width": ""
      }
     },
     "5b17418f64954c14843a914942f8ce3d": {
      "model_module": "@jupyter-widgets/base",
      "model_module_version": "1.0.0",
      "model_name": "LayoutModel",
      "state": {}
     },
     "5b494db622384a7fabd7ed86d7f0575c": {
      "model_module": "@jupyter-widgets/controls",
      "model_module_version": "1.1.0",
      "model_name": "HBoxModel",
      "state": {
       "children": [
        "IPY_MODEL_26e2b0e7abb24e3fad1b5c0c166aa44d",
        "IPY_MODEL_c05cfeeac9a04c68a7387dc65bf48227"
       ],
       "layout": "IPY_MODEL_4654ebf91a484cb8b153920fb89bb522"
      }
     },
     "5c13867f02614d49bc038af563f5a5a2": {
      "model_module": "@jupyter-widgets/controls",
      "model_module_version": "1.1.0",
      "model_name": "IntProgressModel",
      "state": {
       "bar_style": "success",
       "layout": "IPY_MODEL_7234b227a46b404598576e19a230a94e",
       "max": 6,
       "style": "IPY_MODEL_7ae2ea4a6e144242ad504c2032fbb9b9",
       "value": 6
      }
     },
     "5d3aa8de854a491485458bcaf88b9de4": {
      "model_module": "@jupyter-widgets/controls",
      "model_module_version": "1.1.0",
      "model_name": "HBoxModel",
      "state": {
       "children": [
        "IPY_MODEL_c6a3a9d502b94ffba6cb6708c9762bd0",
        "IPY_MODEL_8d9389e09e1d44d88ffffdb83ac6f407"
       ],
       "layout": "IPY_MODEL_03c7476e32ce48c2b38a7023c2dcc0a1"
      }
     },
     "5f4033806f5144f28e0999110bf34612": {
      "model_module": "@jupyter-widgets/controls",
      "model_module_version": "1.1.0",
      "model_name": "IntProgressModel",
      "state": {
       "bar_style": "success",
       "description": "Epoch",
       "layout": "IPY_MODEL_e59a2233ae454d81ada1b8494763e7bc",
       "max": 2,
       "style": "IPY_MODEL_292be092bc964dd7a48bc62c906f5814",
       "value": 2
      }
     },
     "61defccfe9dc4330931ce420b9976dcd": {
      "model_module": "@jupyter-widgets/controls",
      "model_module_version": "1.1.0",
      "model_name": "HTMLModel",
      "state": {
       "layout": "IPY_MODEL_4d7cbd1c9b0b45359d4d31ad4e50e441",
       "style": "IPY_MODEL_45a9f25bf3964af68dfce8bbb2091917",
       "value": "100% 2/2 [10:08&lt;00:00, 304.26s/it]"
      }
     },
     "62e7ecfbbea7427385deb25ed2f4232f": {
      "model_module": "@jupyter-widgets/controls",
      "model_module_version": "1.1.0",
      "model_name": "DescriptionStyleModel",
      "state": {
       "description_width": ""
      }
     },
     "62e8fbf1622b4a36a186e7f319552990": {
      "model_module": "@jupyter-widgets/controls",
      "model_module_version": "1.1.0",
      "model_name": "IntProgressModel",
      "state": {
       "bar_style": "success",
       "description": "Epoch",
       "layout": "IPY_MODEL_41a9d48c29ef4752bcd2ddc7076dac3c",
       "max": 2,
       "style": "IPY_MODEL_5b0ec0306b6440c1a068951bf0d4a50c",
       "value": 2
      }
     },
     "65d9210f3d3345019a1fcf4ad82f1ae9": {
      "model_module": "@jupyter-widgets/base",
      "model_module_version": "1.0.0",
      "model_name": "LayoutModel",
      "state": {}
     },
     "66179fdeb4534eb281f2690ded33950e": {
      "model_module": "@jupyter-widgets/controls",
      "model_module_version": "1.1.0",
      "model_name": "DescriptionStyleModel",
      "state": {
       "description_width": ""
      }
     },
     "66e271ee790148eb89ae51b9b22216aa": {
      "model_module": "@jupyter-widgets/base",
      "model_module_version": "1.0.0",
      "model_name": "LayoutModel",
      "state": {}
     },
     "67e1b7b183484f03b2f63c22c44e8713": {
      "model_module": "@jupyter-widgets/base",
      "model_module_version": "1.0.0",
      "model_name": "LayoutModel",
      "state": {}
     },
     "7163788d004d4c15b0b0137a654079a0": {
      "model_module": "@jupyter-widgets/controls",
      "model_module_version": "1.1.0",
      "model_name": "DescriptionStyleModel",
      "state": {
       "description_width": ""
      }
     },
     "7234b227a46b404598576e19a230a94e": {
      "model_module": "@jupyter-widgets/base",
      "model_module_version": "1.0.0",
      "model_name": "LayoutModel",
      "state": {}
     },
     "77132b06e4ad40fdabdc0dd93922af21": {
      "model_module": "@jupyter-widgets/base",
      "model_module_version": "1.0.0",
      "model_name": "LayoutModel",
      "state": {}
     },
     "784cd320488247aa87d575558f81d06b": {
      "model_module": "@jupyter-widgets/base",
      "model_module_version": "1.0.0",
      "model_name": "LayoutModel",
      "state": {}
     },
     "7998921f656343ffadf133220692f859": {
      "model_module": "@jupyter-widgets/controls",
      "model_module_version": "1.1.0",
      "model_name": "IntProgressModel",
      "state": {
       "bar_style": "success",
       "description": "Epoch",
       "layout": "IPY_MODEL_0b49f5119c6d4a25bb575a20e33fe219",
       "max": 5,
       "style": "IPY_MODEL_cfeaf84bdbe34c7898e1ea8fc61b539c",
       "value": 5
      }
     },
     "7ad08fc0082a41bc882cedf6004206dd": {
      "model_module": "@jupyter-widgets/controls",
      "model_module_version": "1.1.0",
      "model_name": "HBoxModel",
      "state": {
       "children": [
        "IPY_MODEL_33ce7c9b732e4715ae12b71669addfdf",
        "IPY_MODEL_bc6e6b33b84344f094704454a0cf6f6b"
       ],
       "layout": "IPY_MODEL_2ff92f760a2b46a99576ab77daccac1d"
      }
     },
     "7adf432cd98f46df927bf9da9d94b182": {
      "model_module": "@jupyter-widgets/controls",
      "model_module_version": "1.1.0",
      "model_name": "DescriptionStyleModel",
      "state": {
       "description_width": ""
      }
     },
     "7ae2ea4a6e144242ad504c2032fbb9b9": {
      "model_module": "@jupyter-widgets/controls",
      "model_module_version": "1.1.0",
      "model_name": "ProgressStyleModel",
      "state": {
       "description_width": ""
      }
     },
     "7b215de0d6b64c3897c22bd817bbcb8d": {
      "model_module": "@jupyter-widgets/controls",
      "model_module_version": "1.1.0",
      "model_name": "IntProgressModel",
      "state": {
       "bar_style": "success",
       "description": "Epoch",
       "layout": "IPY_MODEL_1e2f1c40607144eb9cb7b9e257d06f35",
       "max": 3,
       "style": "IPY_MODEL_f38f8ae81eca43f9b1828369ebffd849",
       "value": 3
      }
     },
     "7ba0d94e2ef544fe9126eacee6588468": {
      "model_module": "@jupyter-widgets/base",
      "model_module_version": "1.0.0",
      "model_name": "LayoutModel",
      "state": {}
     },
     "8228413e70844312b5aa3128e3bea3ad": {
      "model_module": "@jupyter-widgets/controls",
      "model_module_version": "1.1.0",
      "model_name": "HTMLModel",
      "state": {
       "layout": "IPY_MODEL_890f789420e4416697cafbf732f38b95",
       "style": "IPY_MODEL_b52cba9c0daf49aab716b75c91137766",
       "value": "100% 2/2 [00:06&lt;00:00,  3.12s/it]"
      }
     },
     "830aa543858f4a54a14aad440bcbde34": {
      "model_module": "@jupyter-widgets/controls",
      "model_module_version": "1.1.0",
      "model_name": "ProgressStyleModel",
      "state": {
       "description_width": ""
      }
     },
     "868f105f38aa47b2b0223680dc202859": {
      "model_module": "@jupyter-widgets/base",
      "model_module_version": "1.0.0",
      "model_name": "LayoutModel",
      "state": {}
     },
     "87707de469bc4c4bb2ba2a2ed7322de1": {
      "model_module": "@jupyter-widgets/controls",
      "model_module_version": "1.1.0",
      "model_name": "DescriptionStyleModel",
      "state": {
       "description_width": ""
      }
     },
     "879f0f26c06041698336e79b9b92b0c8": {
      "model_module": "@jupyter-widgets/controls",
      "model_module_version": "1.1.0",
      "model_name": "HBoxModel",
      "state": {
       "children": [
        "IPY_MODEL_c19f1e5cf61444b5926c89b67c374dc8",
        "IPY_MODEL_148c1abd5f1747a2a787c09cef3071bc"
       ],
       "layout": "IPY_MODEL_b4a9636246544cd7a3ebcff56595bea2"
      }
     },
     "88db019106ca4893816ea780e567a175": {
      "model_module": "@jupyter-widgets/controls",
      "model_module_version": "1.1.0",
      "model_name": "DescriptionStyleModel",
      "state": {
       "description_width": ""
      }
     },
     "890f789420e4416697cafbf732f38b95": {
      "model_module": "@jupyter-widgets/base",
      "model_module_version": "1.0.0",
      "model_name": "LayoutModel",
      "state": {}
     },
     "8c8cb52ff5e54c55a297af7571a105ea": {
      "model_module": "@jupyter-widgets/controls",
      "model_module_version": "1.1.0",
      "model_name": "ProgressStyleModel",
      "state": {
       "description_width": ""
      }
     },
     "8d9389e09e1d44d88ffffdb83ac6f407": {
      "model_module": "@jupyter-widgets/controls",
      "model_module_version": "1.1.0",
      "model_name": "HTMLModel",
      "state": {
       "layout": "IPY_MODEL_1fc90792a2b74c38aaf73659c3756831",
       "style": "IPY_MODEL_66179fdeb4534eb281f2690ded33950e",
       "value": "100% 2/2 [00:06&lt;00:00,  3.17s/it]"
      }
     },
     "902c060a37b4491788462dce6be1798b": {
      "model_module": "@jupyter-widgets/base",
      "model_module_version": "1.0.0",
      "model_name": "LayoutModel",
      "state": {}
     },
     "91b150ff417c44d1bc68e66d1b3c5925": {
      "model_module": "@jupyter-widgets/controls",
      "model_module_version": "1.1.0",
      "model_name": "DescriptionStyleModel",
      "state": {
       "description_width": ""
      }
     },
     "9352e3fd2af54e09ad67afb4ac446b27": {
      "model_module": "@jupyter-widgets/base",
      "model_module_version": "1.0.0",
      "model_name": "LayoutModel",
      "state": {}
     },
     "93f4380114fe48b88db18d0c97736fd4": {
      "model_module": "@jupyter-widgets/controls",
      "model_module_version": "1.1.0",
      "model_name": "HTMLModel",
      "state": {
       "layout": "IPY_MODEL_b7e6303bb38542c9a8282079c33beca7",
       "style": "IPY_MODEL_21e75994f5e749748dd5693819e51d93",
       "value": "100% 6/6 [00:00&lt;00:00, 343.35it/s]"
      }
     },
     "956dbbddf33a476db031c3d1b8ad5b4e": {
      "model_module": "@jupyter-widgets/controls",
      "model_module_version": "1.1.0",
      "model_name": "HBoxModel",
      "state": {
       "children": [
        "IPY_MODEL_7998921f656343ffadf133220692f859",
        "IPY_MODEL_39cf7d6b5e98460e9a621f1d74e32fad"
       ],
       "layout": "IPY_MODEL_65d9210f3d3345019a1fcf4ad82f1ae9"
      }
     },
     "a19c0f9c5cb34e9e8cdfe5c356084b80": {
      "model_module": "@jupyter-widgets/controls",
      "model_module_version": "1.1.0",
      "model_name": "DescriptionStyleModel",
      "state": {
       "description_width": ""
      }
     },
     "a52bd3eee7aa4e9093ee525fc42ff232": {
      "model_module": "@jupyter-widgets/controls",
      "model_module_version": "1.1.0",
      "model_name": "HTMLModel",
      "state": {
       "layout": "IPY_MODEL_405077ae66ac44afbd35d90a6afd6cab",
       "style": "IPY_MODEL_fa7fbd7aa5ab41a5aaabfca1db46058e",
       "value": "100% 6/6 [00:00&lt;00:00, 377.47it/s]"
      }
     },
     "a6ba13af33984f1b96ed120d3798b035": {
      "model_module": "@jupyter-widgets/base",
      "model_module_version": "1.0.0",
      "model_name": "LayoutModel",
      "state": {}
     },
     "a6cf535c8f30471e947503cae6bdb611": {
      "model_module": "@jupyter-widgets/controls",
      "model_module_version": "1.1.0",
      "model_name": "IntProgressModel",
      "state": {
       "bar_style": "success",
       "description": "Epoch",
       "layout": "IPY_MODEL_e77a75b0e9b446318ef399e225003e65",
       "max": 7,
       "style": "IPY_MODEL_c8469a077e5449b69821e6b27b8e74e5",
       "value": 7
      }
     },
     "a7afeac8de60479e8c92248312fde8fc": {
      "model_module": "@jupyter-widgets/base",
      "model_module_version": "1.0.0",
      "model_name": "LayoutModel",
      "state": {}
     },
     "aad1581c410d48feb48e6b943c14bdb8": {
      "model_module": "@jupyter-widgets/controls",
      "model_module_version": "1.1.0",
      "model_name": "ProgressStyleModel",
      "state": {
       "description_width": ""
      }
     },
     "b0edcf9ef0754ca4bb7fe6e8790c464b": {
      "model_module": "@jupyter-widgets/base",
      "model_module_version": "1.0.0",
      "model_name": "LayoutModel",
      "state": {}
     },
     "b1258a718296423d9f4d9c0535aae63b": {
      "model_module": "@jupyter-widgets/controls",
      "model_module_version": "1.1.0",
      "model_name": "HTMLModel",
      "state": {
       "layout": "IPY_MODEL_3b2e29458fdc49d0864a7fc9a1faafb6",
       "style": "IPY_MODEL_37f00a662a3c4b5f9f29db6903cfc5ba",
       "value": "100% 3/3 [15:16&lt;00:00, 305.39s/it]"
      }
     },
     "b1cddc992f864976b0f4132e0c4819f4": {
      "model_module": "@jupyter-widgets/controls",
      "model_module_version": "1.1.0",
      "model_name": "ProgressStyleModel",
      "state": {
       "description_width": ""
      }
     },
     "b3ae58ce0bce4cd1b678a043b8ce4415": {
      "model_module": "@jupyter-widgets/controls",
      "model_module_version": "1.1.0",
      "model_name": "HBoxModel",
      "state": {
       "children": [
        "IPY_MODEL_54f04d9c381446649b742e1242de6953",
        "IPY_MODEL_e10c6be126a045d9809b90c0880e7362"
       ],
       "layout": "IPY_MODEL_77132b06e4ad40fdabdc0dd93922af21"
      }
     },
     "b4a9636246544cd7a3ebcff56595bea2": {
      "model_module": "@jupyter-widgets/base",
      "model_module_version": "1.0.0",
      "model_name": "LayoutModel",
      "state": {}
     },
     "b4c9fe6ac6f649dc9ed8a077a5eaeb20": {
      "model_module": "@jupyter-widgets/base",
      "model_module_version": "1.0.0",
      "model_name": "LayoutModel",
      "state": {}
     },
     "b52cba9c0daf49aab716b75c91137766": {
      "model_module": "@jupyter-widgets/controls",
      "model_module_version": "1.1.0",
      "model_name": "DescriptionStyleModel",
      "state": {
       "description_width": ""
      }
     },
     "b7e6303bb38542c9a8282079c33beca7": {
      "model_module": "@jupyter-widgets/base",
      "model_module_version": "1.0.0",
      "model_name": "LayoutModel",
      "state": {}
     },
     "ba26964d72134b3aa6095e3102f1531b": {
      "model_module": "@jupyter-widgets/base",
      "model_module_version": "1.0.0",
      "model_name": "LayoutModel",
      "state": {}
     },
     "bc6e6b33b84344f094704454a0cf6f6b": {
      "model_module": "@jupyter-widgets/controls",
      "model_module_version": "1.1.0",
      "model_name": "HTMLModel",
      "state": {
       "layout": "IPY_MODEL_e6337586212341de8a4de0ce6bd25649",
       "style": "IPY_MODEL_7adf432cd98f46df927bf9da9d94b182",
       "value": "100% 6/6 [00:00&lt;00:00, 270.73it/s]"
      }
     },
     "bd8469f87f2d4e789610110acd07571d": {
      "model_module": "@jupyter-widgets/controls",
      "model_module_version": "1.1.0",
      "model_name": "HBoxModel",
      "state": {
       "children": [
        "IPY_MODEL_ed2e720acb7a467c85bd7db465281523",
        "IPY_MODEL_3a1160614abc4724b73cc9bc2e0d0d46"
       ],
       "layout": "IPY_MODEL_37faed3c96f343e895d8f29ab07137c0"
      }
     },
     "c01a6ed0806a4aaaaf580bf56e78398f": {
      "model_module": "@jupyter-widgets/controls",
      "model_module_version": "1.1.0",
      "model_name": "DescriptionStyleModel",
      "state": {
       "description_width": ""
      }
     },
     "c05cfeeac9a04c68a7387dc65bf48227": {
      "model_module": "@jupyter-widgets/controls",
      "model_module_version": "1.1.0",
      "model_name": "HTMLModel",
      "state": {
       "layout": "IPY_MODEL_a7afeac8de60479e8c92248312fde8fc",
       "style": "IPY_MODEL_22952b3bfa674aff898e452b30bd319e",
       "value": "100% 5/5 [00:16&lt;00:00,  3.28s/it]"
      }
     },
     "c09f764cc1c74e3aa75fea864a8d21f3": {
      "model_module": "@jupyter-widgets/controls",
      "model_module_version": "1.1.0",
      "model_name": "HTMLModel",
      "state": {
       "layout": "IPY_MODEL_c80d11f161704ab3bda86e7d1dfaff03",
       "style": "IPY_MODEL_e1df5ccb47594688afaee7c51d9cfeed",
       "value": "100% 6/6 [00:00&lt;00:00, 377.26it/s]"
      }
     },
     "c13bdace91114d639b408aa120c97f79": {
      "model_module": "@jupyter-widgets/controls",
      "model_module_version": "1.1.0",
      "model_name": "ProgressStyleModel",
      "state": {
       "description_width": ""
      }
     },
     "c19f1e5cf61444b5926c89b67c374dc8": {
      "model_module": "@jupyter-widgets/controls",
      "model_module_version": "1.1.0",
      "model_name": "IntProgressModel",
      "state": {
       "bar_style": "success",
       "description": "Epoch",
       "layout": "IPY_MODEL_43f1cb9394c5422798a91c1b6b0a5907",
       "max": 3,
       "style": "IPY_MODEL_aad1581c410d48feb48e6b943c14bdb8",
       "value": 3
      }
     },
     "c28408357da544cd8c8bbd5c7469e541": {
      "model_module": "@jupyter-widgets/controls",
      "model_module_version": "1.1.0",
      "model_name": "HBoxModel",
      "state": {
       "children": [
        "IPY_MODEL_5c13867f02614d49bc038af563f5a5a2",
        "IPY_MODEL_1c509f99160e41d5af6e565b1541e571"
       ],
       "layout": "IPY_MODEL_e41e9dc77ce44f3fad0aee4db429cd7d"
      }
     },
     "c30905e882964682bbe231e445b57833": {
      "model_module": "@jupyter-widgets/controls",
      "model_module_version": "1.1.0",
      "model_name": "HBoxModel",
      "state": {
       "children": [
        "IPY_MODEL_08ba1e10c1a641f7876680a632f6821d",
        "IPY_MODEL_e6f6231f671e4871b9e496cce50bf2b9"
       ],
       "layout": "IPY_MODEL_db256ef0046f46d085353ffba880c8fa"
      }
     },
     "c438be876cfc49e8920f2704c6cddbdc": {
      "model_module": "@jupyter-widgets/controls",
      "model_module_version": "1.1.0",
      "model_name": "HBoxModel",
      "state": {
       "children": [
        "IPY_MODEL_de9c288444e74ea38dbac2ef1b1078e4",
        "IPY_MODEL_fe3c562acb4e432280f6432df0710577"
       ],
       "layout": "IPY_MODEL_ba26964d72134b3aa6095e3102f1531b"
      }
     },
     "c45beabad9d34af5b39ce603b5308ef9": {
      "model_module": "@jupyter-widgets/controls",
      "model_module_version": "1.1.0",
      "model_name": "DescriptionStyleModel",
      "state": {
       "description_width": ""
      }
     },
     "c522ca216e5a49e4a7624f94b7215c52": {
      "model_module": "@jupyter-widgets/controls",
      "model_module_version": "1.1.0",
      "model_name": "HBoxModel",
      "state": {
       "children": [
        "IPY_MODEL_62e8fbf1622b4a36a186e7f319552990",
        "IPY_MODEL_8228413e70844312b5aa3128e3bea3ad"
       ],
       "layout": "IPY_MODEL_cb6af7a441964132bb58e75ef7b4bd19"
      }
     },
     "c6a3a9d502b94ffba6cb6708c9762bd0": {
      "model_module": "@jupyter-widgets/controls",
      "model_module_version": "1.1.0",
      "model_name": "IntProgressModel",
      "state": {
       "bar_style": "success",
       "description": "Epoch",
       "layout": "IPY_MODEL_868f105f38aa47b2b0223680dc202859",
       "max": 2,
       "style": "IPY_MODEL_f4c78df23c774bb290250936916d962e",
       "value": 2
      }
     },
     "c74dedf09f57490a9f1ac9af54e14bf3": {
      "model_module": "@jupyter-widgets/base",
      "model_module_version": "1.0.0",
      "model_name": "LayoutModel",
      "state": {}
     },
     "c80d11f161704ab3bda86e7d1dfaff03": {
      "model_module": "@jupyter-widgets/base",
      "model_module_version": "1.0.0",
      "model_name": "LayoutModel",
      "state": {}
     },
     "c8469a077e5449b69821e6b27b8e74e5": {
      "model_module": "@jupyter-widgets/controls",
      "model_module_version": "1.1.0",
      "model_name": "ProgressStyleModel",
      "state": {
       "description_width": ""
      }
     },
     "c8871c57d7bd4b61a99633668fb44621": {
      "model_module": "@jupyter-widgets/controls",
      "model_module_version": "1.1.0",
      "model_name": "IntProgressModel",
      "state": {
       "bar_style": "success",
       "description": "Epoch",
       "layout": "IPY_MODEL_2d1dfcb285154a7bac2db184a87f3c4e",
       "max": 7,
       "style": "IPY_MODEL_ce4922cb72aa4e5c8b5713e47e49029e",
       "value": 7
      }
     },
     "c8ef187b9a1249018de7378cee824894": {
      "model_module": "@jupyter-widgets/controls",
      "model_module_version": "1.1.0",
      "model_name": "HBoxModel",
      "state": {
       "children": [
        "IPY_MODEL_7b215de0d6b64c3897c22bd817bbcb8d",
        "IPY_MODEL_b1258a718296423d9f4d9c0535aae63b"
       ],
       "layout": "IPY_MODEL_784cd320488247aa87d575558f81d06b"
      }
     },
     "cac9427c464f4db9b71c36da9245c066": {
      "model_module": "@jupyter-widgets/controls",
      "model_module_version": "1.1.0",
      "model_name": "ProgressStyleModel",
      "state": {
       "description_width": ""
      }
     },
     "cb554ddf38bb4597b282655ee74ca321": {
      "model_module": "@jupyter-widgets/base",
      "model_module_version": "1.0.0",
      "model_name": "LayoutModel",
      "state": {}
     },
     "cb6af7a441964132bb58e75ef7b4bd19": {
      "model_module": "@jupyter-widgets/base",
      "model_module_version": "1.0.0",
      "model_name": "LayoutModel",
      "state": {}
     },
     "ce4922cb72aa4e5c8b5713e47e49029e": {
      "model_module": "@jupyter-widgets/controls",
      "model_module_version": "1.1.0",
      "model_name": "ProgressStyleModel",
      "state": {
       "description_width": ""
      }
     },
     "cfeaf84bdbe34c7898e1ea8fc61b539c": {
      "model_module": "@jupyter-widgets/controls",
      "model_module_version": "1.1.0",
      "model_name": "ProgressStyleModel",
      "state": {
       "description_width": ""
      }
     },
     "d2b4db8ba2cb4c859ba3e0041c243193": {
      "model_module": "@jupyter-widgets/controls",
      "model_module_version": "1.1.0",
      "model_name": "HTMLModel",
      "state": {
       "layout": "IPY_MODEL_13cbbf3a554a40f09d40df39c2cacf47",
       "style": "IPY_MODEL_91b150ff417c44d1bc68e66d1b3c5925",
       "value": "100% 7/7 [38:27&lt;00:00, 329.65s/it]"
      }
     },
     "db256ef0046f46d085353ffba880c8fa": {
      "model_module": "@jupyter-widgets/base",
      "model_module_version": "1.0.0",
      "model_name": "LayoutModel",
      "state": {}
     },
     "de9c288444e74ea38dbac2ef1b1078e4": {
      "model_module": "@jupyter-widgets/controls",
      "model_module_version": "1.1.0",
      "model_name": "IntProgressModel",
      "state": {
       "bar_style": "success",
       "description": "Epoch",
       "layout": "IPY_MODEL_0147ea39a83144aa99e7877a908ca502",
       "max": 5,
       "style": "IPY_MODEL_075434e4b0234c5fa61c8d63fec51679",
       "value": 5
      }
     },
     "def3b0d0275c454e95c5c2952fc9d017": {
      "model_module": "@jupyter-widgets/controls",
      "model_module_version": "1.1.0",
      "model_name": "HBoxModel",
      "state": {
       "children": [
        "IPY_MODEL_5f4033806f5144f28e0999110bf34612",
        "IPY_MODEL_61defccfe9dc4330931ce420b9976dcd"
       ],
       "layout": "IPY_MODEL_e22e48eeda32478cbb6bf53babd9e700"
      }
     },
     "e10c6be126a045d9809b90c0880e7362": {
      "model_module": "@jupyter-widgets/controls",
      "model_module_version": "1.1.0",
      "model_name": "HTMLModel",
      "state": {
       "layout": "IPY_MODEL_5791e4167111408ca3f1be2e16334803",
       "style": "IPY_MODEL_c01a6ed0806a4aaaaf580bf56e78398f",
       "value": "100% 2/2 [10:59&lt;00:00, 329.53s/it]"
      }
     },
     "e1df5ccb47594688afaee7c51d9cfeed": {
      "model_module": "@jupyter-widgets/controls",
      "model_module_version": "1.1.0",
      "model_name": "DescriptionStyleModel",
      "state": {
       "description_width": ""
      }
     },
     "e22e48eeda32478cbb6bf53babd9e700": {
      "model_module": "@jupyter-widgets/base",
      "model_module_version": "1.0.0",
      "model_name": "LayoutModel",
      "state": {}
     },
     "e41e9dc77ce44f3fad0aee4db429cd7d": {
      "model_module": "@jupyter-widgets/base",
      "model_module_version": "1.0.0",
      "model_name": "LayoutModel",
      "state": {}
     },
     "e59a2233ae454d81ada1b8494763e7bc": {
      "model_module": "@jupyter-widgets/base",
      "model_module_version": "1.0.0",
      "model_name": "LayoutModel",
      "state": {}
     },
     "e6337586212341de8a4de0ce6bd25649": {
      "model_module": "@jupyter-widgets/base",
      "model_module_version": "1.0.0",
      "model_name": "LayoutModel",
      "state": {}
     },
     "e6926f2efb5340528a00c5045376c380": {
      "model_module": "@jupyter-widgets/base",
      "model_module_version": "1.0.0",
      "model_name": "LayoutModel",
      "state": {}
     },
     "e6f6231f671e4871b9e496cce50bf2b9": {
      "model_module": "@jupyter-widgets/controls",
      "model_module_version": "1.1.0",
      "model_name": "HTMLModel",
      "state": {
       "layout": "IPY_MODEL_4c5e108b0b9145cb9987a673dda89bb6",
       "style": "IPY_MODEL_a19c0f9c5cb34e9e8cdfe5c356084b80",
       "value": "100% 6/6 [00:00&lt;00:00, 42.32it/s]"
      }
     },
     "e77a75b0e9b446318ef399e225003e65": {
      "model_module": "@jupyter-widgets/base",
      "model_module_version": "1.0.0",
      "model_name": "LayoutModel",
      "state": {}
     },
     "ed2e720acb7a467c85bd7db465281523": {
      "model_module": "@jupyter-widgets/controls",
      "model_module_version": "1.1.0",
      "model_name": "IntProgressModel",
      "state": {
       "bar_style": "success",
       "description": "Epoch",
       "layout": "IPY_MODEL_f9852feeb51543e4a0d21c5cd6326380",
       "max": 5,
       "style": "IPY_MODEL_cac9427c464f4db9b71c36da9245c066",
       "value": 5
      }
     },
     "f2cf6963cc204b18921e63e1933ad18b": {
      "model_module": "@jupyter-widgets/controls",
      "model_module_version": "1.1.0",
      "model_name": "HBoxModel",
      "state": {
       "children": [
        "IPY_MODEL_a6cf535c8f30471e947503cae6bdb611",
        "IPY_MODEL_d2b4db8ba2cb4c859ba3e0041c243193"
       ],
       "layout": "IPY_MODEL_b4c9fe6ac6f649dc9ed8a077a5eaeb20"
      }
     },
     "f38f8ae81eca43f9b1828369ebffd849": {
      "model_module": "@jupyter-widgets/controls",
      "model_module_version": "1.1.0",
      "model_name": "ProgressStyleModel",
      "state": {
       "description_width": ""
      }
     },
     "f4c78df23c774bb290250936916d962e": {
      "model_module": "@jupyter-widgets/controls",
      "model_module_version": "1.1.0",
      "model_name": "ProgressStyleModel",
      "state": {
       "description_width": ""
      }
     },
     "f6539e378c294a6c955da278da4ade4e": {
      "model_module": "@jupyter-widgets/base",
      "model_module_version": "1.0.0",
      "model_name": "LayoutModel",
      "state": {}
     },
     "f9852feeb51543e4a0d21c5cd6326380": {
      "model_module": "@jupyter-widgets/base",
      "model_module_version": "1.0.0",
      "model_name": "LayoutModel",
      "state": {}
     },
     "fa7fbd7aa5ab41a5aaabfca1db46058e": {
      "model_module": "@jupyter-widgets/controls",
      "model_module_version": "1.1.0",
      "model_name": "DescriptionStyleModel",
      "state": {
       "description_width": ""
      }
     },
     "fe3c562acb4e432280f6432df0710577": {
      "model_module": "@jupyter-widgets/controls",
      "model_module_version": "1.1.0",
      "model_name": "HTMLModel",
      "state": {
       "layout": "IPY_MODEL_a6ba13af33984f1b96ed120d3798b035",
       "style": "IPY_MODEL_39d7df82d70b40df9f1171dad9ce2b4c",
       "value": "100% 5/5 [25:26&lt;00:00, 305.38s/it]"
      }
     }
    },
    "version_major": 2,
    "version_minor": 0
   }
  }
 },
 "nbformat": 4,
 "nbformat_minor": 2
}
